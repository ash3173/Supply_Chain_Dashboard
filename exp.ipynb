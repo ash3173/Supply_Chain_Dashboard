{
 "cells": [
  {
   "cell_type": "code",
   "execution_count": 126,
   "metadata": {},
   "outputs": [],
   "source": [
    "import requests\n",
    "import json\n",
    "import plotly.express as px\n",
    "import pandas as pd\n",
    "import json\n",
    "from functools import lru_cache\n",
    "import networkx as nx"
   ]
  },
  {
   "cell_type": "markdown",
   "metadata": {},
   "source": [
    "# Visualizations"
   ]
  },
  {
   "cell_type": "code",
   "execution_count": null,
   "metadata": {},
   "outputs": [
    {
     "name": "stdout",
     "output_type": "stream",
     "text": [
      "https://bug-hardy-obviously.ngrok-free.app/archive/schema/ram_1000_24/1\n"
     ]
    }
   ],
   "source": [
    "url = \"https://bug-hardy-obviously.ngrok-free.app\"\n",
    "version = \"ram_1000_24\"\n",
    "timestamp = 1\n",
    "\n",
    "final = f\"{url}/archive/schema/{version}/{timestamp}\"\n",
    "\n",
    "url_data = requests.get(final)\n",
    "if url_data.status_code == 200:\n",
    "    data = json.loads(url_data.text)"
   ]
  },
  {
   "cell_type": "code",
   "execution_count": null,
   "metadata": {},
   "outputs": [],
   "source": []
  },
  {
   "cell_type": "code",
   "execution_count": 56,
   "metadata": {},
   "outputs": [
    {
     "data": {
      "text/plain": [
       "{'error': 'Schema archive not found'}"
      ]
     },
     "execution_count": 56,
     "metadata": {},
     "output_type": "execute_result"
    }
   ],
   "source": [
    "data"
   ]
  },
  {
   "cell_type": "code",
   "execution_count": 70,
   "metadata": {},
   "outputs": [
    {
     "ename": "OSError",
     "evalue": "[Errno 22] Invalid argument: 'E:\\\\LAM\\\\Graph Server\\\\Querying_Dashboard - Copy\\\\data\\\\supply_chain_export_500\\timestamp_0.json'",
     "output_type": "error",
     "traceback": [
      "\u001b[1;31m---------------------------------------------------------------------------\u001b[0m",
      "\u001b[1;31mOSError\u001b[0m                                   Traceback (most recent call last)",
      "Cell \u001b[1;32mIn[70], line 2\u001b[0m\n\u001b[0;32m      1\u001b[0m path \u001b[38;5;241m=\u001b[39m \u001b[38;5;124m\"\u001b[39m\u001b[38;5;124mE:\u001b[39m\u001b[38;5;124m\\\u001b[39m\u001b[38;5;124mLAM\u001b[39m\u001b[38;5;124m\\\u001b[39m\u001b[38;5;124mGraph Server\u001b[39m\u001b[38;5;124m\\\u001b[39m\u001b[38;5;124mQuerying_Dashboard - Copy\u001b[39m\u001b[38;5;124m\\\u001b[39m\u001b[38;5;124mdata\u001b[39m\u001b[38;5;124m\\\u001b[39m\u001b[38;5;124msupply_chain_export_500\u001b[39m\u001b[38;5;130;01m\\t\u001b[39;00m\u001b[38;5;124mimestamp_0.json\u001b[39m\u001b[38;5;124m\"\u001b[39m\n\u001b[1;32m----> 2\u001b[0m \u001b[38;5;28;01mwith\u001b[39;00m \u001b[38;5;28;43mopen\u001b[39;49m\u001b[43m(\u001b[49m\u001b[43mpath\u001b[49m\u001b[43m,\u001b[49m\u001b[43m \u001b[49m\u001b[38;5;124;43m\"\u001b[39;49m\u001b[38;5;124;43mw\u001b[39;49m\u001b[38;5;124;43m\"\u001b[39;49m\u001b[43m)\u001b[49m \u001b[38;5;28;01mas\u001b[39;00m f:\n\u001b[0;32m      3\u001b[0m     data \u001b[38;5;241m=\u001b[39m json\u001b[38;5;241m.\u001b[39mdump(data, f)\n\u001b[0;32m      4\u001b[0m data\n",
      "File \u001b[1;32m~\\AppData\\Roaming\\Python\\Python310\\site-packages\\IPython\\core\\interactiveshell.py:284\u001b[0m, in \u001b[0;36m_modified_open\u001b[1;34m(file, *args, **kwargs)\u001b[0m\n\u001b[0;32m    277\u001b[0m \u001b[38;5;28;01mif\u001b[39;00m file \u001b[38;5;129;01min\u001b[39;00m {\u001b[38;5;241m0\u001b[39m, \u001b[38;5;241m1\u001b[39m, \u001b[38;5;241m2\u001b[39m}:\n\u001b[0;32m    278\u001b[0m     \u001b[38;5;28;01mraise\u001b[39;00m \u001b[38;5;167;01mValueError\u001b[39;00m(\n\u001b[0;32m    279\u001b[0m         \u001b[38;5;124mf\u001b[39m\u001b[38;5;124m\"\u001b[39m\u001b[38;5;124mIPython won\u001b[39m\u001b[38;5;124m'\u001b[39m\u001b[38;5;124mt let you open fd=\u001b[39m\u001b[38;5;132;01m{\u001b[39;00mfile\u001b[38;5;132;01m}\u001b[39;00m\u001b[38;5;124m by default \u001b[39m\u001b[38;5;124m\"\u001b[39m\n\u001b[0;32m    280\u001b[0m         \u001b[38;5;124m\"\u001b[39m\u001b[38;5;124mas it is likely to crash IPython. If you know what you are doing, \u001b[39m\u001b[38;5;124m\"\u001b[39m\n\u001b[0;32m    281\u001b[0m         \u001b[38;5;124m\"\u001b[39m\u001b[38;5;124myou can use builtins\u001b[39m\u001b[38;5;124m'\u001b[39m\u001b[38;5;124m open.\u001b[39m\u001b[38;5;124m\"\u001b[39m\n\u001b[0;32m    282\u001b[0m     )\n\u001b[1;32m--> 284\u001b[0m \u001b[38;5;28;01mreturn\u001b[39;00m io_open(file, \u001b[38;5;241m*\u001b[39margs, \u001b[38;5;241m*\u001b[39m\u001b[38;5;241m*\u001b[39mkwargs)\n",
      "\u001b[1;31mOSError\u001b[0m: [Errno 22] Invalid argument: 'E:\\\\LAM\\\\Graph Server\\\\Querying_Dashboard - Copy\\\\data\\\\supply_chain_export_500\\timestamp_0.json'"
     ]
    }
   ],
   "source": [
    "# load a jsopn\n",
    "data = json.loads(url_data.text)    "
   ]
  },
  {
   "cell_type": "code",
   "execution_count": 75,
   "metadata": {},
   "outputs": [
    {
     "name": "stdout",
     "output_type": "stream",
     "text": [
      "{'directed': True, 'multigraph': False, 'graph': {'date': '2024-01-01 00:00:00'}, 'node_types': {'BusinessGroup': ['node_type', 'name', 'description', 'revenue', 'id'], 'ProductFamily': ['node_type', 'name', 'revenue', 'id'], 'ProductOffering': ['node_type', 'name', 'cost', 'demand', 'id'], 'Supplier': ['node_type', 'name', 'location', 'reliability', 'size', 'size_category', 'supplied_part_types', 'id'], 'Warehouse': ['node_type', 'name', 'type', 'location', 'size_category', 'max_capacity', 'current_capacity', 'safety_stock', 'max_parts', 'id'], 'Facility': ['node_type', 'name', 'type', 'location', 'max_capacity', 'operating_cost', 'id'], 'Parts': ['node_type', 'name', 'type', 'subtype', 'cost', 'importance_factor', 'valid_from', 'valid_till', 'id']}, 'relationship_types': {'SupplierToWarehouse': ['relationship_type', 'transportation_cost', 'lead_time', 'source', 'target'], 'WarehouseToParts': ['relationship_type', 'inventory_level', 'storage_cost', 'source', 'target'], 'PartsToFacility': ['relationship_type', 'quantity', 'distance', 'transport_cost', 'lead_time', 'source', 'target'], 'FacilityToParts': ['relationship_type', 'production_cost', 'lead_time', 'quantity', 'source', 'target'], 'FacilityToProductOfferings': ['relationship_type', 'product_cost', 'lead_time', 'quantity', 'source', 'target'], 'HierarchicalRelationship': ['relationship_type', 'source', 'target']}, 'node_values': {'BusinessGroup': [['BusinessGroup', 'Etch', 'Etch Business Unit', 9937.264007084048, 'BG_001']], 'ProductFamily': [['ProductFamily', 'Kyo', 10148.441711893229, 'PF_001'], ['ProductFamily', 'Coronus', 1711.2112010778935, 'PF_002'], ['ProductFamily', 'Flex', 4739.245736765237, 'PF_003'], ['ProductFamily', 'Versys Metal', 5150.5155780200375, 'PF_004']], 'ProductOffering': [['ProductOffering', 'Versys® Kyo®', 5310.108486425567, 73.82493789736222, 'PO_001'], ['ProductOffering', 'Versys® Kyo® C Series', 7075.537463299147, 47.59464578564391, 'PO_002'], ['ProductOffering', 'Kyo® C Series', 4653.652023213062, 50.94169733823828, 'PO_003'], ['ProductOffering', 'Kyo® E Series', 3487.3713601097493, 170.37851049963888, 'PO_004'], ['ProductOffering', 'Kyo® F Series', 6646.868855653903, 163.826802816921, 'PO_005'], ['ProductOffering', 'Kyo® G Series', 3615.28300438145, 66.35979631535116, 'PO_006'], ['ProductOffering', 'Coronus®', 6565.145370882381, 12.121810850404904, 'PO_007'], ['ProductOffering', 'Coronus® HP', 5071.178634155534, 46.10524421337769, 'PO_008'], ['ProductOffering', 'Coronus® DX', 2469.3195763323693, 99.42651068474753, 'PO_009'], ['ProductOffering', 'Exelan® Flex®', 7171.336376457359, 118.40772778811915, 'PO_010'], ['ProductOffering', 'Exelan® Flex45™', 4430.5398174662205, 12.967612514149456, 'PO_011'], ['ProductOffering', 'Flex® D Series', 6167.523330703087, 32.31301593087513, 'PO_012'], ['ProductOffering', 'Flex® E Series', 3646.5874562745607, 135.44841625287114, 'PO_013'], ['ProductOffering', 'Flex® F Series', 1081.414794641993, 117.47316129765905, 'PO_014'], ['ProductOffering', 'Flex® G Series', 6663.205742965988, 40.78041566403348, 'PO_015'], ['ProductOffering', 'Flex® H Series', 7936.206075802054, 42.29935194908306, 'PO_016'], ['ProductOffering', 'Versys® Metal', 2113.388903856558, 79.35480362772796, 'PO_017'], ['ProductOffering', 'Versys® Metal45™', 2859.50252604964, 105.16711439163527, 'PO_018'], ['ProductOffering', 'Versys® Metal L', 5976.712564133009, 44.70246068300259, 'PO_019'], ['ProductOffering', 'Versys® Metal M', 2008.3485410529559, 56.26161611227618, 'PO_020'], ['ProductOffering', 'Versys® Metal N', 5845.225064234959, 57.434854321733546, 'PO_021']], 'Supplier': [['Supplier', 'Supplier_1', 'Washington', 0.9802329715436002, 259, 'small', ['metal_sheet', 'metal_rod', 'chemical', 'plastic_component', 'electronic_component'], 'S_001'], ['Supplier', 'Supplier_2', 'New York', 0.6559214988354387, 108, 'small', ['metal_rod', 'chemical', 'plastic_component', 'metal_sheet', 'electronic_component'], 'S_002'], ['Supplier', 'Supplier_3', 'California', 0.7447951834743008, 123, 'small', ['electronic_component', 'metal_sheet', 'plastic_component', 'metal_rod', 'chemical'], 'S_003'], ['Supplier', 'Supplier_4', 'Georgia', 0.6672963408114043, 152, 'small', ['electronic_component', 'metal_sheet', 'plastic_component', 'chemical', 'metal_rod', 'circuit_board', 'power_unit', 'housing_unit'], 'S_004'], ['Supplier', 'Supplier_5', 'Massachusetts', 0.6206271718489142, 242, 'small', [], 'S_005'], ['Supplier', 'Supplier_6', 'Washington', 0.6695664478902154, 228, 'small', [], 'S_006'], ['Supplier', 'Supplier_7', 'Oregon', 0.7275254544979958, 177, 'small', ['metal_rod', 'electronic_component'], 'S_007'], ['Supplier', 'Supplier_8', 'Arizona', 1.005810668098555, 289, 'small', ['metal_rod', 'metal_sheet', 'plastic_component', 'electronic_component'], 'S_008'], ['Supplier', 'Supplier_9', 'Florida', 0.9191233282297442, 106, 'small', ['plastic_component', 'chemical', 'metal_sheet', 'metal_rod', 'electronic_component'], 'S_009'], ['Supplier', 'Supplier_10', 'Oregon', 0.8935700670010792, 188, 'small', ['metal_rod', 'circuit_board', 'power_unit'], 'S_010'], ['Supplier', 'Supplier_11', 'California', 0.629205725632645, 135, 'small', ['plastic_component'], 'S_011'], ['Supplier', 'Supplier_12', 'Oregon', 0.9711082376522877, 270, 'small', ['metal_sheet', 'electronic_component', 'plastic_component'], 'S_012'], ['Supplier', 'Supplier_13', 'Texas', 0.9271439493343835, 287, 'small', ['electronic_component', 'metal_rod', 'metal_sheet'], 'S_013'], ['Supplier', 'Supplier_14', 'Texas', 0.9565927975463326, 271, 'small', ['chemical', 'electronic_component', 'metal_rod'], 'S_014'], ['Supplier', 'Supplier_15', 'Texas', 0.6872017305268202, 226, 'small', ['metal_rod', 'electronic_component', 'chemical', 'circuit_board', 'housing_unit', 'power_unit', 'control_panel'], 'S_015'], ['Supplier', 'Supplier_16', 'Arizona', 0.9837720628420817, 221, 'small', ['metal_rod', 'housing_unit', 'sensor_array'], 'S_016'], ['Supplier', 'Supplier_17', 'Massachusetts', 0.9781977994190127, 115, 'small', ['plastic_component', 'metal_sheet', 'electronic_component', 'chemical', 'housing_unit', 'sensor_array', 'power_unit', 'circuit_board'], 'S_017'], ['Supplier', 'Supplier_18', 'Massachusetts', 0.8814619146344425, 203, 'small', ['metal_sheet'], 'S_018'], ['Supplier', 'Supplier_19', 'Oregon', 0.7069751758006665, 218, 'small', ['metal_rod', 'chemical', 'metal_sheet', 'electronic_component', 'plastic_component'], 'S_019'], ['Supplier', 'Supplier_20', 'Massachusetts', 0.6506212423888368, 232, 'small', ['metal_sheet', 'plastic_component'], 'S_020'], ['Supplier', 'Supplier_21', 'Oregon', 0.9409444180891414, 229, 'small', ['housing_unit', 'power_unit'], 'S_021'], ['Supplier', 'Supplier_22', 'Texas', 0.6832000399147373, 116, 'small', ['electronic_component', 'metal_sheet', 'plastic_component'], 'S_022'], ['Supplier', 'Supplier_23', 'Texas', 0.8949291182196105, 159, 'small', ['metal_rod', 'electronic_component'], 'S_023'], ['Supplier', 'Supplier_24', 'California', 0.6549807333652445, 103, 'small', ['plastic_component', 'electronic_component', 'chemical', 'metal_sheet', 'metal_rod'], 'S_024'], ['Supplier', 'Supplier_25', 'California', 0.6231227184861762, 179, 'small', [], 'S_025'], ['Supplier', 'Supplier_26', 'Georgia', 0.9194692215234935, 287, 'small', [], 'S_026'], ['Supplier', 'Supplier_27', 'Massachusetts', 0.621187812103743, 129, 'small', ['electronic_component', 'metal_sheet'], 'S_027'], ['Supplier', 'Supplier_28', 'Arizona', 0.7983541264759121, 220, 'small', ['chemical', 'metal_sheet', 'electronic_component', 'plastic_component'], 'S_028'], ['Supplier', 'Supplier_29', 'Arizona', 0.7997065123365629, 176, 'small', [], 'S_029'], ['Supplier', 'Supplier_30', 'Arizona', 0.8968986120166014, 168, 'small', ['metal_rod', 'plastic_component', 'metal_sheet'], 'S_030'], ['Supplier', 'Supplier_31', 'Oregon', 0.8601629616825164, 415, 'medium', ['plastic_component'], 'S_031'], ['Supplier', 'Supplier_32', 'Florida', 0.6234957959579464, 564, 'medium', ['metal_rod', 'metal_sheet', 'electronic_component', 'chemical'], 'S_032'], ['Supplier', 'Supplier_33', 'Florida', 0.7095223634654868, 484, 'medium', ['chemical', 'plastic_component'], 'S_033'], ['Supplier', 'Supplier_34', 'Florida', 0.6182659420105434, 465, 'medium', ['chemical'], 'S_034'], ['Supplier', 'Supplier_35', 'New York', 0.7623065985790878, 322, 'medium', ['metal_rod', 'metal_sheet'], 'S_035'], ['Supplier', 'Supplier_36', 'Massachusetts', 0.7081263958909516, 409, 'medium', ['metal_rod', 'chemical', 'plastic_component', 'metal_sheet', 'housing_unit', 'power_unit', 'sensor_array'], 'S_036'], ['Supplier', 'Supplier_37', 'Georgia', 0.9422556877127309, 439, 'medium', ['housing_unit', 'power_unit'], 'S_037'], ['Supplier', 'Supplier_38', 'Georgia', 0.6762944543121024, 343, 'medium', [], 'S_038'], ['Supplier', 'Supplier_39', 'Oregon', 0.873674106651458, 589, 'medium', ['plastic_component', 'electronic_component', 'chemical', 'metal_sheet'], 'S_039'], ['Supplier', 'Supplier_40', 'Massachusetts', 0.8314432264119225, 428, 'medium', ['chemical'], 'S_040'], ['Supplier', 'Supplier_41', 'New York', 1.033078784107772, 319, 'medium', ['circuit_board'], 'S_041'], ['Supplier', 'Supplier_42', 'California', 0.609912050128814, 558, 'medium', ['chemical', 'plastic_component', 'control_panel'], 'S_042'], ['Supplier', 'Supplier_43', 'Washington', 0.6533031439072585, 370, 'medium', ['metal_sheet'], 'S_043'], ['Supplier', 'Supplier_44', 'California', 0.6604675375279452, 585, 'medium', ['electronic_component', 'metal_sheet'], 'S_044'], ['Supplier', 'Supplier_45', 'Massachusetts', 0.7880489826266426, 538, 'medium', [], 'S_045'], ['Supplier', 'Supplier_46', 'Washington', 1.0173798897324968, 324, 'medium', ['metal_rod', 'chemical', 'metal_sheet', 'plastic_component'], 'S_046'], ['Supplier', 'Supplier_47', 'Oregon', 0.8458433153671543, 389, 'medium', ['electronic_component', 'metal_rod', 'chemical', 'metal_sheet'], 'S_047'], ['Supplier', 'Supplier_48', 'Oregon', 0.6899257388261506, 529, 'medium', ['chemical', 'metal_rod', 'metal_sheet', 'plastic_component', 'electronic_component'], 'S_048'], ['Supplier', 'Supplier_49', 'Massachusetts', 0.9663985533343422, 492, 'medium', [], 'S_049'], ['Supplier', 'Supplier_50', 'California', 0.9708502816136595, 342, 'medium', ['metal_sheet', 'electronic_component', 'metal_rod'], 'S_050'], ['Supplier', 'Supplier_51', 'New York', 0.5871733364070284, 351, 'medium', ['plastic_component', 'metal_rod'], 'S_051'], ['Supplier', 'Supplier_52', 'Texas', 0.943334378181856, 548, 'medium', ['housing_unit', 'sensor_array', 'control_panel', 'circuit_board'], 'S_052'], ['Supplier', 'Supplier_53', 'New York', 0.8037407563163669, 371, 'medium', ['plastic_component'], 'S_053'], ['Supplier', 'Supplier_54', 'Washington', 0.8181419583810018, 405, 'medium', [], 'S_054'], ['Supplier', 'Supplier_55', 'Massachusetts', 0.8143587258390853, 406, 'medium', [], 'S_055'], ['Supplier', 'Supplier_56', 'Washington', 0.9436569404380462, 589, 'medium', [], 'S_056'], ['Supplier', 'Supplier_57', 'Oregon', 0.6952123628986505, 932, 'large', ['metal_rod', 'plastic_component'], 'S_057'], ['Supplier', 'Supplier_58', 'Florida', 0.8001191046935624, 624, 'large', [], 'S_058'], ['Supplier', 'Supplier_59', 'Texas', 0.5953548352507962, 697, 'large', ['chemical', 'plastic_component', 'metal_sheet'], 'S_059'], ['Supplier', 'Supplier_60', 'Washington', 0.7361188762027926, 948, 'large', ['metal_rod'], 'S_060'], ['Supplier', 'Supplier_61', 'California', 0.8496573534788807, 638, 'large', ['power_unit'], 'S_061'], ['Supplier', 'Supplier_62', 'Washington', 0.914128883945481, 861, 'large', ['sensor_array'], 'S_062'], ['Supplier', 'Supplier_63', 'New York', 0.8320238185953621, 907, 'large', ['plastic_component', 'metal_sheet', 'metal_rod', 'electronic_component', 'chemical', 'sensor_array', 'control_panel', 'circuit_board', 'power_unit'], 'S_063'], ['Supplier', 'Supplier_64', 'Florida', 0.7329647038841854, 635, 'large', ['metal_sheet', 'electronic_component', 'plastic_component'], 'S_064'], ['Supplier', 'Supplier_65', 'California', 0.6407682611430442, 971, 'large', ['plastic_component', 'metal_sheet', 'electronic_component', 'metal_rod', 'chemical'], 'S_065'], ['Supplier', 'Supplier_66', 'Washington', 0.7266222269832281, 855, 'large', ['plastic_component', 'chemical', 'metal_sheet'], 'S_066'], ['Supplier', 'Supplier_67', 'Arizona', 0.7863089212862141, 772, 'large', [], 'S_067'], ['Supplier', 'Supplier_68', 'Washington', 0.9304074373463297, 826, 'large', ['chemical', 'plastic_component', 'electronic_component', 'metal_sheet', 'metal_rod'], 'S_068'], ['Supplier', 'Supplier_69', 'Florida', 0.9310110317322767, 738, 'large', ['metal_sheet', 'electronic_component', 'plastic_component'], 'S_069'], ['Supplier', 'Supplier_70', 'New York', 0.7385523622043768, 611, 'large', [], 'S_070'], ['Supplier', 'Supplier_71', 'Florida', 0.8533279088391874, 862, 'large', [], 'S_071'], ['Supplier', 'Supplier_72', 'Massachusetts', 0.8855318464410674, 634, 'large', ['chemical', 'electronic_component', 'metal_rod', 'plastic_component', 'metal_sheet'], 'S_072'], ['Supplier', 'Supplier_73', 'Florida', 0.6884014744122772, 922, 'large', ['metal_rod', 'chemical', 'plastic_component', 'metal_sheet', 'electronic_component'], 'S_073'], ['Supplier', 'Supplier_74', 'Florida', 0.5890980943777684, 874, 'large', ['metal_sheet', 'chemical', 'electronic_component', 'plastic_component', 'metal_rod'], 'S_074']], 'Warehouse': [['Warehouse', 'Warehouse_1', 'supplier', 'Massachusetts', 'large', 6533, 0.0, 111, 15, 'W_001'], ['Warehouse', 'Warehouse_2', 'supplier', 'New York', 'small', 2453, 0.0, 305, 5, 'W_002'], ['Warehouse', 'Warehouse_3', 'supplier', 'Massachusetts', 'medium', 5042, 0.0, 662, 10, 'W_003'], ['Warehouse', 'Warehouse_4', 'supplier', 'Arizona', 'small', 2779, 0.0, 229, 5, 'W_004'], ['Warehouse', 'Warehouse_5', 'supplier', 'New York', 'large', 9239, 0.0, 972, 15, 'W_005'], ['Warehouse', 'Warehouse_6', 'supplier', 'Massachusetts', 'medium', 4687, 0.0, 986, 10, 'W_006'], ['Warehouse', 'Warehouse_7', 'supplier', 'Arizona', 'small', 2954, 0.0, 259, 5, 'W_007'], ['Warehouse', 'Warehouse_8', 'supplier', 'Georgia', 'small', 1532, 0.0, 619, 5, 'W_008'], ['Warehouse', 'Warehouse_9', 'supplier', 'California', 'small', 2256, 0.0, 603, 5, 'W_009'], ['Warehouse', 'Warehouse_10', 'supplier', 'Washington', 'small', 1062, 0.0, 425, 5, 'W_010'], ['Warehouse', 'Warehouse_11', 'supplier', 'Washington', 'small', 1435, 0.0, 328, 5, 'W_011'], ['Warehouse', 'Warehouse_12', 'supplier', 'Massachusetts', 'large', 8952, 0.0, 798, 15, 'W_012'], ['Warehouse', 'Warehouse_13', 'supplier', 'New York', 'large', 9536, 0.0, 247, 15, 'W_013'], ['Warehouse', 'Warehouse_14', 'supplier', 'Texas', 'large', 9538, 0.0, 301, 15, 'W_014'], ['Warehouse', 'Warehouse_15', 'supplier', 'Georgia', 'large', 8030, 0.0, 167, 15, 'W_015'], ['Warehouse', 'Warehouse_16', 'supplier', 'Washington', 'small', 1409, 0.0, 533, 5, 'W_016'], ['Warehouse', 'Warehouse_17', 'supplier', 'Arizona', 'large', 9165, 0.0, 76, 15, 'W_017'], ['Warehouse', 'Warehouse_18', 'supplier', 'Arizona', 'small', 2941, 0.0, 778, 5, 'W_018'], ['Warehouse', 'Warehouse_19', 'supplier', 'California', 'medium', 5902, 0.0, 375, 10, 'W_019'], ['Warehouse', 'Warehouse_20', 'supplier', 'Oregon', 'large', 7255, 0.0, 821, 15, 'W_020'], ['Warehouse', 'Warehouse_21', 'supplier', 'Washington', 'large', 9173, 0.0, 291, 15, 'W_021'], ['Warehouse', 'Warehouse_22', 'supplier', 'Florida', 'small', 2603, 0.0, 830, 5, 'W_022'], ['Warehouse', 'Warehouse_23', 'supplier', 'Washington', 'large', 7512, 0.0, 536, 15, 'W_023'], ['Warehouse', 'Warehouse_24', 'supplier', 'Georgia', 'large', 8642, 0.0, 212, 15, 'W_024'], ['Warehouse', 'Warehouse_25', 'supplier', 'California', 'medium', 4603, 0.0, 504, 10, 'W_025'], ['Warehouse', 'Warehouse_26', 'supplier', 'California', 'small', 2775, 0.0, 177, 5, 'W_026'], ['Warehouse', 'Warehouse_27', 'supplier', 'Washington', 'small', 2105, 0.0, 764, 5, 'W_027'], ['Warehouse', 'Warehouse_28', 'supplier', 'Washington', 'medium', 4490, 0.0, 433, 10, 'W_028'], ['Warehouse', 'Warehouse_29', 'supplier', 'Massachusetts', 'medium', 4414, 0.0, 368, 10, 'W_029'], ['Warehouse', 'Warehouse_30', 'supplier', 'Florida', 'small', 1680, 0.0, 401, 5, 'W_030'], ['Warehouse', 'Warehouse_31', 'supplier', 'New York', 'large', 6619, 0.0, 894, 15, 'W_031'], ['Warehouse', 'Warehouse_32', 'supplier', 'Georgia', 'large', 9105, 0.0, 523, 15, 'W_032'], ['Warehouse', 'Warehouse_33', 'supplier', 'Oregon', 'large', 6453, 0.0, 758, 15, 'W_033'], ['Warehouse', 'Warehouse_34', 'supplier', 'Georgia', 'large', 7477, 0.0, 697, 15, 'W_034'], ['Warehouse', 'Warehouse_35', 'supplier', 'Arizona', 'large', 8248, 0.0, 719, 15, 'W_035'], ['Warehouse', 'Warehouse_36', 'supplier', 'Arizona', 'medium', 4234, 0.0, 710, 10, 'W_036'], ['Warehouse', 'Warehouse_37', 'supplier', 'Arizona', 'medium', 5475, 0.0, 930, 10, 'W_037'], ['Warehouse', 'Warehouse_38', 'supplier', 'New York', 'large', 7374, 0.0, 106, 15, 'W_038'], ['Warehouse', 'Warehouse_39', 'supplier', 'Oregon', 'large', 8682, 0.0, 390, 15, 'W_039'], ['Warehouse', 'Warehouse_40', 'supplier', 'Massachusetts', 'small', 1845, 0.0, 217, 5, 'W_040'], ['Warehouse', 'Warehouse_41', 'subassembly', 'Oregon', 'large', 6917, 0.0, 375, 15, 'W_041'], ['Warehouse', 'Warehouse_42', 'subassembly', 'California', 'medium', 5108, 0.0, 599, 10, 'W_042'], ['Warehouse', 'Warehouse_43', 'subassembly', 'Washington', 'medium', 5496, 0.0, 701, 10, 'W_043'], ['Warehouse', 'Warehouse_44', 'subassembly', 'Oregon', 'medium', 4571, 0.0, 936, 10, 'W_044'], ['Warehouse', 'Warehouse_45', 'subassembly', 'Washington', 'small', 1233, 0.0, 677, 5, 'W_045'], ['Warehouse', 'Warehouse_46', 'subassembly', 'Washington', 'medium', 4582, 0.0, 576, 10, 'W_046'], ['Warehouse', 'Warehouse_47', 'subassembly', 'Texas', 'medium', 5785, 0.0, 887, 10, 'W_047'], ['Warehouse', 'Warehouse_48', 'subassembly', 'California', 'large', 8100, 0.0, 362, 15, 'W_048'], ['Warehouse', 'Warehouse_49', 'subassembly', 'Texas', 'medium', 4458, 0.0, 696, 10, 'W_049'], ['Warehouse', 'Warehouse_50', 'subassembly', 'Florida', 'medium', 4638, 0.0, 209, 10, 'W_050'], ['Warehouse', 'Warehouse_51', 'subassembly', 'Florida', 'medium', 3437, 0.0, 599, 10, 'W_051'], ['Warehouse', 'Warehouse_52', 'subassembly', 'Texas', 'medium', 5491, 0.0, 950, 10, 'W_052'], ['Warehouse', 'Warehouse_53', 'subassembly', 'Georgia', 'small', 1401, 0.0, 316, 5, 'W_053'], ['Warehouse', 'Warehouse_54', 'subassembly', 'Massachusetts', 'large', 6445, 0.0, 504, 15, 'W_054'], ['Warehouse', 'Warehouse_55', 'subassembly', 'Arizona', 'large', 7296, 0.0, 509, 15, 'W_055'], ['Warehouse', 'Warehouse_56', 'subassembly', 'Washington', 'small', 2695, 0.0, 535, 5, 'W_056'], ['Warehouse', 'Warehouse_57', 'subassembly', 'Oregon', 'large', 8201, 0.0, 890, 15, 'W_057'], ['Warehouse', 'Warehouse_58', 'subassembly', 'Oregon', 'small', 2299, 0.0, 856, 5, 'W_058'], ['Warehouse', 'Warehouse_59', 'subassembly', 'Oregon', 'large', 7628, 0.0, 352, 15, 'W_059'], ['Warehouse', 'Warehouse_60', 'subassembly', 'California', 'large', 9429, 0.0, 634, 15, 'W_060'], ['Warehouse', 'Warehouse_61', 'subassembly', 'Arizona', 'medium', 5297, 0.0, 691, 10, 'W_061'], ['Warehouse', 'Warehouse_62', 'subassembly', 'Florida', 'large', 9582, 0.0, 524, 15, 'W_062'], ['Warehouse', 'Warehouse_63', 'subassembly', 'Texas', 'medium', 4705, 0.0, 980, 10, 'W_063'], ['Warehouse', 'Warehouse_64', 'subassembly', 'Oregon', 'large', 8501, 0.0, 167, 15, 'W_064'], ['Warehouse', 'Warehouse_65', 'subassembly', 'Oregon', 'medium', 3447, 0.0, 488, 10, 'W_065'], ['Warehouse', 'Warehouse_66', 'subassembly', 'Georgia', 'small', 2031, 0.0, 735, 5, 'W_066'], ['Warehouse', 'Warehouse_67', 'subassembly', 'Texas', 'small', 2681, 0.0, 456, 5, 'W_067'], ['Warehouse', 'Warehouse_68', 'subassembly', 'Washington', 'medium', 3006, 0.0, 95, 10, 'W_068'], ['Warehouse', 'Warehouse_69', 'subassembly', 'Oregon', 'medium', 5852, 0.0, 933, 10, 'W_069'], ['Warehouse', 'Warehouse_70', 'subassembly', 'Florida', 'medium', 5970, 0.0, 947, 10, 'W_070'], ['Warehouse', 'Warehouse_71', 'subassembly', 'Texas', 'medium', 3684, 0.0, 648, 10, 'W_071'], ['Warehouse', 'Warehouse_72', 'subassembly', 'Washington', 'large', 8535, 0.0, 874, 15, 'W_072'], ['Warehouse', 'Warehouse_73', 'subassembly', 'Washington', 'small', 1317, 0.0, 782, 5, 'W_073'], ['Warehouse', 'Warehouse_74', 'subassembly', 'California', 'large', 9579, 0.0, 67, 15, 'W_074'], ['Warehouse', 'Warehouse_75', 'subassembly', 'Oregon', 'small', 2626, 0.0, 253, 5, 'W_075'], ['Warehouse', 'Warehouse_76', 'lam', 'Texas', 'medium', 3252, 0.0, 822, 10, 'W_076'], ['Warehouse', 'Warehouse_77', 'lam', 'California', 'medium', 3254, 0.0, 71, 10, 'W_077'], ['Warehouse', 'Warehouse_78', 'lam', 'Georgia', 'medium', 3963, 0.0, 290, 10, 'W_078'], ['Warehouse', 'Warehouse_79', 'lam', 'New York', 'small', 2175, 0.0, 465, 5, 'W_079'], ['Warehouse', 'Warehouse_80', 'lam', 'Washington', 'large', 6402, 0.0, 915, 15, 'W_080'], ['Warehouse', 'Warehouse_81', 'lam', 'Washington', 'large', 7197, 0.0, 814, 15, 'W_081'], ['Warehouse', 'Warehouse_82', 'lam', 'Washington', 'small', 2168, 0.0, 504, 5, 'W_082'], ['Warehouse', 'Warehouse_83', 'lam', 'Florida', 'large', 6065, 0.0, 311, 15, 'W_083'], ['Warehouse', 'Warehouse_84', 'lam', 'Georgia', 'large', 6811, 0.0, 277, 15, 'W_084'], ['Warehouse', 'Warehouse_85', 'lam', 'Texas', 'small', 2198, 0.0, 696, 5, 'W_085'], ['Warehouse', 'Warehouse_86', 'lam', 'Arizona', 'medium', 5328, 0.0, 87, 10, 'W_086'], ['Warehouse', 'Warehouse_87', 'lam', 'Texas', 'small', 2235, 0.0, 63, 5, 'W_087'], ['Warehouse', 'Warehouse_88', 'lam', 'Washington', 'small', 1636, 0.0, 671, 5, 'W_088'], ['Warehouse', 'Warehouse_89', 'lam', 'Florida', 'large', 7190, 0.0, 951, 15, 'W_089'], ['Warehouse', 'Warehouse_90', 'lam', 'Washington', 'medium', 3310, 0.0, 602, 10, 'W_090'], ['Warehouse', 'Warehouse_91', 'lam', 'Massachusetts', 'large', 6755, 0.0, 931, 15, 'W_091'], ['Warehouse', 'Warehouse_92', 'lam', 'Georgia', 'small', 2258, 0.0, 795, 5, 'W_092'], ['Warehouse', 'Warehouse_93', 'lam', 'California', 'large', 7399, 0.0, 898, 15, 'W_093'], ['Warehouse', 'Warehouse_94', 'lam', 'Arizona', 'medium', 4106, 0.0, 700, 10, 'W_094'], ['Warehouse', 'Warehouse_95', 'lam', 'Massachusetts', 'large', 7845, 0.0, 373, 15, 'W_095'], ['Warehouse', 'Warehouse_96', 'lam', 'Massachusetts', 'large', 7374, 0.0, 281, 15, 'W_096'], ['Warehouse', 'Warehouse_97', 'lam', 'Georgia', 'large', 7076, 0.0, 533, 15, 'W_097'], ['Warehouse', 'Warehouse_98', 'lam', 'New York', 'small', 1351, 0.0, 625, 5, 'W_098'], ['Warehouse', 'Warehouse_99', 'lam', 'Washington', 'small', 1095, 0.0, 509, 5, 'W_099'], ['Warehouse', 'Warehouse_100', 'lam', 'California', 'large', 6203, 0.0, 261, 15, 'W_100']], 'Facility': [['Facility', 'Facility_1', 'external', 'Washington', 5978, 3238.9134345253124, 'F_001'], ['Facility', 'Facility_2', 'external', 'Oregon', 2056, 6213.342402033777, 'F_002'], ['Facility', 'Facility_3', 'external', 'Florida', 2786, 8134.155437286423, 'F_003'], ['Facility', 'Facility_4', 'external', 'Florida', 2337, 6278.236678419976, 'F_004'], ['Facility', 'Facility_5', 'external', 'California', 9585, 2961.342681648114, 'F_005'], ['Facility', 'Facility_6', 'external', 'Texas', 4799, 6275.150478319587, 'F_006'], ['Facility', 'Facility_7', 'external', 'Florida', 8260, 5914.220285186158, 'F_007'], ['Facility', 'Facility_8', 'external', 'Florida', 7048, 1836.504396848739, 'F_008'], ['Facility', 'Facility_9', 'external', 'New York', 9683, 5498.030305982461, 'F_009'], ['Facility', 'Facility_10', 'external', 'Georgia', 8389, 8309.435115128286, 'F_010'], ['Facility', 'Facility_11', 'external', 'Texas', 2557, 2710.8760079945, 'F_011'], ['Facility', 'Facility_12', 'external', 'Oregon', 9959, 6473.370280330325, 'F_012'], ['Facility', 'Facility_13', 'external', 'Florida', 7878, 2410.573218942892, 'F_013'], ['Facility', 'Facility_14', 'external', 'Florida', 5315, 843.2781104820053, 'F_014'], ['Facility', 'Facility_15', 'external', 'New York', 4207, 7654.105198540438, 'F_015'], ['Facility', 'Facility_16', 'external', 'Florida', 3467, 4830.511568843266, 'F_016'], ['Facility', 'Facility_17', 'external', 'Oregon', 9826, 2643.4826534840527, 'F_017'], ['Facility', 'Facility_18', 'external', 'Georgia', 8383, 8366.134406407848, 'F_018'], ['Facility', 'Facility_19', 'external', 'Oregon', 8718, 8515.16053234258, 'F_019'], ['Facility', 'Facility_20', 'external', 'Georgia', 7006, 6462.381486699332, 'F_020'], ['Facility', 'Facility_21', 'external', 'Florida', 8003, 3161.5548347856543, 'F_021'], ['Facility', 'Facility_22', 'external', 'Washington', 2312, 9587.999879909752, 'F_022'], ['Facility', 'Facility_23', 'external', 'Florida', 9071, 2154.178246445868, 'F_023'], ['Facility', 'Facility_24', 'external', 'Florida', 5253, 253.1728954310161, 'F_024'], ['Facility', 'Facility_25', 'external', 'Arizona', 5891, 3988.906172539261, 'F_025'], ['Facility', 'Facility_26', 'external', 'Florida', 4947, 3546.2563808705627, 'F_026'], ['Facility', 'Facility_27', 'external', 'Arizona', 2813, 2026.505343754516, 'F_027'], ['Facility', 'Facility_28', 'external', 'Florida', 6210, 3287.25521180434, 'F_028'], ['Facility', 'Facility_29', 'external', 'Texas', 1536, 2973.187649521466, 'F_029'], ['Facility', 'Facility_30', 'external', 'New York', 5867, 3334.450929308605, 'F_030'], ['Facility', 'Facility_31', 'external', 'Texas', 9382, 140.4796088108577, 'F_031'], ['Facility', 'Facility_32', 'external', 'Washington', 2353, 4057.4393859288416, 'F_032'], ['Facility', 'Facility_33', 'external', 'Texas', 9508, 3369.815140210408, 'F_033'], ['Facility', 'Facility_34', 'external', 'Arizona', 7982, 7191.522160002225, 'F_034'], ['Facility', 'Facility_35', 'external', 'Florida', 7232, 3953.2228521256343, 'F_035'], ['Facility', 'Facility_36', 'external', 'Arizona', 5893, 7550.564555613331, 'F_036'], ['Facility', 'Facility_37', 'external', 'Arizona', 5133, 6179.818224805733, 'F_037'], ['Facility', 'Facility_38', 'external', 'Georgia', 5461, 6917.360378282426, 'F_038'], ['Facility', 'Facility_39', 'external', 'Massachusetts', 9556, 1452.0831753744403, 'F_039'], ['Facility', 'Facility_40', 'external', 'Massachusetts', 2124, 3586.561848114653, 'F_040'], ['Facility', 'Facility_41', 'external', 'Massachusetts', 4941, 8825.468222074238, 'F_041'], ['Facility', 'Facility_42', 'external', 'Massachusetts', 8321, 313.8355049689976, 'F_042'], ['Facility', 'Facility_43', 'external', 'Arizona', 7393, 7714.986389067789, 'F_043'], ['Facility', 'Facility_44', 'external', 'Massachusetts', 3790, 2978.1719641063232, 'F_044'], ['Facility', 'Facility_45', 'external', 'Texas', 4805, 7210.778863620794, 'F_045'], ['Facility', 'Facility_46', 'lam', 'Georgia', 4202, 1011.5876428540925, 'F_046'], ['Facility', 'Facility_47', 'lam', 'Arizona', 9727, 6091.307038724437, 'F_047'], ['Facility', 'Facility_48', 'lam', 'Texas', 9157, 2601.0105551400197, 'F_048'], ['Facility', 'Facility_49', 'lam', 'Georgia', 3054, 4558.195970269861, 'F_049'], ['Facility', 'Facility_50', 'lam', 'Arizona', 9911, 5473.592448871682, 'F_050'], ['Facility', 'Facility_51', 'lam', 'Georgia', 8745, 3026.7331501972126, 'F_051'], ['Facility', 'Facility_52', 'lam', 'Georgia', 7783, 9082.37570419696, 'F_052'], ['Facility', 'Facility_53', 'lam', 'Texas', 7019, 804.4179258442947, 'F_053'], ['Facility', 'Facility_54', 'lam', 'Texas', 8485, 9078.51696856758, 'F_054'], ['Facility', 'Facility_55', 'lam', 'Arizona', 3049, 6879.228153118761, 'F_055'], ['Facility', 'Facility_56', 'lam', 'Oregon', 8229, 2300.5808721104418, 'F_056'], ['Facility', 'Facility_57', 'lam', 'Texas', 1654, 9772.899587410067, 'F_057'], ['Facility', 'Facility_58', 'lam', 'California', 4785, 7867.124576510899, 'F_058'], ['Facility', 'Facility_59', 'lam', 'California', 6271, 5260.923088997528, 'F_059'], ['Facility', 'Facility_60', 'lam', 'Georgia', 6816, 1687.822726532825, 'F_060'], ['Facility', 'Facility_61', 'lam', 'New York', 9308, 9872.523724506907, 'F_061'], ['Facility', 'Facility_62', 'lam', 'California', 2962, 5220.548503497284, 'F_062'], ['Facility', 'Facility_63', 'lam', 'New York', 9975, 2787.7326089833314, 'F_063'], ['Facility', 'Facility_64', 'lam', 'Oregon', 1940, 6913.211215220769, 'F_064'], ['Facility', 'Facility_65', 'lam', 'Florida', 9604, 193.7164940581788, 'F_065'], ['Facility', 'Facility_66', 'lam', 'Washington', 9637, 7252.614341764211, 'F_066'], ['Facility', 'Facility_67', 'lam', 'Texas', 3177, 2284.349966506625, 'F_067'], ['Facility', 'Facility_68', 'lam', 'California', 2149, 2918.2125979284665, 'F_068'], ['Facility', 'Facility_69', 'lam', 'Arizona', 9580, 8642.688510967164, 'F_069'], ['Facility', 'Facility_70', 'lam', 'California', 7575, 6663.955774116351, 'F_070'], ['Facility', 'Facility_71', 'lam', 'Arizona', 5538, 539.4025804695207, 'F_071'], ['Facility', 'Facility_72', 'lam', 'Texas', 7403, 966.5835772827357, 'F_072'], ['Facility', 'Facility_73', 'lam', 'Massachusetts', 2220, 1634.52215870367, 'F_073'], ['Facility', 'Facility_74', 'lam', 'Oregon', 7104, 5309.271585730236, 'F_074'], ['Facility', 'Facility_75', 'lam', 'Washington', 6376, 1676.0109709219003, 'F_075']], 'Parts': [['Parts', 'Part_1', 'raw', 'electronic_component', 7104.2328505485375, 0.5322608155160735, '2024-01-01', '2025-03-26', 'P_001'], ['Parts', 'Part_2', 'raw', 'metal_rod', 3329.1363341151196, 0.2978241920710632, '2024-01-01', '2026-09-17', 'P_002'], ['Parts', 'Part_3', 'raw', 'plastic_component', 2466.572005088219, 0.7451048095200726, '2024-01-01', '2026-05-20', 'P_003'], ['Parts', 'Part_4', 'raw', 'plastic_component', 144.69446751230984, 0.32434102556938826, '2024-01-01', '2025-04-25', 'P_004'], ['Parts', 'Part_5', 'raw', 'metal_rod', 4572.49773139873, 0.4139655349739101, '2024-01-01', '2025-01-25', 'P_005'], ['Parts', 'Part_6', 'raw', 'chemical', 474.17698288787386, 0.24641659506996638, '2024-01-01', '2026-01-20', 'P_006'], ['Parts', 'Part_7', 'raw', 'electronic_component', 1155.6741373372708, 0.7680447135528506, '2024-01-01', '2025-10-22', 'P_007'], ['Parts', 'Part_8', 'raw', 'electronic_component', 6690.817117651852, 0.3261403042734736, '2024-01-01', '2025-01-25', 'P_008'], ['Parts', 'Part_9', 'raw', 'plastic_component', 3553.9312821398994, 0.9537110786556999, '2024-01-01', '2025-02-24', 'P_009'], ['Parts', 'Part_10', 'raw', 'chemical', 7699.278758983785, 0.6074751562495501, '2024-01-01', '2026-08-18', 'P_010'], ['Parts', 'Part_11', 'raw', 'metal_sheet', 2981.0950753869033, 0.28030944088217224, '2024-01-01', '2026-11-16', 'P_011'], ['Parts', 'Part_12', 'raw', 'plastic_component', 4709.940183428773, 0.9321373977651247, '2024-01-01', '2026-04-20', 'P_012'], ['Parts', 'Part_13', 'raw', 'chemical', 600.7612425971541, 0.4705406900245309, '2024-01-01', '2026-03-21', 'P_013'], ['Parts', 'Part_14', 'raw', 'chemical', 6551.202734437172, 0.8568102262542484, '2024-01-01', '2026-11-16', 'P_014'], ['Parts', 'Part_15', 'raw', 'chemical', 332.5246577802713, 0.23871172598056384, '2024-01-01', '2026-12-16', 'P_015'], ['Parts', 'Part_16', 'raw', 'plastic_component', 6382.14905818181, 0.8826308879334137, '2024-01-01', '2026-05-20', 'P_016'], ['Parts', 'Part_17', 'raw', 'electronic_component', 7012.329887522044, 0.41060901181726117, '2024-01-01', '2026-12-16', 'P_017'], ['Parts', 'Part_18', 'raw', 'plastic_component', 3238.364065945817, 0.6160475997970176, '2024-01-01', '2026-04-20', 'P_018'], ['Parts', 'Part_19', 'raw', 'metal_rod', 7352.141827919438, 0.30990959084133496, '2024-01-01', '2025-11-21', 'P_019'], ['Parts', 'Part_20', 'raw', 'chemical', 8477.946088774903, 0.1623661475314097, '2024-01-01', '2026-04-20', 'P_020'], ['Parts', 'Part_21', 'raw', 'metal_rod', 4699.58880226671, 0.5927657441689631, '2024-01-01', '2026-04-20', 'P_021'], ['Parts', 'Part_22', 'raw', 'chemical', 7004.312084650323, 0.7398666019544734, '2024-01-01', '2025-10-22', 'P_022'], ['Parts', 'Part_23', 'raw', 'electronic_component', 7555.822008408937, 0.6111136222200346, '2024-01-01', '2025-11-21', 'P_023'], ['Parts', 'Part_24', 'raw', 'chemical', 2806.331429445776, 0.23370278498243507, '2024-01-01', '2025-03-26', 'P_024'], ['Parts', 'Part_25', 'raw', 'electronic_component', 4266.032791903989, 0.9230101307847137, '2024-01-01', '2026-06-19', 'P_025'], ['Parts', 'Part_26', 'raw', 'metal_sheet', 265.5109683657797, 0.7309359843970097, '2024-01-01', '2025-09-22', 'P_026'], ['Parts', 'Part_27', 'raw', 'metal_rod', 3627.7204761667153, 0.16147137998619834, '2024-01-01', '2026-07-19', 'P_027'], ['Parts', 'Part_28', 'raw', 'electronic_component', 3638.666542237126, 0.26046177705786633, '2024-01-01', '2025-11-21', 'P_028'], ['Parts', 'Part_29', 'raw', 'chemical', 7324.762082879927, 0.272767551236373, '2024-01-01', '2026-04-20', 'P_029'], ['Parts', 'Part_30', 'raw', 'metal_rod', 5277.661006578802, 0.3462509453491015, '2024-01-01', '2025-08-23', 'P_030'], ['Parts', 'Part_31', 'raw', 'plastic_component', 3976.091865516787, 0.8236031421820833, '2024-01-01', '2025-07-24', 'P_031'], ['Parts', 'Part_32', 'raw', 'electronic_component', 2516.768003099754, 0.21285597665792896, '2024-01-01', '2026-10-17', 'P_032'], ['Parts', 'Part_33', 'raw', 'metal_rod', 1121.7077489721423, 0.18169094972462546, '2024-01-01', '2025-05-25', 'P_033'], ['Parts', 'Part_34', 'raw', 'chemical', 728.9475236700813, 0.951333006357845, '2024-01-01', '2026-12-16', 'P_034'], ['Parts', 'Part_35', 'raw', 'plastic_component', 2832.191985743006, 0.4083950687848401, '2024-01-01', '2025-11-21', 'P_035'], ['Parts', 'Part_36', 'raw', 'metal_sheet', 1012.3888378392286, 0.4222588998940352, '2024-01-01', '2026-01-20', 'P_036'], ['Parts', 'Part_37', 'raw', 'plastic_component', 7149.3898132587865, 0.9792661291561083, '2024-01-01', '2025-05-25', 'P_037'], ['Parts', 'Part_38', 'raw', 'metal_sheet', 776.4656016251214, 0.5898285666826684, '2024-01-01', '2026-05-20', 'P_038'], ['Parts', 'Part_39', 'raw', 'chemical', 6864.735267884038, 0.9631046564711002, '2024-01-01', '2025-12-21', 'P_039'], ['Parts', 'Part_40', 'raw', 'metal_sheet', 1621.7237776296263, 0.7057966170073432, '2024-01-01', '2026-09-17', 'P_040'], ['Parts', 'Part_41', 'raw', 'electronic_component', 6231.324387360344, 0.9247201567419789, '2024-01-01', '2025-08-23', 'P_041'], ['Parts', 'Part_42', 'raw', 'plastic_component', 3068.2705556452574, 0.8315071812396578, '2024-01-01', '2026-11-16', 'P_042'], ['Parts', 'Part_43', 'raw', 'electronic_component', 1061.9106279870014, 0.4043920255535155, '2024-01-01', '2026-02-19', 'P_043'], ['Parts', 'Part_44', 'raw', 'metal_rod', 678.0510112988405, 0.7881170914393029, '2024-01-01', '2026-08-18', 'P_044'], ['Parts', 'Part_45', 'raw', 'metal_rod', 4507.83849539867, 0.802546840398198, '2024-01-01', '2025-11-21', 'P_045'], ['Parts', 'Part_46', 'raw', 'metal_sheet', 5303.127749309462, 0.42591870942366383, '2024-01-01', '2025-12-21', 'P_046'], ['Parts', 'Part_47', 'raw', 'metal_rod', 6400.286613027651, 0.3156925747136099, '2024-01-01', '2025-03-26', 'P_047'], ['Parts', 'Part_48', 'raw', 'electronic_component', 2403.922031541995, 0.49874851734271963, '2024-01-01', '2025-10-22', 'P_048'], ['Parts', 'Part_49', 'raw', 'plastic_component', 1368.3867598756658, 0.3787851697299285, '2024-01-01', '2025-09-22', 'P_049'], ['Parts', 'Part_50', 'raw', 'electronic_component', 3611.4327784569414, 0.8561852897011221, '2024-01-01', '2024-12-26', 'P_050'], ['Parts', 'Part_51', 'raw', 'plastic_component', 6710.809871273022, 0.7276047894201166, '2024-01-01', '2026-06-19', 'P_051'], ['Parts', 'Part_52', 'raw', 'metal_sheet', 4727.368617620308, 0.9889358363898296, '2024-01-01', '2026-10-17', 'P_052'], ['Parts', 'Part_53', 'raw', 'chemical', 6348.0219243498095, 0.1835959461371675, '2024-01-01', '2025-06-24', 'P_053'], ['Parts', 'Part_54', 'raw', 'chemical', 6784.652790528434, 0.5992808691384239, '2024-01-01', '2026-10-17', 'P_054'], ['Parts', 'Part_55', 'raw', 'plastic_component', 1386.5729755363418, 0.2678028204716697, '2024-01-01', '2026-05-20', 'P_055'], ['Parts', 'Part_56', 'raw', 'plastic_component', 4060.07292234802, 0.8002365592172183, '2024-01-01', '2025-11-21', 'P_056'], ['Parts', 'Part_57', 'raw', 'metal_sheet', 5442.0632620009255, 0.8051745801205118, '2024-01-01', '2026-06-19', 'P_057'], ['Parts', 'Part_58', 'raw', 'electronic_component', 4571.545428539606, 0.8815987792763977, '2024-01-01', '2026-10-17', 'P_058'], ['Parts', 'Part_59', 'raw', 'chemical', 3173.360955477287, 0.46142795215349597, '2024-01-01', '2026-05-20', 'P_059'], ['Parts', 'Part_60', 'raw', 'metal_sheet', 1446.2516561862653, 0.31198804549049186, '2024-01-01', '2025-11-21', 'P_060'], ['Parts', 'Part_61', 'raw', 'chemical', 6586.892164966775, 0.6587959214166145, '2024-01-01', '2026-10-17', 'P_061'], ['Parts', 'Part_62', 'raw', 'chemical', 6586.570541776364, 0.5548858308415389, '2024-01-01', '2025-06-24', 'P_062'], ['Parts', 'Part_63', 'raw', 'chemical', 4938.743595364537, 0.18580431629886088, '2024-01-01', '2026-11-16', 'P_063'], ['Parts', 'Part_64', 'raw', 'electronic_component', 4728.349648815961, 0.8739674014712437, '2024-01-01', '2025-08-23', 'P_064'], ['Parts', 'Part_65', 'raw', 'electronic_component', 4184.812257728182, 0.23745623356771162, '2024-01-01', '2025-12-21', 'P_065'], ['Parts', 'Part_66', 'raw', 'metal_sheet', 1583.0023485177483, 0.9992894468099955, '2024-01-01', '2026-07-19', 'P_066'], ['Parts', 'Part_67', 'raw', 'chemical', 1540.2495895934405, 0.5493359167127178, '2024-01-01', '2026-04-20', 'P_067'], ['Parts', 'Part_68', 'raw', 'chemical', 719.2916151382099, 0.6253539541423621, '2024-01-01', '2025-01-25', 'P_068'], ['Parts', 'Part_69', 'raw', 'metal_sheet', 4106.222958324637, 0.9346105462750028, '2024-01-01', '2025-03-26', 'P_069'], ['Parts', 'Part_70', 'raw', 'metal_rod', 4456.629137928947, 0.43987521650488104, '2024-01-01', '2025-01-25', 'P_070'], ['Parts', 'Part_71', 'raw', 'metal_sheet', 681.3020725917086, 0.17493888377255337, '2024-01-01', '2025-07-24', 'P_071'], ['Parts', 'Part_72', 'raw', 'metal_sheet', 7267.784906635685, 0.30308766220728484, '2024-01-01', '2025-03-26', 'P_072'], ['Parts', 'Part_73', 'raw', 'metal_sheet', 2265.2709916777803, 0.7175016029246873, '2024-01-01', '2025-05-25', 'P_073'], ['Parts', 'Part_74', 'raw', 'electronic_component', 288.6085825285019, 0.6657880874648566, '2024-01-01', '2025-08-23', 'P_074'], ['Parts', 'Part_75', 'raw', 'plastic_component', 281.183659949148, 0.9888410352978154, '2024-01-01', '2025-06-24', 'P_075'], ['Parts', 'Part_76', 'raw', 'metal_sheet', 3510.319049733038, 0.4606978696658096, '2024-01-01', '2026-06-19', 'P_076'], ['Parts', 'Part_77', 'raw', 'metal_rod', 7412.476055043664, 0.386411257325024, '2024-01-01', '2026-11-16', 'P_077'], ['Parts', 'Part_78', 'raw', 'metal_sheet', 8338.891590751751, 0.4388575290960163, '2024-01-01', '2024-12-26', 'P_078'], ['Parts', 'Part_79', 'raw', 'metal_rod', 3754.4906515007237, 0.23913984085012668, '2024-01-01', '2025-12-21', 'P_079'], ['Parts', 'Part_80', 'raw', 'metal_rod', 245.1512518517618, 0.2157773199716243, '2024-01-01', '2026-07-19', 'P_080'], ['Parts', 'Part_81', 'raw', 'plastic_component', 1985.3062474479661, 0.776595427607504, '2024-01-01', '2025-07-24', 'P_081'], ['Parts', 'Part_82', 'raw', 'electronic_component', 2374.7873138910654, 0.7091914260220252, '2024-01-01', '2025-06-24', 'P_082'], ['Parts', 'Part_83', 'raw', 'chemical', 8169.416746028872, 0.8533690757925526, '2024-01-01', '2026-03-21', 'P_083'], ['Parts', 'Part_84', 'raw', 'electronic_component', 5920.1130597186, 0.759750345898518, '2024-01-01', '2025-12-21', 'P_084'], ['Parts', 'Part_85', 'raw', 'metal_sheet', 7908.3297334635945, 0.6570809793808118, '2024-01-01', '2025-06-24', 'P_085'], ['Parts', 'Part_86', 'raw', 'chemical', 2738.061278216299, 0.9821564233970926, '2024-01-01', '2026-09-17', 'P_086'], ['Parts', 'Part_87', 'raw', 'metal_rod', 3191.4809438889406, 0.5175790532004569, '2024-01-01', '2025-06-24', 'P_087'], ['Parts', 'Part_88', 'raw', 'chemical', 1060.6293415860653, 0.6699961228108157, '2024-01-01', '2025-12-21', 'P_088'], ['Parts', 'Part_89', 'raw', 'metal_sheet', 1168.2991524712104, 0.8087702189119873, '2024-01-01', '2025-11-21', 'P_089'], ['Parts', 'Part_90', 'raw', 'chemical', 1058.1345079438183, 0.46888073059019364, '2024-01-01', '2025-01-25', 'P_090'], ['Parts', 'Part_91', 'raw', 'plastic_component', 2017.7393467991103, 0.7979342202040978, '2024-01-01', '2025-01-25', 'P_091'], ['Parts', 'Part_92', 'raw', 'electronic_component', 7291.118350967125, 0.45493037897731414, '2024-01-01', '2025-07-24', 'P_092'], ['Parts', 'Part_93', 'raw', 'electronic_component', 3830.658063666509, 0.6751998678411626, '2024-01-01', '2026-04-20', 'P_093'], ['Parts', 'Part_94', 'raw', 'metal_sheet', 2952.050306862307, 0.68342839932711, '2024-01-01', '2025-04-25', 'P_094'], ['Parts', 'Part_95', 'raw', 'plastic_component', 8688.609685500127, 0.13165827973125413, '2024-01-01', '2026-08-18', 'P_095'], ['Parts', 'Part_96', 'raw', 'chemical', 3826.4518838050662, 0.48720210269812636, '2024-01-01', '2026-08-18', 'P_096'], ['Parts', 'Part_97', 'raw', 'chemical', 6477.070831266034, 0.32867029098568923, '2024-01-01', '2025-06-24', 'P_097'], ['Parts', 'Part_98', 'raw', 'metal_sheet', 812.159175448992, 0.6546751098912322, '2024-01-01', '2025-01-25', 'P_098'], ['Parts', 'Part_99', 'raw', 'electronic_component', 354.7682162432242, 0.12630974906245757, '2024-01-01', '2026-07-19', 'P_099'], ['Parts', 'Part_100', 'raw', 'chemical', 8043.786016406791, 0.9001747562405847, '2024-01-01', '2026-06-19', 'P_100'], ['Parts', 'Part_101', 'raw', 'metal_sheet', 4343.426074305956, 0.25222491333862496, '2024-01-01', '2025-02-24', 'P_101'], ['Parts', 'Part_102', 'raw', 'chemical', 2178.192020712455, 0.15573588062941074, '2024-01-01', '2025-09-22', 'P_102'], ['Parts', 'Part_103', 'raw', 'metal_rod', 2186.716935261984, 0.5485916744570423, '2024-01-01', '2026-01-20', 'P_103'], ['Parts', 'Part_104', 'raw', 'electronic_component', 1849.2131623944551, 0.7755295228903971, '2024-01-01', '2025-07-24', 'P_104'], ['Parts', 'Part_105', 'raw', 'metal_rod', 389.5205766510085, 0.5459341410728702, '2024-01-01', '2025-08-23', 'P_105'], ['Parts', 'Part_106', 'raw', 'metal_rod', 6976.266922408766, 0.6712309055057596, '2024-01-01', '2025-12-21', 'P_106'], ['Parts', 'Part_107', 'raw', 'plastic_component', 6202.179151776153, 0.13679779366490946, '2024-01-01', '2025-06-24', 'P_107'], ['Parts', 'Part_108', 'raw', 'plastic_component', 7025.052203354357, 0.719895132193919, '2024-01-01', '2026-07-19', 'P_108'], ['Parts', 'Part_109', 'raw', 'metal_rod', 7283.85163828378, 0.41269125861920886, '2024-01-01', '2026-03-21', 'P_109'], ['Parts', 'Part_110', 'raw', 'metal_sheet', 5869.206119064413, 0.8355952272808678, '2024-01-01', '2025-11-21', 'P_110'], ['Parts', 'Part_111', 'raw', 'chemical', 7385.119522145905, 0.23050995364926363, '2024-01-01', '2026-08-18', 'P_111'], ['Parts', 'Part_112', 'raw', 'chemical', 5730.628036711953, 0.20708750039145318, '2024-01-01', '2026-01-20', 'P_112'], ['Parts', 'Part_113', 'raw', 'metal_sheet', 7116.631545439174, 0.784536491978232, '2024-01-01', '2025-05-25', 'P_113'], ['Parts', 'Part_114', 'raw', 'electronic_component', 3170.751726492134, 0.35303267699414986, '2024-01-01', '2026-05-20', 'P_114'], ['Parts', 'Part_115', 'raw', 'electronic_component', 5386.660949969598, 0.6697680806761201, '2024-01-01', '2026-08-18', 'P_115'], ['Parts', 'Part_116', 'raw', 'plastic_component', 4790.49731129051, 0.539904408466251, '2024-01-01', '2025-07-24', 'P_116'], ['Parts', 'Part_117', 'raw', 'plastic_component', 4957.081333771633, 0.7138589365586143, '2024-01-01', '2026-05-20', 'P_117'], ['Parts', 'Part_118', 'raw', 'metal_rod', 6421.2232222350485, 0.1023827438796461, '2024-01-01', '2025-09-22', 'P_118'], ['Parts', 'Part_119', 'raw', 'chemical', 1850.994319409067, 0.9378324375461354, '2024-01-01', '2026-11-16', 'P_119'], ['Parts', 'Part_120', 'raw', 'metal_rod', 2095.645791642242, 0.5635632029804326, '2024-01-01', '2026-01-20', 'P_120'], ['Parts', 'Part_121', 'raw', 'metal_sheet', 615.0736610630514, 0.9537421063223438, '2024-01-01', '2025-08-23', 'P_121'], ['Parts', 'Part_122', 'raw', 'plastic_component', 4877.836660013325, 0.3331322443831669, '2024-01-01', '2025-07-24', 'P_122'], ['Parts', 'Part_123', 'raw', 'metal_sheet', 3143.356642054715, 0.3210878952268633, '2024-01-01', '2026-08-18', 'P_123'], ['Parts', 'Part_124', 'raw', 'metal_sheet', 1767.6927518282832, 0.13857594795172884, '2024-01-01', '2026-01-20', 'P_124'], ['Parts', 'Part_125', 'raw', 'metal_rod', 5300.213773204515, 0.5718038084438111, '2024-01-01', '2026-12-16', 'P_125'], ['Parts', 'Part_126', 'raw', 'plastic_component', 3398.996347569649, 0.8312432644832067, '2024-01-01', '2025-06-24', 'P_126'], ['Parts', 'Part_127', 'raw', 'plastic_component', 5158.788005639787, 0.7530622994091974, '2024-01-01', '2025-06-24', 'P_127'], ['Parts', 'Part_128', 'raw', 'electronic_component', 8068.012839909524, 0.16632061498652423, '2024-01-01', '2026-02-19', 'P_128'], ['Parts', 'Part_129', 'raw', 'metal_rod', 5008.649361683681, 0.7680269917379231, '2024-01-01', '2026-01-20', 'P_129'], ['Parts', 'Part_130', 'raw', 'metal_rod', 3201.1241137568795, 0.335361997019635, '2024-01-01', '2026-10-17', 'P_130'], ['Parts', 'Part_131', 'raw', 'chemical', 265.54146648861024, 0.7688684594244932, '2024-01-01', '2026-06-19', 'P_131'], ['Parts', 'Part_132', 'raw', 'chemical', 5429.989303928972, 0.920846679340594, '2024-01-01', '2026-03-21', 'P_132'], ['Parts', 'Part_133', 'raw', 'chemical', 4267.219605525016, 0.7545070679042879, '2024-01-01', '2025-09-22', 'P_133'], ['Parts', 'Part_134', 'raw', 'chemical', 1088.7690623095964, 0.31993030316331905, '2024-01-01', '2026-02-19', 'P_134'], ['Parts', 'Part_135', 'raw', 'plastic_component', 5869.73515170341, 0.8211129245636343, '2024-01-01', '2025-05-25', 'P_135'], ['Parts', 'Part_136', 'raw', 'metal_rod', 3992.15687339707, 0.18339116144928092, '2024-01-01', '2026-03-21', 'P_136'], ['Parts', 'Part_137', 'raw', 'metal_sheet', 2479.747386160143, 0.4856014027226332, '2024-01-01', '2025-07-24', 'P_137'], ['Parts', 'Part_138', 'raw', 'plastic_component', 3526.3005517361785, 0.23990031983496576, '2024-01-01', '2025-02-24', 'P_138'], ['Parts', 'Part_139', 'raw', 'electronic_component', 2562.0893344548463, 0.21922185470321437, '2024-01-01', '2025-01-25', 'P_139'], ['Parts', 'Part_140', 'raw', 'electronic_component', 5742.810206883147, 0.8873893367633632, '2024-01-01', '2024-12-26', 'P_140'], ['Parts', 'Part_141', 'raw', 'metal_rod', 179.15029536671415, 0.4361623057201992, '2024-01-01', '2026-03-21', 'P_141'], ['Parts', 'Part_142', 'raw', 'electronic_component', 3637.543914922374, 0.4261893526569437, '2024-01-01', '2025-06-24', 'P_142'], ['Parts', 'Part_143', 'raw', 'metal_rod', 6375.719929383783, 0.958123028783511, '2024-01-01', '2026-09-17', 'P_143'], ['Parts', 'Part_144', 'raw', 'plastic_component', 8311.831610122577, 0.6044706659335553, '2024-01-01', '2025-04-25', 'P_144'], ['Parts', 'Part_145', 'raw', 'metal_rod', 6514.791324114216, 0.6821937466554693, '2024-01-01', '2026-09-17', 'P_145'], ['Parts', 'Part_146', 'raw', 'electronic_component', 5000.594662021125, 0.8095262291680646, '2024-01-01', '2026-10-17', 'P_146'], ['Parts', 'Part_147', 'raw', 'chemical', 6830.965415786183, 0.5537455481496761, '2024-01-01', '2026-11-16', 'P_147'], ['Parts', 'Part_148', 'raw', 'electronic_component', 5725.214968661683, 0.9111025524376063, '2024-01-01', '2025-05-25', 'P_148'], ['Parts', 'Part_149', 'raw', 'electronic_component', 8194.16360402229, 0.5740463482264765, '2024-01-01', '2026-08-18', 'P_149'], ['Parts', 'Part_150', 'raw', 'metal_sheet', 5636.521837205029, 0.21413999725933658, '2024-01-01', '2025-02-24', 'P_150'], ['Parts', 'Part_151', 'subassembly', 'housing_unit', 7427.038686080449, 0.2883549684564277, '2024-01-01', '2026-05-20', 'P_151'], ['Parts', 'Part_152', 'subassembly', 'sensor_array', 5960.986719182093, 0.659982212005394, '2024-01-01', '2026-10-17', 'P_152'], ['Parts', 'Part_153', 'subassembly', 'sensor_array', 2442.2920273247355, 0.36565342925608324, '2024-01-01', '2026-10-17', 'P_153'], ['Parts', 'Part_154', 'subassembly', 'power_unit', 4105.402023585414, 0.6128155786521896, '2024-01-01', '2025-09-22', 'P_154'], ['Parts', 'Part_155', 'subassembly', 'control_panel', 2267.4594735789487, 0.8238955296295177, '2024-01-01', '2025-07-24', 'P_155'], ['Parts', 'Part_156', 'subassembly', 'power_unit', 4640.314552152757, 0.9779359150427961, '2024-01-01', '2026-12-16', 'P_156'], ['Parts', 'Part_157', 'subassembly', 'control_panel', 917.0474092785945, 0.6286403869250181, '2024-01-01', '2026-05-20', 'P_157'], ['Parts', 'Part_158', 'subassembly', 'sensor_array', 5478.983480755744, 0.5565641278244348, '2024-01-01', '2025-06-24', 'P_158'], ['Parts', 'Part_159', 'subassembly', 'circuit_board', 5380.378951671074, 0.21308244337073123, '2024-01-01', '2026-10-17', 'P_159'], ['Parts', 'Part_160', 'subassembly', 'circuit_board', 7328.7600921231615, 0.1658649855782029, '2024-01-01', '2025-12-21', 'P_160'], ['Parts', 'Part_161', 'subassembly', 'circuit_board', 7097.085490588463, 0.11867410661451686, '2024-01-01', '2025-06-24', 'P_161'], ['Parts', 'Part_162', 'subassembly', 'sensor_array', 5287.316384949869, 0.5761866937764158, '2024-01-01', '2026-02-19', 'P_162'], ['Parts', 'Part_163', 'subassembly', 'power_unit', 2070.045172694398, 0.8783110563708153, '2024-01-01', '2025-06-24', 'P_163'], ['Parts', 'Part_164', 'subassembly', 'control_panel', 5222.562982472551, 0.514875470278301, '2024-01-01', '2025-03-26', 'P_164'], ['Parts', 'Part_165', 'subassembly', 'housing_unit', 8901.135484594177, 0.9003643088640912, '2024-01-01', '2026-06-19', 'P_165'], ['Parts', 'Part_166', 'subassembly', 'sensor_array', 2531.436656716587, 0.9725219247666341, '2024-01-01', '2025-10-22', 'P_166'], ['Parts', 'Part_167', 'subassembly', 'housing_unit', 6242.033234492534, 0.35385654980464587, '2024-01-01', '2024-12-26', 'P_167'], ['Parts', 'Part_168', 'subassembly', 'housing_unit', 4984.198243626883, 0.7186221912130456, '2024-01-01', '2025-08-23', 'P_168'], ['Parts', 'Part_169', 'subassembly', 'housing_unit', 2227.2995910462537, 0.22829652760315255, '2024-01-01', '2025-08-23', 'P_169'], ['Parts', 'Part_170', 'subassembly', 'power_unit', 680.6865465939204, 0.6805033863733038, '2024-01-01', '2025-03-26', 'P_170'], ['Parts', 'Part_171', 'subassembly', 'housing_unit', 1091.245939727645, 0.785332956694014, '2024-01-01', '2025-01-25', 'P_171'], ['Parts', 'Part_172', 'subassembly', 'power_unit', 6949.995359050394, 0.294660840502852, '2024-01-01', '2025-10-22', 'P_172'], ['Parts', 'Part_173', 'subassembly', 'sensor_array', 317.0324000466295, 0.13993005208354498, '2024-01-01', '2026-04-20', 'P_173'], ['Parts', 'Part_174', 'subassembly', 'sensor_array', 4854.668312994656, 0.2810975348151882, '2024-01-01', '2026-05-20', 'P_174'], ['Parts', 'Part_175', 'subassembly', 'sensor_array', 508.1458791228294, 0.19070885085128855, '2024-01-01', '2025-09-22', 'P_175'], ['Parts', 'Part_176', 'subassembly', 'housing_unit', 6786.914282731046, 0.6914519139270223, '2024-01-01', '2025-01-25', 'P_176'], ['Parts', 'Part_177', 'subassembly', 'circuit_board', 162.80570719662188, 0.6819089623389089, '2024-01-01', '2025-07-24', 'P_177'], ['Parts', 'Part_178', 'subassembly', 'circuit_board', 2040.8173003714076, 0.29436001487035424, '2024-01-01', '2026-01-20', 'P_178'], ['Parts', 'Part_179', 'subassembly', 'sensor_array', 875.3618549965813, 0.5016790006037184, '2024-01-01', '2025-05-25', 'P_179'], ['Parts', 'Part_180', 'subassembly', 'power_unit', 3164.0841515239376, 0.2501636652914598, '2024-01-01', '2025-03-26', 'P_180'], ['Parts', 'Part_181', 'subassembly', 'control_panel', 3594.8762915150173, 0.39673684867535475, '2024-01-01', '2026-09-17', 'P_181'], ['Parts', 'Part_182', 'subassembly', 'housing_unit', 999.6229923764664, 0.605742483319254, '2024-01-01', '2025-03-26', 'P_182'], ['Parts', 'Part_183', 'subassembly', 'circuit_board', 3671.448459095728, 0.38620021100064983, '2024-01-01', '2025-02-24', 'P_183'], ['Parts', 'Part_184', 'subassembly', 'control_panel', 5286.205742648335, 0.5036128972913038, '2024-01-01', '2026-06-19', 'P_184'], ['Parts', 'Part_185', 'subassembly', 'control_panel', 7754.536828216104, 0.47519705433738135, '2024-01-01', '2026-12-16', 'P_185'], ['Parts', 'Part_186', 'subassembly', 'housing_unit', 97.01030434493758, 0.30324187282145715, '2024-01-01', '2026-10-17', 'P_186'], ['Parts', 'Part_187', 'subassembly', 'circuit_board', 6393.857830084818, 0.227371577314144, '2024-01-01', '2026-01-20', 'P_187'], ['Parts', 'Part_188', 'subassembly', 'housing_unit', 4616.449220915733, 0.6286651619743817, '2024-01-01', '2025-09-22', 'P_188'], ['Parts', 'Part_189', 'subassembly', 'circuit_board', 2438.290533588996, 0.4220195308556891, '2024-01-01', '2026-07-19', 'P_189'], ['Parts', 'Part_190', 'subassembly', 'housing_unit', 3235.785243182635, 0.5924092171023722, '2024-01-01', '2024-12-26', 'P_190'], ['Parts', 'Part_191', 'subassembly', 'sensor_array', 5535.910714076171, 0.8473545013113608, '2024-01-01', '2025-07-24', 'P_191'], ['Parts', 'Part_192', 'subassembly', 'sensor_array', 1163.9550699407785, 0.21322130173336434, '2024-01-01', '2025-03-26', 'P_192'], ['Parts', 'Part_193', 'subassembly', 'housing_unit', 6788.149321972793, 0.11388175143899484, '2024-01-01', '2025-10-22', 'P_193'], ['Parts', 'Part_194', 'subassembly', 'sensor_array', 3258.6884687521538, 0.31679600810776876, '2024-01-01', '2025-11-21', 'P_194'], ['Parts', 'Part_195', 'subassembly', 'circuit_board', 4211.21304918053, 0.14754897423657426, '2024-01-01', '2025-12-21', 'P_195'], ['Parts', 'Part_196', 'subassembly', 'power_unit', 2693.52507196862, 0.8743968161595775, '2024-01-01', '2026-10-17', 'P_196'], ['Parts', 'Part_197', 'subassembly', 'circuit_board', 769.3731685679709, 0.5838170610432735, '2024-01-01', '2026-09-17', 'P_197'], ['Parts', 'Part_198', 'subassembly', 'housing_unit', 8620.212246209692, 0.37905655464334576, '2024-01-01', '2026-04-20', 'P_198'], ['Parts', 'Part_199', 'subassembly', 'housing_unit', 6906.131502721258, 0.7775312029876614, '2024-01-01', '2025-12-21', 'P_199'], ['Parts', 'Part_200', 'subassembly', 'power_unit', 3098.814396032086, 0.40085769697576534, '2024-01-01', '2025-09-22', 'P_200'], ['Parts', 'Part_201', 'subassembly', 'housing_unit', 5190.4072381738515, 0.519729653947696, '2024-01-01', '2026-03-21', 'P_201'], ['Parts', 'Part_202', 'subassembly', 'control_panel', 8683.510903657858, 0.16914563068223337, '2024-01-01', '2025-02-24', 'P_202'], ['Parts', 'Part_203', 'subassembly', 'sensor_array', 6334.824445268597, 0.7421305209762348, '2024-01-01', '2025-03-26', 'P_203'], ['Parts', 'Part_204', 'subassembly', 'housing_unit', 5066.675865762986, 0.17701840569411148, '2024-01-01', '2026-04-20', 'P_204'], ['Parts', 'Part_205', 'subassembly', 'circuit_board', 4528.040458119931, 0.16550318583596957, '2024-01-01', '2026-07-19', 'P_205'], ['Parts', 'Part_206', 'subassembly', 'power_unit', 5732.781729620233, 0.9148017206461734, '2024-01-01', '2025-09-22', 'P_206'], ['Parts', 'Part_207', 'subassembly', 'housing_unit', 4742.656110477917, 0.30608616284481854, '2024-01-01', '2026-03-21', 'P_207'], ['Parts', 'Part_208', 'subassembly', 'housing_unit', 7658.64859948484, 0.6300971838972014, '2024-01-01', '2026-10-17', 'P_208'], ['Parts', 'Part_209', 'subassembly', 'control_panel', 4061.273364090481, 0.6359734885024363, '2024-01-01', '2026-03-21', 'P_209'], ['Parts', 'Part_210', 'subassembly', 'housing_unit', 3839.9043730913068, 0.46501012070470027, '2024-01-01', '2026-12-16', 'P_210'], ['Parts', 'Part_211', 'subassembly', 'control_panel', 7040.67431198303, 0.30540381716768783, '2024-01-01', '2026-07-19', 'P_211'], ['Parts', 'Part_212', 'subassembly', 'sensor_array', 2942.7953001754486, 0.6684164262808876, '2024-01-01', '2026-09-17', 'P_212'], ['Parts', 'Part_213', 'subassembly', 'power_unit', 7094.344650050568, 0.49136964346573486, '2024-01-01', '2026-04-20', 'P_213'], ['Parts', 'Part_214', 'subassembly', 'housing_unit', 4045.0933576835437, 0.6940403797559468, '2024-01-01', '2025-11-21', 'P_214'], ['Parts', 'Part_215', 'subassembly', 'sensor_array', 2992.9077418738802, 0.27174046434440485, '2024-01-01', '2025-09-22', 'P_215'], ['Parts', 'Part_216', 'subassembly', 'housing_unit', 3446.2267755072353, 0.6706213487849476, '2024-01-01', '2025-05-25', 'P_216'], ['Parts', 'Part_217', 'subassembly', 'housing_unit', 2931.102654855871, 0.49257055884107714, '2024-01-01', '2026-04-20', 'P_217'], ['Parts', 'Part_218', 'subassembly', 'control_panel', 872.3584191459748, 0.8993209443191513, '2024-01-01', '2024-12-26', 'P_218'], ['Parts', 'Part_219', 'subassembly', 'sensor_array', 1326.3201876405985, 0.26306854044205735, '2024-01-01', '2026-01-20', 'P_219'], ['Parts', 'Part_220', 'subassembly', 'sensor_array', 4646.724334493273, 0.5897390857241905, '2024-01-01', '2025-02-24', 'P_220'], ['Parts', 'Part_221', 'subassembly', 'control_panel', 1758.9874964515536, 0.970890552170233, '2024-01-01', '2026-10-17', 'P_221'], ['Parts', 'Part_222', 'subassembly', 'control_panel', 7170.430723042854, 0.3079380280163223, '2024-01-01', '2025-11-21', 'P_222'], ['Parts', 'Part_223', 'subassembly', 'circuit_board', 5068.58287774284, 0.33627764921642217, '2024-01-01', '2026-12-16', 'P_223'], ['Parts', 'Part_224', 'subassembly', 'sensor_array', 8073.919587910778, 0.34019464751703654, '2024-01-01', '2026-12-16', 'P_224'], ['Parts', 'Part_225', 'subassembly', 'circuit_board', 4750.128369622617, 0.5402478971599395, '2024-01-01', '2025-09-22', 'P_225'], ['Parts', 'Part_226', 'subassembly', 'power_unit', 1586.623544483993, 0.3089079657727305, '2024-01-01', '2026-05-20', 'P_226'], ['Parts', 'Part_227', 'subassembly', 'power_unit', 5164.500141589218, 0.2254081100056869, '2024-01-01', '2026-02-19', 'P_227'], ['Parts', 'Part_228', 'subassembly', 'sensor_array', 2862.9659255561437, 0.20441865105947127, '2024-01-01', '2025-11-21', 'P_228'], ['Parts', 'Part_229', 'subassembly', 'power_unit', 5434.055728020602, 0.15556012867020777, '2024-01-01', '2025-01-25', 'P_229'], ['Parts', 'Part_230', 'subassembly', 'circuit_board', 7633.310120747148, 0.419319154921416, '2024-01-01', '2026-06-19', 'P_230'], ['Parts', 'Part_231', 'subassembly', 'circuit_board', 1113.461602575713, 0.830829315960123, '2024-01-01', '2026-04-20', 'P_231'], ['Parts', 'Part_232', 'subassembly', 'sensor_array', 3143.136312013327, 0.7069207904330448, '2024-01-01', '2026-11-16', 'P_232'], ['Parts', 'Part_233', 'subassembly', 'housing_unit', 6097.761155763424, 0.14991664155182874, '2024-01-01', '2025-02-24', 'P_233'], ['Parts', 'Part_234', 'subassembly', 'sensor_array', 7143.00029674149, 0.9546146343430935, '2024-01-01', '2025-02-24', 'P_234'], ['Parts', 'Part_235', 'subassembly', 'power_unit', 6853.176016690598, 0.47165183096039986, '2024-01-01', '2025-09-22', 'P_235'], ['Parts', 'Part_236', 'subassembly', 'housing_unit', 6780.831448580168, 0.8172526703700363, '2024-01-01', '2026-08-18', 'P_236'], ['Parts', 'Part_237', 'subassembly', 'sensor_array', 7066.707360106104, 0.7423306006937487, '2024-01-01', '2025-03-26', 'P_237'], ['Parts', 'Part_238', 'subassembly', 'power_unit', 2350.1399659676467, 0.3641455953032525, '2024-01-01', '2025-08-23', 'P_238'], ['Parts', 'Part_239', 'subassembly', 'sensor_array', 8395.553685600033, 0.8219491055922018, '2024-01-01', '2025-09-22', 'P_239'], ['Parts', 'Part_240', 'subassembly', 'housing_unit', 7128.340018015721, 0.45223673978726286, '2024-01-01', '2025-07-24', 'P_240'], ['Parts', 'Part_241', 'subassembly', 'control_panel', 1046.0124102269588, 0.7863298540248526, '2024-01-01', '2026-07-19', 'P_241'], ['Parts', 'Part_242', 'subassembly', 'control_panel', 5310.702463096712, 0.1902735183538688, '2024-01-01', '2026-07-19', 'P_242'], ['Parts', 'Part_243', 'subassembly', 'power_unit', 7022.98420957892, 0.3357331167983051, '2024-01-01', '2026-02-19', 'P_243'], ['Parts', 'Part_244', 'subassembly', 'control_panel', 5845.147038860717, 0.21109196843842862, '2024-01-01', '2026-05-20', 'P_244'], ['Parts', 'Part_245', 'subassembly', 'sensor_array', 6243.361846085674, 0.9857377812997444, '2024-01-01', '2025-12-21', 'P_245'], ['Parts', 'Part_246', 'subassembly', 'control_panel', 2161.502148849686, 0.6262152235776672, '2024-01-01', '2026-06-19', 'P_246'], ['Parts', 'Part_247', 'subassembly', 'housing_unit', 3095.6374675804864, 0.9843169471812574, '2024-01-01', '2025-09-22', 'P_247'], ['Parts', 'Part_248', 'subassembly', 'housing_unit', 2230.275636543636, 0.6854223446466041, '2024-01-01', '2025-08-23', 'P_248'], ['Parts', 'Part_249', 'subassembly', 'circuit_board', 632.6807427874543, 0.9294273861687604, '2024-01-01', '2025-10-22', 'P_249'], ['Parts', 'Part_250', 'subassembly', 'sensor_array', 467.77674679432175, 0.5447226848784499, '2024-01-01', '2026-01-20', 'P_250']]}, 'relationship_values': [['BG_001', 'PF_001'], ['BG_001', 'PF_002'], ['BG_001', 'PF_003'], ['BG_001', 'PF_004'], ['PF_001', 'PO_001'], ['PF_001', 'PO_002'], ['PF_001', 'PO_003'], ['PF_001', 'PO_004'], ['PF_001', 'PO_005'], ['PF_001', 'PO_006'], ['PF_002', 'PO_007'], ['PF_002', 'PO_008'], ['PF_002', 'PO_009'], ['PF_003', 'PO_010'], ['PF_003', 'PO_011'], ['PF_003', 'PO_012'], ['PF_003', 'PO_013'], ['PF_003', 'PO_014'], ['PF_003', 'PO_015'], ['PF_003', 'PO_016'], ['PF_004', 'PO_017'], ['PF_004', 'PO_018'], ['PF_004', 'PO_019'], ['PF_004', 'PO_020'], ['PF_004', 'PO_021'], ['PO_001', 'W_076'], ['PO_001', 'W_077'], ['PO_001', 'W_078'], ['PO_001', 'W_079'], ['PO_001', 'W_080'], ['PO_001', 'W_081'], ['PO_001', 'W_082'], ['PO_001', 'W_083'], ['PO_001', 'W_084'], ['PO_001', 'W_085'], ['PO_001', 'W_086'], ['PO_001', 'W_087'], ['PO_001', 'W_088'], ['PO_001', 'W_089'], ['PO_001', 'W_090'], ['PO_001', 'W_091'], ['PO_001', 'W_092'], ['PO_001', 'W_093'], ['PO_001', 'W_094'], ['PO_001', 'W_095'], ['PO_001', 'W_096'], ['PO_001', 'W_097'], ['PO_001', 'W_098'], ['PO_001', 'W_099'], ['PO_001', 'W_100'], ['PO_002', 'W_076'], ['PO_002', 'W_077'], ['PO_002', 'W_078'], ['PO_002', 'W_079'], ['PO_002', 'W_080'], ['PO_002', 'W_081'], ['PO_002', 'W_082'], ['PO_002', 'W_083'], ['PO_002', 'W_084'], ['PO_002', 'W_085'], ['PO_002', 'W_086'], ['PO_002', 'W_087'], ['PO_002', 'W_088'], ['PO_002', 'W_089'], ['PO_002', 'W_090'], ['PO_002', 'W_091'], ['PO_002', 'W_092'], ['PO_002', 'W_093'], ['PO_002', 'W_094'], ['PO_002', 'W_095'], ['PO_002', 'W_096'], ['PO_002', 'W_097'], ['PO_002', 'W_098'], ['PO_002', 'W_099'], ['PO_002', 'W_100'], ['PO_003', 'W_076'], ['PO_003', 'W_077'], ['PO_003', 'W_078'], ['PO_003', 'W_079'], ['PO_003', 'W_080'], ['PO_003', 'W_081'], ['PO_003', 'W_082'], ['PO_003', 'W_083'], ['PO_003', 'W_084'], ['PO_003', 'W_085'], ['PO_003', 'W_086'], ['PO_003', 'W_087'], ['PO_003', 'W_088'], ['PO_003', 'W_089'], ['PO_003', 'W_090'], ['PO_003', 'W_091'], ['PO_003', 'W_092'], ['PO_003', 'W_093'], ['PO_003', 'W_094'], ['PO_003', 'W_095'], ['PO_003', 'W_096'], ['PO_003', 'W_097'], ['PO_003', 'W_098'], ['PO_003', 'W_099'], ['PO_003', 'W_100'], ['PO_004', 'W_076'], ['PO_004', 'W_077'], ['PO_004', 'W_078'], ['PO_004', 'W_079'], ['PO_004', 'W_080'], ['PO_004', 'W_081'], ['PO_004', 'W_082'], ['PO_004', 'W_083'], ['PO_004', 'W_084'], ['PO_004', 'W_085'], ['PO_004', 'W_086'], ['PO_004', 'W_087'], ['PO_004', 'W_088'], ['PO_004', 'W_089'], ['PO_004', 'W_090'], ['PO_004', 'W_091'], ['PO_004', 'W_092'], ['PO_004', 'W_093'], ['PO_004', 'W_094'], ['PO_004', 'W_095'], ['PO_004', 'W_096'], ['PO_004', 'W_097'], ['PO_004', 'W_098'], ['PO_004', 'W_099'], ['PO_004', 'W_100'], ['PO_005', 'W_076'], ['PO_005', 'W_077'], ['PO_005', 'W_078'], ['PO_005', 'W_079'], ['PO_005', 'W_080'], ['PO_005', 'W_081'], ['PO_005', 'W_082'], ['PO_005', 'W_083'], ['PO_005', 'W_084'], ['PO_005', 'W_085'], ['PO_005', 'W_086'], ['PO_005', 'W_087'], ['PO_005', 'W_088'], ['PO_005', 'W_089'], ['PO_005', 'W_090'], ['PO_005', 'W_091'], ['PO_005', 'W_092'], ['PO_005', 'W_093'], ['PO_005', 'W_094'], ['PO_005', 'W_095'], ['PO_005', 'W_096'], ['PO_005', 'W_097'], ['PO_005', 'W_098'], ['PO_005', 'W_099'], ['PO_005', 'W_100'], ['PO_006', 'W_076'], ['PO_006', 'W_077'], ['PO_006', 'W_078'], ['PO_006', 'W_079'], ['PO_006', 'W_080'], ['PO_006', 'W_081'], ['PO_006', 'W_082'], ['PO_006', 'W_083'], ['PO_006', 'W_084'], ['PO_006', 'W_085'], ['PO_006', 'W_086'], ['PO_006', 'W_087'], ['PO_006', 'W_088'], ['PO_006', 'W_089'], ['PO_006', 'W_090'], ['PO_006', 'W_091'], ['PO_006', 'W_092'], ['PO_006', 'W_093'], ['PO_006', 'W_094'], ['PO_006', 'W_095'], ['PO_006', 'W_096'], ['PO_006', 'W_097'], ['PO_006', 'W_098'], ['PO_006', 'W_099'], ['PO_006', 'W_100'], ['PO_007', 'W_076'], ['PO_007', 'W_077'], ['PO_007', 'W_078'], ['PO_007', 'W_079'], ['PO_007', 'W_080'], ['PO_007', 'W_081'], ['PO_007', 'W_082'], ['PO_007', 'W_083'], ['PO_007', 'W_084'], ['PO_007', 'W_085'], ['PO_007', 'W_086'], ['PO_007', 'W_087'], ['PO_007', 'W_088'], ['PO_007', 'W_089'], ['PO_007', 'W_090'], ['PO_007', 'W_091'], ['PO_007', 'W_092'], ['PO_007', 'W_093'], ['PO_007', 'W_094'], ['PO_007', 'W_095'], ['PO_007', 'W_096'], ['PO_007', 'W_097'], ['PO_007', 'W_098'], ['PO_007', 'W_099'], ['PO_007', 'W_100'], ['PO_008', 'W_076'], ['PO_008', 'W_077'], ['PO_008', 'W_078'], ['PO_008', 'W_079'], ['PO_008', 'W_080'], ['PO_008', 'W_081'], ['PO_008', 'W_082'], ['PO_008', 'W_083'], ['PO_008', 'W_084'], ['PO_008', 'W_085'], ['PO_008', 'W_086'], ['PO_008', 'W_087'], ['PO_008', 'W_088'], ['PO_008', 'W_089'], ['PO_008', 'W_090'], ['PO_008', 'W_091'], ['PO_008', 'W_092'], ['PO_008', 'W_093'], ['PO_008', 'W_094'], ['PO_008', 'W_095'], ['PO_008', 'W_096'], ['PO_008', 'W_097'], ['PO_008', 'W_098'], ['PO_008', 'W_099'], ['PO_008', 'W_100'], ['PO_009', 'W_076'], ['PO_009', 'W_077'], ['PO_009', 'W_078'], ['PO_009', 'W_079'], ['PO_009', 'W_080'], ['PO_009', 'W_081'], ['PO_009', 'W_082'], ['PO_009', 'W_083'], ['PO_009', 'W_084'], ['PO_009', 'W_085'], ['PO_009', 'W_086'], ['PO_009', 'W_087'], ['PO_009', 'W_088'], ['PO_009', 'W_089'], ['PO_009', 'W_090'], ['PO_009', 'W_091'], ['PO_009', 'W_092'], ['PO_009', 'W_093'], ['PO_009', 'W_094'], ['PO_009', 'W_095'], ['PO_009', 'W_096'], ['PO_009', 'W_097'], ['PO_009', 'W_098'], ['PO_009', 'W_099'], ['PO_009', 'W_100'], ['PO_010', 'W_076'], ['PO_010', 'W_077'], ['PO_010', 'W_078'], ['PO_010', 'W_079'], ['PO_010', 'W_080'], ['PO_010', 'W_081'], ['PO_010', 'W_082'], ['PO_010', 'W_083'], ['PO_010', 'W_084'], ['PO_010', 'W_085'], ['PO_010', 'W_086'], ['PO_010', 'W_087'], ['PO_010', 'W_088'], ['PO_010', 'W_089'], ['PO_010', 'W_090'], ['PO_010', 'W_091'], ['PO_010', 'W_092'], ['PO_010', 'W_093'], ['PO_010', 'W_094'], ['PO_010', 'W_095'], ['PO_010', 'W_096'], ['PO_010', 'W_097'], ['PO_010', 'W_098'], ['PO_010', 'W_099'], ['PO_010', 'W_100'], ['PO_011', 'W_076'], ['PO_011', 'W_077'], ['PO_011', 'W_078'], ['PO_011', 'W_079'], ['PO_011', 'W_080'], ['PO_011', 'W_081'], ['PO_011', 'W_082'], ['PO_011', 'W_083'], ['PO_011', 'W_084'], ['PO_011', 'W_085'], ['PO_011', 'W_086'], ['PO_011', 'W_087'], ['PO_011', 'W_088'], ['PO_011', 'W_089'], ['PO_011', 'W_090'], ['PO_011', 'W_091'], ['PO_011', 'W_092'], ['PO_011', 'W_093'], ['PO_011', 'W_094'], ['PO_011', 'W_095'], ['PO_011', 'W_096'], ['PO_011', 'W_097'], ['PO_011', 'W_098'], ['PO_011', 'W_099'], ['PO_011', 'W_100'], ['PO_012', 'W_076'], ['PO_012', 'W_077'], ['PO_012', 'W_078'], ['PO_012', 'W_079'], ['PO_012', 'W_080'], ['PO_012', 'W_081'], ['PO_012', 'W_082'], ['PO_012', 'W_083'], ['PO_012', 'W_084'], ['PO_012', 'W_085'], ['PO_012', 'W_086'], ['PO_012', 'W_087'], ['PO_012', 'W_088'], ['PO_012', 'W_089'], ['PO_012', 'W_090'], ['PO_012', 'W_091'], ['PO_012', 'W_092'], ['PO_012', 'W_093'], ['PO_012', 'W_094'], ['PO_012', 'W_095'], ['PO_012', 'W_096'], ['PO_012', 'W_097'], ['PO_012', 'W_098'], ['PO_012', 'W_099'], ['PO_012', 'W_100'], ['PO_013', 'W_076'], ['PO_013', 'W_077'], ['PO_013', 'W_078'], ['PO_013', 'W_079'], ['PO_013', 'W_080'], ['PO_013', 'W_081'], ['PO_013', 'W_082'], ['PO_013', 'W_083'], ['PO_013', 'W_084'], ['PO_013', 'W_085'], ['PO_013', 'W_086'], ['PO_013', 'W_087'], ['PO_013', 'W_088'], ['PO_013', 'W_089'], ['PO_013', 'W_090'], ['PO_013', 'W_091'], ['PO_013', 'W_092'], ['PO_013', 'W_093'], ['PO_013', 'W_094'], ['PO_013', 'W_095'], ['PO_013', 'W_096'], ['PO_013', 'W_097'], ['PO_013', 'W_098'], ['PO_013', 'W_099'], ['PO_013', 'W_100'], ['PO_014', 'W_076'], ['PO_014', 'W_077'], ['PO_014', 'W_078'], ['PO_014', 'W_079'], ['PO_014', 'W_080'], ['PO_014', 'W_081'], ['PO_014', 'W_082'], ['PO_014', 'W_083'], ['PO_014', 'W_084'], ['PO_014', 'W_085'], ['PO_014', 'W_086'], ['PO_014', 'W_087'], ['PO_014', 'W_088'], ['PO_014', 'W_089'], ['PO_014', 'W_090'], ['PO_014', 'W_091'], ['PO_014', 'W_092'], ['PO_014', 'W_093'], ['PO_014', 'W_094'], ['PO_014', 'W_095'], ['PO_014', 'W_096'], ['PO_014', 'W_097'], ['PO_014', 'W_098'], ['PO_014', 'W_099'], ['PO_014', 'W_100'], ['PO_015', 'W_076'], ['PO_015', 'W_077'], ['PO_015', 'W_078'], ['PO_015', 'W_079'], ['PO_015', 'W_080'], ['PO_015', 'W_081'], ['PO_015', 'W_082'], ['PO_015', 'W_083'], ['PO_015', 'W_084'], ['PO_015', 'W_085'], ['PO_015', 'W_086'], ['PO_015', 'W_087'], ['PO_015', 'W_088'], ['PO_015', 'W_089'], ['PO_015', 'W_090'], ['PO_015', 'W_091'], ['PO_015', 'W_092'], ['PO_015', 'W_093'], ['PO_015', 'W_094'], ['PO_015', 'W_095'], ['PO_015', 'W_096'], ['PO_015', 'W_097'], ['PO_015', 'W_098'], ['PO_015', 'W_099'], ['PO_015', 'W_100'], ['PO_016', 'W_076'], ['PO_016', 'W_077'], ['PO_016', 'W_078'], ['PO_016', 'W_079'], ['PO_016', 'W_080'], ['PO_016', 'W_081'], ['PO_016', 'W_082'], ['PO_016', 'W_083'], ['PO_016', 'W_084'], ['PO_016', 'W_085'], ['PO_016', 'W_086'], ['PO_016', 'W_087'], ['PO_016', 'W_088'], ['PO_016', 'W_089'], ['PO_016', 'W_090'], ['PO_016', 'W_091'], ['PO_016', 'W_092'], ['PO_016', 'W_093'], ['PO_016', 'W_094'], ['PO_016', 'W_095'], ['PO_016', 'W_096'], ['PO_016', 'W_097'], ['PO_016', 'W_098'], ['PO_016', 'W_099'], ['PO_016', 'W_100'], ['PO_017', 'W_076'], ['PO_017', 'W_077'], ['PO_017', 'W_078'], ['PO_017', 'W_079'], ['PO_017', 'W_080'], ['PO_017', 'W_081'], ['PO_017', 'W_082'], ['PO_017', 'W_083'], ['PO_017', 'W_084'], ['PO_017', 'W_085'], ['PO_017', 'W_086'], ['PO_017', 'W_087'], ['PO_017', 'W_088'], ['PO_017', 'W_089'], ['PO_017', 'W_090'], ['PO_017', 'W_091'], ['PO_017', 'W_092'], ['PO_017', 'W_093'], ['PO_017', 'W_094'], ['PO_017', 'W_095'], ['PO_017', 'W_096'], ['PO_017', 'W_097'], ['PO_017', 'W_098'], ['PO_017', 'W_099'], ['PO_017', 'W_100'], ['PO_018', 'W_076'], ['PO_018', 'W_077'], ['PO_018', 'W_078'], ['PO_018', 'W_079'], ['PO_018', 'W_080'], ['PO_018', 'W_081'], ['PO_018', 'W_082'], ['PO_018', 'W_083'], ['PO_018', 'W_084'], ['PO_018', 'W_085'], ['PO_018', 'W_086'], ['PO_018', 'W_087'], ['PO_018', 'W_088'], ['PO_018', 'W_089'], ['PO_018', 'W_090'], ['PO_018', 'W_091'], ['PO_018', 'W_092'], ['PO_018', 'W_093'], ['PO_018', 'W_094'], ['PO_018', 'W_095'], ['PO_018', 'W_096'], ['PO_018', 'W_097'], ['PO_018', 'W_098'], ['PO_018', 'W_099'], ['PO_018', 'W_100'], ['PO_019', 'W_076'], ['PO_019', 'W_077'], ['PO_019', 'W_078'], ['PO_019', 'W_079'], ['PO_019', 'W_080'], ['PO_019', 'W_081'], ['PO_019', 'W_082'], ['PO_019', 'W_083'], ['PO_019', 'W_084'], ['PO_019', 'W_085'], ['PO_019', 'W_086'], ['PO_019', 'W_087'], ['PO_019', 'W_088'], ['PO_019', 'W_089'], ['PO_019', 'W_090'], ['PO_019', 'W_091'], ['PO_019', 'W_092'], ['PO_019', 'W_093'], ['PO_019', 'W_094'], ['PO_019', 'W_095'], ['PO_019', 'W_096'], ['PO_019', 'W_097'], ['PO_019', 'W_098'], ['PO_019', 'W_099'], ['PO_019', 'W_100'], ['PO_020', 'W_076'], ['PO_020', 'W_077'], ['PO_020', 'W_078'], ['PO_020', 'W_079'], ['PO_020', 'W_080'], ['PO_020', 'W_081'], ['PO_020', 'W_082'], ['PO_020', 'W_083'], ['PO_020', 'W_084'], ['PO_020', 'W_085'], ['PO_020', 'W_086'], ['PO_020', 'W_087'], ['PO_020', 'W_088'], ['PO_020', 'W_089'], ['PO_020', 'W_090'], ['PO_020', 'W_091'], ['PO_020', 'W_092'], ['PO_020', 'W_093'], ['PO_020', 'W_094'], ['PO_020', 'W_095'], ['PO_020', 'W_096'], ['PO_020', 'W_097'], ['PO_020', 'W_098'], ['PO_020', 'W_099'], ['PO_020', 'W_100'], ['PO_021', 'W_076'], ['PO_021', 'W_077'], ['PO_021', 'W_078'], ['PO_021', 'W_079'], ['PO_021', 'W_080'], ['PO_021', 'W_081'], ['PO_021', 'W_082'], ['PO_021', 'W_083'], ['PO_021', 'W_084'], ['PO_021', 'W_085'], ['PO_021', 'W_086'], ['PO_021', 'W_087'], ['PO_021', 'W_088'], ['PO_021', 'W_089'], ['PO_021', 'W_090'], ['PO_021', 'W_091'], ['PO_021', 'W_092'], ['PO_021', 'W_093'], ['PO_021', 'W_094'], ['PO_021', 'W_095'], ['PO_021', 'W_096'], ['PO_021', 'W_097'], ['PO_021', 'W_098'], ['PO_021', 'W_099'], ['PO_021', 'W_100'], ['SupplierToWarehouse', 431.9960862841775, 3.3886123877717234, 'S_001', 'W_019'], ['SupplierToWarehouse', 976.7894179079068, 7.77696939539796, 'S_001', 'W_008'], ['SupplierToWarehouse', 784.0462775901597, 8.016020243922949, 'S_002', 'W_037'], ['SupplierToWarehouse', 839.7892517780797, 9.85702272269875, 'S_002', 'W_038'], ['SupplierToWarehouse', 268.02237201605584, 8.912367568679901, 'S_003', 'W_029'], ['SupplierToWarehouse', 598.6720278949797, 11.65101035127202, 'S_003', 'W_026'], ['SupplierToWarehouse', 733.2416982448023, 22.48559934014008, 'S_004', 'W_022'], ['SupplierToWarehouse', 576.5525534593238, 28.742888216872363, 'S_004', 'W_008'], ['SupplierToWarehouse', 1009.6569345183796, 21.719895608769395, 'S_004', 'W_043'], ['SupplierToWarehouse', 865.3767011957733, 29.090980769464235, 'S_004', 'W_047'], ['SupplierToWarehouse', 12.894865632259513, 11.885704500099585, 'S_007', 'W_013'], ['SupplierToWarehouse', 286.7546198010977, 13.006755676631208, 'S_007', 'W_010'], ['SupplierToWarehouse', 625.0640492806872, 18.058809452870893, 'S_008', 'W_017'], ['SupplierToWarehouse', 701.2036614520923, 10.246173054054966, 'S_008', 'W_034'], ['SupplierToWarehouse', 213.99580770862784, 7.592995967898773, 'S_009', 'W_004'], ['SupplierToWarehouse', 164.58533466046435, 17.822435576628198, 'S_009', 'W_003'], ['SupplierToWarehouse', 827.7019086998018, 25.507844228578303, 'S_010', 'W_008'], ['SupplierToWarehouse', 937.1571060220192, 3.9859333618347406, 'S_010', 'W_037'], ['SupplierToWarehouse', 195.18534230724603, 11.915118737463239, 'S_010', 'W_042'], ['SupplierToWarehouse', 230.37404519622294, 1.3543240281617352, 'S_010', 'W_063'], ['SupplierToWarehouse', 892.7602636758147, 29.490513683136836, 'S_011', 'W_002'], ['SupplierToWarehouse', 746.7063497651995, 26.840861575020472, 'S_011', 'W_034'], ['SupplierToWarehouse', 398.8628192239389, 22.42278118459838, 'S_012', 'W_028'], ['SupplierToWarehouse', 482.84728357778187, 20.437082303910323, 'S_012', 'W_014'], ['SupplierToWarehouse', 430.9084540402467, 28.64029484471537, 'S_013', 'W_023'], ['SupplierToWarehouse', 725.413436063928, 14.031041914843337, 'S_013', 'W_026'], ['SupplierToWarehouse', 235.2256429424993, 26.600880008659566, 'S_014', 'W_020'], ['SupplierToWarehouse', 429.48708518567616, 20.79514752875922, 'S_014', 'W_028'], ['SupplierToWarehouse', 254.26498983940016, 27.088535742880865, 'S_015', 'W_027'], ['SupplierToWarehouse', 565.862559007899, 5.465328055790651, 'S_015', 'W_013'], ['SupplierToWarehouse', 359.87617294985046, 27.60883946070489, 'S_015', 'W_064'], ['SupplierToWarehouse', 722.2819334630777, 28.848877060053464, 'S_015', 'W_053'], ['SupplierToWarehouse', 36.0401025552777, 24.50153714535107, 'S_016', 'W_024'], ['SupplierToWarehouse', 343.29250816864777, 2.4470560152498715, 'S_016', 'W_011'], ['SupplierToWarehouse', 19.436010147630558, 19.667907504306164, 'S_016', 'W_074'], ['SupplierToWarehouse', 215.96647208128522, 5.616933663035225, 'S_016', 'W_056'], ['SupplierToWarehouse', 120.97205905617305, 4.806703892580099, 'S_017', 'W_034'], ['SupplierToWarehouse', 473.87821799921807, 11.85328327977616, 'S_017', 'W_006'], ['SupplierToWarehouse', 436.1634461908529, 18.600938081144395, 'S_017', 'W_062'], ['SupplierToWarehouse', 394.6162540851126, 11.678753772812737, 'S_017', 'W_055'], ['SupplierToWarehouse', 902.7780657110056, 26.46110397674022, 'S_018', 'W_001'], ['SupplierToWarehouse', 156.57341152281887, 3.778971079643861, 'S_018', 'W_003'], ['SupplierToWarehouse', 123.95169536550885, 21.14779972728127, 'S_019', 'W_021'], ['SupplierToWarehouse', 482.27294333450385, 16.34664048879609, 'S_019', 'W_011'], ['SupplierToWarehouse', 618.3613098081081, 2.322967728933434, 'S_020', 'W_012'], ['SupplierToWarehouse', 539.5305347005851, 10.287050161659248, 'S_020', 'W_017'], ['SupplierToWarehouse', 457.446697184392, 22.06841059370093, 'S_021', 'W_049'], ['SupplierToWarehouse', 581.2277308940869, 18.189161531002473, 'S_021', 'W_054'], ['SupplierToWarehouse', 655.2933899148819, 6.9448676790626305, 'S_022', 'W_039'], ['SupplierToWarehouse', 620.4414955213422, 8.096170287514333, 'S_022', 'W_034'], ['SupplierToWarehouse', 517.4378588086987, 15.472171940063935, 'S_023', 'W_027'], ['SupplierToWarehouse', 969.8651796615563, 14.719871759487189, 'S_023', 'W_021'], ['SupplierToWarehouse', 406.92646554181204, 12.922245593632898, 'S_024', 'W_027'], ['SupplierToWarehouse', 91.91094035066219, 16.459479624872525, 'S_024', 'W_030'], ['SupplierToWarehouse', 652.101193851165, 16.12714651787146, 'S_027', 'W_027'], ['SupplierToWarehouse', 461.8277112695745, 21.707162324007495, 'S_027', 'W_025'], ['SupplierToWarehouse', 70.02745102796156, 27.69198387339459, 'S_028', 'W_006'], ['SupplierToWarehouse', 624.4144672777792, 10.110538509212544, 'S_028', 'W_035'], ['SupplierToWarehouse', 535.6733824941608, 17.5078548080606, 'S_030', 'W_027'], ['SupplierToWarehouse', 874.6455038361246, 18.264074520884954, 'S_030', 'W_031'], ['SupplierToWarehouse', 700.8226460369291, 14.882410289939338, 'S_031', 'W_009'], ['SupplierToWarehouse', 753.3742806539866, 12.000476207254861, 'S_031', 'W_016'], ['SupplierToWarehouse', 379.7519634888999, 4.854122338126965, 'S_031', 'W_032'], ['SupplierToWarehouse', 517.4899102617414, 16.36036269217756, 'S_031', 'W_025'], ['SupplierToWarehouse', 951.229445132138, 21.335361233754778, 'S_032', 'W_011'], ['SupplierToWarehouse', 146.9865224741675, 8.822450702329714, 'S_032', 'W_017'], ['SupplierToWarehouse', 422.43575291227455, 21.240521748783966, 'S_032', 'W_025'], ['SupplierToWarehouse', 37.611169132392995, 20.86618983032081, 'S_032', 'W_037'], ['SupplierToWarehouse', 815.01315100932, 17.06622224264713, 'S_033', 'W_014'], ['SupplierToWarehouse', 57.709537962979624, 29.699509766097325, 'S_033', 'W_035'], ['SupplierToWarehouse', 217.41524897303773, 2.15646559804078, 'S_033', 'W_027'], ['SupplierToWarehouse', 159.5508425190889, 29.333370275736137, 'S_033', 'W_009'], ['SupplierToWarehouse', 37.275928346707964, 6.846853523121258, 'S_034', 'W_030'], ['SupplierToWarehouse', 338.48429113050076, 29.71386318073929, 'S_034', 'W_028'], ['SupplierToWarehouse', 650.690086509809, 4.168734950559523, 'S_034', 'W_033'], ['SupplierToWarehouse', 695.5557935363656, 7.1339374549930685, 'S_034', 'W_032'], ['SupplierToWarehouse', 971.7222308087482, 19.92652284934066, 'S_035', 'W_001'], ['SupplierToWarehouse', 134.09573693518502, 22.676788406320362, 'S_035', 'W_010'], ['SupplierToWarehouse', 1025.3501893007237, 4.414287121362886, 'S_035', 'W_032'], ['SupplierToWarehouse', 441.82906138892275, 26.31473960133688, 'S_035', 'W_005'], ['SupplierToWarehouse', 301.4765957612106, 28.107125807011457, 'S_036', 'W_018'], ['SupplierToWarehouse', 204.365212935734, 27.323524902504655, 'S_036', 'W_030'], ['SupplierToWarehouse', 612.7087492715746, 15.823841735285537, 'S_036', 'W_021'], ['SupplierToWarehouse', 881.930157509403, 14.353828363225832, 'S_036', 'W_019'], ['SupplierToWarehouse', 542.8625345155649, 7.713908791228119, 'S_036', 'W_050'], ['SupplierToWarehouse', 420.9658232113563, 24.789534783085593, 'S_036', 'W_067'], ['SupplierToWarehouse', 32.22357402826917, 29.725744684936128, 'S_036', 'W_046'], ['SupplierToWarehouse', 630.0041921201274, 18.56482087815026, 'S_036', 'W_055'], ['SupplierToWarehouse', 798.2277684785306, 29.13435575244048, 'S_037', 'W_052'], ['SupplierToWarehouse', 344.1120064712224, 12.694983740499135, 'S_037', 'W_056'], ['SupplierToWarehouse', 108.58011357679078, 24.061846068272352, 'S_037', 'W_062'], ['SupplierToWarehouse', 920.0750723157577, 16.532445382005765, 'S_037', 'W_044'], ['SupplierToWarehouse', 893.0960308529878, 29.947053069641086, 'S_039', 'W_003'], ['SupplierToWarehouse', 381.6693284566861, 29.124120220050038, 'S_039', 'W_027'], ['SupplierToWarehouse', 806.5618776833031, 21.315679697307747, 'S_039', 'W_034'], ['SupplierToWarehouse', 485.57600844672555, 6.914221767165727, 'S_039', 'W_014'], ['SupplierToWarehouse', 72.9597743324484, 12.10804364175105, 'S_040', 'W_036'], ['SupplierToWarehouse', 737.0172353757957, 28.871775651065356, 'S_040', 'W_016'], ['SupplierToWarehouse', 860.2778156209527, 25.09419991909708, 'S_040', 'W_030'], ['SupplierToWarehouse', 550.3991505544768, 16.880831654616657, 'S_040', 'W_029'], ['SupplierToWarehouse', 808.5714929123022, 3.4430982165282753, 'S_041', 'W_056'], ['SupplierToWarehouse', 443.7967294262866, 20.443029628964634, 'S_041', 'W_067'], ['SupplierToWarehouse', 553.7199817175912, 20.940712676080796, 'S_041', 'W_045'], ['SupplierToWarehouse', 840.0072485113359, 6.436560131607507, 'S_041', 'W_046'], ['SupplierToWarehouse', 943.5491414656651, 21.129994612482577, 'S_042', 'W_036'], ['SupplierToWarehouse', 510.45372985922785, 18.64947554921261, 'S_042', 'W_017'], ['SupplierToWarehouse', 459.68020892717067, 13.812650298590032, 'S_042', 'W_014'], ['SupplierToWarehouse', 293.91504386725506, 27.822534009312896, 'S_042', 'W_026'], ['SupplierToWarehouse', 185.55350763153993, 12.889283204183767, 'S_042', 'W_067'], ['SupplierToWarehouse', 475.13467353851803, 12.596235802121875, 'S_042', 'W_050'], ['SupplierToWarehouse', 772.6324099388027, 18.948241079196023, 'S_042', 'W_052'], ['SupplierToWarehouse', 743.144893027689, 15.648904305344427, 'S_042', 'W_062'], ['SupplierToWarehouse', 43.76927035956887, 6.210556472915, 'S_043', 'W_003'], ['SupplierToWarehouse', 686.1800149245128, 11.909782202195904, 'S_043', 'W_034'], ['SupplierToWarehouse', 188.1614940291234, 24.846342984169183, 'S_043', 'W_011'], ['SupplierToWarehouse', 647.1605004791555, 4.184105099413705, 'S_043', 'W_024'], ['SupplierToWarehouse', 732.0985285201909, 26.529290081177535, 'S_044', 'W_033'], ['SupplierToWarehouse', 572.9399459163898, 16.84609127336768, 'S_044', 'W_006'], ['SupplierToWarehouse', 236.2425749134527, 18.817725961188433, 'S_044', 'W_009'], ['SupplierToWarehouse', 157.47697199987905, 10.114223617458753, 'S_044', 'W_030'], ['SupplierToWarehouse', 71.15775166540708, 13.802089318892323, 'S_046', 'W_002'], ['SupplierToWarehouse', 782.0180784874748, 15.106550686655568, 'S_046', 'W_027'], ['SupplierToWarehouse', 102.72215849009218, 12.71970516112482, 'S_046', 'W_008'], ['SupplierToWarehouse', 18.51475522850923, 9.872610494442437, 'S_046', 'W_026'], ['SupplierToWarehouse', 935.7387625807364, 15.900457632386582, 'S_047', 'W_010'], ['SupplierToWarehouse', 584.7564895829103, 12.888681317882847, 'S_047', 'W_037'], ['SupplierToWarehouse', 195.93816553449338, 8.0611858699667, 'S_047', 'W_025'], ['SupplierToWarehouse', 497.37202616455085, 26.33794829605958, 'S_047', 'W_038'], ['SupplierToWarehouse', 286.07396110408155, 18.828134353459188, 'S_048', 'W_026'], ['SupplierToWarehouse', 922.434420505428, 13.597607786044822, 'S_048', 'W_006'], ['SupplierToWarehouse', 675.8010467756516, 4.067913873388152, 'S_048', 'W_002'], ['SupplierToWarehouse', 20.023650684496385, 16.454327427538836, 'S_048', 'W_016'], ['SupplierToWarehouse', 141.47784204238337, 14.893233051334933, 'S_050', 'W_014'], ['SupplierToWarehouse', 739.3393164893321, 10.161257552317222, 'S_050', 'W_028'], ['SupplierToWarehouse', 592.4229142654342, 20.713437054988013, 'S_050', 'W_009'], ['SupplierToWarehouse', 387.72863170016245, 6.3589555577496695, 'S_050', 'W_008'], ['SupplierToWarehouse', 614.3152479082498, 7.192081064985031, 'S_051', 'W_039'], ['SupplierToWarehouse', 199.76181045466913, 13.922218447560839, 'S_051', 'W_018'], ['SupplierToWarehouse', 637.3407018148862, 29.564207502215897, 'S_051', 'W_031'], ['SupplierToWarehouse', 1010.2663919128622, 10.24835624865576, 'S_051', 'W_024'], ['SupplierToWarehouse', 991.3692564067383, 20.801204522371634, 'S_052', 'W_062'], ['SupplierToWarehouse', 411.8923540552187, 15.836361701960282, 'S_052', 'W_063'], ['SupplierToWarehouse', 82.53277829715769, 17.053885587444196, 'S_052', 'W_053'], ['SupplierToWarehouse', 687.8130756264707, 23.239674619773826, 'S_052', 'W_051'], ['SupplierToWarehouse', 44.042108460352715, 13.08886448491521, 'S_053', 'W_022'], ['SupplierToWarehouse', 222.99089515578842, 14.05726862544025, 'S_053', 'W_002'], ['SupplierToWarehouse', 291.58951337441204, 26.78251010196348, 'S_053', 'W_027'], ['SupplierToWarehouse', 315.3180340566483, 9.07650243878271, 'S_053', 'W_025'], ['SupplierToWarehouse', 49.347004069113055, 28.72395914990067, 'S_057', 'W_024'], ['SupplierToWarehouse', 479.46659512021057, 22.381246700134508, 'S_057', 'W_040'], ['SupplierToWarehouse', 104.53177795051147, 13.707129480275592, 'S_057', 'W_017'], ['SupplierToWarehouse', 67.27810949637944, 8.217232072081686, 'S_057', 'W_029'], ['SupplierToWarehouse', 291.8422730313223, 6.852181752548877, 'S_057', 'W_015'], ['SupplierToWarehouse', 335.92857785054036, 20.13321232335018, 'S_057', 'W_003'], ['SupplierToWarehouse', 786.3602317794857, 4.290846010038242, 'S_059', 'W_040'], ['SupplierToWarehouse', 507.3734032584196, 25.214875410046876, 'S_059', 'W_035'], ['SupplierToWarehouse', 579.2120263155275, 15.478998141226125, 'S_059', 'W_036'], ['SupplierToWarehouse', 698.5890102476674, 5.449100703073956, 'S_059', 'W_029'], ['SupplierToWarehouse', 871.4076270870221, 22.8236178734413, 'S_059', 'W_021'], ['SupplierToWarehouse', 362.9817617174761, 13.610534399916158, 'S_059', 'W_004'], ['SupplierToWarehouse', 314.6899071340959, 28.66919933113257, 'S_060', 'W_026'], ['SupplierToWarehouse', 821.7524560323658, 9.446201030533459, 'S_060', 'W_011'], ['SupplierToWarehouse', 83.54481470726489, 11.648663705363948, 'S_060', 'W_013'], ['SupplierToWarehouse', 111.78895813598628, 24.27064203519178, 'S_060', 'W_030'], ['SupplierToWarehouse', 397.1830521551588, 25.27093799655423, 'S_060', 'W_009'], ['SupplierToWarehouse', 166.5488361818824, 14.82018100465207, 'S_060', 'W_033'], ['SupplierToWarehouse', 724.98150092, 23.961187328770205, 'S_061', 'W_042'], ['SupplierToWarehouse', 763.120424004661, 20.104179237295487, 'S_061', 'W_048'], ['SupplierToWarehouse', 410.3237263323647, 2.906909271192282, 'S_061', 'W_070'], ['SupplierToWarehouse', 65.31839931951345, 18.252448491582488, 'S_061', 'W_055'], ['SupplierToWarehouse', 260.7020618071731, 12.744665661724772, 'S_061', 'W_046'], ['SupplierToWarehouse', 591.9405175575429, 19.36337819140055, 'S_061', 'W_063'], ['SupplierToWarehouse', 997.3754723098934, 23.770435418370372, 'S_062', 'W_051'], ['SupplierToWarehouse', 554.5149642524852, 15.763500798110215, 'S_062', 'W_045'], ['SupplierToWarehouse', 327.1695600810234, 14.743536697541872, 'S_062', 'W_041'], ['SupplierToWarehouse', 660.6452488947883, 1.4276445694709623, 'S_062', 'W_074'], ['SupplierToWarehouse', 120.40829931372427, 7.073430926908929, 'S_062', 'W_069'], ['SupplierToWarehouse', 158.54807775680698, 8.864410648890246, 'S_062', 'W_049'], ['SupplierToWarehouse', 932.0408298602574, 15.250787699382043, 'S_063', 'W_002'], ['SupplierToWarehouse', 364.6167532004381, 4.653580517306709, 'S_063', 'W_030'], ['SupplierToWarehouse', 160.88107303553593, 15.403153906343036, 'S_063', 'W_024'], ['SupplierToWarehouse', 949.3491890100296, 14.149829075406016, 'S_063', 'W_020'], ['SupplierToWarehouse', 891.3857169450451, 27.581100109384582, 'S_063', 'W_029'], ['SupplierToWarehouse', 212.00373138884206, 15.916648606082305, 'S_063', 'W_033'], ['SupplierToWarehouse', 353.3569864690796, 2.5905732660581617, 'S_063', 'W_056'], ['SupplierToWarehouse', 338.3172231699439, 28.108700756371075, 'S_063', 'W_050'], ['SupplierToWarehouse', 37.770689798126405, 5.32068302760585, 'S_063', 'W_071'], ['SupplierToWarehouse', 281.6083118039181, 9.012001493397616, 'S_063', 'W_064'], ['SupplierToWarehouse', 61.15508662334567, 28.5922559997137, 'S_063', 'W_042'], ['SupplierToWarehouse', 882.331675648701, 21.446283258482676, 'S_063', 'W_057'], ['SupplierToWarehouse', 25.382144089348607, 22.034311202656223, 'S_064', 'W_027'], ['SupplierToWarehouse', 615.8732844303795, 28.709186615430838, 'S_064', 'W_015'], ['SupplierToWarehouse', 965.29119605619, 10.444699720506996, 'S_064', 'W_011'], ['SupplierToWarehouse', 913.840632461758, 15.902555540409821, 'S_064', 'W_032'], ['SupplierToWarehouse', 807.6354042175877, 20.3907381095422, 'S_064', 'W_029'], ['SupplierToWarehouse', 950.2100048565122, 4.439011540508286, 'S_064', 'W_010'], ['SupplierToWarehouse', 974.3405817984232, 26.730405586020172, 'S_065', 'W_022'], ['SupplierToWarehouse', 182.19802340634638, 25.90865736228465, 'S_065', 'W_006'], ['SupplierToWarehouse', 464.36979299986353, 26.61419462669093, 'S_065', 'W_019'], ['SupplierToWarehouse', 115.16209031190424, 20.162290672446723, 'S_065', 'W_035'], ['SupplierToWarehouse', 145.16214825807177, 13.838550341052132, 'S_065', 'W_021'], ['SupplierToWarehouse', 165.4775646228519, 10.265133427360842, 'S_065', 'W_014'], ['SupplierToWarehouse', 643.8894055023059, 1.1853264362171367, 'S_066', 'W_001'], ['SupplierToWarehouse', 337.7761514592083, 11.410241834901994, 'S_066', 'W_025'], ['SupplierToWarehouse', 445.6654709393661, 12.656126576639902, 'S_066', 'W_004'], ['SupplierToWarehouse', 611.3132916510958, 6.0125308171597425, 'S_066', 'W_006'], ['SupplierToWarehouse', 957.7405498624829, 29.79410142556077, 'S_066', 'W_015'], ['SupplierToWarehouse', 926.3513084630309, 26.76986157060744, 'S_066', 'W_016'], ['SupplierToWarehouse', 177.44489282025677, 3.2025012239453945, 'S_068', 'W_028'], ['SupplierToWarehouse', 843.027208981753, 20.88076008677261, 'S_068', 'W_005'], ['SupplierToWarehouse', 726.2418140427591, 6.615529336780759, 'S_068', 'W_011'], ['SupplierToWarehouse', 282.149979063974, 17.230234726275885, 'S_068', 'W_014'], ['SupplierToWarehouse', 577.4776786879949, 19.626107403022775, 'S_068', 'W_027'], ['SupplierToWarehouse', 659.7127015672719, 23.298863516331846, 'S_068', 'W_009'], ['SupplierToWarehouse', 664.9194175552997, 12.70683240077909, 'S_069', 'W_028'], ['SupplierToWarehouse', 618.4432469089901, 12.722447152406462, 'S_069', 'W_007'], ['SupplierToWarehouse', 132.84893629367653, 2.1032556901814714, 'S_069', 'W_036'], ['SupplierToWarehouse', 224.7038222143392, 8.22732241490262, 'S_069', 'W_037'], ['SupplierToWarehouse', 729.3521473673313, 21.621974121194345, 'S_069', 'W_040'], ['SupplierToWarehouse', 57.47794103386532, 11.658206414888726, 'S_069', 'W_010'], ['SupplierToWarehouse', 918.7343464316007, 3.5140908394823165, 'S_072', 'W_024'], ['SupplierToWarehouse', 172.32164790573637, 28.802162268705835, 'S_072', 'W_035'], ['SupplierToWarehouse', 937.0522097996911, 22.168279947009022, 'S_072', 'W_009'], ['SupplierToWarehouse', 231.59352206853185, 19.133096579456616, 'S_072', 'W_016'], ['SupplierToWarehouse', 737.2003341341027, 27.990024078181065, 'S_072', 'W_007'], ['SupplierToWarehouse', 176.66093188275028, 28.487329454380827, 'S_072', 'W_027'], ['SupplierToWarehouse', 272.13973073384716, 4.171652460579879, 'S_073', 'W_007'], ['SupplierToWarehouse', 595.4971480717834, 20.129425067216676, 'S_073', 'W_022'], ['SupplierToWarehouse', 60.196301579022844, 17.033079988877486, 'S_073', 'W_033'], ['SupplierToWarehouse', 872.5880354666153, 11.950861684578562, 'S_073', 'W_035'], ['SupplierToWarehouse', 456.9463125549977, 3.7718644080352464, 'S_073', 'W_036'], ['SupplierToWarehouse', 807.5418721417685, 9.952018026741879, 'S_073', 'W_034'], ['SupplierToWarehouse', 147.522840297038, 24.158125116398043, 'S_074', 'W_029'], ['SupplierToWarehouse', 970.4712534100426, 19.6410620844962, 'S_074', 'W_033'], ['SupplierToWarehouse', 655.2968495620164, 11.033551239980163, 'S_074', 'W_020'], ['SupplierToWarehouse', 870.7105382736402, 3.5589320944484117, 'S_074', 'W_009'], ['SupplierToWarehouse', 1019.379907777945, 7.537100881573158, 'S_074', 'W_004'], ['SupplierToWarehouse', 543.5777397652507, 29.178074806185265, 'S_074', 'W_022'], ['WarehouseToParts', 174.1078977735383, 7232.835925140508, 'W_001', 'P_023'], ['WarehouseToParts', 108.4192101568075, 7069.917084594125, 'W_001', 'P_030'], ['WarehouseToParts', 548.2488914680904, 7492.276313904645, 'W_001', 'P_073'], ['WarehouseToParts', 137.1673978166508, 4516.899001408395, 'W_001', 'P_022'], ['WarehouseToParts', 515.2261392447351, 7914.46419451842, 'W_001', 'P_052'], ['WarehouseToParts', 480.1345435814932, 9978.629867443462, 'W_001', 'P_083'], ['WarehouseToParts', 167.24642398732504, 312.1559261418041, 'W_001', 'P_109'], ['WarehouseToParts', 997.8517082139261, 4141.88803948959, 'W_001', 'P_146'], ['WarehouseToParts', 302.10643401428, 2578.5723647543346, 'W_001', 'P_059'], ['WarehouseToParts', 945.7950477821496, 7029.937311093848, 'W_001', 'P_061'], ['WarehouseToParts', 410.4313556165312, 4087.027569815287, 'W_001', 'P_042'], ['WarehouseToParts', 758.6667860815159, 4449.6332961752305, 'W_001', 'P_122'], ['WarehouseToParts', 556.7452043767452, 7201.191553415373, 'W_001', 'P_129'], ['WarehouseToParts', 753.3827540812453, 9108.164902940858, 'W_001', 'P_135'], ['WarehouseToParts', 61.89588243490806, 3540.4496973976848, 'W_001', 'P_097'], ['WarehouseToParts', 838.0719872114097, 4979.395547176979, 'W_002', 'P_069'], ['WarehouseToParts', 764.3917374879683, 8444.60132119353, 'W_002', 'P_027'], ['WarehouseToParts', 412.7764532093325, 7696.060980224117, 'W_002', 'P_106'], ['WarehouseToParts', 354.8553741713187, 4286.626329410047, 'W_002', 'P_052'], ['WarehouseToParts', 96.91784219882865, 7915.562339592231, 'W_003', 'P_129'], ['WarehouseToParts', 522.5289421667063, 200.19841606647532, 'W_003', 'P_007'], ['WarehouseToParts', 187.38914624095156, 2163.39268706511, 'W_003', 'P_011'], ['WarehouseToParts', 167.03034696684563, 3103.8640926852604, 'W_003', 'P_063'], ['WarehouseToParts', 668.2329886241425, 5296.460367891463, 'W_003', 'P_054'], ['WarehouseToParts', 179.583816077386, 4705.640114598742, 'W_003', 'P_017'], ['WarehouseToParts', 99.23442716926888, 1925.9835063033254, 'W_003', 'P_058'], ['WarehouseToParts', 193.3988875791426, 5037.073490604833, 'W_003', 'P_097'], ['WarehouseToParts', 847.337284496034, 9536.052477117551, 'W_003', 'P_088'], ['WarehouseToParts', 422.88727425535563, 3718.2634104233866, 'W_003', 'P_086'], ['WarehouseToParts', 793.420572549131, 4748.289930729619, 'W_004', 'P_149'], ['WarehouseToParts', 105.76026232008758, 7782.785066173897, 'W_004', 'P_029'], ['WarehouseToParts', 68.30940693496792, 1792.461346729577, 'W_004', 'P_115'], ['WarehouseToParts', 503.84249433764325, 5172.493999746077, 'W_004', 'P_111'], ['WarehouseToParts', 434.049476958476, 8128.124034065235, 'W_004', 'P_046'], ['WarehouseToParts', 937.8309915550388, 5904.457771820108, 'W_005', 'P_016'], ['WarehouseToParts', 75.30466756498613, 8111.688549189548, 'W_005', 'P_112'], ['WarehouseToParts', 228.59837368652322, 1414.5059009555034, 'W_005', 'P_089'], ['WarehouseToParts', 154.38524858013065, 9657.313226512711, 'W_005', 'P_039'], ['WarehouseToParts', 660.7537893518498, 2435.430535878818, 'W_005', 'P_137'], ['WarehouseToParts', 622.1745361185004, 6509.627275597328, 'W_005', 'P_092'], ['WarehouseToParts', 743.8905547590377, 1130.401903605437, 'W_005', 'P_106'], ['WarehouseToParts', 189.7870675731107, 7592.140545002028, 'W_005', 'P_065'], ['WarehouseToParts', 696.9218501298548, 1348.3173829512534, 'W_005', 'P_057'], ['WarehouseToParts', 205.69287061283683, 1018.4063541909939, 'W_005', 'P_123'], ['WarehouseToParts', 534.5198901913576, 5726.1792837242065, 'W_005', 'P_031'], ['WarehouseToParts', 301.6843002151768, 7655.977770709597, 'W_005', 'P_018'], ['WarehouseToParts', 621.1570043915729, 7021.450913010816, 'W_005', 'P_115'], ['WarehouseToParts', 666.4900095164767, 7395.267324462903, 'W_005', 'P_088'], ['WarehouseToParts', 317.0893644378858, 4605.1515436218015, 'W_005', 'P_025'], ['WarehouseToParts', 419.8681681199721, 3242.926381235077, 'W_006', 'P_005'], ['WarehouseToParts', 99.34279806373961, 1240.2779718704915, 'W_006', 'P_066'], ['WarehouseToParts', 822.2015414459424, 1931.4597598819496, 'W_006', 'P_063'], ['WarehouseToParts', 286.8340979968467, 6453.7949490156, 'W_006', 'P_030'], ['WarehouseToParts', 259.4316604921205, 9737.197814752908, 'W_006', 'P_008'], ['WarehouseToParts', 391.4311458416064, 862.5647734055699, 'W_006', 'P_101'], ['WarehouseToParts', 1016.5708311240542, 7740.051979913749, 'W_006', 'P_126'], ['WarehouseToParts', 441.4709155586552, 8981.969433643455, 'W_006', 'P_037'], ['WarehouseToParts', 536.0250080713505, 4360.358605175204, 'W_006', 'P_039'], ['WarehouseToParts', 447.9902572213491, 5176.309443694847, 'W_006', 'P_027'], ['WarehouseToParts', 777.4083171771039, 2209.2657201277257, 'W_007', 'P_041'], ['WarehouseToParts', 819.0736169727982, 6680.607772722259, 'W_007', 'P_064'], ['WarehouseToParts', 459.1548335536138, 4066.0821186840767, 'W_007', 'P_037'], ['WarehouseToParts', 141.08655568173978, 7125.179946535704, 'W_007', 'P_003'], ['WarehouseToParts', 199.86735818062934, 3734.498120753179, 'W_007', 'P_081'], ['WarehouseToParts', 961.8395203959009, 6023.860456165652, 'W_008', 'P_058'], ['WarehouseToParts', 331.020064935893, 6495.998545665669, 'W_008', 'P_008'], ['WarehouseToParts', 182.6054132069264, 4243.500057606818, 'W_008', 'P_129'], ['WarehouseToParts', 329.59867289611066, 5434.359949198887, 'W_009', 'P_082'], ['WarehouseToParts', 887.8249259400042, 4892.763341389985, 'W_009', 'P_112'], ['WarehouseToParts', 226.00637816837187, 7616.461604225792, 'W_009', 'P_053'], ['WarehouseToParts', 495.39887217879215, 3149.121655389456, 'W_009', 'P_085'], ['WarehouseToParts', 143.60915595653168, 1371.1645658441162, 'W_009', 'P_084'], ['WarehouseToParts', 451.3216510576653, 4623.6179084145315, 'W_010', 'P_132'], ['WarehouseToParts', 338.48465979292746, 5906.0529192640815, 'W_010', 'P_005'], ['WarehouseToParts', 129.4386070658897, 5711.390998282548, 'W_010', 'P_069'], ['WarehouseToParts', 89.29366585300053, 316.3920795329278, 'W_010', 'P_089'], ['WarehouseToParts', 804.2451048062893, 3619.70042416981, 'W_011', 'P_138'], ['WarehouseToParts', 481.56093870195497, 6536.782988506616, 'W_011', 'P_119'], ['WarehouseToParts', 30.914809321267118, 7783.689961722867, 'W_011', 'P_103'], ['WarehouseToParts', 716.7872921982238, 5167.419806825065, 'W_012', 'P_073'], ['WarehouseToParts', 432.50876860768557, 6775.568238246272, 'W_012', 'P_009'], ['WarehouseToParts', 773.3134631201609, 4551.198381709806, 'W_012', 'P_088'], ['WarehouseToParts', 444.58896366813286, 9532.141640875883, 'W_012', 'P_041'], ['WarehouseToParts', 976.2555804833744, 1049.5495828906405, 'W_012', 'P_110'], ['WarehouseToParts', 175.6016130852999, 3388.002992714451, 'W_012', 'P_059'], ['WarehouseToParts', 291.8437230953578, 1473.7526038416622, 'W_012', 'P_096'], ['WarehouseToParts', 443.8353119510971, 5490.39227535188, 'W_012', 'P_085'], ['WarehouseToParts', 659.2080992795411, 3016.7653709017845, 'W_012', 'P_078'], ['WarehouseToParts', 548.8048029567933, 9941.806284825241, 'W_012', 'P_081'], ['WarehouseToParts', 472.3781640868973, 9932.732172469334, 'W_012', 'P_001'], ['WarehouseToParts', 498.0689818182483, 8239.782496368945, 'W_012', 'P_036'], ['WarehouseToParts', 262.7560505277615, 1026.0788827515923, 'W_012', 'P_137'], ['WarehouseToParts', 494.56662755978596, 4123.625160380152, 'W_012', 'P_003'], ['WarehouseToParts', 1061.2289870310244, 3358.2096166849046, 'W_012', 'P_005'], ['WarehouseToParts', 107.19515162026623, 8178.176863076393, 'W_013', 'P_120'], ['WarehouseToParts', 810.6474545764735, 8924.745760232623, 'W_013', 'P_136'], ['WarehouseToParts', 298.5465143257653, 4188.778400771598, 'W_013', 'P_081'], ['WarehouseToParts', 314.24453927731065, 2144.938980330837, 'W_013', 'P_074'], ['WarehouseToParts', 377.73093534327677, 5167.7112568890525, 'W_013', 'P_122'], ['WarehouseToParts', 407.5129679394027, 8852.455778732236, 'W_013', 'P_061'], ['WarehouseToParts', 82.92412395935872, 3424.5631631454007, 'W_013', 'P_106'], ['WarehouseToParts', 717.2643677692571, 449.3910876355758, 'W_013', 'P_069'], ['WarehouseToParts', 54.87292644685729, 2810.9804053970124, 'W_013', 'P_066'], ['WarehouseToParts', 482.4353140523018, 9065.870381227298, 'W_013', 'P_095'], ['WarehouseToParts', 434.34767773120194, 923.7575928819421, 'W_013', 'P_125'], ['WarehouseToParts', 479.99739579287206, 2201.0043266227685, 'W_013', 'P_033'], ['WarehouseToParts', 193.4636080233282, 9690.727388383972, 'W_013', 'P_045'], ['WarehouseToParts', 815.7873064168027, 8841.446684152988, 'W_013', 'P_144'], ['WarehouseToParts', 333.2296249077061, 3168.461479700095, 'W_013', 'P_101'], ['WarehouseToParts', 111.06153859144771, 2110.7725619507073, 'W_014', 'P_085'], ['WarehouseToParts', 270.71697626827654, 4616.215810752345, 'W_014', 'P_136'], ['WarehouseToParts', 491.31524464734065, 4788.650311829341, 'W_014', 'P_079'], ['WarehouseToParts', 791.575530324214, 9128.208668187372, 'W_014', 'P_074'], ['WarehouseToParts', 546.7399790551378, 1601.9888226771923, 'W_014', 'P_130'], ['WarehouseToParts', 110.37652940372016, 4332.931490475965, 'W_014', 'P_057'], ['WarehouseToParts', 919.1604259142241, 3288.3509602390573, 'W_014', 'P_144'], ['WarehouseToParts', 158.36199768776171, 3149.012701117704, 'W_014', 'P_058'], ['WarehouseToParts', 742.9475501801569, 5452.224910390976, 'W_014', 'P_034'], ['WarehouseToParts', 660.0075068337899, 291.0452829131015, 'W_014', 'P_082'], ['WarehouseToParts', 458.52579582149724, 2713.5791106230167, 'W_014', 'P_119'], ['WarehouseToParts', 321.47983424101426, 4340.832327366538, 'W_014', 'P_104'], ['WarehouseToParts', 1083.0325800974792, 7441.979746068816, 'W_014', 'P_054'], ['WarehouseToParts', 901.0934813537013, 231.74867094942863, 'W_014', 'P_089'], ['WarehouseToParts', 459.0399706215523, 3764.192084569117, 'W_014', 'P_143'], ['WarehouseToParts', 332.7297377341527, 5778.463780828977, 'W_015', 'P_029'], ['WarehouseToParts', 279.955647570406, 1660.2997876591428, 'W_015', 'P_069'], ['WarehouseToParts', 622.4462863001859, 928.146903511312, 'W_015', 'P_065'], ['WarehouseToParts', 174.56578660325638, 3626.131213532631, 'W_015', 'P_039'], ['WarehouseToParts', 678.8554604573025, 1165.216738859389, 'W_015', 'P_056'], ['WarehouseToParts', 162.75130081420033, 7880.587678110578, 'W_015', 'P_035'], ['WarehouseToParts', 988.2587111404705, 9475.523696189204, 'W_015', 'P_016'], ['WarehouseToParts', 535.6150197822533, 4261.200306683732, 'W_015', 'P_110'], ['WarehouseToParts', 705.4378545652662, 1932.9081625869949, 'W_015', 'P_017'], ['WarehouseToParts', 162.66794734178046, 4332.802485636066, 'W_015', 'P_043'], ['WarehouseToParts', 457.4531715556901, 2983.927499158858, 'W_015', 'P_123'], ['WarehouseToParts', 718.733827896892, 9164.905051158476, 'W_015', 'P_085'], ['WarehouseToParts', 847.6754241633446, 6447.829510477618, 'W_015', 'P_073'], ['WarehouseToParts', 79.03056913617414, 7181.119004197837, 'W_015', 'P_090'], ['WarehouseToParts', 967.1079177557349, 9548.809998734658, 'W_015', 'P_086'], ['WarehouseToParts', 400.3444905321456, 9849.827420636571, 'W_016', 'P_096'], ['WarehouseToParts', 288.1297534143366, 7136.707831414586, 'W_016', 'P_017'], ['WarehouseToParts', 568.268741431012, 8735.567871328407, 'W_016', 'P_024'], ['WarehouseToParts', 47.07309931032301, 7848.278900884593, 'W_016', 'P_135'], ['WarehouseToParts', 557.123072259137, 9571.479713931905, 'W_017', 'P_007'], ['WarehouseToParts', 144.7489867024185, 3920.8325117081163, 'W_017', 'P_145'], ['WarehouseToParts', 341.7750729728612, 8025.363480209081, 'W_017', 'P_099'], ['WarehouseToParts', 548.2680256316329, 8542.809593771723, 'W_017', 'P_054'], ['WarehouseToParts', 153.6838829204917, 1183.5135753783359, 'W_017', 'P_019'], ['WarehouseToParts', 50.2534030434101, 2537.63388150413, 'W_017', 'P_107'], ['WarehouseToParts', 685.2044536694202, 2275.914259335151, 'W_017', 'P_052'], ['WarehouseToParts', 678.4563525500677, 2579.830911341585, 'W_017', 'P_043'], ['WarehouseToParts', 614.6073728848656, 6297.14027901189, 'W_017', 'P_112'], ['WarehouseToParts', 281.0690124407333, 1745.2664340752528, 'W_017', 'P_064'], ['WarehouseToParts', 832.666549665101, 8485.007466546851, 'W_017', 'P_138'], ['WarehouseToParts', 939.4255376227643, 8642.619029610483, 'W_017', 'P_080'], ['WarehouseToParts', 81.48994111481255, 853.2228485507044, 'W_017', 'P_095'], ['WarehouseToParts', 693.9582698078445, 7002.800231691738, 'W_017', 'P_037'], ['WarehouseToParts', 412.34681214226714, 7667.708590326713, 'W_017', 'P_063'], ['WarehouseToParts', 50.5446377292978, 8552.999484010672, 'W_018', 'P_131'], ['WarehouseToParts', 225.25616604263755, 9978.586136428275, 'W_018', 'P_047'], ['WarehouseToParts', 429.5210308864739, 795.7028139783189, 'W_018', 'P_138'], ['WarehouseToParts', 999.196559692078, 1363.6738121506194, 'W_018', 'P_075'], ['WarehouseToParts', 533.5323271316638, 7310.470158903674, 'W_018', 'P_034'], ['WarehouseToParts', 473.3072733145288, 2729.358190134619, 'W_019', 'P_014'], ['WarehouseToParts', 191.46699607681958, 7991.994791601872, 'W_019', 'P_047'], ['WarehouseToParts', 761.8430160620345, 501.57470195763153, 'W_019', 'P_023'], ['WarehouseToParts', 61.635335151601296, 2736.423781869954, 'W_019', 'P_083'], ['WarehouseToParts', 687.4298314246248, 2048.676297173585, 'W_019', 'P_140'], ['WarehouseToParts', 1078.521887594357, 6916.954328599218, 'W_019', 'P_091'], ['WarehouseToParts', 511.68150846991057, 9336.27737921429, 'W_019', 'P_093'], ['WarehouseToParts', 462.64376023132417, 3497.586007050092, 'W_019', 'P_026'], ['WarehouseToParts', 626.1914565755756, 2987.4877723912873, 'W_019', 'P_015'], ['WarehouseToParts', 424.1941463911546, 7470.369180433628, 'W_019', 'P_076'], ['WarehouseToParts', 478.7147234365019, 133.59247134754872, 'W_020', 'P_089'], ['WarehouseToParts', 674.6553126745088, 9493.195927784012, 'W_020', 'P_121'], ['WarehouseToParts', 663.3908924460937, 4029.7442911200296, 'W_020', 'P_104'], ['WarehouseToParts', 575.8210695547772, 3569.4380731158503, 'W_020', 'P_110'], ['WarehouseToParts', 547.0831106244024, 1052.613700860181, 'W_020', 'P_108'], ['WarehouseToParts', 204.02172751611897, 2195.4910133941353, 'W_020', 'P_144'], ['WarehouseToParts', 666.6720954183593, 451.02432726837975, 'W_020', 'P_087'], ['WarehouseToParts', 734.0889404760688, 5238.959033984557, 'W_020', 'P_011'], ['WarehouseToParts', 624.137699891807, 1028.3965475719358, 'W_020', 'P_137'], ['WarehouseToParts', 500.5500190762505, 3736.63974631909, 'W_020', 'P_029'], ['WarehouseToParts', 214.06877028678062, 5383.489197745114, 'W_020', 'P_057'], ['WarehouseToParts', 843.2948512099721, 4718.498781878328, 'W_020', 'P_130'], ['WarehouseToParts', 353.19050828522586, 1164.8621441598275, 'W_020', 'P_067'], ['WarehouseToParts', 58.71764836687676, 2146.818216845074, 'W_020', 'P_049'], ['WarehouseToParts', 415.2113569993444, 3737.070992642563, 'W_021', 'P_080'], ['WarehouseToParts', 465.4558711965764, 2965.4929378588836, 'W_021', 'P_119'], ['WarehouseToParts', 131.7715420972385, 6568.3356490459755, 'W_021', 'P_088'], ['WarehouseToParts', 565.4087113280109, 2382.9375186493153, 'W_021', 'P_016'], ['WarehouseToParts', 1008.7626879285334, 4076.9451880435026, 'W_021', 'P_021'], ['WarehouseToParts', 881.8850875119984, 5289.191105537209, 'W_021', 'P_022'], ['WarehouseToParts', 808.3941497951425, 1082.838838812475, 'W_021', 'P_104'], ['WarehouseToParts', 155.80110797625824, 6786.666413928484, 'W_021', 'P_076'], ['WarehouseToParts', 783.9311403776976, 7816.5350753203775, 'W_021', 'P_079'], ['WarehouseToParts', 69.19804595332567, 5824.536810098757, 'W_021', 'P_103'], ['WarehouseToParts', 519.6757453821492, 8845.934869050852, 'W_021', 'P_113'], ['WarehouseToParts', 785.8026319799017, 364.15700322432565, 'W_021', 'P_073'], ['WarehouseToParts', 823.5200042055117, 7624.0513784449795, 'W_021', 'P_019'], ['WarehouseToParts', 626.8548183992438, 6039.794905494198, 'W_021', 'P_071'], ['WarehouseToParts', 976.1415724749907, 1786.9975486846288, 'W_021', 'P_041'], ['WarehouseToParts', 692.0321958902398, 7224.881503880232, 'W_022', 'P_089'], ['WarehouseToParts', 349.83546700590284, 6550.035290865668, 'W_022', 'P_025'], ['WarehouseToParts', 817.089265032157, 6299.321913688317, 'W_022', 'P_112'], ['WarehouseToParts', 145.55563297873277, 858.8300883315281, 'W_022', 'P_111'], ['WarehouseToParts', 827.6534639841522, 8433.889262062117, 'W_022', 'P_149'], ['WarehouseToParts', 433.22171954793953, 6419.805815131209, 'W_023', 'P_147'], ['WarehouseToParts', 150.216308410131, 7803.925888189986, 'W_023', 'P_012'], ['WarehouseToParts', 326.7581607813427, 7150.891295285626, 'W_023', 'P_022'], ['WarehouseToParts', 760.9776286848155, 145.810356243831, 'W_023', 'P_089'], ['WarehouseToParts', 907.3795893100756, 5330.864175628045, 'W_023', 'P_062'], ['WarehouseToParts', 180.3979936490356, 7068.734593362431, 'W_023', 'P_136'], ['WarehouseToParts', 861.4134998896205, 9204.668266415556, 'W_023', 'P_045'], ['WarehouseToParts', 459.7309231752408, 5067.693116409158, 'W_023', 'P_079'], ['WarehouseToParts', 359.9413263923945, 3925.6157646079387, 'W_023', 'P_107'], ['WarehouseToParts', 287.92119275048987, 8247.370860712286, 'W_023', 'P_049'], ['WarehouseToParts', 952.9630456998414, 8608.244702021704, 'W_023', 'P_077'], ['WarehouseToParts', 200.7668193833822, 5865.052599132304, 'W_023', 'P_098'], ['WarehouseToParts', 317.38223175983865, 4982.084574114715, 'W_023', 'P_040'], ['WarehouseToParts', 374.74683744684233, 7797.36933400434, 'W_023', 'P_050'], ['WarehouseToParts', 605.3103242711747, 7987.162079786263, 'W_023', 'P_096'], ['WarehouseToParts', 670.8655223677715, 4597.289827763829, 'W_024', 'P_132'], ['WarehouseToParts', 441.2513071676328, 4830.398325240546, 'W_024', 'P_056'], ['WarehouseToParts', 461.31911430662075, 3256.4555688550317, 'W_024', 'P_115'], ['WarehouseToParts', 845.5709196824362, 7499.114641787077, 'W_024', 'P_134'], ['WarehouseToParts', 457.865758324495, 6960.564955798192, 'W_024', 'P_141'], ['WarehouseToParts', 266.7575193380248, 7314.930888156218, 'W_024', 'P_092'], ['WarehouseToParts', 976.8501725081868, 8011.326006363518, 'W_024', 'P_031'], ['WarehouseToParts', 837.7726377362992, 8467.547110778001, 'W_024', 'P_103'], ['WarehouseToParts', 204.27631291964119, 8869.845114430356, 'W_024', 'P_013'], ['WarehouseToParts', 519.1239162927242, 7550.2563986384675, 'W_024', 'P_010'], ['WarehouseToParts', 864.6341383286014, 7100.316393716996, 'W_024', 'P_034'], ['WarehouseToParts', 1178.0883454821785, 7188.5262255606385, 'W_024', 'P_138'], ['WarehouseToParts', 734.8770835149344, 283.54341729507235, 'W_024', 'P_006'], ['WarehouseToParts', 228.0952169126045, 8837.265138601404, 'W_024', 'P_125'], ['WarehouseToParts', 563.1023987473893, 5982.618845205741, 'W_025', 'P_146'], ['WarehouseToParts', 594.0983140690468, 8219.6913152667, 'W_025', 'P_141'], ['WarehouseToParts', 639.8562888261536, 6345.313249976891, 'W_025', 'P_071'], ['WarehouseToParts', 400.30173974808196, 8675.68784744192, 'W_025', 'P_007'], ['WarehouseToParts', 612.6791825446168, 2255.1792521777156, 'W_025', 'P_054'], ['WarehouseToParts', 493.58024777522667, 5571.347748448846, 'W_025', 'P_074'], ['WarehouseToParts', 991.9015611059535, 2463.499379101009, 'W_025', 'P_111'], ['WarehouseToParts', 248.0249487246244, 4425.654612655, 'W_025', 'P_046'], ['WarehouseToParts', 252.28866920377806, 215.8931755388745, 'W_026', 'P_110'], ['WarehouseToParts', 269.0666143076511, 9981.28266456127, 'W_026', 'P_084'], ['WarehouseToParts', 186.08652780981345, 4555.329749594633, 'W_026', 'P_113'], ['WarehouseToParts', 562.0553674036989, 252.57809222672583, 'W_026', 'P_018'], ['WarehouseToParts', 90.51529684075467, 8444.40039949182, 'W_026', 'P_016'], ['WarehouseToParts', 523.6199183557559, 8648.205641287777, 'W_027', 'P_030'], ['WarehouseToParts', 732.2461887137578, 4906.017237684142, 'W_027', 'P_144'], ['WarehouseToParts', 616.9397783604006, 4182.150658164255, 'W_027', 'P_004'], ['WarehouseToParts', 523.4875015414352, 2774.491763289908, 'W_028', 'P_121'], ['WarehouseToParts', 322.4287556319708, 6300.232957794002, 'W_028', 'P_135'], ['WarehouseToParts', 632.6360268208767, 5583.605653979636, 'W_028', 'P_068'], ['WarehouseToParts', 212.62645258623562, 1425.1181698077621, 'W_028', 'P_046'], ['WarehouseToParts', 724.7296592477314, 8270.466703339976, 'W_028', 'P_138'], ['WarehouseToParts', 532.4521650687939, 3716.39945922987, 'W_028', 'P_096'], ['WarehouseToParts', 186.73700350905546, 9759.075443401398, 'W_028', 'P_050'], ['WarehouseToParts', 941.1031924521675, 4377.830213705683, 'W_028', 'P_013'], ['WarehouseToParts', 177.60521472227518, 6177.410276643369, 'W_028', 'P_137'], ['WarehouseToParts', 162.6013665386277, 5873.169851495781, 'W_028', 'P_033'], ['WarehouseToParts', 1117.6588565617974, 1742.4174754885714, 'W_029', 'P_085'], ['WarehouseToParts', 277.2752247244987, 3306.3746048562566, 'W_029', 'P_043'], ['WarehouseToParts', 1046.850973111112, 6128.772307623091, 'W_029', 'P_081'], ['WarehouseToParts', 765.0256342390387, 4035.1541398848767, 'W_029', 'P_051'], ['WarehouseToParts', 669.2292930728185, 1506.8735057776319, 'W_029', 'P_067'], ['WarehouseToParts', 755.6517959483807, 3727.2696424031874, 'W_029', 'P_091'], ['WarehouseToParts', 90.4207839565327, 9580.013908659788, 'W_029', 'P_007'], ['WarehouseToParts', 251.03566638174016, 3290.0266363326127, 'W_030', 'P_113'], ['WarehouseToParts', 290.4155967997436, 1874.4492181141602, 'W_030', 'P_121'], ['WarehouseToParts', 456.6537855071793, 2951.3344570357776, 'W_030', 'P_022'], ['WarehouseToParts', 910.1582801462592, 8029.581213768921, 'W_030', 'P_032'], ['WarehouseToParts', 148.51242453471394, 4619.123996971715, 'W_031', 'P_121'], ['WarehouseToParts', 954.5013025382028, 9200.326566718068, 'W_031', 'P_045'], ['WarehouseToParts', 976.8117519763388, 2638.493239514014, 'W_031', 'P_038'], ['WarehouseToParts', 968.6477752265827, 6244.546898673189, 'W_031', 'P_021'], ['WarehouseToParts', 377.4730811899236, 6298.478584777726, 'W_031', 'P_036'], ['WarehouseToParts', 125.89107897964543, 4127.423573268749, 'W_031', 'P_076'], ['WarehouseToParts', 191.75813654976997, 1006.2105457899095, 'W_031', 'P_114'], ['WarehouseToParts', 828.0451577008596, 2906.953528323403, 'W_031', 'P_055'], ['WarehouseToParts', 307.6116593673045, 6017.079237894768, 'W_031', 'P_052'], ['WarehouseToParts', 712.3068960569451, 4144.942442843408, 'W_031', 'P_019'], ['WarehouseToParts', 765.4834764905054, 6110.927535973484, 'W_031', 'P_004'], ['WarehouseToParts', 169.05471442808036, 7093.854096248286, 'W_031', 'P_149'], ['WarehouseToParts', 234.65406369171708, 2729.198371391812, 'W_031', 'P_047'], ['WarehouseToParts', 195.6169619711216, 5859.154527193422, 'W_031', 'P_060'], ['WarehouseToParts', 549.2786502807936, 1279.3575884583984, 'W_032', 'P_086'], ['WarehouseToParts', 690.5113989463787, 6031.212448090402, 'W_032', 'P_109'], ['WarehouseToParts', 885.4520899747613, 1959.8292139480702, 'W_032', 'P_125'], ['WarehouseToParts', 599.9801719057782, 9572.908062348484, 'W_032', 'P_080'], ['WarehouseToParts', 543.3981638726658, 2861.375530004045, 'W_032', 'P_015'], ['WarehouseToParts', 463.6207669868973, 9117.586009309854, 'W_032', 'P_094'], ['WarehouseToParts', 750.7123877309753, 393.9546219484812, 'W_032', 'P_042'], ['WarehouseToParts', 181.95799106066374, 2815.3386328855986, 'W_032', 'P_150'], ['WarehouseToParts', 440.8352896045796, 1589.8241046360586, 'W_032', 'P_127'], ['WarehouseToParts', 136.7471002370121, 3420.1101803767183, 'W_032', 'P_031'], ['WarehouseToParts', 849.9860598093695, 1688.9143185911416, 'W_032', 'P_064'], ['WarehouseToParts', 564.7689291507501, 9235.434048835492, 'W_032', 'P_148'], ['WarehouseToParts', 698.8317218762232, 9811.629932947088, 'W_032', 'P_027'], ['WarehouseToParts', 706.7401417686485, 556.0649199178761, 'W_032', 'P_032'], ['WarehouseToParts', 75.30175544026707, 3999.4076929694234, 'W_032', 'P_051'], ['WarehouseToParts', 584.4100611977165, 8711.109754280405, 'W_033', 'P_121'], ['WarehouseToParts', 225.06418764623902, 3886.777272046162, 'W_033', 'P_038'], ['WarehouseToParts', 750.9649615075879, 7953.076648200216, 'W_033', 'P_131'], ['WarehouseToParts', 192.42114848096622, 5278.607593557757, 'W_033', 'P_014'], ['WarehouseToParts', 262.8067065721591, 9082.604918088226, 'W_033', 'P_075'], ['WarehouseToParts', 776.6904574080244, 7145.53668351723, 'W_033', 'P_150'], ['WarehouseToParts', 363.1094959149511, 5426.941028212763, 'W_033', 'P_110'], ['WarehouseToParts', 943.1725431689053, 9222.175202889151, 'W_033', 'P_073'], ['WarehouseToParts', 120.52780564694508, 840.3873292680189, 'W_033', 'P_100'], ['WarehouseToParts', 810.6317666088315, 4580.138283276618, 'W_033', 'P_018'], ['WarehouseToParts', 601.26401617224, 6077.283519565139, 'W_033', 'P_046'], ['WarehouseToParts', 655.0751672703435, 4061.9418595290394, 'W_033', 'P_124'], ['WarehouseToParts', 49.09536579983285, 3850.979545685927, 'W_033', 'P_072'], ['WarehouseToParts', 166.45464699757412, 6185.860642294426, 'W_033', 'P_137'], ['WarehouseToParts', 658.0555260580225, 9669.90376976755, 'W_034', 'P_055'], ['WarehouseToParts', 802.0326488813628, 446.44841752449486, 'W_034', 'P_104'], ['WarehouseToParts', 879.8097338528707, 3932.392806670785, 'W_034', 'P_134'], ['WarehouseToParts', 642.0767104489039, 282.5889549237651, 'W_034', 'P_138'], ['WarehouseToParts', 336.17687379156445, 4568.3109692782555, 'W_034', 'P_150'], ['WarehouseToParts', 1079.200608358112, 8581.998076923539, 'W_034', 'P_067'], ['WarehouseToParts', 754.2176576140077, 814.4316930519025, 'W_034', 'P_110'], ['WarehouseToParts', 351.49921788894846, 8571.506923395737, 'W_034', 'P_117'], ['WarehouseToParts', 699.9557110269429, 2216.0062289658467, 'W_034', 'P_027'], ['WarehouseToParts', 737.8542020995153, 2454.2538427966842, 'W_034', 'P_122'], ['WarehouseToParts', 445.7360598267863, 9665.074571914744, 'W_034', 'P_147'], ['WarehouseToParts', 77.09228853270109, 5385.016894382184, 'W_034', 'P_109'], ['WarehouseToParts', 166.63915323940302, 8747.046467403261, 'W_035', 'P_120'], ['WarehouseToParts', 150.43520015289795, 6784.862283555765, 'W_035', 'P_068'], ['WarehouseToParts', 406.9341452063338, 6392.5170679319135, 'W_035', 'P_089'], ['WarehouseToParts', 420.8188142368788, 1246.4916056550578, 'W_035', 'P_034'], ['WarehouseToParts', 645.3657700079084, 4895.306513951127, 'W_035', 'P_069'], ['WarehouseToParts', 83.36013556114443, 1824.8812224126289, 'W_035', 'P_109'], ['WarehouseToParts', 666.982312644437, 4924.610810337002, 'W_035', 'P_064'], ['WarehouseToParts', 102.5251415568052, 3680.6912007005335, 'W_035', 'P_054'], ['WarehouseToParts', 153.58980534436148, 7179.69108942818, 'W_035', 'P_017'], ['WarehouseToParts', 683.8980573458929, 4733.53688761936, 'W_035', 'P_071'], ['WarehouseToParts', 329.3109708893845, 4533.929943613208, 'W_035', 'P_115'], ['WarehouseToParts', 86.11352211867646, 4397.492620863329, 'W_035', 'P_094'], ['WarehouseToParts', 272.41060088249117, 7659.468986316415, 'W_035', 'P_131'], ['WarehouseToParts', 194.8716821654913, 9508.653980059935, 'W_035', 'P_047'], ['WarehouseToParts', 358.9624014093673, 8266.638451457453, 'W_035', 'P_002'], ['WarehouseToParts', 340.7838484715815, 7218.023172168431, 'W_036', 'P_015'], ['WarehouseToParts', 943.4747590399313, 4253.0432547608025, 'W_036', 'P_137'], ['WarehouseToParts', 155.46893720532574, 5782.41957632052, 'W_036', 'P_060'], ['WarehouseToParts', 442.2820326163662, 6865.440512093557, 'W_036', 'P_138'], ['WarehouseToParts', 169.5235647407959, 7238.877898859349, 'W_036', 'P_093'], ['WarehouseToParts', 627.4977228447178, 4128.427070258458, 'W_036', 'P_020'], ['WarehouseToParts', 379.61760984415156, 4305.360838522399, 'W_036', 'P_068'], ['WarehouseToParts', 260.39172299891055, 8479.885104865876, 'W_036', 'P_147'], ['WarehouseToParts', 1052.3331597020153, 411.36984523276107, 'W_036', 'P_008'], ['WarehouseToParts', 187.02720163444192, 8044.390863424588, 'W_036', 'P_083'], ['WarehouseToParts', 922.0578843099938, 9343.180207592051, 'W_037', 'P_102'], ['WarehouseToParts', 529.4065328010875, 1173.4681038409938, 'W_037', 'P_122'], ['WarehouseToParts', 442.9961300288235, 4795.070382877463, 'W_037', 'P_091'], ['WarehouseToParts', 392.1750426035979, 2623.42373246904, 'W_037', 'P_025'], ['WarehouseToParts', 196.04652007608343, 6700.2507009069805, 'W_037', 'P_006'], ['WarehouseToParts', 503.24583487643804, 7913.642393599052, 'W_037', 'P_094'], ['WarehouseToParts', 520.765725176609, 7082.077209975438, 'W_037', 'P_021'], ['WarehouseToParts', 445.71106105220906, 1532.5529780852494, 'W_037', 'P_002'], ['WarehouseToParts', 136.49161997101308, 7879.523445667627, 'W_037', 'P_113'], ['WarehouseToParts', 586.4576813635139, 7843.0394745926815, 'W_037', 'P_093'], ['WarehouseToParts', 991.6899932509332, 2002.2349078951177, 'W_038', 'P_123'], ['WarehouseToParts', 332.10668743629066, 2840.528840434281, 'W_038', 'P_102'], ['WarehouseToParts', 538.5571181363043, 7736.908061138637, 'W_038', 'P_108'], ['WarehouseToParts', 778.7672904429926, 2922.063663754365, 'W_038', 'P_019'], ['WarehouseToParts', 783.2483466671335, 7972.608422395024, 'W_038', 'P_003'], ['WarehouseToParts', 298.39387367400934, 1368.6681308829009, 'W_038', 'P_134'], ['WarehouseToParts', 723.3840990954656, 3728.1585471125486, 'W_038', 'P_140'], ['WarehouseToParts', 252.95788599332218, 3961.361592731029, 'W_038', 'P_133'], ['WarehouseToParts', 727.8804108420782, 7186.134661411754, 'W_038', 'P_130'], ['WarehouseToParts', 358.75638210042126, 2743.993177252849, 'W_038', 'P_129'], ['WarehouseToParts', 454.82497883347014, 8083.196950902859, 'W_038', 'P_127'], ['WarehouseToParts', 113.65221669330055, 3118.893951976819, 'W_038', 'P_073'], ['WarehouseToParts', 410.959098501407, 8604.123383031498, 'W_038', 'P_093'], ['WarehouseToParts', 144.23304109145386, 8474.849050309227, 'W_039', 'P_042'], ['WarehouseToParts', 288.8331856870176, 7162.998879937827, 'W_039', 'P_105'], ['WarehouseToParts', 726.3676237216426, 5821.641399770984, 'W_039', 'P_027'], ['WarehouseToParts', 159.1225158494039, 7628.306627421962, 'W_039', 'P_134'], ['WarehouseToParts', 195.6090520968651, 8153.170164935893, 'W_039', 'P_128'], ['WarehouseToParts', 937.5991844300788, 9181.182661799587, 'W_039', 'P_038'], ['WarehouseToParts', 788.6768588207684, 5614.365385360184, 'W_039', 'P_082'], ['WarehouseToParts', 672.9274102084266, 3433.63714307795, 'W_039', 'P_071'], ['WarehouseToParts', 322.4575967382855, 9762.164313473677, 'W_039', 'P_044'], ['WarehouseToParts', 182.23888689998356, 4290.574163492628, 'W_039', 'P_149'], ['WarehouseToParts', 941.805266176335, 8853.907186184433, 'W_039', 'P_079'], ['WarehouseToParts', 381.1640810934536, 6265.572919615422, 'W_039', 'P_076'], ['WarehouseToParts', 582.9041671264026, 7444.387553386951, 'W_039', 'P_125'], ['WarehouseToParts', 271.72768979399507, 8261.608026616044, 'W_039', 'P_057'], ['WarehouseToParts', 570.2905005199676, 4480.9530059986055, 'W_039', 'P_103'], ['WarehouseToParts', 529.8194406498366, 641.1956006294242, 'W_040', 'P_015'], ['WarehouseToParts', 136.4588512156622, 2203.819665384907, 'W_040', 'P_021'], ['WarehouseToParts', 701.9657675754337, 9708.004286730782, 'W_040', 'P_020'], ['WarehouseToParts', 566.9483312431818, 5499.824426224024, 'W_040', 'P_135'], ['WarehouseToParts', 713.2303858309185, 4501.072566888691, 'W_041', 'P_202'], ['WarehouseToParts', 533.1354002865636, 2758.0428826947586, 'W_041', 'P_232'], ['WarehouseToParts', 720.5582920221098, 4776.406782485942, 'W_041', 'P_217'], ['WarehouseToParts', 771.1885567011201, 3069.8315006105895, 'W_041', 'P_184'], ['WarehouseToParts', 322.854910000998, 6419.8713731658245, 'W_041', 'P_161'], ['WarehouseToParts', 334.72161846581844, 848.8985335238191, 'W_041', 'P_180'], ['WarehouseToParts', 274.95246288486425, 1662.4687528921745, 'W_041', 'P_159'], ['WarehouseToParts', 104.93840373481231, 3278.811476311845, 'W_041', 'P_227'], ['WarehouseToParts', 542.1383948332558, 4606.964184230751, 'W_041', 'P_189'], ['WarehouseToParts', 623.4366718018666, 5713.580962398857, 'W_041', 'P_208'], ['WarehouseToParts', 751.8838571116676, 3081.0466487720732, 'W_041', 'P_200'], ['WarehouseToParts', 572.5536340086742, 5885.50471686952, 'W_041', 'P_153'], ['WarehouseToParts', 671.2381390239225, 334.66948288653225, 'W_041', 'P_152'], ['WarehouseToParts', 502.58792046256343, 2640.3019588649736, 'W_042', 'P_152'], ['WarehouseToParts', 484.3024945938601, 3498.2964406584792, 'W_042', 'P_217'], ['WarehouseToParts', 752.045060991383, 3273.0759867737793, 'W_042', 'P_153'], ['WarehouseToParts', 95.12260006187377, 2696.976474989454, 'W_042', 'P_180'], ['WarehouseToParts', 1003.4290766491141, 5067.942378361772, 'W_042', 'P_173'], ['WarehouseToParts', 82.80067812666863, 6909.273241160103, 'W_042', 'P_156'], ['WarehouseToParts', 128.4052594358241, 5243.364294537464, 'W_042', 'P_250'], ['WarehouseToParts', 149.78168969826802, 8319.358604433466, 'W_042', 'P_167'], ['WarehouseToParts', 592.956843955981, 8545.758196670145, 'W_042', 'P_242'], ['WarehouseToParts', 48.29612697991146, 6054.298678648864, 'W_042', 'P_227'], ['WarehouseToParts', 1129.1307200992132, 7412.697765502692, 'W_043', 'P_195'], ['WarehouseToParts', 311.12469076288056, 9338.210760921278, 'W_043', 'P_175'], ['WarehouseToParts', 990.2143830622343, 6757.5845706525115, 'W_043', 'P_238'], ['WarehouseToParts', 521.5004044862925, 6243.131874318752, 'W_043', 'P_204'], ['WarehouseToParts', 118.61445406418808, 9842.01128852437, 'W_043', 'P_180'], ['WarehouseToParts', 481.9829633832564, 2315.141815494794, 'W_043', 'P_249'], ['WarehouseToParts', 970.8825355071033, 6240.878165668705, 'W_043', 'P_199'], ['WarehouseToParts', 167.75160424599633, 5322.592583934938, 'W_043', 'P_170'], ['WarehouseToParts', 298.92916366852376, 2024.0378582503135, 'W_043', 'P_205'], ['WarehouseToParts', 756.6609480175381, 5530.2263779436125, 'W_043', 'P_203'], ['WarehouseToParts', 507.10953731599295, 9272.050591102534, 'W_044', 'P_156'], ['WarehouseToParts', 861.6563411223696, 3022.7356928813047, 'W_044', 'P_195'], ['WarehouseToParts', 329.1506369135184, 6627.733768333265, 'W_044', 'P_180'], ['WarehouseToParts', 724.0351678951072, 1166.9028306822784, 'W_044', 'P_250'], ['WarehouseToParts', 697.7582675508046, 2676.100768393914, 'W_044', 'P_202'], ['WarehouseToParts', 805.1913229343394, 2612.821345278403, 'W_044', 'P_198'], ['WarehouseToParts', 292.4715377993761, 960.0739405977508, 'W_044', 'P_174'], ['WarehouseToParts', 897.4202548255971, 5132.873606983098, 'W_045', 'P_230'], ['WarehouseToParts', 383.5786061908136, 6608.895218491081, 'W_045', 'P_232'], ['WarehouseToParts', 289.69141794938923, 1345.5121478430674, 'W_046', 'P_223'], ['WarehouseToParts', 831.934170408527, 2567.6929978828207, 'W_046', 'P_167'], ['WarehouseToParts', 238.5439066558172, 8451.71128874652, 'W_046', 'P_211'], ['WarehouseToParts', 176.48133027789325, 2641.1243633932554, 'W_046', 'P_237'], ['WarehouseToParts', 261.76141747913545, 1368.7827349873262, 'W_046', 'P_161'], ['WarehouseToParts', 488.54404939493367, 785.1088529254151, 'W_046', 'P_170'], ['WarehouseToParts', 904.2321207924706, 7933.594909768055, 'W_046', 'P_201'], ['WarehouseToParts', 516.7520530018403, 7924.540795119092, 'W_046', 'P_158'], ['WarehouseToParts', 136.78428032858375, 6804.727653304555, 'W_046', 'P_203'], ['WarehouseToParts', 572.612910035466, 806.8847525309766, 'W_046', 'P_248'], ['WarehouseToParts', 689.2226481979382, 1688.147688263603, 'W_047', 'P_153'], ['WarehouseToParts', 254.82225008562264, 985.2809206073209, 'W_047', 'P_218'], ['WarehouseToParts', 319.1070215476258, 2922.533153045967, 'W_047', 'P_250'], ['WarehouseToParts', 560.9791160692437, 9212.933102155699, 'W_047', 'P_210'], ['WarehouseToParts', 637.6152665113433, 6130.493544434644, 'W_047', 'P_206'], ['WarehouseToParts', 1005.0695827373569, 7226.152758020436, 'W_047', 'P_213'], ['WarehouseToParts', 85.82897516526641, 1568.6239426035713, 'W_047', 'P_172'], ['WarehouseToParts', 438.53994086320347, 802.7807180213338, 'W_047', 'P_194'], ['WarehouseToParts', 736.5606931647094, 4085.6083977895287, 'W_047', 'P_167'], ['WarehouseToParts', 842.0243543055363, 4449.194650131026, 'W_047', 'P_214'], ['WarehouseToParts', 334.966012153196, 4629.49403733397, 'W_048', 'P_226'], ['WarehouseToParts', 406.1861496340187, 2445.4684095557136, 'W_048', 'P_225'], ['WarehouseToParts', 1035.0562076524518, 8978.947099446066, 'W_048', 'P_154'], ['WarehouseToParts', 598.6658222496274, 2174.250161956556, 'W_048', 'P_222'], ['WarehouseToParts', 93.64731370109469, 4412.143159313974, 'W_048', 'P_231'], ['WarehouseToParts', 848.5722688047559, 2881.3037450152106, 'W_048', 'P_249'], ['WarehouseToParts', 952.6642697922463, 6279.169400572232, 'W_048', 'P_188'], ['WarehouseToParts', 159.66886044036275, 3056.222626903175, 'W_048', 'P_203'], ['WarehouseToParts', 413.9760914901102, 6299.018949843662, 'W_048', 'P_199'], ['WarehouseToParts', 733.4286549470592, 6576.532681259625, 'W_048', 'P_151'], ['WarehouseToParts', 793.9901328898965, 4377.409747534253, 'W_048', 'P_168'], ['WarehouseToParts', 266.3507377014226, 5876.54548162325, 'W_048', 'P_247'], ['WarehouseToParts', 878.3496152761395, 7247.9531700743, 'W_048', 'P_210'], ['WarehouseToParts', 527.4684866523812, 4716.406401080911, 'W_048', 'P_194'], ['WarehouseToParts', 93.75714212690923, 9307.616263142694, 'W_048', 'P_183'], ['WarehouseToParts', 524.3760876969621, 1429.0382845242339, 'W_049', 'P_232'], ['WarehouseToParts', 398.53516181734636, 6771.362829866313, 'W_049', 'P_211'], ['WarehouseToParts', 540.4485970662915, 4923.8224822319635, 'W_049', 'P_247'], ['WarehouseToParts', 340.88539639455803, 9768.021846317262, 'W_049', 'P_237'], ['WarehouseToParts', 132.63543593703773, 4379.249274754721, 'W_049', 'P_171'], ['WarehouseToParts', 607.7725422397688, 5868.08849310294, 'W_049', 'P_219'], ['WarehouseToParts', 1009.5805443329706, 312.13674592794973, 'W_049', 'P_163'], ['WarehouseToParts', 950.2295710617078, 1969.2301371423623, 'W_049', 'P_236'], ['WarehouseToParts', 176.29821911051587, 1705.52435343589, 'W_049', 'P_186'], ['WarehouseToParts', 361.4656432759074, 2936.5991315149245, 'W_050', 'P_180'], ['WarehouseToParts', 996.3054967630445, 1342.3253625713146, 'W_050', 'P_198'], ['WarehouseToParts', 482.2420600848818, 4296.0493198412505, 'W_050', 'P_236'], ['WarehouseToParts', 977.4033490218682, 3688.7487243385253, 'W_050', 'P_227'], ['WarehouseToParts', 954.6936304042654, 5075.015424891186, 'W_050', 'P_168'], ['WarehouseToParts', 582.3749930818676, 4135.270591059172, 'W_050', 'P_204'], ['WarehouseToParts', 471.718035088876, 1388.7692590558079, 'W_050', 'P_165'], ['WarehouseToParts', 244.44872367102923, 7518.065937356437, 'W_051', 'P_249'], ['WarehouseToParts', 708.4051006836372, 6837.581527699097, 'W_051', 'P_207'], ['WarehouseToParts', 82.73119640941562, 5251.038992870005, 'W_051', 'P_178'], ['WarehouseToParts', 536.9414570161738, 6711.521259953246, 'W_051', 'P_231'], ['WarehouseToParts', 501.5086252961516, 7628.089357360246, 'W_051', 'P_223'], ['WarehouseToParts', 652.3578952909264, 5174.362847830432, 'W_051', 'P_167'], ['WarehouseToParts', 308.0617475900943, 8647.377287353836, 'W_051', 'P_165'], ['WarehouseToParts', 226.1372393214491, 6125.804439126364, 'W_052', 'P_197'], ['WarehouseToParts', 776.6335984901228, 9573.13213173455, 'W_052', 'P_215'], ['WarehouseToParts', 550.4588660046526, 1029.1402032986166, 'W_052', 'P_201'], ['WarehouseToParts', 109.13826982765953, 4529.690205558768, 'W_052', 'P_153'], ['WarehouseToParts', 153.33940879915826, 2412.310186192095, 'W_052', 'P_175'], ['WarehouseToParts', 301.75181887840563, 2082.249427385935, 'W_052', 'P_195'], ['WarehouseToParts', 565.3937028002318, 4369.070628756005, 'W_052', 'P_189'], ['WarehouseToParts', 360.74815988685543, 2566.1792207529024, 'W_052', 'P_244'], ['WarehouseToParts', 528.7217655652405, 6954.983572329486, 'W_052', 'P_156'], ['WarehouseToParts', 902.0605674429008, 1892.9225693976227, 'W_052', 'P_236'], ['WarehouseToParts', 915.2199337624742, 8860.262196501766, 'W_053', 'P_199'], ['WarehouseToParts', 340.89421353593815, 6896.245541171943, 'W_053', 'P_170'], ['WarehouseToParts', 118.28052810669423, 3873.9050213600653, 'W_054', 'P_158'], ['WarehouseToParts', 366.4243555366161, 9830.112760207077, 'W_054', 'P_235'], ['WarehouseToParts', 971.5482929317913, 8243.123739519535, 'W_054', 'P_212'], ['WarehouseToParts', 807.8054419618277, 2789.170516865544, 'W_054', 'P_202'], ['WarehouseToParts', 732.6686747823825, 8347.791290396248, 'W_054', 'P_168'], ['WarehouseToParts', 509.7219417305206, 339.7891487283879, 'W_054', 'P_240'], ['WarehouseToParts', 821.5095234419714, 2107.721020402076, 'W_054', 'P_153'], ['WarehouseToParts', 870.6936409665018, 9162.189968002189, 'W_054', 'P_198'], ['WarehouseToParts', 964.931197063865, 2774.1711315273774, 'W_054', 'P_211'], ['WarehouseToParts', 490.4708378502041, 981.7636315084641, 'W_054', 'P_193'], ['WarehouseToParts', 23.102579809764563, 4597.7711890764995, 'W_054', 'P_167'], ['WarehouseToParts', 843.2358000594343, 7780.325146344518, 'W_055', 'P_155'], ['WarehouseToParts', 751.7488133097474, 4444.820593785661, 'W_055', 'P_233'], ['WarehouseToParts', 87.92134652699308, 4423.4006251454075, 'W_055', 'P_245'], ['WarehouseToParts', 377.12671066733407, 4705.09271594714, 'W_055', 'P_208'], ['WarehouseToParts', 221.34671884846915, 2311.103647758665, 'W_055', 'P_198'], ['WarehouseToParts', 913.1778530444457, 9826.798286916242, 'W_055', 'P_188'], ['WarehouseToParts', 790.5698941250034, 3627.418572466715, 'W_055', 'P_231'], ['WarehouseToParts', 68.58677532160172, 3313.232091206521, 'W_055', 'P_153'], ['WarehouseToParts', 262.1132083266659, 1404.6105580110814, 'W_055', 'P_244'], ['WarehouseToParts', 574.6824678166755, 4442.762764140246, 'W_055', 'P_193'], ['WarehouseToParts', 779.8798659079456, 9025.9889480335, 'W_055', 'P_168'], ['WarehouseToParts', 808.5861289188406, 5418.989188866838, 'W_055', 'P_165'], ['WarehouseToParts', 633.2934837298426, 7263.329263711271, 'W_055', 'P_179'], ['WarehouseToParts', 114.57213821795271, 4723.754280939207, 'W_055', 'P_172'], ['WarehouseToParts', 945.8070349888092, 5612.2734172867995, 'W_056', 'P_207'], ['WarehouseToParts', 677.6469927342443, 4171.710031492896, 'W_056', 'P_152'], ['WarehouseToParts', 109.39670602859243, 7498.560945353094, 'W_056', 'P_171'], ['WarehouseToParts', 550.5854366611011, 8567.851432249126, 'W_056', 'P_247'], ['WarehouseToParts', 417.46448023790725, 6915.360309979484, 'W_056', 'P_200'], ['WarehouseToParts', 75.36977977592177, 5054.961498211717, 'W_057', 'P_161'], ['WarehouseToParts', 1038.0134101256713, 5119.218583885298, 'W_057', 'P_198'], ['WarehouseToParts', 850.5410973667354, 3255.470767029742, 'W_057', 'P_177'], ['WarehouseToParts', 398.1560773860857, 4492.661193094472, 'W_057', 'P_231'], ['WarehouseToParts', 232.72334326831293, 168.0106355805296, 'W_057', 'P_242'], ['WarehouseToParts', 236.20083513668777, 8224.576612875495, 'W_057', 'P_186'], ['WarehouseToParts', 845.0040422808326, 5759.779612282234, 'W_057', 'P_205'], ['WarehouseToParts', 850.7414037340882, 4391.562984090363, 'W_057', 'P_158'], ['WarehouseToParts', 666.1375542019468, 8712.118011008859, 'W_057', 'P_159'], ['WarehouseToParts', 743.3702183881637, 8138.569946328111, 'W_057', 'P_217'], ['WarehouseToParts', 204.59274698051425, 8237.439240427153, 'W_057', 'P_224'], ['WarehouseToParts', 128.463245865841, 9436.688467069866, 'W_057', 'P_160'], ['WarehouseToParts', 469.2002988465837, 7711.623953518018, 'W_057', 'P_225'], ['WarehouseToParts', 992.2786716204535, 1827.985626149846, 'W_057', 'P_194'], ['WarehouseToParts', 480.9447359285946, 8093.928199966124, 'W_057', 'P_220'], ['WarehouseToParts', 295.3417369449161, 7101.852076648205, 'W_058', 'P_208'], ['WarehouseToParts', 537.9907425341055, 8938.698819854055, 'W_058', 'P_216'], ['WarehouseToParts', 101.62291412829762, 3489.4409561156344, 'W_058', 'P_154'], ['WarehouseToParts', 153.6778515611887, 1901.431775026734, 'W_058', 'P_191'], ['WarehouseToParts', 559.2369726041239, 5385.086015853585, 'W_058', 'P_179'], ['WarehouseToParts', 727.4074542212659, 1197.5666342620952, 'W_059', 'P_174'], ['WarehouseToParts', 735.7932143721097, 3310.24457412465, 'W_059', 'P_206'], ['WarehouseToParts', 83.33482914855121, 490.76007064837665, 'W_059', 'P_167'], ['WarehouseToParts', 1079.46873112648, 2498.442102734929, 'W_059', 'P_222'], ['WarehouseToParts', 196.9974459703476, 3075.374344597366, 'W_059', 'P_235'], ['WarehouseToParts', 253.63678818700936, 9154.151264601665, 'W_059', 'P_223'], ['WarehouseToParts', 479.1281591363469, 652.3160017795489, 'W_059', 'P_217'], ['WarehouseToParts', 550.0869215305371, 6210.51508803782, 'W_059', 'P_164'], ['WarehouseToParts', 123.6621904914802, 9243.882475389515, 'W_059', 'P_240'], ['WarehouseToParts', 799.1585806533059, 6830.137972242757, 'W_059', 'P_178'], ['WarehouseToParts', 979.1553614567948, 5639.982620245985, 'W_059', 'P_242'], ['WarehouseToParts', 738.884477633254, 4315.597452215054, 'W_059', 'P_159'], ['WarehouseToParts', 792.1564135057378, 1170.2584718165324, 'W_059', 'P_201'], ['WarehouseToParts', 321.7842682332899, 6392.065265572043, 'W_059', 'P_166'], ['WarehouseToParts', 691.301689998635, 9125.642439791369, 'W_060', 'P_240'], ['WarehouseToParts', 422.9413338060231, 3817.036802824795, 'W_060', 'P_160'], ['WarehouseToParts', 650.2435420666546, 1166.6155785115275, 'W_060', 'P_246'], ['WarehouseToParts', 1013.6339695641564, 5851.906575188609, 'W_060', 'P_195'], ['WarehouseToParts', 611.4737668188737, 5706.578695958019, 'W_060', 'P_249'], ['WarehouseToParts', 124.49474059175995, 701.4696754271217, 'W_060', 'P_226'], ['WarehouseToParts', 577.9215729329524, 8827.444521520303, 'W_060', 'P_179'], ['WarehouseToParts', 260.2413905524166, 4420.489255088653, 'W_060', 'P_162'], ['WarehouseToParts', 151.26991390474785, 2654.4757085463743, 'W_060', 'P_241'], ['WarehouseToParts', 612.4156243503389, 7137.312869838381, 'W_060', 'P_250'], ['WarehouseToParts', 504.66084813530415, 6851.00079314396, 'W_060', 'P_182'], ['WarehouseToParts', 576.0478164828324, 7916.835176221726, 'W_060', 'P_224'], ['WarehouseToParts', 660.9253323798883, 2306.1855976249462, 'W_060', 'P_192'], ['WarehouseToParts', 425.04510005972816, 7284.046992564974, 'W_060', 'P_202'], ['WarehouseToParts', 891.4175087522333, 4262.702867394096, 'W_060', 'P_168'], ['WarehouseToParts', 565.804828536865, 3682.2603382235156, 'W_061', 'P_180'], ['WarehouseToParts', 302.19219173684695, 4594.952685045529, 'W_061', 'P_236'], ['WarehouseToParts', 347.24552858425625, 2161.040712143064, 'W_061', 'P_202'], ['WarehouseToParts', 249.24125214442074, 5797.412552827667, 'W_061', 'P_208'], ['WarehouseToParts', 953.1548882838463, 2815.0714831577684, 'W_061', 'P_152'], ['WarehouseToParts', 547.8568497169176, 4160.2653340423185, 'W_061', 'P_239'], ['WarehouseToParts', 327.11987283891995, 8151.415921245085, 'W_061', 'P_162'], ['WarehouseToParts', 570.3628595908327, 8231.056843339811, 'W_061', 'P_153'], ['WarehouseToParts', 575.1521433285895, 3170.4274599948644, 'W_061', 'P_231'], ['WarehouseToParts', 462.9347818457794, 2297.873283993202, 'W_061', 'P_241'], ['WarehouseToParts', 452.20595618087543, 7396.001366940397, 'W_062', 'P_196'], ['WarehouseToParts', 135.8723084935626, 5004.765721408572, 'W_062', 'P_232'], ['WarehouseToParts', 589.4342555336607, 4669.511386237053, 'W_062', 'P_187'], ['WarehouseToParts', 350.2924287597336, 1545.9801561498482, 'W_062', 'P_163'], ['WarehouseToParts', 328.7305221783802, 7602.994448906112, 'W_062', 'P_217'], ['WarehouseToParts', 546.3836063225724, 9082.94395110496, 'W_062', 'P_188'], ['WarehouseToParts', 380.89839144340607, 5067.537506904862, 'W_062', 'P_170'], ['WarehouseToParts', 1039.3901149026808, 9338.588908301766, 'W_062', 'P_206'], ['WarehouseToParts', 171.26486231920634, 3074.1475873917866, 'W_062', 'P_211'], ['WarehouseToParts', 1070.5865355048895, 5025.73480605585, 'W_062', 'P_237'], ['WarehouseToParts', 172.32053136531218, 7719.84964577769, 'W_062', 'P_195'], ['WarehouseToParts', 957.6708298782875, 6947.000272664642, 'W_062', 'P_223'], ['WarehouseToParts', 256.0452827957148, 8869.86980566302, 'W_062', 'P_214'], ['WarehouseToParts', 290.1682772991731, 2892.3270217865447, 'W_062', 'P_210'], ['WarehouseToParts', 472.76827887376504, 5287.392647277231, 'W_062', 'P_216'], ['WarehouseToParts', 565.7315242493269, 3111.2446198462126, 'W_063', 'P_165'], ['WarehouseToParts', 580.0430867658308, 9926.95548761292, 'W_063', 'P_242'], ['WarehouseToParts', 80.39837850523578, 856.9413791313409, 'W_063', 'P_212'], ['WarehouseToParts', 535.5507632090475, 8974.697172372596, 'W_063', 'P_234'], ['WarehouseToParts', 331.7603638994619, 7053.603355960511, 'W_063', 'P_235'], ['WarehouseToParts', 574.193799879715, 6896.877046113783, 'W_063', 'P_188'], ['WarehouseToParts', 305.7969883771945, 3365.59398035437, 'W_063', 'P_195'], ['WarehouseToParts', 651.6711416681813, 9177.266804414965, 'W_063', 'P_194'], ['WarehouseToParts', 166.0614733096379, 6809.282009282624, 'W_063', 'P_238'], ['WarehouseToParts', 220.58213267709954, 5921.000109079605, 'W_063', 'P_182'], ['WarehouseToParts', 633.2172928521013, 2140.9064116384543, 'W_064', 'P_237'], ['WarehouseToParts', 1135.8064082969527, 4564.105997193327, 'W_064', 'P_227'], ['WarehouseToParts', 481.3754390475254, 9152.3124833981, 'W_064', 'P_210'], ['WarehouseToParts', 887.5976917355888, 2562.7810599035924, 'W_064', 'P_216'], ['WarehouseToParts', 605.297937457493, 7436.903258062854, 'W_064', 'P_229'], ['WarehouseToParts', 731.7391440067726, 8648.527440481706, 'W_064', 'P_177'], ['WarehouseToParts', 692.6565912379028, 5833.828972974027, 'W_064', 'P_243'], ['WarehouseToParts', 425.53502948170126, 2765.3209117967826, 'W_064', 'P_244'], ['WarehouseToParts', 528.0006485547458, 400.6681114816672, 'W_064', 'P_158'], ['WarehouseToParts', 192.07357761621103, 6439.885947473288, 'W_064', 'P_203'], ['WarehouseToParts', 314.5572446557317, 3876.219277452458, 'W_064', 'P_180'], ['WarehouseToParts', 158.27259228561616, 7440.600350467403, 'W_064', 'P_208'], ['WarehouseToParts', 848.565600096926, 2336.634756634033, 'W_064', 'P_196'], ['WarehouseToParts', 351.3354819320485, 6483.238093002477, 'W_064', 'P_212'], ['WarehouseToParts', 223.7245890296779, 6737.789716930891, 'W_064', 'P_238'], ['WarehouseToParts', 103.42946714065894, 3583.435563768335, 'W_065', 'P_182'], ['WarehouseToParts', 754.200885445528, 2128.33828824743, 'W_065', 'P_249'], ['WarehouseToParts', 228.02727403208726, 6908.544312638807, 'W_065', 'P_154'], ['WarehouseToParts', 430.46560225669833, 2044.008494320514, 'W_065', 'P_174'], ['WarehouseToParts', 310.43573012904596, 8932.697113836044, 'W_065', 'P_177'], ['WarehouseToParts', 511.038129987143, 2434.7765826120376, 'W_065', 'P_171'], ['WarehouseToParts', 305.75665912562494, 8487.239592653348, 'W_065', 'P_197'], ['WarehouseToParts', 830.1513985982341, 993.7570826769734, 'W_065', 'P_214'], ['WarehouseToParts', 544.7200779316497, 149.57762087100537, 'W_066', 'P_201'], ['WarehouseToParts', 254.85015900033383, 9970.96590572916, 'W_066', 'P_222'], ['WarehouseToParts', 690.0688299051332, 3321.770965560496, 'W_066', 'P_232'], ['WarehouseToParts', 132.8791591321061, 7324.166696262015, 'W_066', 'P_216'], ['WarehouseToParts', 256.08226872485966, 125.79657589742547, 'W_066', 'P_163'], ['WarehouseToParts', 562.4168757964937, 7411.564655285086, 'W_067', 'P_184'], ['WarehouseToParts', 266.3811505573691, 5415.806115693529, 'W_067', 'P_228'], ['WarehouseToParts', 182.22414940368733, 2302.683310007934, 'W_067', 'P_248'], ['WarehouseToParts', 198.21618595441433, 8054.069398132373, 'W_067', 'P_227'], ['WarehouseToParts', 198.50037810467393, 9149.798599828284, 'W_067', 'P_246'], ['WarehouseToParts', 474.0130663383324, 2779.638514021876, 'W_068', 'P_229'], ['WarehouseToParts', 961.967497134444, 7406.737059476354, 'W_068', 'P_250'], ['WarehouseToParts', 449.42935503822844, 3635.301296836106, 'W_068', 'P_218'], ['WarehouseToParts', 577.5611172417921, 2818.823256054326, 'W_068', 'P_161'], ['WarehouseToParts', 652.5203009394229, 1263.1055363057376, 'W_068', 'P_167'], ['WarehouseToParts', 287.54620274595607, 9152.773480547556, 'W_069', 'P_154'], ['WarehouseToParts', 736.467373303139, 8564.051318641088, 'W_069', 'P_173'], ['WarehouseToParts', 937.8891915209001, 6104.193658916237, 'W_069', 'P_151'], ['WarehouseToParts', 668.5443922348323, 2809.2282201963203, 'W_069', 'P_242'], ['WarehouseToParts', 862.527320324863, 1375.5177495975, 'W_069', 'P_226'], ['WarehouseToParts', 530.274974845855, 335.84659888577016, 'W_069', 'P_175'], ['WarehouseToParts', 923.9208494825034, 6890.3003285789055, 'W_069', 'P_230'], ['WarehouseToParts', 50.879293280054995, 2790.576300889137, 'W_069', 'P_202'], ['WarehouseToParts', 466.2420624302519, 9896.913267979407, 'W_069', 'P_158'], ['WarehouseToParts', 364.9463666444122, 3214.4626117017883, 'W_069', 'P_187'], ['WarehouseToParts', 66.03387692083065, 8255.79578465133, 'W_070', 'P_187'], ['WarehouseToParts', 1023.8601198197703, 4156.528099073888, 'W_070', 'P_176'], ['WarehouseToParts', 423.2520407880235, 7432.930261271324, 'W_070', 'P_240'], ['WarehouseToParts', 78.40380322186579, 9699.290035670754, 'W_070', 'P_236'], ['WarehouseToParts', 52.46878650025474, 6160.7015302722575, 'W_070', 'P_156'], ['WarehouseToParts', 673.2783127372553, 1339.120521290697, 'W_070', 'P_193'], ['WarehouseToParts', 259.8204185200975, 5201.394297428737, 'W_070', 'P_197'], ['WarehouseToParts', 720.6370711653442, 106.24685487864522, 'W_070', 'P_159'], ['WarehouseToParts', 565.5173644490465, 9489.547400684694, 'W_070', 'P_206'], ['WarehouseToParts', 790.0286463538588, 4954.472330090988, 'W_070', 'P_170'], ['WarehouseToParts', 116.10444118680158, 2778.245061094974, 'W_071', 'P_184'], ['WarehouseToParts', 778.1521084213477, 7955.769401621801, 'W_071', 'P_172'], ['WarehouseToParts', 708.737329119065, 4603.49343378682, 'W_071', 'P_217'], ['WarehouseToParts', 455.9870286453529, 3791.379588578252, 'W_071', 'P_215'], ['WarehouseToParts', 1010.1749034795549, 2628.828184988064, 'W_071', 'P_221'], ['WarehouseToParts', 311.2652880993318, 3450.75671351981, 'W_071', 'P_200'], ['WarehouseToParts', 490.42605046053416, 2331.9782076370725, 'W_071', 'P_198'], ['WarehouseToParts', 434.2539065735629, 3762.4580895786935, 'W_072', 'P_179'], ['WarehouseToParts', 733.5123778243229, 6535.664395402587, 'W_072', 'P_197'], ['WarehouseToParts', 214.07262488219325, 2477.0563644973286, 'W_072', 'P_193'], ['WarehouseToParts', 334.49571538043887, 7736.533249569628, 'W_072', 'P_163'], ['WarehouseToParts', 787.0439417442703, 7826.283457225213, 'W_072', 'P_217'], ['WarehouseToParts', 759.7463918750383, 9922.637269125371, 'W_072', 'P_248'], ['WarehouseToParts', 399.4174432354387, 8996.312146953118, 'W_072', 'P_188'], ['WarehouseToParts', 926.4325505676027, 6691.216698393197, 'W_072', 'P_232'], ['WarehouseToParts', 862.2427691667807, 8154.429415343976, 'W_072', 'P_199'], ['WarehouseToParts', 166.24317517030696, 6897.083442514313, 'W_072', 'P_249'], ['WarehouseToParts', 556.4099249206555, 8428.94824971823, 'W_072', 'P_185'], ['WarehouseToParts', 722.6755259478011, 4159.956054321336, 'W_072', 'P_168'], ['WarehouseToParts', 105.40548904485136, 5138.671951753505, 'W_072', 'P_233'], ['WarehouseToParts', 844.5565961686947, 7321.694263671425, 'W_072', 'P_183'], ['WarehouseToParts', 517.0523278021406, 1031.100261232761, 'W_072', 'P_158'], ['WarehouseToParts', 608.0506014603126, 2615.039672600202, 'W_073', 'P_182'], ['WarehouseToParts', 773.2603983007889, 4736.474031609788, 'W_073', 'P_238'], ['WarehouseToParts', 788.3705273829178, 713.1318024447987, 'W_074', 'P_152'], ['WarehouseToParts', 286.2205366377789, 827.6286404520099, 'W_074', 'P_209'], ['WarehouseToParts', 756.284293616093, 9886.187159801473, 'W_074', 'P_163'], ['WarehouseToParts', 868.4612753021246, 9413.886617308788, 'W_074', 'P_188'], ['WarehouseToParts', 799.8897896447551, 2763.0756763033996, 'W_074', 'P_201'], ['WarehouseToParts', 128.48901186262603, 1935.6914442147277, 'W_074', 'P_151'], ['WarehouseToParts', 780.5920172582934, 2108.696373675205, 'W_074', 'P_216'], ['WarehouseToParts', 350.3676308683455, 6527.922590430856, 'W_074', 'P_245'], ['WarehouseToParts', 240.4896998354352, 6015.94592552123, 'W_074', 'P_241'], ['WarehouseToParts', 293.9682314755702, 1774.0340390291128, 'W_074', 'P_167'], ['WarehouseToParts', 164.33548571841757, 3201.648205732842, 'W_074', 'P_176'], ['WarehouseToParts', 906.6466552793519, 5110.436009297765, 'W_074', 'P_232'], ['WarehouseToParts', 542.979978232905, 8113.011620413513, 'W_074', 'P_172'], ['WarehouseToParts', 460.4859814233021, 5512.426855946326, 'W_074', 'P_203'], ['WarehouseToParts', 62.611817969106426, 2045.317363968242, 'W_074', 'P_154'], ['WarehouseToParts', 839.7095422038933, 2728.923430301827, 'W_075', 'P_176'], ['WarehouseToParts', 225.8213002887547, 960.3884353304851, 'W_075', 'P_205'], ['WarehouseToParts', 297.3316126227143, 5896.4777187134105, 'W_075', 'P_209'], ['WarehouseToParts', 530.8797698421932, 897.7879919781362, 'W_075', 'P_243'], ['WarehouseToParts', 500.5712594098426, 5655.53278698727, 'W_075', 'P_226'], ['WarehouseToParts', 676.449399959481, 3931.9425487528774, 'W_076', 'P_197'], ['WarehouseToParts', 865.8367480566793, 6549.480940864674, 'W_076', 'P_214'], ['WarehouseToParts', 256.6515463651307, 1111.1931234596955, 'W_076', 'P_154'], ['WarehouseToParts', 259.4322825599914, 456.63496617100026, 'W_076', 'P_199'], ['WarehouseToParts', 231.84059686526552, 4158.5473730734175, 'W_076', 'P_182'], ['WarehouseToParts', 830.8889566009435, 6556.941600823095, 'W_076', 'P_183'], ['WarehouseToParts', 913.0537452099802, 3419.439520634378, 'W_077', 'P_198'], ['WarehouseToParts', 922.7811779360908, 8794.756439542281, 'W_077', 'P_166'], ['WarehouseToParts', 277.21105667830875, 9825.242156873854, 'W_077', 'P_155'], ['WarehouseToParts', 847.1661120299793, 9486.058656892103, 'W_077', 'P_169'], ['WarehouseToParts', 415.2066728801693, 3483.504833710687, 'W_077', 'P_156'], ['WarehouseToParts', 369.68870583604524, 6273.610733979165, 'W_078', 'P_215'], ['WarehouseToParts', 123.23512975583938, 6458.7517822269465, 'W_078', 'P_196'], ['WarehouseToParts', 848.0817020007703, 9138.176934293755, 'W_078', 'P_229'], ['WarehouseToParts', 571.649790922502, 7225.392718925946, 'W_078', 'P_183'], ['WarehouseToParts', 709.840837302006, 5936.923982075158, 'W_078', 'P_163'], ['WarehouseToParts', 229.10376443966, 8131.237323181006, 'W_078', 'P_242'], ['WarehouseToParts', 751.4927290046037, 8933.439063677894, 'W_078', 'P_204'], ['WarehouseToParts', 227.54180218864838, 7252.974338087983, 'W_078', 'P_223'], ['WarehouseToParts', 275.75303775254275, 5871.032996891073, 'W_079', 'P_173'], ['WarehouseToParts', 178.68441005921036, 5344.933459652595, 'W_079', 'P_161'], ['WarehouseToParts', 831.1017780303216, 3533.0473783773236, 'W_079', 'P_212'], ['WarehouseToParts', 690.9051521370087, 726.6312816972605, 'W_079', 'P_196'], ['WarehouseToParts', 404.8599142908178, 4037.7357834308364, 'W_080', 'P_241'], ['WarehouseToParts', 782.1866691948669, 8325.043340646365, 'W_080', 'P_195'], ['WarehouseToParts', 230.32614065821784, 4162.35206027823, 'W_080', 'P_211'], ['WarehouseToParts', 130.90340761561475, 1167.1848910093718, 'W_080', 'P_209'], ['WarehouseToParts', 675.9092366597167, 2810.6645646705524, 'W_080', 'P_160'], ['WarehouseToParts', 622.9843952719277, 1999.8790171555186, 'W_080', 'P_226'], ['WarehouseToParts', 506.81298399788886, 6986.252095251874, 'W_080', 'P_157'], ['WarehouseToParts', 456.8920988052943, 927.695637128878, 'W_080', 'P_245'], ['WarehouseToParts', 476.8778481386272, 3938.7772854132113, 'W_080', 'P_189'], ['WarehouseToParts', 760.856657937983, 111.10760414028682, 'W_080', 'P_231'], ['WarehouseToParts', 750.4187689219816, 122.90594422999027, 'W_080', 'P_223'], ['WarehouseToParts', 282.63061462543743, 5469.9180069244285, 'W_080', 'P_224'], ['WarehouseToParts', 136.07439822192634, 531.8203153632485, 'W_080', 'P_202'], ['WarehouseToParts', 778.555973451582, 8575.783408701856, 'W_081', 'P_237'], ['WarehouseToParts', 869.9087668271076, 7016.617280017357, 'W_081', 'P_165'], ['WarehouseToParts', 568.7715880769639, 5163.646804576778, 'W_081', 'P_178'], ['WarehouseToParts', 492.7792921165725, 9468.239322331785, 'W_081', 'P_228'], ['WarehouseToParts', 972.1170735060965, 219.53667609377698, 'W_081', 'P_209'], ['WarehouseToParts', 469.8906059224293, 1480.9763667764744, 'W_081', 'P_243'], ['WarehouseToParts', 810.3721057764257, 5724.840804849853, 'W_081', 'P_155'], ['WarehouseToParts', 330.34806334225254, 8111.064368798628, 'W_081', 'P_208'], ['WarehouseToParts', 257.40786962934504, 8309.274845568674, 'W_081', 'P_214'], ['WarehouseToParts', 316.44422263156076, 6786.429545194567, 'W_081', 'P_231'], ['WarehouseToParts', 115.07704779840947, 4986.8372630946, 'W_081', 'P_244'], ['WarehouseToParts', 528.1532663415095, 7902.632416694653, 'W_081', 'P_217'], ['WarehouseToParts', 911.562471855607, 7349.604732746994, 'W_081', 'P_175'], ['WarehouseToParts', 66.65071340394496, 2033.6116963063348, 'W_081', 'P_157'], ['WarehouseToParts', 1142.2765135634102, 1804.3713972843277, 'W_082', 'P_192'], ['WarehouseToParts', 714.9399818678843, 3548.2342429299642, 'W_082', 'P_234'], ['WarehouseToParts', 264.11065169146394, 2915.6293643028725, 'W_082', 'P_151'], ['WarehouseToParts', 828.9231147605695, 9865.267204099917, 'W_083', 'P_179'], ['WarehouseToParts', 101.26606013233058, 3868.1842286422257, 'W_083', 'P_229'], ['WarehouseToParts', 88.72739359890657, 4297.06752503186, 'W_083', 'P_209'], ['WarehouseToParts', 913.2469555766157, 9100.044765159912, 'W_083', 'P_177'], ['WarehouseToParts', 669.736458218045, 2708.9634050597333, 'W_083', 'P_184'], ['WarehouseToParts', 323.32404666829575, 9171.569270612075, 'W_083', 'P_214'], ['WarehouseToParts', 233.63726672716624, 610.5827703249935, 'W_083', 'P_240'], ['WarehouseToParts', 840.0326347285319, 7876.657946459724, 'W_083', 'P_244'], ['WarehouseToParts', 267.5591449122655, 5102.724158697153, 'W_083', 'P_178'], ['WarehouseToParts', 281.2028790059531, 6681.815614480351, 'W_083', 'P_154'], ['WarehouseToParts', 604.5728744014704, 2260.2628280124477, 'W_083', 'P_197'], ['WarehouseToParts', 467.79303573631955, 6981.014760471249, 'W_083', 'P_243'], ['WarehouseToParts', 415.9052078194345, 2756.6580749773984, 'W_083', 'P_218'], ['WarehouseToParts', 155.97583744053844, 5331.5548191676735, 'W_083', 'P_246'], ['WarehouseToParts', 694.9369178311135, 2295.576823492958, 'W_084', 'P_177'], ['WarehouseToParts', 136.07867162025985, 6239.473227936305, 'W_084', 'P_225'], ['WarehouseToParts', 687.9605828553945, 3859.8682380519717, 'W_084', 'P_152'], ['WarehouseToParts', 119.35630925769257, 4120.885091492914, 'W_084', 'P_204'], ['WarehouseToParts', 176.2787872079341, 5403.213805592268, 'W_084', 'P_234'], ['WarehouseToParts', 56.17699795059191, 9326.878549475634, 'W_084', 'P_237'], ['WarehouseToParts', 223.41648233171134, 5839.2472573597315, 'W_084', 'P_245'], ['WarehouseToParts', 1075.5384265250118, 4988.2843027499275, 'W_084', 'P_217'], ['WarehouseToParts', 89.79630038788329, 7366.794575367571, 'W_084', 'P_231'], ['WarehouseToParts', 273.67480641545365, 2277.582301588056, 'W_084', 'P_162'], ['WarehouseToParts', 729.700329365852, 5485.682353895185, 'W_084', 'P_197'], ['WarehouseToParts', 1055.554116609285, 2176.878852702836, 'W_084', 'P_153'], ['WarehouseToParts', 581.0731871585483, 9167.989200271328, 'W_084', 'P_205'], ['WarehouseToParts', 508.95622540238924, 5265.049426425641, 'W_084', 'P_157'], ['WarehouseToParts', 251.76755873866176, 3842.0256139485086, 'W_084', 'P_242'], ['WarehouseToParts', 1130.9649673524957, 5879.745760383361, 'W_085', 'P_199'], ['WarehouseToParts', 382.30952982554106, 7650.206712980354, 'W_085', 'P_237'], ['WarehouseToParts', 787.5330824796405, 3698.89654488988, 'W_085', 'P_154'], ['WarehouseToParts', 55.96323704128391, 4877.430169139014, 'W_085', 'P_188'], ['WarehouseToParts', 90.90782745374243, 6015.489791511621, 'W_086', 'P_199'], ['WarehouseToParts', 118.62224624144478, 4552.887206539791, 'W_086', 'P_228'], ['WarehouseToParts', 504.7876029419387, 6176.9181766923775, 'W_086', 'P_206'], ['WarehouseToParts', 64.74826703377555, 6887.969482500254, 'W_086', 'P_186'], ['WarehouseToParts', 402.96151468486715, 5410.502329561139, 'W_086', 'P_234'], ['WarehouseToParts', 540.8258003137147, 248.6865283706252, 'W_086', 'P_174'], ['WarehouseToParts', 627.0031145434232, 7663.0525118373425, 'W_086', 'P_184'], ['WarehouseToParts', 755.698583447436, 8110.601035226214, 'W_086', 'P_172'], ['WarehouseToParts', 209.7601917160079, 5651.92437977888, 'W_086', 'P_233'], ['WarehouseToParts', 782.2871373790344, 7293.196997035395, 'W_086', 'P_155'], ['WarehouseToParts', 915.8482009496504, 6902.004169814369, 'W_087', 'P_187'], ['WarehouseToParts', 445.6685099474744, 1087.843660586412, 'W_087', 'P_215'], ['WarehouseToParts', 1015.1714307714198, 7637.611796534503, 'W_087', 'P_192'], ['WarehouseToParts', 204.60890174296412, 2683.251254993612, 'W_087', 'P_180'], ['WarehouseToParts', 226.01361956858173, 5371.949546596849, 'W_088', 'P_213'], ['WarehouseToParts', 341.92268308159674, 1105.5188548236733, 'W_088', 'P_180'], ['WarehouseToParts', 976.6944786269461, 8523.673016003544, 'W_088', 'P_232'], ['WarehouseToParts', 167.34972892758825, 955.015905267571, 'W_088', 'P_233'], ['WarehouseToParts', 941.7483066535801, 8097.91113241408, 'W_089', 'P_214'], ['WarehouseToParts', 57.94780810670956, 2238.990824251928, 'W_089', 'P_213'], ['WarehouseToParts', 402.9681074627448, 1375.6372225279667, 'W_089', 'P_160'], ['WarehouseToParts', 77.61810751983123, 116.95331584639379, 'W_089', 'P_170'], ['WarehouseToParts', 989.8676366008348, 1146.1725215907982, 'W_089', 'P_166'], ['WarehouseToParts', 815.1983255870036, 1428.5818227775849, 'W_089', 'P_245'], ['WarehouseToParts', 995.4310183890793, 1708.8409108638741, 'W_089', 'P_186'], ['WarehouseToParts', 721.4441530236342, 279.42906991275026, 'W_089', 'P_243'], ['WarehouseToParts', 680.4142216640172, 9340.082381615153, 'W_089', 'P_204'], ['WarehouseToParts', 707.6177937755192, 1804.841094877702, 'W_089', 'P_188'], ['WarehouseToParts', 1127.9884058296743, 6160.063477730424, 'W_089', 'P_223'], ['WarehouseToParts', 6.28376423199262, 7839.432053304351, 'W_089', 'P_211'], ['WarehouseToParts', 791.6047959940312, 7320.613392582583, 'W_090', 'P_162'], ['WarehouseToParts', 292.01057293535445, 3368.4800887875185, 'W_090', 'P_181'], ['WarehouseToParts', 90.18920993933813, 521.7045953883983, 'W_090', 'P_218'], ['WarehouseToParts', 163.55388595987236, 7793.285764652483, 'W_090', 'P_214'], ['WarehouseToParts', 629.1327843021805, 7686.466165920749, 'W_090', 'P_172'], ['WarehouseToParts', 704.7537617095077, 4271.663941674286, 'W_090', 'P_231'], ['WarehouseToParts', 126.2098033577219, 9726.96205974731, 'W_090', 'P_219'], ['WarehouseToParts', 201.87813140784687, 7009.655623357717, 'W_090', 'P_192'], ['WarehouseToParts', 520.0030836994016, 1571.4822430114114, 'W_091', 'P_186'], ['WarehouseToParts', 278.73774868761865, 1154.8530432716757, 'W_091', 'P_166'], ['WarehouseToParts', 693.5226427244554, 330.09682639597867, 'W_091', 'P_235'], ['WarehouseToParts', 694.2545233169474, 4517.714902078447, 'W_091', 'P_172'], ['WarehouseToParts', 196.93881266259226, 6288.523596217708, 'W_091', 'P_169'], ['WarehouseToParts', 766.2503438836936, 297.8862443368285, 'W_091', 'P_163'], ['WarehouseToParts', 162.64005489277747, 1434.3661369077329, 'W_091', 'P_220'], ['WarehouseToParts', 1100.750556258501, 7033.076724984491, 'W_091', 'P_207'], ['WarehouseToParts', 487.12105651353244, 7173.63190271174, 'W_091', 'P_203'], ['WarehouseToParts', 414.59655794330945, 5592.277549732538, 'W_091', 'P_243'], ['WarehouseToParts', 220.43853180157612, 8106.436085043597, 'W_091', 'P_198'], ['WarehouseToParts', 269.09243840416946, 3074.962085230228, 'W_091', 'P_152'], ['WarehouseToParts', 427.20419454891925, 7823.068599926724, 'W_091', 'P_250'], ['WarehouseToParts', 328.3509492046169, 605.7383186485367, 'W_091', 'P_191'], ['WarehouseToParts', 217.1784592781475, 9949.72852251143, 'W_091', 'P_189'], ['WarehouseToParts', 955.6503742347686, 2439.3656888807136, 'W_092', 'P_157'], ['WarehouseToParts', 907.4314635587854, 1668.383885835121, 'W_092', 'P_245'], ['WarehouseToParts', 423.77182120549605, 7060.162890050414, 'W_092', 'P_211'], ['WarehouseToParts', 49.980646931526664, 4008.4670725976957, 'W_092', 'P_247'], ['WarehouseToParts', 911.9389589559198, 2134.0018522274904, 'W_093', 'P_152'], ['WarehouseToParts', 418.0113894042252, 5890.885644213567, 'W_093', 'P_190'], ['WarehouseToParts', 289.5075236609243, 8050.7024115911745, 'W_093', 'P_217'], ['WarehouseToParts', 678.3862028370279, 8263.871347533619, 'W_093', 'P_216'], ['WarehouseToParts', 972.2311551978995, 9829.97932820746, 'W_093', 'P_215'], ['WarehouseToParts', 682.5679495907156, 1153.314580308805, 'W_093', 'P_170'], ['WarehouseToParts', 196.2416210853444, 5061.785452973229, 'W_093', 'P_206'], ['WarehouseToParts', 259.99526735791244, 1509.5235349035165, 'W_093', 'P_247'], ['WarehouseToParts', 547.9734259318428, 9116.08484616888, 'W_093', 'P_156'], ['WarehouseToParts', 444.7831801981269, 7317.877984758402, 'W_093', 'P_191'], ['WarehouseToParts', 337.12450851321796, 1770.4211190379197, 'W_093', 'P_242'], ['WarehouseToParts', 250.96381596858217, 1881.556294391812, 'W_093', 'P_225'], ['WarehouseToParts', 297.9821734356722, 7517.849889326738, 'W_093', 'P_231'], ['WarehouseToParts', 479.4568244499816, 7718.0194378058595, 'W_093', 'P_183'], ['WarehouseToParts', 69.21031214007337, 8921.733176949265, 'W_093', 'P_194'], ['WarehouseToParts', 707.1004891162992, 4236.437180501421, 'W_094', 'P_215'], ['WarehouseToParts', 586.0455578075462, 3248.0671690373474, 'W_094', 'P_219'], ['WarehouseToParts', 728.370351029034, 4610.858719067966, 'W_094', 'P_173'], ['WarehouseToParts', 718.0978037919284, 3488.957264224885, 'W_094', 'P_206'], ['WarehouseToParts', 805.8335879992761, 2315.823915894303, 'W_094', 'P_197'], ['WarehouseToParts', 281.4817202074931, 6932.794699577501, 'W_094', 'P_200'], ['WarehouseToParts', 237.1753270443349, 8493.516686800238, 'W_094', 'P_229'], ['WarehouseToParts', 770.2602910401972, 3447.2763190134983, 'W_095', 'P_154'], ['WarehouseToParts', 993.4063076590679, 1241.4262990809696, 'W_095', 'P_161'], ['WarehouseToParts', 446.20787820128896, 7941.982840523909, 'W_095', 'P_201'], ['WarehouseToParts', 538.7892140653901, 6699.9246418197445, 'W_095', 'P_203'], ['WarehouseToParts', 556.4408745182235, 3793.5565295605525, 'W_095', 'P_177'], ['WarehouseToParts', 668.5460250505088, 6491.7412522249315, 'W_095', 'P_242'], ['WarehouseToParts', 132.7451525529365, 4417.2989670798, 'W_095', 'P_164'], ['WarehouseToParts', 690.2306453697389, 6187.284845431543, 'W_095', 'P_214'], ['WarehouseToParts', 75.20268116137306, 7453.613788568569, 'W_095', 'P_183'], ['WarehouseToParts', 486.95449485603126, 4354.382823754145, 'W_095', 'P_235'], ['WarehouseToParts', 338.7150366699091, 7543.480442616048, 'W_095', 'P_208'], ['WarehouseToParts', 782.6034159044633, 1449.3783329165371, 'W_095', 'P_224'], ['WarehouseToParts', 71.04824236046635, 5205.677204327852, 'W_095', 'P_188'], ['WarehouseToParts', 511.5898823091449, 5414.019303485665, 'W_095', 'P_204'], ['WarehouseToParts', 366.840799747319, 1404.9923498812368, 'W_095', 'P_228'], ['WarehouseToParts', 921.2572156376866, 4296.1660362651355, 'W_096', 'P_154'], ['WarehouseToParts', 859.3575085615055, 4104.140423105871, 'W_096', 'P_160'], ['WarehouseToParts', 496.918604005457, 3008.130442674427, 'W_096', 'P_185'], ['WarehouseToParts', 826.316442339188, 9818.831462824948, 'W_096', 'P_166'], ['WarehouseToParts', 348.4898126332863, 5388.500437811389, 'W_096', 'P_179'], ['WarehouseToParts', 855.5879616505948, 2553.3322838561926, 'W_096', 'P_207'], ['WarehouseToParts', 930.1443476963422, 4252.300550680044, 'W_096', 'P_188'], ['WarehouseToParts', 692.6962590421027, 1486.0966464136645, 'W_096', 'P_231'], ['WarehouseToParts', 69.86311299905749, 8704.559835237462, 'W_096', 'P_180'], ['WarehouseToParts', 291.1419129491286, 2001.7691952544003, 'W_096', 'P_176'], ['WarehouseToParts', 729.581151674177, 2188.632233805533, 'W_096', 'P_206'], ['WarehouseToParts', 425.5668545173785, 5989.174234148133, 'W_096', 'P_159'], ['WarehouseToParts', 1066.8729649739207, 7042.644857261033, 'W_097', 'P_156'], ['WarehouseToParts', 988.9107975818175, 4888.895806909793, 'W_097', 'P_225'], ['WarehouseToParts', 265.5928567062252, 2786.6571052089485, 'W_097', 'P_221'], ['WarehouseToParts', 399.8098938186225, 4248.805087352452, 'W_097', 'P_155'], ['WarehouseToParts', 829.7185264086777, 2065.3485257181396, 'W_097', 'P_153'], ['WarehouseToParts', 227.770780006994, 3191.3963769059787, 'W_097', 'P_195'], ['WarehouseToParts', 640.799888706584, 4962.581508214588, 'W_097', 'P_220'], ['WarehouseToParts', 677.2327597010683, 1117.1229624477478, 'W_097', 'P_210'], ['WarehouseToParts', 410.15892716216365, 133.87977450604401, 'W_097', 'P_176'], ['WarehouseToParts', 758.6919945286572, 6073.060436491703, 'W_097', 'P_163'], ['WarehouseToParts', 584.6215931549324, 1041.8350251775882, 'W_097', 'P_167'], ['WarehouseToParts', 121.86938286826897, 7065.577500876224, 'W_097', 'P_216'], ['WarehouseToParts', 736.4109851462192, 6351.677680271462, 'W_098', 'P_175'], ['WarehouseToParts', 653.6285039023336, 8675.832540305324, 'W_098', 'P_214'], ['WarehouseToParts', 897.4826579259479, 7052.714643576345, 'W_099', 'P_215'], ['WarehouseToParts', 210.27378759475903, 1564.3056626016273, 'W_099', 'P_193'], ['WarehouseToParts', 109.81301202199737, 3570.794037258091, 'W_100', 'P_197'], ['WarehouseToParts', 435.7991591417636, 4163.559408367195, 'W_100', 'P_221'], ['WarehouseToParts', 844.0697855351915, 4972.21110398686, 'W_100', 'P_176'], ['WarehouseToParts', 206.04532170393975, 3763.30236104253, 'W_100', 'P_166'], ['WarehouseToParts', 740.6941585521843, 9458.11823809794, 'W_100', 'P_185'], ['WarehouseToParts', 129.39513067468587, 3645.7118377577717, 'W_100', 'P_204'], ['WarehouseToParts', 291.9261098945197, 4591.881214048711, 'W_100', 'P_208'], ['WarehouseToParts', 467.34661649687445, 5598.686237470133, 'W_100', 'P_215'], ['WarehouseToParts', 555.5284361426151, 8014.198062616641, 'W_100', 'P_248'], ['WarehouseToParts', 689.1580958691471, 4572.238769804653, 'W_100', 'P_245'], ['WarehouseToParts', 149.59610427575248, 2588.3822639091172, 'W_100', 'P_189'], ['WarehouseToParts', 390.6266823763873, 8088.676738405009, 'W_100', 'P_165'], ['WarehouseToParts', 565.7858351849113, 263.1874847682261, 'W_100', 'P_240'], ['WarehouseToParts', 409.5352746719585, 5047.754852787438, 'W_100', 'P_200'], ['WarehouseToParts', 165.58828974905774, 1514.3326620802793, 'W_100', 'P_249'], ['FacilityToParts', 1529.6618118084339, 8.443989472962166, 14, 'F_001', 'P_202'], ['FacilityToParts', 7131.887446632921, 8.922931403214914, 2, 'F_002', 'P_167'], ['FacilityToParts', 456.7491205247667, 6.885425994926232, 13, 'F_003', 'P_193'], ['FacilityToParts', 3731.2183948514835, 28.623546780636655, 19, 'F_003', 'P_173'], ['FacilityToParts', 5352.203136088114, 2.151391228180457, 6, 'F_004', 'P_212'], ['FacilityToParts', 916.1479317663513, 9.798977561237281, 13, 'F_005', 'P_222'], ['FacilityToParts', 9933.58165152907, 26.294245863561937, 9, 'F_005', 'P_158'], ['FacilityToParts', 564.1084027841937, 11.36249417093703, 8, 'F_006', 'P_162'], ['FacilityToParts', 589.3760721395881, 22.72317485440467, 20, 'F_006', 'P_186'], ['FacilityToParts', 6354.946903134573, 23.731059712870486, 11, 'F_006', 'P_152'], ['FacilityToParts', 6767.6215640710225, 22.956071351363967, 5, 'F_007', 'P_191'], ['FacilityToParts', 1600.2097405890015, 24.830587295628806, 7, 'F_007', 'P_166'], ['FacilityToParts', 6451.486806091002, 7.796173920375165, 13, 'F_007', 'P_157'], ['FacilityToParts', 5108.894436010801, 29.253489667033612, 19, 'F_008', 'P_214'], ['FacilityToParts', 9432.437892142827, 23.306065183263357, 12, 'F_008', 'P_195'], ['FacilityToParts', 8720.70971397485, 8.438513867038612, 6, 'F_009', 'P_190'], ['FacilityToParts', 3277.08354500411, 11.659992396750868, 4, 'F_010', 'P_158'], ['FacilityToParts', 1494.9530992490152, 27.278916384347543, 16, 'F_011', 'P_175'], ['FacilityToParts', 8781.804366303211, 26.976970305610863, 13, 'F_011', 'P_214'], ['FacilityToParts', 283.30610583319435, 2.867240137852596, 3, 'F_011', 'P_203'], ['FacilityToParts', 4575.709419512549, 15.92321667610628, 11, 'F_012', 'P_249'], ['FacilityToParts', 6256.232636564032, 4.344034456911024, 19, 'F_012', 'P_239'], ['FacilityToParts', 3908.032973545485, 8.725702144234448, 11, 'F_013', 'P_189'], ['FacilityToParts', 7551.5649254340215, 24.435765865261146, 17, 'F_013', 'P_227'], ['FacilityToParts', 1973.3665903763524, 21.87982412523398, 3, 'F_014', 'P_187'], ['FacilityToParts', 224.27952533245468, 20.181781191915736, 3, 'F_014', 'P_212'], ['FacilityToParts', 937.833512007269, 27.677952643004197, 11, 'F_014', 'P_237'], ['FacilityToParts', 8036.655245273894, 9.223315153899637, 7, 'F_015', 'P_222'], ['FacilityToParts', 7202.486797211309, 26.240073566807016, 13, 'F_015', 'P_200'], ['FacilityToParts', 4970.109325196103, 23.379497877745145, 3, 'F_016', 'P_177'], ['FacilityToParts', 3052.356982133779, 19.17873724092305, 12, 'F_016', 'P_158'], ['FacilityToParts', 1187.976904999127, 12.227487369372197, 9, 'F_017', 'P_190'], ['FacilityToParts', 1490.1141806612613, 29.936903179944938, 6, 'F_017', 'P_197'], ['FacilityToParts', 4129.723610359141, 2.255515367583993, 10, 'F_017', 'P_188'], ['FacilityToParts', 1131.029392538111, 12.46359375455892, 15, 'F_018', 'P_176'], ['FacilityToParts', 1670.012678492644, 6.98826763128697, 2, 'F_019', 'P_199'], ['FacilityToParts', 166.13392588182143, 16.762172943250903, 14, 'F_019', 'P_218'], ['FacilityToParts', 7516.368227572704, 23.31252138080372, 12, 'F_020', 'P_244'], ['FacilityToParts', 2872.0935151010017, 15.01698036681032, 20, 'F_020', 'P_162'], ['FacilityToParts', 7306.316451397663, 1.0852530018287938, 15, 'F_021', 'P_194'], ['FacilityToParts', 9902.956066148434, 24.474104414485645, 19, 'F_021', 'P_180'], ['FacilityToParts', 1725.3567236325287, 3.823437805449822, 16, 'F_021', 'P_177'], ['FacilityToParts', 6370.780366061798, 18.085886798777544, 16, 'F_022', 'P_172'], ['FacilityToParts', 3617.513116555854, 27.525109301866113, 3, 'F_023', 'P_170'], ['FacilityToParts', 4546.640331458323, 20.254607729145427, 5, 'F_023', 'P_162'], ['FacilityToParts', 8234.645216425346, 13.708321541898982, 14, 'F_023', 'P_218'], ['FacilityToParts', 3808.2084427364716, 12.566223019818676, 12, 'F_024', 'P_162'], ['FacilityToParts', 6815.982508689391, 12.29472843441141, 15, 'F_024', 'P_213'], ['FacilityToParts', 3388.2222289740926, 14.15737109613994, 9, 'F_025', 'P_184'], ['FacilityToParts', 5679.408709964798, 19.221915842024956, 3, 'F_025', 'P_162'], ['FacilityToParts', 5001.605327408567, 17.12729500248402, 7, 'F_026', 'P_183'], ['FacilityToParts', 6592.426902772282, 13.952609327866485, 18, 'F_027', 'P_212'], ['FacilityToParts', 7530.050437247667, 27.67310349389616, 10, 'F_028', 'P_235'], ['FacilityToParts', 7087.02771364614, 1.027488685424344, 6, 'F_028', 'P_163'], ['FacilityToParts', 8143.686513212428, 19.74978224095588, 16, 'F_028', 'P_233'], ['FacilityToParts', 1486.6534772705586, 14.523089389331812, 17, 'F_029', 'P_216'], ['FacilityToParts', 5759.99987433182, 11.313498633470664, 12, 'F_030', 'P_220'], ['FacilityToParts', 8301.478181550967, 20.439034899995136, 2, 'F_031', 'P_249'], ['FacilityToParts', 5790.939903255444, 8.802736585348981, 4, 'F_031', 'P_174'], ['FacilityToParts', 3293.2000781442684, 15.7891610717141, 6, 'F_032', 'P_192'], ['FacilityToParts', 3374.8152009494856, 27.308289001076194, 11, 'F_032', 'P_186'], ['FacilityToParts', 2249.1918108580503, 22.974152897635964, 20, 'F_033', 'P_245'], ['FacilityToParts', 2805.1032868546304, 26.606986232249735, 15, 'F_034', 'P_204'], ['FacilityToParts', 1862.6757375945515, 2.9138846940118723, 8, 'F_034', 'P_241'], ['FacilityToParts', 6256.675124572035, 10.442100346844143, 20, 'F_034', 'P_248'], ['FacilityToParts', 1986.126628607136, 28.087351914257635, 17, 'F_035', 'P_222'], ['FacilityToParts', 1641.220782006526, 24.6545411382491, 2, 'F_035', 'P_185'], ['FacilityToParts', 2939.8076806243207, 11.641775046360298, 12, 'F_036', 'P_160'], ['FacilityToParts', 3889.397998505321, 13.174026475611727, 8, 'F_036', 'P_187'], ['FacilityToParts', 9279.862386615376, 6.421741650627795, 3, 'F_037', 'P_240'], ['FacilityToParts', 2286.349770253969, 5.283010163606373, 1, 'F_037', 'P_202'], ['FacilityToParts', 8510.843947958341, 22.21631714267637, 19, 'F_038', 'P_152'], ['FacilityToParts', 3135.1727109931467, 20.876276657583276, 14, 'F_039', 'P_227'], ['FacilityToParts', 7354.136508460746, 2.2530050419965297, 5, 'F_039', 'P_166'], ['FacilityToParts', 6893.641992410002, 14.022421552498857, 10, 'F_040', 'P_195'], ['FacilityToParts', 2826.4305153518717, 25.569634841773766, 20, 'F_040', 'P_202'], ['FacilityToParts', 2657.697905454768, 12.96669869152365, 2, 'F_041', 'P_221'], ['FacilityToParts', 314.1502733175396, 23.473945186380067, 11, 'F_041', 'P_228'], ['FacilityToParts', 3694.4738312360805, 5.297319102633397, 20, 'F_042', 'P_227'], ['FacilityToParts', 8354.694783840407, 17.133658259573952, 19, 'F_043', 'P_154'], ['FacilityToParts', 648.1961251826905, 24.5250369202005, 7, 'F_043', 'P_209'], ['FacilityToParts', 7579.867699119187, 16.845638508789786, 6, 'F_043', 'P_239'], ['FacilityToParts', 1655.8320634310005, 13.821012400030758, 16, 'F_044', 'P_238'], ['FacilityToParts', 2025.1841565425918, 11.671174070698791, 6, 'F_044', 'P_180'], ['FacilityToParts', 9383.277594590372, 4.458700686157535, 18, 'F_045', 'P_169'], ['FacilityToParts', 9898.231596230475, 21.36449114800931, 2, 'F_045', 'P_199'], ['FacilityToProductOfferings', 8628.011221712146, 26.013048857426096, 8, 'F_046', 'PO_019'], ['FacilityToProductOfferings', 1314.3790143831986, 5.372048257930932, 7, 'F_046', 'PO_007'], ['FacilityToProductOfferings', 1408.7063568083295, 23.352219667444643, 10, 'F_046', 'PO_002'], ['FacilityToProductOfferings', 462.99415659281874, 11.16591154461833, 20, 'F_046', 'PO_008'], ['FacilityToProductOfferings', 8952.123961746498, 17.13769803146708, 6, 'F_047', 'PO_016'], ['FacilityToProductOfferings', 2659.111461104859, 2.9348488263929444, 16, 'F_047', 'PO_003'], ['FacilityToProductOfferings', 110.08146377094864, 26.835888498942836, 11, 'F_047', 'PO_005'], ['FacilityToProductOfferings', 7642.132272297051, 20.723251443795625, 15, 'F_047', 'PO_020'], ['FacilityToProductOfferings', 4510.814093687983, 25.494214505937506, 7, 'F_047', 'PO_019'], ['FacilityToProductOfferings', 9908.726209268874, 4.1221065379588575, 7, 'F_048', 'PO_009'], ['FacilityToProductOfferings', 2973.446993227575, 8.159198508512116, 11, 'F_048', 'PO_011'], ['FacilityToProductOfferings', 8387.928684991026, 26.748082249966064, 3, 'F_048', 'PO_017'], ['FacilityToProductOfferings', 2254.80563552972, 13.575584890644596, 15, 'F_048', 'PO_004'], ['FacilityToProductOfferings', 170.64062917860724, 11.694898839776538, 2, 'F_048', 'PO_008'], ['FacilityToProductOfferings', 8990.894280422603, 5.862698725903219, 9, 'F_048', 'PO_006'], ['FacilityToProductOfferings', 5111.037866063075, 21.565970978819266, 8, 'F_048', 'PO_003'], ['FacilityToProductOfferings', 4194.13055106018, 8.617704056827193, 3, 'F_048', 'PO_014'], ['FacilityToProductOfferings', 9369.206292760498, 7.4007443638400545, 7, 'F_048', 'PO_001'], ['FacilityToProductOfferings', 1390.3440952252074, 15.787259194953009, 4, 'F_049', 'PO_009'], ['FacilityToProductOfferings', 9976.888611727216, 20.82453989337595, 9, 'F_049', 'PO_021'], ['FacilityToProductOfferings', 8802.101104514686, 19.94170960037347, 16, 'F_049', 'PO_013'], ['FacilityToProductOfferings', 6727.607727097248, 20.110399824029116, 14, 'F_049', 'PO_016'], ['FacilityToProductOfferings', 4653.8654183692415, 27.046757977536316, 7, 'F_049', 'PO_006'], ['FacilityToProductOfferings', 1021.691472070094, 12.085631426364062, 5, 'F_049', 'PO_012'], ['FacilityToProductOfferings', 1115.9092946230803, 14.242843844199099, 9, 'F_050', 'PO_007'], ['FacilityToProductOfferings', 4249.612338609051, 23.244388282463248, 12, 'F_050', 'PO_001'], ['FacilityToProductOfferings', 1884.442124145553, 11.763030882018649, 5, 'F_050', 'PO_003'], ['FacilityToProductOfferings', 3013.0934230107464, 8.059861866421876, 3, 'F_050', 'PO_011'], ['FacilityToProductOfferings', 1853.774233517916, 28.515070039000516, 11, 'F_050', 'PO_004'], ['FacilityToProductOfferings', 5832.129676395194, 1.6498366000768891, 2, 'F_050', 'PO_020'], ['FacilityToProductOfferings', 8256.4452683246, 3.3472080176888106, 1, 'F_051', 'PO_001'], ['FacilityToProductOfferings', 4490.565074375163, 2.5282150892261175, 12, 'F_051', 'PO_006'], ['FacilityToProductOfferings', 5791.619071085559, 10.511135046976227, 9, 'F_052', 'PO_001'], ['FacilityToProductOfferings', 1821.4622165781566, 23.00097901467919, 2, 'F_052', 'PO_016'], ['FacilityToProductOfferings', 7594.665037728438, 26.439175879825903, 20, 'F_052', 'PO_006'], ['FacilityToProductOfferings', 5810.946568024727, 29.80139446936288, 16, 'F_052', 'PO_019'], ['FacilityToProductOfferings', 4400.947930973265, 8.53185518424107, 8, 'F_052', 'PO_008'], ['FacilityToProductOfferings', 5049.575307555113, 25.77420264532254, 16, 'F_052', 'PO_018'], ['FacilityToProductOfferings', 2900.9637873422507, 21.605430802625765, 2, 'F_052', 'PO_012'], ['FacilityToProductOfferings', 4859.960598994263, 1.4304878313009626, 20, 'F_052', 'PO_011'], ['FacilityToProductOfferings', 6659.555235694816, 21.677006417573196, 12, 'F_052', 'PO_004'], ['FacilityToProductOfferings', 6296.014749177387, 8.756759433825945, 14, 'F_052', 'PO_014'], ['FacilityToProductOfferings', 5185.362022527848, 19.14104683228589, 18, 'F_053', 'PO_001'], ['FacilityToProductOfferings', 3630.6459257005467, 28.892283002902932, 16, 'F_053', 'PO_017'], ['FacilityToProductOfferings', 5129.355985685531, 12.700606645258203, 20, 'F_053', 'PO_021'], ['FacilityToProductOfferings', 7895.031868233599, 29.412371622347763, 20, 'F_053', 'PO_002'], ['FacilityToProductOfferings', 4902.453956952836, 22.529530134329306, 13, 'F_053', 'PO_013'], ['FacilityToProductOfferings', 8243.091675997934, 26.068686432806366, 9, 'F_053', 'PO_010'], ['FacilityToProductOfferings', 6904.657233652069, 26.665131804546775, 5, 'F_053', 'PO_020'], ['FacilityToProductOfferings', 1865.4010108744808, 4.483900042535156, 6, 'F_053', 'PO_004'], ['FacilityToProductOfferings', 8685.325556939237, 13.413662656615301, 4, 'F_053', 'PO_008'], ['FacilityToProductOfferings', 4170.26941262518, 25.856668467727562, 6, 'F_054', 'PO_020'], ['FacilityToProductOfferings', 1002.8738078722351, 4.252182304336301, 11, 'F_054', 'PO_005'], ['FacilityToProductOfferings', 8778.669457010308, 3.85766048054897, 14, 'F_054', 'PO_003'], ['FacilityToProductOfferings', 9888.424890911267, 20.66757341327796, 10, 'F_054', 'PO_013'], ['FacilityToProductOfferings', 8286.127239615358, 28.270527607287395, 13, 'F_054', 'PO_019'], ['FacilityToProductOfferings', 112.9135242294499, 10.594009329193037, 20, 'F_054', 'PO_008'], ['FacilityToProductOfferings', 8142.861841146885, 28.046456182680185, 8, 'F_054', 'PO_016'], ['FacilityToProductOfferings', 7993.062956435459, 26.991176400235076, 8, 'F_054', 'PO_001'], ['FacilityToProductOfferings', 8044.000877829675, 20.119302865889342, 11, 'F_054', 'PO_004'], ['FacilityToProductOfferings', 2155.8377051714365, 23.291843649078267, 2, 'F_054', 'PO_018'], ['FacilityToProductOfferings', 2486.2216382753845, 1.3094005175017882, 13, 'F_055', 'PO_020'], ['FacilityToProductOfferings', 3059.2877270242525, 1.6196353754510984, 13, 'F_055', 'PO_011'], ['FacilityToProductOfferings', 7415.717773685538, 12.338877482514738, 18, 'F_055', 'PO_004'], ['FacilityToProductOfferings', 8077.326809210838, 2.1666120267157543, 4, 'F_055', 'PO_006'], ['FacilityToProductOfferings', 5463.824723737828, 4.9263592386136, 20, 'F_055', 'PO_012'], ['FacilityToProductOfferings', 4890.488556352716, 13.737505957356806, 3, 'F_055', 'PO_013'], ['FacilityToProductOfferings', 2055.246302143103, 20.26773246260995, 19, 'F_055', 'PO_015'], ['FacilityToProductOfferings', 2227.250224583892, 13.349319028673877, 3, 'F_056', 'PO_018'], ['FacilityToProductOfferings', 8884.076825222553, 17.217741161208394, 2, 'F_056', 'PO_008'], ['FacilityToProductOfferings', 9195.438913937181, 18.386106089912353, 4, 'F_056', 'PO_021'], ['FacilityToProductOfferings', 2588.4359556381596, 12.345193673905658, 1, 'F_056', 'PO_010'], ['FacilityToProductOfferings', 4394.950890995327, 10.09506255253551, 16, 'F_056', 'PO_005'], ['FacilityToProductOfferings', 2167.0123660974855, 5.661233117959922, 19, 'F_056', 'PO_003'], ['FacilityToProductOfferings', 4616.357744542518, 27.804436750233048, 1, 'F_056', 'PO_014'], ['FacilityToProductOfferings', 1185.87912895753, 12.25106097721116, 8, 'F_056', 'PO_011'], ['FacilityToProductOfferings', 2871.6589814658, 26.995722168804786, 18, 'F_057', 'PO_010'], ['FacilityToProductOfferings', 1799.17375839075, 21.032948586333116, 13, 'F_057', 'PO_019'], ['FacilityToProductOfferings', 4413.980070923168, 17.689966525457518, 1, 'F_057', 'PO_004'], ['FacilityToProductOfferings', 5287.731841125555, 14.239804016189584, 1, 'F_057', 'PO_014'], ['FacilityToProductOfferings', 4538.380515485744, 2.925959168392665, 11, 'F_057', 'PO_018'], ['FacilityToProductOfferings', 7327.588028338409, 8.434711115051662, 19, 'F_057', 'PO_013'], ['FacilityToProductOfferings', 8903.66812597597, 1.0631562202143336, 10, 'F_058', 'PO_020'], ['FacilityToProductOfferings', 3353.509557910849, 9.704311706382196, 1, 'F_058', 'PO_005'], ['FacilityToProductOfferings', 4920.548442850918, 13.153555992744806, 14, 'F_058', 'PO_011'], ['FacilityToProductOfferings', 1327.5175169258891, 5.959829403183892, 6, 'F_058', 'PO_008'], ['FacilityToProductOfferings', 2686.407492444475, 4.164891935349489, 5, 'F_058', 'PO_015'], ['FacilityToProductOfferings', 8868.225993519838, 3.5632210931401036, 11, 'F_059', 'PO_005'], ['FacilityToProductOfferings', 5487.015375433218, 24.09246498398267, 11, 'F_059', 'PO_011'], ['FacilityToProductOfferings', 7202.294183622097, 8.605232349287895, 8, 'F_059', 'PO_004'], ['FacilityToProductOfferings', 2922.0671598395343, 17.97291542266028, 11, 'F_059', 'PO_009'], ['FacilityToProductOfferings', 9305.37176768427, 6.1921401196299195, 20, 'F_060', 'PO_003'], ['FacilityToProductOfferings', 5406.690813716452, 20.089813551460573, 2, 'F_060', 'PO_017'], ['FacilityToProductOfferings', 1183.0285347982474, 12.762163024912951, 12, 'F_060', 'PO_020'], ['FacilityToProductOfferings', 2125.2767422732186, 13.237961259981466, 20, 'F_060', 'PO_018'], ['FacilityToProductOfferings', 3669.3717397087103, 17.35813233417555, 6, 'F_060', 'PO_002'], ['FacilityToProductOfferings', 8840.324535677924, 11.61259542310491, 8, 'F_060', 'PO_008'], ['FacilityToProductOfferings', 9950.681270337656, 2.6893699244535263, 15, 'F_060', 'PO_016'], ['FacilityToProductOfferings', 3719.7479753057983, 4.6320757301460915, 2, 'F_060', 'PO_006'], ['FacilityToProductOfferings', 4438.085817894329, 14.82106918425076, 7, 'F_060', 'PO_007'], ['FacilityToProductOfferings', 4201.493827192211, 24.77581977713021, 14, 'F_061', 'PO_005'], ['FacilityToProductOfferings', 6865.548462849054, 28.95348671424037, 6, 'F_061', 'PO_011'], ['FacilityToProductOfferings', 3579.0362498697773, 17.662455297294645, 1, 'F_061', 'PO_013'], ['FacilityToProductOfferings', 3869.180312592419, 24.47112536048017, 7, 'F_061', 'PO_012'], ['FacilityToProductOfferings', 5309.652048171153, 18.49553475875509, 4, 'F_062', 'PO_018'], ['FacilityToProductOfferings', 5891.8184204565905, 19.23684094790562, 14, 'F_062', 'PO_020'], ['FacilityToProductOfferings', 4820.497150198091, 13.728245134569976, 19, 'F_062', 'PO_009'], ['FacilityToProductOfferings', 2478.639292801305, 2.107007631098816, 15, 'F_063', 'PO_011'], ['FacilityToProductOfferings', 2305.4560423177327, 11.874554396367103, 14, 'F_063', 'PO_020'], ['FacilityToProductOfferings', 5065.164974605129, 4.57079863383672, 20, 'F_063', 'PO_012'], ['FacilityToProductOfferings', 8251.882201945511, 6.919627119491554, 15, 'F_063', 'PO_007'], ['FacilityToProductOfferings', 4882.3275682320245, 10.171526690175744, 6, 'F_063', 'PO_006'], ['FacilityToProductOfferings', 8758.231981593615, 25.261436706902007, 19, 'F_063', 'PO_010'], ['FacilityToProductOfferings', 5830.885622227198, 16.536040309930634, 17, 'F_063', 'PO_008'], ['FacilityToProductOfferings', 1883.7663081770793, 2.408167783225402, 14, 'F_063', 'PO_019'], ['FacilityToProductOfferings', 3127.913994714703, 21.6530581209621, 8, 'F_063', 'PO_002'], ['FacilityToProductOfferings', 9079.824694953422, 24.065698471536457, 12, 'F_063', 'PO_016'], ['FacilityToProductOfferings', 6184.9005059793135, 8.446357942632371, 18, 'F_064', 'PO_012'], ['FacilityToProductOfferings', 7708.6207127761145, 21.731177348923737, 9, 'F_064', 'PO_007'], ['FacilityToProductOfferings', 7346.101682835564, 8.583505175972247, 15, 'F_064', 'PO_014'], ['FacilityToProductOfferings', 3514.7081754428186, 17.327912030036558, 18, 'F_064', 'PO_003'], ['FacilityToProductOfferings', 2654.7528294814524, 28.624542563489985, 14, 'F_064', 'PO_001'], ['FacilityToProductOfferings', 851.4859822004518, 2.4651372893874615, 18, 'F_065', 'PO_008'], ['FacilityToProductOfferings', 1150.730157022003, 14.419586989791428, 17, 'F_065', 'PO_001'], ['FacilityToProductOfferings', 2851.3744357581827, 16.53095626195233, 7, 'F_065', 'PO_006'], ['FacilityToProductOfferings', 2327.388160535052, 29.653664002703618, 10, 'F_065', 'PO_013'], ['FacilityToProductOfferings', 8219.60823802252, 9.400109477669359, 6, 'F_065', 'PO_011'], ['FacilityToProductOfferings', 6842.19390863079, 11.91854798264156, 19, 'F_066', 'PO_010'], ['FacilityToProductOfferings', 7245.030453776838, 19.75078319101625, 13, 'F_066', 'PO_004'], ['FacilityToProductOfferings', 9702.966599476777, 27.367475554403423, 3, 'F_066', 'PO_006'], ['FacilityToProductOfferings', 6904.251946392357, 4.463173580444559, 18, 'F_066', 'PO_007'], ['FacilityToProductOfferings', 7394.9405125292315, 27.47959278373688, 4, 'F_066', 'PO_011'], ['FacilityToProductOfferings', 1846.335401110323, 15.583618510043365, 12, 'F_066', 'PO_002'], ['FacilityToProductOfferings', 142.5289592952054, 28.94529918476335, 4, 'F_066', 'PO_014'], ['FacilityToProductOfferings', 5692.3323956660115, 13.109312819494846, 11, 'F_066', 'PO_020'], ['FacilityToProductOfferings', 437.3660751820595, 10.474275859122546, 7, 'F_066', 'PO_021'], ['FacilityToProductOfferings', 8802.785244403585, 14.235228100233252, 11, 'F_067', 'PO_004'], ['FacilityToProductOfferings', 6496.501261200244, 26.045277858132362, 2, 'F_067', 'PO_013'], ['FacilityToProductOfferings', 2294.694124598477, 3.5596188072369332, 5, 'F_067', 'PO_011'], ['FacilityToProductOfferings', 2057.969698351246, 6.038213892660234, 19, 'F_067', 'PO_016'], ['FacilityToProductOfferings', 6293.7064628684875, 8.419313055825107, 5, 'F_067', 'PO_021'], ['FacilityToProductOfferings', 5093.965909046292, 8.190503375347829, 4, 'F_067', 'PO_003'], ['FacilityToProductOfferings', 2871.0098997179293, 19.369281242604405, 8, 'F_068', 'PO_009'], ['FacilityToProductOfferings', 6764.439132806702, 17.78958209404302, 20, 'F_068', 'PO_008'], ['FacilityToProductOfferings', 6293.1075777158385, 14.908158490562426, 1, 'F_068', 'PO_005'], ['FacilityToProductOfferings', 245.17735478198722, 5.520023903128392, 3, 'F_068', 'PO_016'], ['FacilityToProductOfferings', 1676.0774652195496, 7.35816181048837, 7, 'F_068', 'PO_017'], ['FacilityToProductOfferings', 5348.115619161178, 20.898858015558634, 2, 'F_068', 'PO_015'], ['FacilityToProductOfferings', 4494.8429097361195, 21.879787015341766, 15, 'F_068', 'PO_013'], ['FacilityToProductOfferings', 9346.429614085837, 15.70327807120037, 2, 'F_068', 'PO_021'], ['FacilityToProductOfferings', 3070.3970422616762, 15.078850868692665, 4, 'F_069', 'PO_003'], ['FacilityToProductOfferings', 781.9981513456042, 18.927559469083477, 19, 'F_069', 'PO_019'], ['FacilityToProductOfferings', 9046.153223269057, 10.511096805552741, 13, 'F_070', 'PO_001'], ['FacilityToProductOfferings', 2199.7947582712914, 2.055038984032424, 15, 'F_070', 'PO_005'], ['FacilityToProductOfferings', 3633.6808727115326, 11.719033196376888, 18, 'F_070', 'PO_021'], ['FacilityToProductOfferings', 6911.085536561715, 4.2816294885103225, 6, 'F_070', 'PO_018'], ['FacilityToProductOfferings', 3541.500459210168, 17.325389966790336, 10, 'F_070', 'PO_011'], ['FacilityToProductOfferings', 4646.187649441458, 26.07433961669991, 18, 'F_070', 'PO_006'], ['FacilityToProductOfferings', 3524.650038939285, 6.925564798060818, 1, 'F_070', 'PO_003'], ['FacilityToProductOfferings', 4663.0040487137385, 7.846981057160357, 5, 'F_070', 'PO_008'], ['FacilityToProductOfferings', 7227.654304255527, 9.622941264649558, 17, 'F_070', 'PO_012'], ['FacilityToProductOfferings', 7081.513173732165, 9.71005118160125, 15, 'F_071', 'PO_010'], ['FacilityToProductOfferings', 6084.022231354283, 24.839629615795364, 11, 'F_071', 'PO_004'], ['FacilityToProductOfferings', 1199.4798444080382, 25.082382206676346, 12, 'F_071', 'PO_018'], ['FacilityToProductOfferings', 8379.816139864743, 26.66583789185078, 3, 'F_071', 'PO_015'], ['FacilityToProductOfferings', 5483.4486690327685, 17.97200221251081, 18, 'F_071', 'PO_005'], ['FacilityToProductOfferings', 9836.741080666652, 27.55873516250912, 9, 'F_072', 'PO_017'], ['FacilityToProductOfferings', 9070.761769576746, 3.4116176058813665, 11, 'F_072', 'PO_016'], ['FacilityToProductOfferings', 5092.170264083504, 4.338300051929135, 8, 'F_072', 'PO_001'], ['FacilityToProductOfferings', 3303.03626482682, 26.588427520037122, 18, 'F_072', 'PO_010'], ['FacilityToProductOfferings', 5521.867305756559, 12.540341397508415, 5, 'F_072', 'PO_011'], ['FacilityToProductOfferings', 9436.661246987533, 7.946032078669221, 16, 'F_072', 'PO_005'], ['FacilityToProductOfferings', 796.0390243983417, 18.06290125499589, 12, 'F_072', 'PO_004'], ['FacilityToProductOfferings', 5484.342062924565, 21.32703324502355, 10, 'F_073', 'PO_002'], ['FacilityToProductOfferings', 4380.52179825101, 10.130904276778697, 2, 'F_073', 'PO_009'], ['FacilityToProductOfferings', 7471.841625106839, 26.64244082265733, 7, 'F_073', 'PO_003'], ['FacilityToProductOfferings', 9839.137689302164, 23.72835307639229, 16, 'F_074', 'PO_012'], ['FacilityToProductOfferings', 9658.88434960656, 20.435229538282844, 20, 'F_074', 'PO_004'], ['FacilityToProductOfferings', 4976.068951055259, 15.859147720772423, 11, 'F_075', 'PO_013'], ['FacilityToProductOfferings', 7879.940804114698, 21.419547977345275, 19, 'F_075', 'PO_011'], ['FacilityToProductOfferings', 8717.679309537862, 8.50957073274424, 14, 'F_075', 'PO_007'], ['FacilityToProductOfferings', 1860.6030561892687, 12.498457614809443, 6, 'F_075', 'PO_009'], ['FacilityToProductOfferings', 4663.589351637437, 22.490706397990127, 13, 'F_075', 'PO_012'], ['FacilityToProductOfferings', 5354.8000103176955, 25.60905425813766, 4, 'F_075', 'PO_019'], ['FacilityToProductOfferings', 9488.965654999878, 15.671921933640762, 16, 'F_075', 'PO_003'], ['FacilityToProductOfferings', 4796.489062185994, 29.755096584510223, 13, 'F_075', 'PO_002'], ['PartsToFacility', 18, 830, 169.668849213851, 17.927685830898398, 'P_001', 'F_005'], ['PartsToFacility', 9, 587, 846.443465055771, 20.292710519290004, 'P_001', 'F_006'], ['PartsToFacility', 18, 584, 16.733308372594333, 13.569884802945701, 'P_001', 'F_011'], ['PartsToFacility', 12, 29, 138.76390935040374, 19.46781807468212, 'P_001', 'F_019'], ['PartsToFacility', 15, 978, 282.6108636433234, 4.155677154745823, 'P_001', 'F_025'], ['PartsToFacility', 14, 419, 607.2874497683105, 18.138497221452717, 'P_001', 'F_036'], ['PartsToFacility', 19, 888, 812.5109217546795, 16.711018163842127, 'P_001', 'F_038'], ['PartsToFacility', 11, 505, 96.53086827725772, 16.594574541615607, 'P_001', 'F_045'], ['PartsToFacility', 4, 579, 889.8112259193515, 25.89471494737755, 'P_002', 'F_006'], ['PartsToFacility', 15, 455, 220.83336159965796, 21.206005687126364, 'P_002', 'F_007'], ['PartsToFacility', 1, 274, 272.99499940859073, 21.523987935253775, 'P_002', 'F_011'], ['PartsToFacility', 10, 826, 55.67778771242644, 17.39182589830015, 'P_002', 'F_014'], ['PartsToFacility', 12, 786, 719.4930490373627, 20.112124809235155, 'P_002', 'F_016'], ['PartsToFacility', 10, 310, 475.0550576605031, 18.573841089311674, 'P_002', 'F_021'], ['PartsToFacility', 19, 976, 360.68853078419335, 17.598006018392017, 'P_002', 'F_024'], ['PartsToFacility', 11, 801, 978.3399938119301, 24.421810917723093, 'P_002', 'F_025'], ['PartsToFacility', 15, 239, 340.6515541542147, 19.495025932323433, 'P_002', 'F_030'], ['PartsToFacility', 11, 686, 873.3816095270273, 9.151064680871997, 'P_002', 'F_035'], ['PartsToFacility', 15, 148, 402.7619385895484, 10.894639660006645, 'P_002', 'F_036'], ['PartsToFacility', 8, 99, 844.9056305000478, 20.60060879814861, 'P_002', 'F_037'], ['PartsToFacility', 20, 327, 743.8902990355517, 18.764523833346477, 'P_002', 'F_038'], ['PartsToFacility', 13, 679, 364.0601917808998, 24.677910966083726, 'P_002', 'F_039'], ['PartsToFacility', 17, 878, 195.78588808650628, 3.3636453409868605, 'P_002', 'F_042'], ['PartsToFacility', 6, 881, 855.8184877571216, 28.645343893765904, 'P_002', 'F_045'], ['PartsToFacility', 18, 443, 820.934548157873, 7.1263500554632175, 'P_003', 'F_002'], ['PartsToFacility', 4, 256, 280.95163966452543, 8.856217401930483, 'P_003', 'F_007'], ['PartsToFacility', 20, 275, 148.7530359760314, 11.042924591295785, 'P_003', 'F_010'], ['PartsToFacility', 10, 212, 938.544621293088, 16.592342950373425, 'P_003', 'F_019'], ['PartsToFacility', 4, 827, 190.69734155862034, 6.599822745351843, 'P_003', 'F_024'], ['PartsToFacility', 16, 378, 359.65073028348735, 17.84487149942761, 'P_003', 'F_025'], ['PartsToFacility', 17, 240, 152.51093639483537, 6.617130967170097, 'P_003', 'F_026'], ['PartsToFacility', 8, 175, 805.846323425403, 18.041467219052347, 'P_003', 'F_027'], ['PartsToFacility', 4, 846, 771.7693129986708, 3.839116719937629, 'P_003', 'F_031'], ['PartsToFacility', 6, 323, 738.7301217393216, 24.71273071059268, 'P_003', 'F_036'], ['PartsToFacility', 1, 764, 495.06883139765335, 21.490175733018066, 'P_003', 'F_037'], ['PartsToFacility', 9, 804, 979.6791820432436, 3.6750487170705397, 'P_003', 'F_039'], ['PartsToFacility', 5, 233, 578.2214903602713, 2.7426411608438666, 'P_003', 'F_042'], ['PartsToFacility', 14, 510, 531.8912961507984, 15.725425316331114, 'P_004', 'F_005'], ['PartsToFacility', 3, 612, 308.820887339358, 1.1750516365414114, 'P_004', 'F_007'], ['PartsToFacility', 7, 20, 263.8748098372412, 29.620671245301132, 'P_004', 'F_009'], ['PartsToFacility', 2, 306, 310.1743803019733, 10.417131732522968, 'P_004', 'F_011'], ['PartsToFacility', 10, 854, 348.4543536289509, 12.805328244175362, 'P_004', 'F_014'], ['PartsToFacility', 10, 73, 885.7619777559372, 28.496320814745527, 'P_004', 'F_017'], ['PartsToFacility', 16, 766, 18.73886126904045, 25.633934922943553, 'P_004', 'F_022'], ['PartsToFacility', 8, 756, 94.48089944272208, 24.799091582372924, 'P_004', 'F_024'], ['PartsToFacility', 5, 936, 123.0602469016446, 18.333446514572405, 'P_004', 'F_028'], ['PartsToFacility', 7, 759, 974.3515932548338, 28.829633425578375, 'P_004', 'F_036'], ['PartsToFacility', 14, 824, 126.65312137155306, 26.43229203785623, 'P_004', 'F_040'], ['PartsToFacility', 1, 783, 30.6764514718334, 25.875520589259114, 'P_004', 'F_042'], ['PartsToFacility', 15, 755, 668.190639689426, 9.479432656958585, 'P_004', 'F_045'], ['PartsToFacility', 3, 579, 727.3071857769213, 21.43613064795352, 'P_005', 'F_010'], ['PartsToFacility', 18, 386, 522.3195652261916, 19.638965236335007, 'P_005', 'F_011'], ['PartsToFacility', 12, 316, 376.10153491734485, 22.89388930735935, 'P_005', 'F_022'], ['PartsToFacility', 6, 420, 472.81870755314054, 17.67629639305117, 'P_005', 'F_025'], ['PartsToFacility', 18, 210, 597.7977119005095, 5.048747478159946, 'P_005', 'F_032'], ['PartsToFacility', 9, 503, 918.9171358276673, 1.7543108814936725, 'P_005', 'F_036'], ['PartsToFacility', 12, 487, 841.8184667784499, 1.6554747180020293, 'P_005', 'F_037'], ['PartsToFacility', 2, 833, 686.8508764419552, 14.385315564355409, 'P_005', 'F_040'], ['PartsToFacility', 17, 627, 942.2703815848982, 7.203146268091829, 'P_005', 'F_045'], ['PartsToFacility', 6, 114, 569.165077683404, 16.50276902174138, 'P_006', 'F_001'], ['PartsToFacility', 18, 591, 854.101884461563, 6.826289915206553, 'P_006', 'F_011'], ['PartsToFacility', 17, 741, 799.9468014786362, 20.534210719267495, 'P_006', 'F_013'], ['PartsToFacility', 18, 164, 14.852232144148765, 10.424698322128338, 'P_006', 'F_017'], ['PartsToFacility', 1, 943, 833.1870130224133, 16.651172813050252, 'P_006', 'F_027'], ['PartsToFacility', 6, 100, 835.2123072171336, 5.251490884381832, 'P_006', 'F_034'], ['PartsToFacility', 20, 261, 303.8286119233668, 22.129519755794124, 'P_006', 'F_037'], ['PartsToFacility', 16, 730, 158.3827750420702, 15.400741644430349, 'P_006', 'F_042'], ['PartsToFacility', 1, 79, 923.3183105131953, 29.033915257073236, 'P_006', 'F_045'], ['PartsToFacility', 13, 500, 562.8252569431502, 8.022655469061739, 'P_007', 'F_007'], ['PartsToFacility', 4, 524, 896.9767425740368, 23.03909858632356, 'P_007', 'F_008'], ['PartsToFacility', 1, 633, 860.0151233270659, 13.855481738826507, 'P_007', 'F_014'], ['PartsToFacility', 12, 978, 115.5843553584265, 26.33685992701228, 'P_007', 'F_019'], ['PartsToFacility', 14, 762, 234.6770132341391, 8.959971419587598, 'P_007', 'F_025'], ['PartsToFacility', 20, 620, 582.0387441002907, 15.985016373515135, 'P_007', 'F_030'], ['PartsToFacility', 4, 884, 871.3081779738305, 7.496471785646333, 'P_007', 'F_033'], ['PartsToFacility', 19, 924, 450.92971566718603, 23.38262781190429, 'P_007', 'F_035'], ['PartsToFacility', 15, 542, 797.4977151366545, 13.483383408623922, 'P_007', 'F_036'], ['PartsToFacility', 12, 86, 881.3557867997737, 26.835326020435442, 'P_007', 'F_041'], ['PartsToFacility', 10, 522, 189.50904763601432, 20.60202193694201, 'P_007', 'F_042'], ['PartsToFacility', 14, 274, 935.078063980867, 12.53472258849305, 'P_007', 'F_043'], ['PartsToFacility', 3, 609, 214.94511198087733, 3.1811280726455484, 'P_008', 'F_001'], ['PartsToFacility', 2, 692, 690.2664148652552, 4.5288161580852595, 'P_008', 'F_007'], ['PartsToFacility', 18, 755, 881.0024348713512, 24.25414232909388, 'P_008', 'F_009'], ['PartsToFacility', 19, 369, 674.6305173998991, 22.96702014540476, 'P_008', 'F_011'], ['PartsToFacility', 9, 327, 69.42115599295715, 3.1924903245260463, 'P_008', 'F_014'], ['PartsToFacility', 9, 333, 926.6005107650343, 2.818644123945222, 'P_008', 'F_019'], ['PartsToFacility', 20, 440, 329.5411127460837, 21.29331397197665, 'P_008', 'F_028'], ['PartsToFacility', 11, 280, 334.7303414379232, 22.508698454385407, 'P_008', 'F_031'], ['PartsToFacility', 14, 61, 265.18434292257837, 3.1235942102778873, 'P_008', 'F_033'], ['PartsToFacility', 4, 70, 923.9182689109922, 26.380012429375412, 'P_008', 'F_038'], ['PartsToFacility', 16, 972, 689.4246104420705, 3.631932749710722, 'P_008', 'F_045'], ['PartsToFacility', 8, 237, 78.4243385232586, 27.045286038818677, 'P_009', 'F_003'], ['PartsToFacility', 7, 998, 859.5979103423057, 19.000566382396215, 'P_009', 'F_004'], ['PartsToFacility', 5, 846, 861.2235781843694, 6.184299814463921, 'P_009', 'F_006'], ['PartsToFacility', 12, 752, 714.7680624447257, 13.60110991671956, 'P_009', 'F_008'], ['PartsToFacility', 6, 53, 245.0369200233513, 24.194980664034166, 'P_009', 'F_033'], ['PartsToFacility', 20, 63, 428.2791374098236, 5.808139304731715, 'P_009', 'F_034'], ['PartsToFacility', 7, 834, 242.18406095715395, 19.41737381098644, 'P_009', 'F_036'], ['PartsToFacility', 11, 310, 593.4586164235786, 7.384530606976373, 'P_010', 'F_006'], ['PartsToFacility', 11, 148, 690.9018283545463, 8.694923058042127, 'P_010', 'F_010'], ['PartsToFacility', 6, 206, 733.601257460074, 21.82220838604769, 'P_010', 'F_011'], ['PartsToFacility', 11, 472, 204.39897239718846, 21.443335191473786, 'P_010', 'F_016'], ['PartsToFacility', 17, 776, 758.4119596278533, 22.53245586055016, 'P_010', 'F_021'], ['PartsToFacility', 3, 460, 47.38449138513549, 14.577111733122669, 'P_010', 'F_024'], ['PartsToFacility', 13, 828, 630.5578359543521, 12.736494270592708, 'P_010', 'F_026'], ['PartsToFacility', 19, 934, 729.0284640084642, 1.3128575971073464, 'P_010', 'F_027'], ['PartsToFacility', 19, 856, 834.5988603175178, 5.038761513333021, 'P_010', 'F_033'], ['PartsToFacility', 19, 483, 559.4518593692834, 16.403297385790612, 'P_010', 'F_035'], ['PartsToFacility', 12, 570, 902.8487395861121, 17.386400164935445, 'P_010', 'F_037'], ['PartsToFacility', 10, 376, 891.178836739109, 16.524459001814428, 'P_010', 'F_039'], ['PartsToFacility', 17, 985, 49.656999040424, 8.77183625744772, 'P_010', 'F_040'], ['PartsToFacility', 14, 835, 381.9756495705477, 25.603299470672134, 'P_010', 'F_041'], ['PartsToFacility', 6, 70, 443.40230215757697, 19.602300461040414, 'P_010', 'F_044'], ['PartsToFacility', 3, 16, 53.57511541727669, 3.4527600953512683, 'P_010', 'F_045'], ['PartsToFacility', 5, 948, 988.738157225326, 13.219936561613576, 'P_011', 'F_006'], ['PartsToFacility', 16, 641, 747.3990429792883, 4.773120780665235, 'P_011', 'F_009'], ['PartsToFacility', 6, 202, 55.05256263744119, 2.8741724834599123, 'P_011', 'F_012'], ['PartsToFacility', 17, 859, 410.37919891967863, 8.183480054679977, 'P_011', 'F_014'], ['PartsToFacility', 17, 830, 217.4590693149431, 19.538050569113267, 'P_011', 'F_019'], ['PartsToFacility', 14, 298, 300.34837085174183, 9.680645029154528, 'P_011', 'F_024'], ['PartsToFacility', 19, 475, 422.92472936741206, 4.301343296514494, 'P_011', 'F_027'], ['PartsToFacility', 4, 642, 683.9874411725989, 8.45148020210016, 'P_011', 'F_028'], ['PartsToFacility', 18, 796, 941.4038068045303, 21.966998843780708, 'P_011', 'F_030'], ['PartsToFacility', 16, 828, 797.1520065907603, 3.630185522485457, 'P_011', 'F_033'], ['PartsToFacility', 20, 909, 166.4598921380871, 29.566752721870248, 'P_011', 'F_037'], ['PartsToFacility', 19, 614, 908.6940356673759, 3.9605480854815305, 'P_011', 'F_038'], ['PartsToFacility', 12, 738, 890.0423694334105, 4.189493443661452, 'P_011', 'F_039'], ['PartsToFacility', 6, 337, 823.7020813973219, 27.104108431880903, 'P_011', 'F_042'], ['PartsToFacility', 13, 404, 964.7510874307417, 12.155123055218777, 'P_012', 'F_006'], ['PartsToFacility', 7, 629, 608.8928343015652, 17.43761224333521, 'P_012', 'F_009'], ['PartsToFacility', 15, 953, 532.8483619446549, 7.401042025885457, 'P_012', 'F_012'], ['PartsToFacility', 20, 582, 85.31175552673861, 19.351304666641855, 'P_012', 'F_019'], ['PartsToFacility', 14, 476, 689.1522016355178, 18.31442037657791, 'P_012', 'F_023'], ['PartsToFacility', 9, 584, 766.2853515202969, 20.54090304540683, 'P_012', 'F_030'], ['PartsToFacility', 16, 751, 179.26923518786208, 2.1673125361641343, 'P_012', 'F_036'], ['PartsToFacility', 9, 995, 458.46667627353565, 6.373357661904357, 'P_012', 'F_037'], ['PartsToFacility', 6, 740, 965.1095825153319, 23.501188671766577, 'P_012', 'F_038'], ['PartsToFacility', 13, 122, 903.0979589970102, 12.913859441383403, 'P_012', 'F_039'], ['PartsToFacility', 6, 671, 527.0833346789216, 12.130375907542788, 'P_013', 'F_010'], ['PartsToFacility', 19, 528, 154.02759489897255, 4.949149742817337, 'P_013', 'F_012'], ['PartsToFacility', 4, 583, 815.7763795378324, 1.531019624532939, 'P_013', 'F_014'], ['PartsToFacility', 6, 105, 769.5290745555789, 20.02402548160875, 'P_013', 'F_017'], ['PartsToFacility', 17, 818, 734.3088413575816, 22.14793703009676, 'P_013', 'F_019'], ['PartsToFacility', 3, 353, 911.9932322906121, 12.116250058061688, 'P_013', 'F_021'], ['PartsToFacility', 20, 554, 300.11699091624547, 5.854927199091661, 'P_013', 'F_028'], ['PartsToFacility', 13, 722, 131.42293604090852, 6.864314577858989, 'P_013', 'F_031'], ['PartsToFacility', 10, 75, 409.0678343991901, 18.998994585668825, 'P_013', 'F_034'], ['PartsToFacility', 14, 143, 473.59363549340327, 5.599718887742574, 'P_014', 'F_005'], ['PartsToFacility', 18, 461, 929.6630579563001, 6.396072896573756, 'P_014', 'F_012'], ['PartsToFacility', 18, 627, 596.9649843751148, 22.523555461393528, 'P_014', 'F_017'], ['PartsToFacility', 1, 700, 778.7410795776185, 18.948711714382082, 'P_014', 'F_025'], ['PartsToFacility', 10, 323, 645.4144604951928, 10.734190859743347, 'P_014', 'F_028'], ['PartsToFacility', 18, 705, 721.3714004299426, 23.058478277071856, 'P_014', 'F_035'], ['PartsToFacility', 18, 947, 536.661491377765, 10.198213178945439, 'P_014', 'F_037'], ['PartsToFacility', 5, 669, 151.90864637761683, 28.606373897453373, 'P_014', 'F_038'], ['PartsToFacility', 11, 601, 697.3596127473069, 28.719767065992126, 'P_014', 'F_040'], ['PartsToFacility', 20, 982, 956.5132206344281, 26.318205768382317, 'P_014', 'F_041'], ['PartsToFacility', 18, 219, 385.95861545709494, 6.293681646605842, 'P_014', 'F_042'], ['PartsToFacility', 1, 255, 741.4176233633091, 28.577343351838554, 'P_014', 'F_045'], ['PartsToFacility', 1, 728, 199.81780712345355, 7.223187182144091, 'P_015', 'F_001'], ['PartsToFacility', 11, 476, 771.7710675652197, 2.012595418175908, 'P_015', 'F_006'], ['PartsToFacility', 18, 396, 382.1894192964571, 29.627428463395702, 'P_015', 'F_010'], ['PartsToFacility', 6, 417, 466.4789112163535, 6.720094486495946, 'P_015', 'F_011'], ['PartsToFacility', 10, 962, 610.0630905126906, 24.06126861022876, 'P_015', 'F_014'], ['PartsToFacility', 20, 934, 988.9050042557654, 13.64391300714344, 'P_015', 'F_017'], ['PartsToFacility', 9, 234, 858.622998508644, 29.706267408055155, 'P_015', 'F_021'], ['PartsToFacility', 14, 942, 644.5917456255904, 13.872114403722366, 'P_015', 'F_033'], ['PartsToFacility', 3, 850, 199.06910626633123, 24.86595362081908, 'P_015', 'F_037'], ['PartsToFacility', 15, 759, 590.4509707987228, 19.351575131390867, 'P_015', 'F_038'], ['PartsToFacility', 9, 19, 45.79095518406081, 15.42030691676288, 'P_015', 'F_039'], ['PartsToFacility', 15, 905, 710.602599243389, 22.856807177080807, 'P_015', 'F_041'], ['PartsToFacility', 6, 543, 135.1641798016889, 5.094073834498659, 'P_015', 'F_042'], ['PartsToFacility', 3, 109, 118.04299089639753, 27.686797583103466, 'P_016', 'F_007'], ['PartsToFacility', 5, 527, 16.386252028306366, 10.86890261199852, 'P_016', 'F_011'], ['PartsToFacility', 12, 755, 528.8893373418158, 8.289637010221668, 'P_016', 'F_012'], ['PartsToFacility', 17, 443, 742.516665203048, 8.74893258770959, 'P_016', 'F_022'], ['PartsToFacility', 20, 179, 487.4299772770662, 24.100915980415184, 'P_016', 'F_030'], ['PartsToFacility', 19, 322, 244.65431928862458, 6.200474373218173, 'P_016', 'F_035'], ['PartsToFacility', 14, 701, 99.13245846265194, 22.569551394507602, 'P_016', 'F_037'], ['PartsToFacility', 13, 892, 179.3851566182788, 7.5728729600314395, 'P_016', 'F_039'], ['PartsToFacility', 11, 890, 881.2841390573955, 27.306308547562647, 'P_016', 'F_041'], ['PartsToFacility', 18, 418, 676.592122036372, 23.106812314635626, 'P_017', 'F_002'], ['PartsToFacility', 6, 413, 607.8894100611478, 7.880899486165935, 'P_017', 'F_009'], ['PartsToFacility', 20, 463, 102.28769384905627, 14.322019898547449, 'P_017', 'F_017'], ['PartsToFacility', 19, 508, 715.831164722461, 1.9645606555694934, 'P_017', 'F_018'], ['PartsToFacility', 13, 232, 424.95992113128835, 18.352306416877212, 'P_017', 'F_019'], ['PartsToFacility', 18, 956, 213.03773645925952, 16.715255989040827, 'P_017', 'F_027'], ['PartsToFacility', 1, 113, 636.1170838970492, 17.5155653476881, 'P_017', 'F_031'], ['PartsToFacility', 11, 518, 747.0465502756629, 22.59701692438476, 'P_017', 'F_035'], ['PartsToFacility', 1, 425, 398.9475832279313, 16.58228318446339, 'P_017', 'F_036'], ['PartsToFacility', 7, 330, 744.1345297050294, 12.81399111447357, 'P_017', 'F_037'], ['PartsToFacility', 15, 228, 728.3018624226428, 1.4636176993278724, 'P_017', 'F_038'], ['PartsToFacility', 19, 120, 962.578019513642, 6.614596886566133, 'P_018', 'F_009'], ['PartsToFacility', 10, 944, 753.0296635658914, 6.14222272140693, 'P_018', 'F_010'], ['PartsToFacility', 12, 468, 218.51806433676242, 25.06792193235183, 'P_018', 'F_011'], ['PartsToFacility', 19, 606, 357.4832813536802, 12.780607957753682, 'P_018', 'F_012'], ['PartsToFacility', 14, 645, 903.8855365652837, 8.881477499568668, 'P_018', 'F_022'], ['PartsToFacility', 16, 423, 616.5395960777928, 10.845863375801308, 'P_018', 'F_026'], ['PartsToFacility', 8, 28, 662.8918839488882, 16.602916309243348, 'P_018', 'F_030'], ['PartsToFacility', 14, 385, 536.7820769409, 21.399140918315155, 'P_018', 'F_031'], ['PartsToFacility', 13, 477, 545.9148289659379, 7.496846594234633, 'P_018', 'F_038'], ['PartsToFacility', 8, 62, 827.5816911928515, 18.81118347362698, 'P_018', 'F_042'], ['PartsToFacility', 13, 159, 494.4584218440931, 9.205380473295431, 'P_018', 'F_045'], ['PartsToFacility', 10, 595, 592.8747342553434, 27.525064190984864, 'P_019', 'F_009'], ['PartsToFacility', 10, 50, 273.8647165579464, 15.95438274093383, 'P_019', 'F_017'], ['PartsToFacility', 12, 777, 559.8811617948718, 10.101671289163589, 'P_019', 'F_019'], ['PartsToFacility', 7, 935, 615.1077193328507, 7.7310447646740315, 'P_019', 'F_024'], ['PartsToFacility', 13, 264, 528.5326490579072, 22.54964158688577, 'P_019', 'F_025'], ['PartsToFacility', 5, 797, 145.07919490344938, 17.852988819435584, 'P_019', 'F_026'], ['PartsToFacility', 6, 980, 848.9092841372527, 8.146635607869348, 'P_019', 'F_027'], ['PartsToFacility', 14, 680, 944.8996311857892, 24.303608012911592, 'P_019', 'F_034'], ['PartsToFacility', 11, 242, 547.5388406980038, 28.86760556051672, 'P_019', 'F_035'], ['PartsToFacility', 13, 12, 744.8082973746534, 1.1911949133327502, 'P_019', 'F_036'], ['PartsToFacility', 10, 452, 705.4731159809667, 2.0620524601331005, 'P_019', 'F_039'], ['PartsToFacility', 20, 769, 692.7625098326947, 9.441247222978996, 'P_019', 'F_042'], ['PartsToFacility', 9, 382, 849.6442671357077, 2.3954995642171566, 'P_020', 'F_006'], ['PartsToFacility', 7, 389, 209.64730718482784, 9.067210359036281, 'P_020', 'F_007'], ['PartsToFacility', 5, 532, 583.375448409201, 17.035246633049507, 'P_020', 'F_008'], ['PartsToFacility', 4, 753, 571.0766601940826, 9.768040797537525, 'P_020', 'F_011'], ['PartsToFacility', 4, 355, 872.7827487104784, 14.553796526188115, 'P_020', 'F_017'], ['PartsToFacility', 6, 911, 801.8020137050562, 6.523311462331072, 'P_020', 'F_022'], ['PartsToFacility', 4, 928, 310.4946626766177, 13.448339717712908, 'P_020', 'F_031'], ['PartsToFacility', 11, 929, 280.2005060302189, 10.047579996851406, 'P_020', 'F_035'], ['PartsToFacility', 14, 878, 71.2604103055679, 16.810776289281826, 'P_020', 'F_036'], ['PartsToFacility', 19, 467, 846.2130131058824, 5.645820213041541, 'P_020', 'F_037'], ['PartsToFacility', 19, 569, 338.1508406057045, 4.2251827382103455, 'P_020', 'F_041'], ['PartsToFacility', 10, 692, 484.1291650347233, 6.920570017166833, 'P_021', 'F_011'], ['PartsToFacility', 20, 910, 919.421397097042, 17.056891820868962, 'P_021', 'F_014'], ['PartsToFacility', 3, 989, 288.2028010636878, 20.782600506104284, 'P_021', 'F_022'], ['PartsToFacility', 8, 422, 362.4744683425613, 7.057868544999212, 'P_021', 'F_028'], ['PartsToFacility', 12, 583, 226.03528278970032, 29.216098116436182, 'P_021', 'F_030'], ['PartsToFacility', 14, 148, 502.39361822397103, 12.82883093410027, 'P_021', 'F_034'], ['PartsToFacility', 1, 959, 178.0095024896965, 3.5157280902721646, 'P_021', 'F_038'], ['PartsToFacility', 4, 149, 133.39344279831846, 4.944540622123666, 'P_021', 'F_039'], ['PartsToFacility', 16, 156, 906.6911380028241, 28.171783426089345, 'P_021', 'F_045'], ['PartsToFacility', 8, 416, 640.3200013404629, 10.787858544967593, 'P_022', 'F_008'], ['PartsToFacility', 1, 734, 807.1024529431486, 12.313854478331852, 'P_022', 'F_009'], ['PartsToFacility', 19, 399, 257.0915734098994, 14.880483625963514, 'P_022', 'F_011'], ['PartsToFacility', 4, 865, 567.7060847270659, 25.565560474084613, 'P_022', 'F_013'], ['PartsToFacility', 9, 574, 915.6232879388995, 17.237318518799086, 'P_022', 'F_014'], ['PartsToFacility', 6, 185, 709.1690799859628, 8.451638858794182, 'P_022', 'F_021'], ['PartsToFacility', 8, 734, 595.5062777694752, 2.6273150123456044, 'P_022', 'F_022'], ['PartsToFacility', 16, 810, 530.7572661434376, 20.76961170675542, 'P_022', 'F_025'], ['PartsToFacility', 13, 217, 610.2202671669045, 8.434322101022055, 'P_022', 'F_026'], ['PartsToFacility', 1, 841, 996.213212614545, 26.8607933643513, 'P_022', 'F_028'], ['PartsToFacility', 17, 835, 893.6109139662502, 25.19712677760131, 'P_022', 'F_030'], ['PartsToFacility', 17, 104, 121.36367496364768, 12.525541386406262, 'P_022', 'F_031'], ['PartsToFacility', 18, 475, 94.67163615262835, 12.393818828407376, 'P_022', 'F_032'], ['PartsToFacility', 7, 809, 126.41447068018063, 3.9222105854989477, 'P_022', 'F_035'], ['PartsToFacility', 2, 440, 920.632650124077, 25.331555802778045, 'P_022', 'F_039'], ['PartsToFacility', 4, 542, 161.1955318362796, 27.348991155838725, 'P_022', 'F_045'], ['PartsToFacility', 11, 733, 233.95777172705783, 18.898116208938795, 'P_023', 'F_007'], ['PartsToFacility', 16, 142, 819.5409312073222, 25.014158807174123, 'P_023', 'F_010'], ['PartsToFacility', 12, 75, 166.36350813483833, 11.784606981203202, 'P_023', 'F_011'], ['PartsToFacility', 5, 143, 649.7920809830113, 4.2941042186666385, 'P_023', 'F_021'], ['PartsToFacility', 5, 456, 182.42059043298408, 3.104755029137818, 'P_023', 'F_022'], ['PartsToFacility', 17, 355, 55.779107638704694, 16.850178259549757, 'P_023', 'F_024'], ['PartsToFacility', 14, 240, 520.4718355908419, 15.231116625049399, 'P_023', 'F_025'], ['PartsToFacility', 12, 364, 851.3585131400803, 18.288234985757015, 'P_023', 'F_028'], ['PartsToFacility', 13, 772, 136.76540980547875, 13.641198416099048, 'P_023', 'F_035'], ['PartsToFacility', 13, 627, 560.5916104543185, 23.772836369871484, 'P_023', 'F_036'], ['PartsToFacility', 15, 780, 393.27238684899504, 25.20156558064269, 'P_023', 'F_043'], ['PartsToFacility', 7, 836, 356.06974040778874, 4.877225048620876, 'P_023', 'F_045'], ['PartsToFacility', 12, 533, 969.5781927595466, 21.35805685913878, 'P_024', 'F_004'], ['PartsToFacility', 8, 230, 667.2857996913223, 16.15139681260427, 'P_024', 'F_011'], ['PartsToFacility', 3, 497, 628.9515754629924, 20.56818971170411, 'P_024', 'F_014'], ['PartsToFacility', 11, 872, 761.0564911747189, 29.719057527293373, 'P_024', 'F_017'], ['PartsToFacility', 7, 152, 594.432171780579, 10.114375577240125, 'P_024', 'F_024'], ['PartsToFacility', 1, 663, 506.0381752881, 18.645779319708957, 'P_024', 'F_025'], ['PartsToFacility', 1, 251, 440.5404081870411, 16.288684840900416, 'P_024', 'F_028'], ['PartsToFacility', 1, 494, 357.5816841122016, 23.971814352031547, 'P_024', 'F_036'], ['PartsToFacility', 8, 13, 630.4557558598274, 25.31249975144976, 'P_024', 'F_037'], ['PartsToFacility', 2, 763, 416.9895935861582, 7.711416073110276, 'P_024', 'F_038'], ['PartsToFacility', 11, 206, 645.1188819511151, 8.25564401198395, 'P_024', 'F_045'], ['PartsToFacility', 18, 355, 634.1720049784307, 23.791553555957037, 'P_025', 'F_002'], ['PartsToFacility', 12, 724, 849.5604058057683, 20.307720029811936, 'P_025', 'F_007'], ['PartsToFacility', 15, 86, 97.69961390634445, 2.583706356279104, 'P_025', 'F_008'], ['PartsToFacility', 4, 212, 311.7383827276713, 29.138051019546158, 'P_025', 'F_017'], ['PartsToFacility', 2, 994, 261.2486817137906, 2.0903631529004887, 'P_025', 'F_022'], ['PartsToFacility', 14, 409, 271.2082160755818, 15.410829958128438, 'P_025', 'F_024'], ['PartsToFacility', 17, 944, 568.3268339646105, 20.702307691513223, 'P_025', 'F_026'], ['PartsToFacility', 13, 128, 728.3940665649284, 4.877165477294377, 'P_025', 'F_028'], ['PartsToFacility', 8, 393, 834.6109142166026, 1.1526997402339707, 'P_025', 'F_029'], ['PartsToFacility', 17, 64, 823.797310412456, 8.40773683166972, 'P_025', 'F_031'], ['PartsToFacility', 13, 508, 285.2270097785728, 2.1743635000167574, 'P_025', 'F_036'], ['PartsToFacility', 7, 687, 188.13490375340538, 5.494038970757374, 'P_025', 'F_038'], ['PartsToFacility', 14, 39, 772.7824753779024, 14.628781340393283, 'P_025', 'F_040'], ['PartsToFacility', 9, 620, 631.4710315087242, 22.310914591848395, 'P_025', 'F_042'], ['PartsToFacility', 12, 365, 936.0564648787954, 8.951626926871054, 'P_026', 'F_006'], ['PartsToFacility', 12, 736, 420.5596271360528, 28.129694497719505, 'P_026', 'F_011'], ['PartsToFacility', 19, 720, 625.4755177686812, 27.70930383095184, 'P_026', 'F_014'], ['PartsToFacility', 20, 443, 576.5405737772336, 6.4339586913860956, 'P_026', 'F_022'], ['PartsToFacility', 20, 168, 312.63417907705445, 23.951691236962827, 'P_026', 'F_028'], ['PartsToFacility', 18, 889, 866.0691237572191, 28.03019387846603, 'P_026', 'F_038'], ['PartsToFacility', 17, 846, 888.2538482620762, 4.705885423454416, 'P_026', 'F_039'], ['PartsToFacility', 15, 560, 145.0743581882204, 6.539234461742944, 'P_026', 'F_041'], ['PartsToFacility', 12, 446, 854.1163982320329, 12.981792572115795, 'P_027', 'F_007'], ['PartsToFacility', 11, 223, 750.6140368761335, 28.11046743388543, 'P_027', 'F_013'], ['PartsToFacility', 20, 407, 275.9262793034214, 8.369619913495884, 'P_027', 'F_016'], ['PartsToFacility', 13, 26, 850.4792238583804, 10.924260806205893, 'P_027', 'F_022'], ['PartsToFacility', 7, 691, 717.8334574095835, 19.483365455515603, 'P_027', 'F_026'], ['PartsToFacility', 17, 40, 343.7613511729402, 22.04873064574011, 'P_027', 'F_029'], ['PartsToFacility', 14, 694, 17.419730848723294, 23.813510031458385, 'P_027', 'F_031'], ['PartsToFacility', 20, 183, 643.0402641397094, 2.9708331770735454, 'P_027', 'F_036'], ['PartsToFacility', 16, 922, 844.8493219332619, 3.2206198155969745, 'P_027', 'F_038'], ['PartsToFacility', 8, 196, 286.968091412266, 17.493764544238545, 'P_027', 'F_039'], ['PartsToFacility', 3, 157, 985.9616229789463, 5.879564427902404, 'P_027', 'F_043'], ['PartsToFacility', 4, 853, 166.05828666637447, 9.144047709005559, 'P_028', 'F_007'], ['PartsToFacility', 19, 113, 423.58685858433876, 2.110989290207071, 'P_028', 'F_017'], ['PartsToFacility', 11, 654, 782.731126633882, 12.651860464222073, 'P_028', 'F_022'], ['PartsToFacility', 10, 895, 172.86141344434304, 7.675567910635541, 'P_028', 'F_024'], ['PartsToFacility', 12, 763, 481.3790137934961, 8.703774030478707, 'P_028', 'F_026'], ['PartsToFacility', 1, 792, 744.3580351781195, 10.396958519549242, 'P_028', 'F_038'], ['PartsToFacility', 8, 994, 156.10876578984917, 28.24192232404697, 'P_028', 'F_039'], ['PartsToFacility', 1, 446, 722.027772606237, 16.298724162386158, 'P_029', 'F_008'], ['PartsToFacility', 12, 745, 921.442759590403, 23.37053186837308, 'P_029', 'F_011'], ['PartsToFacility', 17, 664, 251.87202370711566, 5.168458314924096, 'P_029', 'F_016'], ['PartsToFacility', 10, 174, 35.21660138304962, 28.398110528290328, 'P_029', 'F_017'], ['PartsToFacility', 20, 475, 30.054347796538682, 8.081842035626977, 'P_029', 'F_023'], ['PartsToFacility', 4, 69, 242.0563978318295, 16.76583962850107, 'P_029', 'F_024'], ['PartsToFacility', 7, 679, 797.0875058007615, 10.996469242362828, 'P_029', 'F_025'], ['PartsToFacility', 13, 755, 433.3438460722547, 16.04732332796703, 'P_029', 'F_026'], ['PartsToFacility', 3, 89, 693.4117351576325, 2.8259896359210126, 'P_029', 'F_027'], ['PartsToFacility', 11, 194, 618.7019087912556, 21.432695347223028, 'P_029', 'F_035'], ['PartsToFacility', 1, 853, 459.6564554881593, 14.575789846982563, 'P_029', 'F_038'], ['PartsToFacility', 12, 94, 396.4656218035635, 19.410559860230038, 'P_029', 'F_039'], ['PartsToFacility', 12, 935, 167.28848639019355, 27.119637107200088, 'P_030', 'F_019'], ['PartsToFacility', 15, 663, 939.1574328955313, 16.920247589535265, 'P_030', 'F_020'], ['PartsToFacility', 14, 603, 961.6577300548701, 29.23255940873802, 'P_030', 'F_029'], ['PartsToFacility', 7, 358, 637.105249436799, 4.323954295259797, 'P_030', 'F_034'], ['PartsToFacility', 13, 476, 375.5686257536208, 20.58705570693266, 'P_030', 'F_036'], ['PartsToFacility', 16, 889, 60.64450679512624, 8.054650650389444, 'P_030', 'F_038'], ['PartsToFacility', 20, 345, 729.9939335612462, 2.8206684001269715, 'P_030', 'F_039'], ['PartsToFacility', 6, 643, 846.2316985999886, 14.494347570665678, 'P_030', 'F_041'], ['PartsToFacility', 11, 35, 300.95578366070686, 16.642416504782375, 'P_030', 'F_044'], ['PartsToFacility', 7, 280, 410.2642529858425, 9.09558229726915, 'P_030', 'F_045'], ['PartsToFacility', 8, 481, 557.1040472187422, 17.31777626658542, 'P_031', 'F_005'], ['PartsToFacility', 3, 525, 342.9732056447044, 25.45789782774512, 'P_031', 'F_010'], ['PartsToFacility', 7, 730, 38.067775365748766, 13.645749344922375, 'P_031', 'F_014'], ['PartsToFacility', 15, 132, 49.82648995030128, 9.37188074393796, 'P_031', 'F_021'], ['PartsToFacility', 7, 897, 406.1835356827623, 13.229881895731538, 'P_031', 'F_024'], ['PartsToFacility', 13, 382, 547.5375095238907, 26.914954482047104, 'P_031', 'F_038'], ['PartsToFacility', 19, 873, 920.251512848585, 10.420154219673758, 'P_031', 'F_039'], ['PartsToFacility', 4, 132, 268.45012913007105, 2.880400482915415, 'P_031', 'F_040'], ['PartsToFacility', 5, 438, 893.423641967194, 4.967057836396901, 'P_031', 'F_041'], ['PartsToFacility', 17, 790, 317.11289559029825, 8.630085997330664, 'P_032', 'F_017'], ['PartsToFacility', 5, 54, 319.9404333101979, 21.809676682664726, 'P_032', 'F_024'], ['PartsToFacility', 5, 555, 271.50213132008207, 15.087736940080987, 'P_032', 'F_025'], ['PartsToFacility', 19, 376, 943.6614028064347, 25.95106600360344, 'P_032', 'F_028'], ['PartsToFacility', 20, 847, 690.957614753205, 25.804165046328976, 'P_032', 'F_036'], ['PartsToFacility', 3, 300, 413.5769036803272, 6.328112451734031, 'P_032', 'F_038'], ['PartsToFacility', 3, 595, 127.61787585463269, 16.909798001699208, 'P_032', 'F_039'], ['PartsToFacility', 16, 701, 848.9233158891014, 15.697574033626937, 'P_032', 'F_040'], ['PartsToFacility', 5, 23, 92.26627280189413, 12.051902175391113, 'P_032', 'F_042'], ['PartsToFacility', 5, 608, 768.1018230979608, 7.679584800179066, 'P_032', 'F_045'], ['PartsToFacility', 2, 389, 462.08042829099344, 17.04339365728443, 'P_033', 'F_001'], ['PartsToFacility', 4, 706, 629.8564597168928, 7.001621214750509, 'P_033', 'F_007'], ['PartsToFacility', 18, 301, 679.6472919571504, 18.736098667529767, 'P_033', 'F_008'], ['PartsToFacility', 2, 935, 991.0884533635125, 26.456577507764166, 'P_033', 'F_010'], ['PartsToFacility', 10, 630, 232.9268155733014, 17.66388297882121, 'P_033', 'F_014'], ['PartsToFacility', 12, 125, 536.8658605033664, 19.03346151830711, 'P_033', 'F_017'], ['PartsToFacility', 19, 942, 38.90929719145841, 26.625197589304236, 'P_033', 'F_025'], ['PartsToFacility', 2, 994, 567.1698109559345, 7.677405467416101, 'P_033', 'F_028'], ['PartsToFacility', 8, 896, 472.27084840096995, 12.118609260704925, 'P_033', 'F_030'], ['PartsToFacility', 6, 398, 975.5597960584514, 11.908247451847698, 'P_033', 'F_033'], ['PartsToFacility', 16, 831, 386.5809516578476, 7.244000560583857, 'P_034', 'F_001'], ['PartsToFacility', 5, 333, 599.0687806974294, 4.493681658727564, 'P_034', 'F_005'], ['PartsToFacility', 6, 107, 748.3526402392663, 7.12613643909843, 'P_034', 'F_006'], ['PartsToFacility', 14, 31, 986.0559810592233, 28.192163390360317, 'P_034', 'F_013'], ['PartsToFacility', 10, 438, 388.8547484078502, 2.6316292493172146, 'P_034', 'F_014'], ['PartsToFacility', 16, 40, 716.0066089904925, 23.209791605261668, 'P_034', 'F_020'], ['PartsToFacility', 4, 82, 955.9082639516217, 29.072085824907617, 'P_034', 'F_023'], ['PartsToFacility', 7, 37, 141.7956239007051, 5.81251434805223, 'P_034', 'F_024'], ['PartsToFacility', 15, 118, 948.175587073905, 11.927486024805253, 'P_034', 'F_027'], ['PartsToFacility', 5, 663, 25.976438975790956, 20.900646736329104, 'P_034', 'F_028'], ['PartsToFacility', 7, 364, 270.09552430171254, 11.200564330680871, 'P_034', 'F_032'], ['PartsToFacility', 5, 550, 920.3153747352559, 19.94531868707884, 'P_034', 'F_039'], ['PartsToFacility', 5, 643, 745.9142694676273, 26.976213725189716, 'P_034', 'F_042'], ['PartsToFacility', 16, 474, 696.268457353073, 23.77941901145225, 'P_034', 'F_044'], ['PartsToFacility', 10, 234, 765.1674975526687, 7.37779886569311, 'P_035', 'F_001'], ['PartsToFacility', 11, 877, 469.04191532116494, 24.72993903130063, 'P_035', 'F_010'], ['PartsToFacility', 4, 429, 723.2195037443882, 4.858775475986755, 'P_035', 'F_011'], ['PartsToFacility', 5, 67, 439.3383574015082, 16.020297477636248, 'P_035', 'F_014'], ['PartsToFacility', 4, 154, 308.52929011221966, 11.874180536354409, 'P_035', 'F_017'], ['PartsToFacility', 17, 433, 580.6718076763218, 27.323128755717182, 'P_035', 'F_021'], ['PartsToFacility', 9, 295, 520.6289300231161, 18.381435256658, 'P_035', 'F_024'], ['PartsToFacility', 15, 408, 529.1670482872615, 3.1350198564359606, 'P_035', 'F_025'], ['PartsToFacility', 10, 803, 83.85670645751959, 10.677416603504549, 'P_035', 'F_026'], ['PartsToFacility', 20, 858, 88.71085933468382, 26.593565002985528, 'P_035', 'F_030'], ['PartsToFacility', 8, 133, 300.00028198743325, 12.15455684408245, 'P_035', 'F_036'], ['PartsToFacility', 17, 875, 563.6189788648012, 22.005782078545664, 'P_035', 'F_037'], ['PartsToFacility', 16, 691, 589.7074802357454, 29.908738904475683, 'P_035', 'F_042'], ['PartsToFacility', 16, 195, 333.6868674633091, 27.857702485969096, 'P_035', 'F_044'], ['PartsToFacility', 2, 456, 940.2261865582651, 1.9377005226188633, 'P_036', 'F_001'], ['PartsToFacility', 9, 664, 80.72673690921847, 24.91422146448351, 'P_036', 'F_011'], ['PartsToFacility', 9, 868, 934.5534140594152, 20.331386487345736, 'P_036', 'F_016'], ['PartsToFacility', 19, 785, 693.9164538537722, 11.920105825077076, 'P_036', 'F_019'], ['PartsToFacility', 1, 901, 759.0115624725061, 2.6041287514276172, 'P_036', 'F_021'], ['PartsToFacility', 12, 600, 675.8499033247973, 19.198882326095443, 'P_036', 'F_025'], ['PartsToFacility', 7, 962, 747.2592886148722, 16.150800005293473, 'P_036', 'F_026'], ['PartsToFacility', 7, 408, 327.4320600916804, 6.15550638593655, 'P_036', 'F_028'], ['PartsToFacility', 8, 203, 262.13511546940424, 6.675580022355633, 'P_036', 'F_031'], ['PartsToFacility', 20, 88, 282.10627202574926, 5.599523814299047, 'P_036', 'F_035'], ['PartsToFacility', 14, 483, 557.9844917584226, 1.412355815375599, 'P_036', 'F_036'], ['PartsToFacility', 9, 992, 16.05830252235119, 23.615687242341863, 'P_036', 'F_037'], ['PartsToFacility', 8, 888, 667.3489348164163, 5.060241760550616, 'P_036', 'F_038'], ['PartsToFacility', 1, 620, 978.2564854280408, 27.97342566535732, 'P_036', 'F_039'], ['PartsToFacility', 17, 348, 904.4519519580446, 16.511673830467288, 'P_036', 'F_040'], ['PartsToFacility', 19, 381, 869.4007059995677, 16.98566535366749, 'P_036', 'F_041'], ['PartsToFacility', 17, 398, 395.6629555121594, 1.3913478500964098, 'P_036', 'F_044'], ['PartsToFacility', 14, 723, 896.8195884808349, 24.733716571315643, 'P_037', 'F_007'], ['PartsToFacility', 5, 68, 16.718577579695875, 9.304222492159417, 'P_037', 'F_008'], ['PartsToFacility', 10, 623, 605.0566872323833, 19.73241686041046, 'P_037', 'F_014'], ['PartsToFacility', 12, 749, 709.2804813339296, 20.65983429780954, 'P_037', 'F_017'], ['PartsToFacility', 6, 122, 223.82823447442024, 24.719007506359464, 'P_037', 'F_018'], ['PartsToFacility', 19, 569, 258.989236119612, 7.232309768707696, 'P_037', 'F_019'], ['PartsToFacility', 20, 584, 710.4419804777377, 6.628038165151307, 'P_037', 'F_024'], ['PartsToFacility', 1, 35, 285.06384769597514, 26.268386406232032, 'P_037', 'F_025'], ['PartsToFacility', 9, 358, 905.8970700852802, 29.536754507214265, 'P_037', 'F_027'], ['PartsToFacility', 6, 599, 329.36496951901677, 20.76690058354447, 'P_037', 'F_034'], ['PartsToFacility', 11, 500, 375.0658878990111, 22.806415692975857, 'P_037', 'F_035'], ['PartsToFacility', 9, 356, 672.44251977654, 21.007155963855357, 'P_037', 'F_038'], ['PartsToFacility', 17, 769, 566.6250540564874, 14.171737267004923, 'P_037', 'F_039'], ['PartsToFacility', 14, 884, 750.5209526454139, 22.381221618529842, 'P_037', 'F_041'], ['PartsToFacility', 7, 275, 401.9562762355957, 6.970739048555852, 'P_038', 'F_009'], ['PartsToFacility', 10, 630, 302.3057829568464, 10.993248293484088, 'P_038', 'F_032'], ['PartsToFacility', 6, 673, 221.31002509450826, 3.578021080457991, 'P_038', 'F_036'], ['PartsToFacility', 20, 818, 862.0033234536436, 25.845015452430623, 'P_038', 'F_037'], ['PartsToFacility', 17, 943, 881.0416705175235, 21.829947266069453, 'P_038', 'F_039'], ['PartsToFacility', 12, 653, 903.7741757359609, 14.68077950427933, 'P_038', 'F_042'], ['PartsToFacility', 14, 395, 52.30694041435438, 14.696386141882956, 'P_038', 'F_045'], ['PartsToFacility', 9, 893, 932.5578936129228, 1.8630691457589836, 'P_039', 'F_009'], ['PartsToFacility', 4, 482, 878.720292985635, 9.005366807880973, 'P_039', 'F_024'], ['PartsToFacility', 10, 826, 221.9014074459478, 5.795866185646469, 'P_039', 'F_027'], ['PartsToFacility', 20, 727, 77.3124535542874, 26.41852817785961, 'P_039', 'F_031'], ['PartsToFacility', 8, 580, 264.7833894447455, 21.698693610367563, 'P_039', 'F_034'], ['PartsToFacility', 14, 848, 276.0503893910773, 4.292004257862622, 'P_039', 'F_035'], ['PartsToFacility', 4, 18, 274.9294758011089, 9.300249108685843, 'P_039', 'F_039'], ['PartsToFacility', 5, 748, 78.65071113541902, 26.361534819726767, 'P_039', 'F_042'], ['PartsToFacility', 4, 309, 154.17752292987822, 12.643949598686044, 'P_040', 'F_006'], ['PartsToFacility', 20, 796, 901.5586097746516, 15.988884308013667, 'P_040', 'F_010'], ['PartsToFacility', 16, 726, 194.38248505905545, 27.735260420297326, 'P_040', 'F_011'], ['PartsToFacility', 13, 520, 268.89562929895783, 8.80585561239426, 'P_040', 'F_016'], ['PartsToFacility', 14, 326, 668.7009386110724, 13.323800611437784, 'P_040', 'F_017'], ['PartsToFacility', 14, 106, 233.95161094686736, 7.743209487418946, 'P_040', 'F_019'], ['PartsToFacility', 10, 942, 953.0466921581669, 13.562027485138815, 'P_040', 'F_035'], ['PartsToFacility', 18, 523, 281.37171001787874, 15.596621263049517, 'P_040', 'F_037'], ['PartsToFacility', 19, 998, 81.76467131932543, 5.352768968566483, 'P_040', 'F_039'], ['PartsToFacility', 5, 227, 133.3468640745424, 5.807052965866726, 'P_040', 'F_042'], ['PartsToFacility', 18, 853, 594.7268347264829, 4.97363227438564, 'P_041', 'F_014'], ['PartsToFacility', 3, 950, 342.5827468685493, 19.501956328356815, 'P_041', 'F_017'], ['PartsToFacility', 20, 797, 447.858201938465, 5.7930072208991845, 'P_041', 'F_019'], ['PartsToFacility', 5, 987, 293.7275809532219, 9.419219932709051, 'P_041', 'F_021'], ['PartsToFacility', 4, 184, 885.9299634822614, 3.5419355650373268, 'P_041', 'F_022'], ['PartsToFacility', 16, 744, 141.49035597165937, 3.7648670153242585, 'P_041', 'F_034'], ['PartsToFacility', 11, 431, 319.67928400865867, 20.781010510834616, 'P_041', 'F_039'], ['PartsToFacility', 18, 387, 434.90875941969944, 17.114880831145847, 'P_041', 'F_040'], ['PartsToFacility', 1, 300, 679.4885413483635, 23.14358818920409, 'P_041', 'F_045'], ['PartsToFacility', 9, 490, 413.50569784960277, 27.34676552869362, 'P_042', 'F_010'], ['PartsToFacility', 17, 146, 56.89210571065815, 22.537852556411824, 'P_042', 'F_011'], ['PartsToFacility', 20, 227, 758.9933926401967, 1.2949696561629298, 'P_042', 'F_014'], ['PartsToFacility', 17, 369, 424.9274183343278, 3.80200585583557, 'P_042', 'F_017'], ['PartsToFacility', 10, 93, 174.75948759838775, 6.78792604360219, 'P_042', 'F_019'], ['PartsToFacility', 17, 903, 36.323702973765194, 29.518110473578712, 'P_042', 'F_025'], ['PartsToFacility', 12, 638, 576.298104803035, 11.620591358305738, 'P_042', 'F_028'], ['PartsToFacility', 13, 37, 930.2911123484356, 14.26228299526495, 'P_042', 'F_036'], ['PartsToFacility', 8, 312, 492.03263695463016, 14.388529082056893, 'P_042', 'F_037'], ['PartsToFacility', 7, 796, 793.6567902009094, 24.103602468100704, 'P_042', 'F_039'], ['PartsToFacility', 17, 536, 786.9938874547753, 18.535911240564218, 'P_042', 'F_045'], ['PartsToFacility', 17, 353, 873.9709168399055, 20.87079522485276, 'P_043', 'F_010'], ['PartsToFacility', 17, 785, 885.5884466640174, 9.26071792787171, 'P_043', 'F_011'], ['PartsToFacility', 9, 784, 986.5220232561556, 22.958309267480875, 'P_043', 'F_019'], ['PartsToFacility', 5, 522, 459.2856129281001, 27.617754697678993, 'P_043', 'F_024'], ['PartsToFacility', 17, 272, 380.37394215348, 1.936785908973826, 'P_043', 'F_026'], ['PartsToFacility', 19, 929, 958.3498462559841, 24.13967765512126, 'P_043', 'F_028'], ['PartsToFacility', 4, 247, 626.6162664852968, 12.734285795864897, 'P_043', 'F_036'], ['PartsToFacility', 4, 341, 252.16468518629443, 9.514640123706256, 'P_043', 'F_039'], ['PartsToFacility', 4, 267, 921.0848202323535, 13.913754814748978, 'P_043', 'F_041'], ['PartsToFacility', 7, 293, 464.5518364033099, 16.811078184564472, 'P_043', 'F_045'], ['PartsToFacility', 11, 502, 965.5016126211966, 3.3016325786722946, 'P_044', 'F_006'], ['PartsToFacility', 9, 605, 290.54524073365207, 22.5485647713912, 'P_044', 'F_007'], ['PartsToFacility', 10, 271, 281.9275079895847, 26.6323436458903, 'P_044', 'F_009'], ['PartsToFacility', 7, 426, 821.8042630650607, 16.669337530635147, 'P_044', 'F_010'], ['PartsToFacility', 20, 726, 973.7543934459889, 8.869824818990857, 'P_044', 'F_015'], ['PartsToFacility', 1, 712, 818.6073321961392, 22.784449806926904, 'P_044', 'F_022'], ['PartsToFacility', 6, 268, 10.293394048241018, 28.410249503664442, 'P_044', 'F_025'], ['PartsToFacility', 19, 511, 107.17521585393261, 17.17286119093222, 'P_044', 'F_026'], ['PartsToFacility', 10, 144, 699.8846432996587, 6.048187984843188, 'P_044', 'F_028'], ['PartsToFacility', 10, 823, 714.9201436740348, 13.598419598122693, 'P_044', 'F_031'], ['PartsToFacility', 20, 412, 628.0454895176119, 19.568279274257232, 'P_044', 'F_033'], ['PartsToFacility', 2, 685, 296.702118446276, 18.49704848409533, 'P_044', 'F_036'], ['PartsToFacility', 7, 76, 110.2839249318659, 18.459669208799287, 'P_044', 'F_038'], ['PartsToFacility', 10, 891, 67.2934520516411, 21.246553603174657, 'P_044', 'F_041'], ['PartsToFacility', 17, 205, 37.41827186098383, 19.601115207177337, 'P_044', 'F_043'], ['PartsToFacility', 2, 829, 154.46732802575818, 8.460600563625428, 'P_044', 'F_044'], ['PartsToFacility', 10, 702, 135.14644013762893, 2.860075712684549, 'P_045', 'F_005'], ['PartsToFacility', 1, 390, 215.5136027489475, 11.0492538899725, 'P_045', 'F_007'], ['PartsToFacility', 19, 677, 481.5944663808309, 20.017125852387043, 'P_045', 'F_008'], ['PartsToFacility', 3, 737, 158.3946013635565, 14.738251318640453, 'P_045', 'F_009'], ['PartsToFacility', 15, 195, 86.40231596126083, 25.32603382369929, 'P_045', 'F_010'], ['PartsToFacility', 10, 933, 195.98958893687197, 4.536049003295024, 'P_045', 'F_024'], ['PartsToFacility', 14, 581, 434.3810383596133, 22.805905637379496, 'P_045', 'F_027'], ['PartsToFacility', 3, 693, 208.78079219348228, 3.737196849968792, 'P_045', 'F_028'], ['PartsToFacility', 12, 573, 335.02798935301325, 9.380838737180623, 'P_045', 'F_032'], ['PartsToFacility', 2, 628, 392.84589111657345, 11.068796763907082, 'P_045', 'F_033'], ['PartsToFacility', 19, 57, 485.7800333409172, 4.658049729071244, 'P_045', 'F_038'], ['PartsToFacility', 14, 74, 840.5260621805733, 1.7764214067008393, 'P_046', 'F_006'], ['PartsToFacility', 12, 53, 197.98252009124857, 12.79371362874539, 'P_046', 'F_009'], ['PartsToFacility', 8, 497, 946.7582526689147, 11.407868686647157, 'P_046', 'F_010'], ['PartsToFacility', 17, 638, 483.31571545136063, 15.640130853989483, 'P_046', 'F_013'], ['PartsToFacility', 20, 382, 459.59640943985397, 26.500570564040732, 'P_046', 'F_019'], ['PartsToFacility', 7, 393, 352.82511254619203, 4.471764316705798, 'P_046', 'F_024'], ['PartsToFacility', 7, 624, 274.4532508844199, 22.43662965406605, 'P_046', 'F_025'], ['PartsToFacility', 11, 794, 858.42212091018, 11.591570351155493, 'P_046', 'F_038'], ['PartsToFacility', 1, 95, 796.0300377743042, 27.03020466693446, 'P_046', 'F_042'], ['PartsToFacility', 12, 843, 51.28469539558157, 25.00857139672614, 'P_046', 'F_045'], ['PartsToFacility', 4, 466, 20.543615759488173, 4.786438637773637, 'P_047', 'F_024'], ['PartsToFacility', 8, 131, 652.1467976219257, 19.773064577956173, 'P_047', 'F_028'], ['PartsToFacility', 9, 443, 832.5105314493173, 21.768443281003023, 'P_047', 'F_032'], ['PartsToFacility', 4, 888, 254.32166101992917, 18.71822409809342, 'P_047', 'F_037'], ['PartsToFacility', 3, 903, 45.31965190061491, 29.25869349039864, 'P_047', 'F_039'], ['PartsToFacility', 20, 67, 429.4094177022755, 19.798173031775374, 'P_047', 'F_041'], ['PartsToFacility', 8, 220, 699.9891719404122, 26.38695014518886, 'P_047', 'F_042'], ['PartsToFacility', 11, 494, 143.77171371392663, 1.816885473081168, 'P_048', 'F_007'], ['PartsToFacility', 19, 487, 321.76394911005383, 14.366083271503557, 'P_048', 'F_009'], ['PartsToFacility', 14, 225, 39.454505359171065, 20.587038916148778, 'P_048', 'F_010'], ['PartsToFacility', 1, 968, 798.7918151482463, 13.019343113787711, 'P_048', 'F_011'], ['PartsToFacility', 15, 335, 244.53697668678456, 25.908399637740718, 'P_048', 'F_014'], ['PartsToFacility', 2, 510, 217.81146407652358, 2.6560380498789993, 'P_048', 'F_025'], ['PartsToFacility', 9, 984, 641.9624741589577, 2.25927203292681, 'P_048', 'F_027'], ['PartsToFacility', 13, 959, 599.7421647534328, 13.876861808177813, 'P_048', 'F_031'], ['PartsToFacility', 11, 389, 640.4414214291703, 18.540453454910917, 'P_048', 'F_033'], ['PartsToFacility', 14, 278, 552.2271595731241, 3.8326539931719097, 'P_048', 'F_034'], ['PartsToFacility', 13, 274, 998.103491111439, 3.2269228195180557, 'P_048', 'F_039'], ['PartsToFacility', 7, 56, 723.473764419604, 26.49286001176509, 'P_048', 'F_045'], ['PartsToFacility', 9, 947, 828.9516632487646, 17.186756927748206, 'P_049', 'F_007'], ['PartsToFacility', 1, 23, 719.289323873623, 26.894016166331234, 'P_049', 'F_010'], ['PartsToFacility', 9, 53, 584.9055459888499, 12.325630425246672, 'P_049', 'F_014'], ['PartsToFacility', 4, 134, 989.1931304760692, 9.100250703583551, 'P_049', 'F_021'], ['PartsToFacility', 20, 360, 130.69122314354578, 9.635135689524557, 'P_049', 'F_028'], ['PartsToFacility', 9, 259, 951.6651804614172, 17.482447811004967, 'P_049', 'F_036'], ['PartsToFacility', 1, 282, 501.44922440771705, 28.830725206218837, 'P_049', 'F_037'], ['PartsToFacility', 11, 144, 648.8702056919391, 13.306911840150406, 'P_049', 'F_038'], ['PartsToFacility', 9, 244, 269.8529226018565, 27.508112424162878, 'P_049', 'F_039'], ['PartsToFacility', 5, 857, 878.2540435156109, 5.2735783627371475, 'P_049', 'F_044'], ['PartsToFacility', 12, 675, 894.1724557520828, 28.244222379992028, 'P_049', 'F_045'], ['PartsToFacility', 19, 794, 990.9108258254929, 26.924184073179557, 'P_050', 'F_010'], ['PartsToFacility', 5, 481, 339.68120172051647, 10.974246957798302, 'P_050', 'F_014'], ['PartsToFacility', 3, 345, 482.4846866217471, 17.71703425983329, 'P_050', 'F_026'], ['PartsToFacility', 18, 550, 873.7737678267727, 19.609013631598874, 'P_050', 'F_028'], ['PartsToFacility', 4, 512, 285.7322533796985, 5.328629188322703, 'P_050', 'F_039'], ['PartsToFacility', 15, 885, 114.63222551946006, 10.113682152582818, 'P_050', 'F_040'], ['PartsToFacility', 14, 440, 36.74268321043094, 27.93882285501233, 'P_051', 'F_007'], ['PartsToFacility', 18, 609, 218.77658655840088, 20.20860765814465, 'P_051', 'F_008'], ['PartsToFacility', 15, 199, 780.6931523494171, 9.454854323111347, 'P_051', 'F_010'], ['PartsToFacility', 1, 556, 554.8257862765444, 20.027607926297794, 'P_051', 'F_016'], ['PartsToFacility', 19, 632, 931.8105841051802, 20.045454620639568, 'P_051', 'F_024'], ['PartsToFacility', 9, 212, 181.70931479853604, 25.259321150118122, 'P_051', 'F_028'], ['PartsToFacility', 6, 801, 480.6863710377234, 11.3672862034084, 'P_051', 'F_035'], ['PartsToFacility', 2, 187, 531.2323116242983, 29.126098883613075, 'P_051', 'F_036'], ['PartsToFacility', 9, 814, 342.9983004770285, 2.714063710853422, 'P_051', 'F_038'], ['PartsToFacility', 11, 527, 593.0451907905222, 22.83932414437167, 'P_051', 'F_039'], ['PartsToFacility', 3, 168, 342.08496051769663, 17.08678326069566, 'P_051', 'F_045'], ['PartsToFacility', 6, 991, 948.0869935419215, 7.875004753747267, 'P_052', 'F_006'], ['PartsToFacility', 4, 454, 101.36231961861195, 22.199359553107794, 'P_052', 'F_013'], ['PartsToFacility', 3, 223, 348.49122025036866, 12.019309101798292, 'P_052', 'F_014'], ['PartsToFacility', 12, 816, 869.8057659050329, 8.47926294672182, 'P_052', 'F_017'], ['PartsToFacility', 4, 100, 425.78674929257, 24.86013313172443, 'P_052', 'F_024'], ['PartsToFacility', 7, 140, 351.8272844675144, 3.050520374336858, 'P_052', 'F_035'], ['PartsToFacility', 13, 228, 578.0765470374893, 3.600900106054092, 'P_052', 'F_036'], ['PartsToFacility', 12, 783, 716.8939869262755, 16.174562643236534, 'P_052', 'F_038'], ['PartsToFacility', 8, 511, 909.6330179049206, 22.395272675192455, 'P_052', 'F_039'], ['PartsToFacility', 18, 534, 338.0370061392485, 14.517264114428988, 'P_052', 'F_042'], ['PartsToFacility', 6, 856, 360.66244020600317, 8.934832406682053, 'P_053', 'F_001'], ['PartsToFacility', 4, 158, 45.342018941140516, 6.0722017505930825, 'P_053', 'F_007'], ['PartsToFacility', 20, 137, 916.4879692085641, 28.432542039823474, 'P_053', 'F_014'], ['PartsToFacility', 9, 701, 995.3622222632995, 21.870305722542778, 'P_053', 'F_031'], ['PartsToFacility', 12, 39, 142.81235688820036, 5.9646170730774415, 'P_053', 'F_039'], ['PartsToFacility', 4, 851, 197.2355011498802, 15.547361864817178, 'P_053', 'F_042'], ['PartsToFacility', 3, 949, 689.2649298877396, 5.920690928085887, 'P_053', 'F_045'], ['PartsToFacility', 6, 983, 988.9583354591063, 28.678074781797996, 'P_054', 'F_007'], ['PartsToFacility', 1, 405, 474.8819505295994, 17.6120454161965, 'P_054', 'F_009'], ['PartsToFacility', 14, 633, 903.4302003075462, 13.099101376751289, 'P_054', 'F_010'], ['PartsToFacility', 17, 509, 829.9490835715735, 29.097518917785447, 'P_054', 'F_011'], ['PartsToFacility', 5, 485, 42.586907217458865, 26.540135816086092, 'P_054', 'F_017'], ['PartsToFacility', 9, 350, 21.608569967432416, 25.251460107621934, 'P_054', 'F_028'], ['PartsToFacility', 1, 514, 186.3956843633028, 14.54601617997448, 'P_054', 'F_037'], ['PartsToFacility', 4, 715, 854.5176545858354, 4.189066998899075, 'P_054', 'F_039'], ['PartsToFacility', 2, 860, 691.2191187655901, 9.780227756766921, 'P_054', 'F_041'], ['PartsToFacility', 5, 623, 94.50610343008293, 8.096012572354933, 'P_054', 'F_042'], ['PartsToFacility', 7, 446, 128.4178422499259, 21.387877022233006, 'P_055', 'F_001'], ['PartsToFacility', 15, 342, 19.804788946420214, 16.908364865693414, 'P_055', 'F_007'], ['PartsToFacility', 16, 452, 413.293870339095, 21.273143642458464, 'P_055', 'F_014'], ['PartsToFacility', 16, 814, 191.32947426471276, 29.684032348485083, 'P_055', 'F_016'], ['PartsToFacility', 8, 211, 216.2323033828457, 21.109893449095097, 'P_055', 'F_022'], ['PartsToFacility', 5, 777, 661.5043615802759, 9.059706869209629, 'P_055', 'F_024'], ['PartsToFacility', 15, 118, 392.93234940170703, 11.200689906807547, 'P_055', 'F_025'], ['PartsToFacility', 18, 885, 453.43023416994185, 18.817584613484748, 'P_055', 'F_035'], ['PartsToFacility', 5, 705, 638.1918539748133, 11.396313784701936, 'P_055', 'F_036'], ['PartsToFacility', 20, 925, 137.73086165890533, 21.39394124307837, 'P_055', 'F_038'], ['PartsToFacility', 8, 700, 268.09864194643393, 14.554542027406889, 'P_055', 'F_040'], ['PartsToFacility', 13, 528, 336.9757640611064, 17.38292800114506, 'P_055', 'F_041'], ['PartsToFacility', 18, 760, 529.5491054789, 20.39215412684467, 'P_055', 'F_044'], ['PartsToFacility', 7, 738, 589.4135450477349, 21.675702946412684, 'P_056', 'F_007'], ['PartsToFacility', 15, 222, 35.028802516521594, 19.993824349215057, 'P_056', 'F_012'], ['PartsToFacility', 18, 633, 588.845167836515, 18.224017437075833, 'P_056', 'F_013'], ['PartsToFacility', 20, 514, 322.64917650705127, 18.032678629526277, 'P_056', 'F_014'], ['PartsToFacility', 10, 981, 853.1668804849478, 14.455461691482048, 'P_056', 'F_017'], ['PartsToFacility', 19, 247, 71.94769326606453, 7.605864891872079, 'P_056', 'F_022'], ['PartsToFacility', 5, 469, 58.45594445012628, 14.496486554277597, 'P_056', 'F_024'], ['PartsToFacility', 16, 663, 343.5471253682188, 3.8076759831564893, 'P_056', 'F_026'], ['PartsToFacility', 9, 463, 964.561816564515, 21.104358353166386, 'P_056', 'F_027'], ['PartsToFacility', 8, 221, 866.9577926406093, 1.33056513767235, 'P_056', 'F_028'], ['PartsToFacility', 4, 657, 720.8422807859677, 2.188880454768195, 'P_056', 'F_033'], ['PartsToFacility', 1, 252, 474.5075897226076, 26.702702134070982, 'P_056', 'F_035'], ['PartsToFacility', 7, 739, 821.5551900857702, 23.900171710863873, 'P_056', 'F_042'], ['PartsToFacility', 14, 348, 53.20807324524051, 29.811010204160322, 'P_056', 'F_045'], ['PartsToFacility', 18, 425, 282.62143084935377, 10.338811552321632, 'P_057', 'F_006'], ['PartsToFacility', 16, 335, 896.7110557912154, 10.304259964158058, 'P_057', 'F_007'], ['PartsToFacility', 17, 719, 82.85125602390745, 18.28726526943798, 'P_057', 'F_012'], ['PartsToFacility', 2, 68, 940.3147335234561, 10.196939939351667, 'P_057', 'F_024'], ['PartsToFacility', 5, 437, 180.4429070896377, 25.323139764728833, 'P_057', 'F_031'], ['PartsToFacility', 12, 989, 964.8507208589809, 26.22011415430205, 'P_057', 'F_032'], ['PartsToFacility', 10, 113, 275.98423963457003, 11.1460448551979, 'P_057', 'F_033'], ['PartsToFacility', 13, 144, 757.2499997512755, 7.043907448104933, 'P_057', 'F_035'], ['PartsToFacility', 8, 80, 507.17330886933087, 26.60656633043456, 'P_057', 'F_039'], ['PartsToFacility', 20, 169, 875.9063780759674, 3.090561731224499, 'P_057', 'F_042'], ['PartsToFacility', 18, 640, 876.7431255348218, 13.76535141025304, 'P_058', 'F_001'], ['PartsToFacility', 15, 212, 521.0564318626634, 20.07279127927151, 'P_058', 'F_010'], ['PartsToFacility', 16, 829, 82.2084967932894, 5.1720571868256, 'P_058', 'F_012'], ['PartsToFacility', 9, 613, 524.7004764889944, 27.593977212911707, 'P_058', 'F_031'], ['PartsToFacility', 15, 834, 848.3351172262571, 16.585243797831023, 'P_058', 'F_032'], ['PartsToFacility', 19, 131, 250.53664326638713, 28.477060226609208, 'P_058', 'F_035'], ['PartsToFacility', 12, 564, 277.61697808269065, 8.310355896603172, 'P_058', 'F_037'], ['PartsToFacility', 13, 341, 906.8104208962262, 4.886483391088774, 'P_059', 'F_006'], ['PartsToFacility', 12, 486, 755.0052081702555, 9.399839309363626, 'P_059', 'F_008'], ['PartsToFacility', 7, 156, 634.2881248671205, 20.6827501402295, 'P_059', 'F_025'], ['PartsToFacility', 3, 190, 537.6570466884033, 6.26477064018156, 'P_059', 'F_040'], ['PartsToFacility', 6, 218, 901.4754561314176, 14.391555094138326, 'P_059', 'F_042'], ['PartsToFacility', 13, 153, 372.51477585608933, 17.357495585062875, 'P_060', 'F_006'], ['PartsToFacility', 1, 133, 626.83647001429, 22.817523094231888, 'P_060', 'F_009'], ['PartsToFacility', 3, 776, 78.05347944190984, 26.676107283234316, 'P_060', 'F_010'], ['PartsToFacility', 19, 176, 473.50256986542473, 17.448855336540774, 'P_060', 'F_014'], ['PartsToFacility', 2, 555, 545.9925792657779, 18.175196909545143, 'P_060', 'F_018'], ['PartsToFacility', 2, 397, 175.9670553623908, 9.153564850355966, 'P_060', 'F_031'], ['PartsToFacility', 7, 805, 265.5420273897321, 29.84878298535256, 'P_060', 'F_034'], ['PartsToFacility', 18, 434, 895.3091226867975, 7.318735586151143, 'P_060', 'F_036'], ['PartsToFacility', 6, 138, 278.2032910559873, 19.661545497870144, 'P_060', 'F_037'], ['PartsToFacility', 7, 644, 724.8792630058833, 26.94590817747073, 'P_060', 'F_038'], ['PartsToFacility', 15, 36, 482.447499136066, 6.267090288436952, 'P_060', 'F_039'], ['PartsToFacility', 9, 202, 992.2143334489136, 22.87615043865692, 'P_061', 'F_010'], ['PartsToFacility', 1, 168, 190.42863698522802, 10.94199576913199, 'P_061', 'F_011'], ['PartsToFacility', 6, 144, 607.3712007862091, 10.002228775340587, 'P_061', 'F_013'], ['PartsToFacility', 14, 767, 225.21553334655727, 29.06213747194245, 'P_061', 'F_016'], ['PartsToFacility', 11, 296, 672.6625229284174, 24.026206177700146, 'P_061', 'F_025'], ['PartsToFacility', 17, 915, 762.2403120519606, 21.661702118503655, 'P_061', 'F_035'], ['PartsToFacility', 10, 165, 585.9378005730255, 18.546095191183785, 'P_061', 'F_038'], ['PartsToFacility', 20, 965, 412.79315940475124, 24.149541138918387, 'P_061', 'F_039'], ['PartsToFacility', 4, 737, 201.41852192722368, 28.866748218911766, 'P_061', 'F_045'], ['PartsToFacility', 10, 287, 891.3717099972432, 2.715666704290685, 'P_062', 'F_002'], ['PartsToFacility', 11, 172, 684.5678337219767, 27.96450378565116, 'P_062', 'F_008'], ['PartsToFacility', 12, 734, 450.36967922228627, 15.941702253833489, 'P_062', 'F_010'], ['PartsToFacility', 18, 777, 235.75145719937046, 10.145534276332029, 'P_062', 'F_011'], ['PartsToFacility', 7, 979, 687.0102915978053, 8.76808809424687, 'P_062', 'F_014'], ['PartsToFacility', 5, 954, 19.702921128071097, 1.4825286393999195, 'P_062', 'F_017'], ['PartsToFacility', 4, 408, 326.9688766742362, 18.372784016456105, 'P_062', 'F_031'], ['PartsToFacility', 12, 118, 640.3107071050313, 21.686652673092198, 'P_062', 'F_032'], ['PartsToFacility', 4, 525, 764.7563136915006, 7.719082957019599, 'P_062', 'F_037'], ['PartsToFacility', 20, 998, 13.976082868198631, 29.43830612851471, 'P_062', 'F_040'], ['PartsToFacility', 1, 83, 875.9305339846144, 5.91157694538291, 'P_062', 'F_045'], ['PartsToFacility', 14, 375, 270.63041665162234, 11.624702556098523, 'P_063', 'F_006'], ['PartsToFacility', 18, 747, 81.7342530216842, 15.054965936717437, 'P_063', 'F_010'], ['PartsToFacility', 5, 998, 345.30229462141335, 25.346556977796084, 'P_063', 'F_014'], ['PartsToFacility', 5, 472, 734.5057223043716, 1.167175514566438, 'P_063', 'F_024'], ['PartsToFacility', 8, 530, 92.34287361006564, 29.044139690640304, 'P_063', 'F_028'], ['PartsToFacility', 2, 967, 607.2869055731329, 29.25729693872839, 'P_063', 'F_030'], ['PartsToFacility', 15, 917, 956.9046704815606, 4.349124099405945, 'P_063', 'F_031'], ['PartsToFacility', 11, 545, 845.8732700354692, 1.2103634432023118, 'P_063', 'F_032'], ['PartsToFacility', 1, 996, 711.5794304229998, 5.68800056534581, 'P_063', 'F_042'], ['PartsToFacility', 14, 494, 964.3769693244188, 1.9857796688321532, 'P_063', 'F_045'], ['PartsToFacility', 19, 587, 678.7574431330881, 8.34902649083861, 'P_064', 'F_001'], ['PartsToFacility', 5, 945, 22.447012714397125, 27.132061673367684, 'P_064', 'F_008'], ['PartsToFacility', 14, 690, 940.9123108094203, 16.889282404682746, 'P_064', 'F_010'], ['PartsToFacility', 5, 614, 132.3949003890196, 12.501560091106137, 'P_064', 'F_014'], ['PartsToFacility', 14, 758, 840.49948586231, 5.141342053588409, 'P_064', 'F_016'], ['PartsToFacility', 2, 442, 75.80212803560049, 8.689127072050647, 'P_064', 'F_022'], ['PartsToFacility', 8, 150, 847.9073594709116, 15.962742449262496, 'P_064', 'F_028'], ['PartsToFacility', 1, 736, 96.30205077670102, 8.12035733754203, 'P_064', 'F_036'], ['PartsToFacility', 7, 120, 612.2825889973644, 28.42458021937546, 'P_064', 'F_038'], ['PartsToFacility', 11, 466, 445.1142644174524, 18.215440372246128, 'P_064', 'F_040'], ['PartsToFacility', 6, 594, 976.7143715362946, 27.513372118477083, 'P_064', 'F_042'], ['PartsToFacility', 9, 350, 448.1093372969712, 25.66463278219266, 'P_065', 'F_001'], ['PartsToFacility', 3, 86, 262.2099302664124, 27.10471323100034, 'P_065', 'F_009'], ['PartsToFacility', 3, 140, 928.4105794076004, 2.382493962799039, 'P_065', 'F_010'], ['PartsToFacility', 6, 527, 141.9629472862062, 5.350876762120274, 'P_065', 'F_017'], ['PartsToFacility', 1, 28, 46.81657858765813, 9.870069207271658, 'P_065', 'F_032'], ['PartsToFacility', 6, 727, 150.0080751272993, 16.449421185594243, 'P_065', 'F_033'], ['PartsToFacility', 8, 832, 528.2433633868764, 3.530713248167921, 'P_065', 'F_035'], ['PartsToFacility', 19, 591, 981.8935614591245, 21.764665868382295, 'P_065', 'F_036'], ['PartsToFacility', 3, 933, 935.2003192969544, 24.110879052753845, 'P_065', 'F_040'], ['PartsToFacility', 15, 653, 615.5986245513586, 17.081312150206376, 'P_065', 'F_045'], ['PartsToFacility', 8, 990, 694.0360494426182, 7.722879042478751, 'P_066', 'F_010'], ['PartsToFacility', 10, 64, 288.09094461849253, 12.564956360565475, 'P_066', 'F_011'], ['PartsToFacility', 15, 842, 333.9632294382935, 24.128479928669286, 'P_066', 'F_017'], ['PartsToFacility', 3, 311, 397.16764235507117, 16.632826584920192, 'P_066', 'F_021'], ['PartsToFacility', 19, 717, 190.5947684900887, 12.565771988998817, 'P_066', 'F_025'], ['PartsToFacility', 11, 345, 627.1323885990533, 25.881807963636454, 'P_066', 'F_026'], ['PartsToFacility', 5, 605, 292.65008048724263, 11.667909063373404, 'P_066', 'F_034'], ['PartsToFacility', 9, 778, 574.0442746826184, 3.4325917419488, 'P_066', 'F_035'], ['PartsToFacility', 14, 137, 689.5466691192037, 18.19055734885822, 'P_066', 'F_037'], ['PartsToFacility', 10, 899, 436.49653884059427, 16.549556653301963, 'P_066', 'F_038'], ['PartsToFacility', 16, 146, 885.2090299047935, 21.511005901150583, 'P_066', 'F_039'], ['PartsToFacility', 2, 581, 342.5453976332529, 24.175446646297218, 'P_066', 'F_044'], ['PartsToFacility', 1, 193, 409.1001033624085, 13.501234855648438, 'P_067', 'F_001'], ['PartsToFacility', 1, 451, 570.8527598634697, 18.091306023325355, 'P_067', 'F_008'], ['PartsToFacility', 8, 735, 336.5197380563915, 3.282045737987394, 'P_067', 'F_009'], ['PartsToFacility', 17, 49, 952.7188397394034, 24.479804445508485, 'P_067', 'F_012'], ['PartsToFacility', 11, 134, 370.5165174111321, 15.435293637341475, 'P_067', 'F_014'], ['PartsToFacility', 15, 105, 459.6298800815926, 24.54745429657281, 'P_067', 'F_018'], ['PartsToFacility', 11, 679, 656.5100189559502, 28.72155910564496, 'P_067', 'F_019'], ['PartsToFacility', 11, 223, 616.3610083986424, 29.98463727072183, 'P_067', 'F_024'], ['PartsToFacility', 17, 829, 577.0479494339247, 12.223489831193678, 'P_067', 'F_028'], ['PartsToFacility', 18, 310, 169.86634195898893, 20.66753359470965, 'P_067', 'F_035'], ['PartsToFacility', 4, 425, 932.6534331795374, 7.802259794687981, 'P_067', 'F_036'], ['PartsToFacility', 5, 463, 804.3699678346302, 9.387441653620966, 'P_067', 'F_037'], ['PartsToFacility', 17, 682, 772.3828720941206, 27.53613938417605, 'P_067', 'F_038'], ['PartsToFacility', 11, 63, 872.3319041958957, 24.61025594629044, 'P_067', 'F_040'], ['PartsToFacility', 15, 19, 847.8799880207922, 3.289346661197671, 'P_067', 'F_045'], ['PartsToFacility', 6, 62, 649.6554185565552, 7.042795901750454, 'P_068', 'F_005'], ['PartsToFacility', 1, 808, 219.90281697003033, 9.229077118923772, 'P_068', 'F_009'], ['PartsToFacility', 8, 697, 938.7073910072446, 14.510088483850698, 'P_068', 'F_010'], ['PartsToFacility', 3, 334, 923.8035416121927, 27.52810972469601, 'P_068', 'F_017'], ['PartsToFacility', 3, 632, 881.7270134546335, 2.897764437681781, 'P_068', 'F_019'], ['PartsToFacility', 20, 536, 817.91950976903, 8.92950216730706, 'P_068', 'F_022'], ['PartsToFacility', 14, 131, 221.473071402369, 3.0767654110857854, 'P_068', 'F_024'], ['PartsToFacility', 18, 353, 494.8513551913664, 13.475595039400671, 'P_068', 'F_029'], ['PartsToFacility', 8, 674, 951.5677914661516, 26.03470557649578, 'P_068', 'F_040'], ['PartsToFacility', 6, 399, 966.6875322052773, 10.284037587747356, 'P_068', 'F_041'], ['PartsToFacility', 10, 811, 159.90683230561234, 18.51446905159173, 'P_069', 'F_008'], ['PartsToFacility', 1, 982, 270.62009837116585, 1.2733480064430376, 'P_069', 'F_009'], ['PartsToFacility', 14, 909, 652.2370656224546, 21.411589805260604, 'P_069', 'F_014'], ['PartsToFacility', 2, 475, 336.37827010665046, 1.9205740375286968, 'P_069', 'F_016'], ['PartsToFacility', 18, 426, 301.5272016864938, 24.049810142627486, 'P_069', 'F_017'], ['PartsToFacility', 12, 620, 503.42024525660906, 13.132859061780145, 'P_069', 'F_024'], ['PartsToFacility', 11, 873, 487.95285978628243, 16.833315945773563, 'P_069', 'F_026'], ['PartsToFacility', 5, 13, 121.11394939680633, 2.0825162035188574, 'P_069', 'F_027'], ['PartsToFacility', 6, 600, 49.09177201330715, 15.763208818462001, 'P_069', 'F_037'], ['PartsToFacility', 19, 165, 899.8799169429847, 25.822690877455106, 'P_069', 'F_039'], ['PartsToFacility', 12, 49, 477.0669912911986, 15.72414455902532, 'P_069', 'F_041'], ['PartsToFacility', 4, 226, 971.7160325771197, 20.557213736734603, 'P_069', 'F_042'], ['PartsToFacility', 19, 257, 60.01585964286672, 2.1244696267243266, 'P_070', 'F_001'], ['PartsToFacility', 3, 655, 830.9717176178416, 15.52121017282368, 'P_070', 'F_007'], ['PartsToFacility', 20, 876, 479.65970882889513, 14.649183489375158, 'P_070', 'F_008'], ['PartsToFacility', 20, 439, 603.581910029042, 2.9105080402895345, 'P_070', 'F_011'], ['PartsToFacility', 17, 289, 426.80355523526265, 14.338686715433091, 'P_070', 'F_014'], ['PartsToFacility', 20, 630, 994.4404056054105, 14.15607165504233, 'P_070', 'F_017'], ['PartsToFacility', 16, 449, 698.136938809145, 16.644065911178103, 'P_070', 'F_021'], ['PartsToFacility', 9, 323, 648.3707634982296, 15.01725519663792, 'P_070', 'F_022'], ['PartsToFacility', 16, 796, 470.2106739318613, 26.88780322734981, 'P_070', 'F_024'], ['PartsToFacility', 7, 786, 875.5849983889194, 20.46889066534108, 'P_070', 'F_030'], ['PartsToFacility', 16, 632, 329.16760499122836, 6.265708210009621, 'P_070', 'F_033'], ['PartsToFacility', 14, 757, 525.1230810237107, 29.001216277876615, 'P_070', 'F_039'], ['PartsToFacility', 15, 383, 159.3718456717169, 26.498468345750762, 'P_071', 'F_010'], ['PartsToFacility', 5, 662, 248.70832608652927, 5.158109620274966, 'P_071', 'F_017'], ['PartsToFacility', 13, 667, 919.6883800496532, 1.4838765916753576, 'P_071', 'F_028'], ['PartsToFacility', 20, 64, 169.39384363774593, 24.448079994108756, 'P_071', 'F_030'], ['PartsToFacility', 9, 679, 769.6696421828962, 7.918757891658205, 'P_071', 'F_035'], ['PartsToFacility', 9, 410, 490.1669913221444, 5.487506061141193, 'P_071', 'F_036'], ['PartsToFacility', 18, 585, 305.52023348834683, 14.916770042249876, 'P_072', 'F_001'], ['PartsToFacility', 12, 756, 902.3026353826262, 26.255292895272905, 'P_072', 'F_009'], ['PartsToFacility', 1, 972, 556.549891344004, 9.53541067893609, 'P_072', 'F_017'], ['PartsToFacility', 13, 981, 252.23393876097242, 19.219607621167214, 'P_072', 'F_024'], ['PartsToFacility', 15, 614, 779.9532281106003, 5.064563816509715, 'P_072', 'F_035'], ['PartsToFacility', 16, 720, 336.8722168806643, 10.965406342178701, 'P_072', 'F_037'], ['PartsToFacility', 15, 746, 633.27131543469, 10.881760836577481, 'P_072', 'F_038'], ['PartsToFacility', 17, 609, 980.5014985670033, 15.322587593891718, 'P_072', 'F_040'], ['PartsToFacility', 16, 1000, 289.9413828489278, 24.377580636164524, 'P_072', 'F_042'], ['PartsToFacility', 10, 195, 995.3290717083092, 18.598274195875423, 'P_072', 'F_045'], ['PartsToFacility', 2, 220, 82.95157805461353, 27.528913267069537, 'P_073', 'F_007'], ['PartsToFacility', 17, 425, 580.8269000767856, 25.051049595084596, 'P_073', 'F_009'], ['PartsToFacility', 9, 212, 377.95760869027924, 2.353971619325278, 'P_073', 'F_014'], ['PartsToFacility', 19, 448, 953.2015266250828, 26.47073166034061, 'P_073', 'F_021'], ['PartsToFacility', 16, 956, 200.96665515333018, 27.347039449356632, 'P_073', 'F_022'], ['PartsToFacility', 8, 979, 518.5340315436665, 26.11091319936937, 'P_073', 'F_025'], ['PartsToFacility', 4, 635, 491.7288730716369, 9.673842660614298, 'P_073', 'F_029'], ['PartsToFacility', 2, 40, 323.6694907560943, 22.114582423546068, 'P_073', 'F_035'], ['PartsToFacility', 16, 887, 382.72355431102, 10.448175146753604, 'P_073', 'F_036'], ['PartsToFacility', 3, 156, 515.4928130250596, 29.695191816805128, 'P_073', 'F_037'], ['PartsToFacility', 1, 512, 535.9093078528406, 13.29887419819978, 'P_073', 'F_038'], ['PartsToFacility', 4, 346, 778.3082002511543, 27.483312277845226, 'P_073', 'F_039'], ['PartsToFacility', 12, 305, 162.99889313996053, 15.997286756233741, 'P_073', 'F_042'], ['PartsToFacility', 10, 563, 453.92334359180796, 9.01927597003495, 'P_074', 'F_005'], ['PartsToFacility', 20, 977, 98.23681831499334, 23.143567844133287, 'P_074', 'F_009'], ['PartsToFacility', 3, 712, 335.54161378105596, 10.018438944265, 'P_074', 'F_010'], ['PartsToFacility', 2, 377, 990.0032032416161, 11.150762790432164, 'P_074', 'F_011'], ['PartsToFacility', 19, 968, 987.1715148857414, 28.576615382790802, 'P_074', 'F_017'], ['PartsToFacility', 1, 166, 107.09604349763265, 20.196415228069444, 'P_074', 'F_025'], ['PartsToFacility', 5, 414, 391.5368967711901, 17.96694181561498, 'P_074', 'F_032'], ['PartsToFacility', 8, 921, 415.37318512962867, 10.82449494993026, 'P_074', 'F_035'], ['PartsToFacility', 9, 129, 69.79342140435793, 9.440654362490138, 'P_075', 'F_001'], ['PartsToFacility', 3, 35, 592.2804813006248, 21.81545187491896, 'P_075', 'F_006'], ['PartsToFacility', 3, 528, 532.8614668795509, 10.288953767256535, 'P_075', 'F_016'], ['PartsToFacility', 4, 585, 447.9995709659239, 26.230755692912552, 'P_075', 'F_017'], ['PartsToFacility', 5, 991, 954.192223108981, 13.857578528562273, 'P_075', 'F_022'], ['PartsToFacility', 5, 877, 500.85931247613416, 10.231105124406895, 'P_075', 'F_031'], ['PartsToFacility', 17, 913, 121.60343147216011, 23.20384315824949, 'P_075', 'F_032'], ['PartsToFacility', 2, 818, 14.883049863750923, 16.55501214607135, 'P_075', 'F_036'], ['PartsToFacility', 1, 505, 19.94956282003534, 9.756894024700713, 'P_076', 'F_001'], ['PartsToFacility', 7, 852, 59.88918410248134, 29.9676858487987, 'P_076', 'F_008'], ['PartsToFacility', 20, 915, 831.2233524612003, 10.604251634820768, 'P_076', 'F_010'], ['PartsToFacility', 9, 232, 249.1717131196762, 25.10487783119454, 'P_076', 'F_014'], ['PartsToFacility', 20, 164, 365.82476584293744, 24.828968656109776, 'P_076', 'F_019'], ['PartsToFacility', 10, 870, 41.15696952956671, 22.03805024839132, 'P_076', 'F_027'], ['PartsToFacility', 20, 303, 728.9155043084949, 17.46400285920358, 'P_076', 'F_035'], ['PartsToFacility', 14, 275, 430.24533025946454, 26.643466038390358, 'P_076', 'F_036'], ['PartsToFacility', 3, 776, 180.5002824769782, 2.276924569877223, 'P_076', 'F_037'], ['PartsToFacility', 20, 466, 474.711101942865, 6.67306304094909, 'P_076', 'F_041'], ['PartsToFacility', 1, 937, 828.2076080002466, 17.867550057665692, 'P_076', 'F_042'], ['PartsToFacility', 16, 119, 562.3922253718403, 6.46263733011748, 'P_077', 'F_006'], ['PartsToFacility', 5, 396, 685.7234799872394, 25.687037231841796, 'P_077', 'F_007'], ['PartsToFacility', 1, 241, 489.60629136612994, 23.317401878580917, 'P_077', 'F_011'], ['PartsToFacility', 17, 521, 396.67207482472963, 2.4935388084841756, 'P_077', 'F_014'], ['PartsToFacility', 10, 369, 459.65794482060426, 22.580289080430163, 'P_077', 'F_019'], ['PartsToFacility', 1, 253, 603.7226251284086, 29.786720276870973, 'P_077', 'F_021'], ['PartsToFacility', 3, 105, 863.6305255018265, 3.2840729914314855, 'P_077', 'F_022'], ['PartsToFacility', 2, 536, 763.1523145946013, 13.976761969213369, 'P_077', 'F_027'], ['PartsToFacility', 19, 156, 613.1788549209655, 23.76608705134763, 'P_077', 'F_028'], ['PartsToFacility', 11, 519, 430.7532014044446, 11.879627830635892, 'P_077', 'F_035'], ['PartsToFacility', 17, 586, 102.78428326397533, 2.4491758982370433, 'P_077', 'F_036'], ['PartsToFacility', 19, 237, 539.0645919487538, 6.474590729447841, 'P_077', 'F_037'], ['PartsToFacility', 14, 191, 631.6979441125684, 13.1522096929536, 'P_077', 'F_038'], ['PartsToFacility', 1, 68, 97.47927691655505, 25.744723274552943, 'P_077', 'F_039'], ['PartsToFacility', 15, 531, 166.86527644534993, 3.285679945575632, 'P_077', 'F_042'], ['PartsToFacility', 9, 864, 949.6929038598981, 9.73470421036672, 'P_078', 'F_001'], ['PartsToFacility', 15, 358, 483.5381403685008, 25.27447137739976, 'P_078', 'F_005'], ['PartsToFacility', 2, 698, 866.8956800058716, 23.229755234314805, 'P_078', 'F_009'], ['PartsToFacility', 8, 27, 195.40340110947776, 19.93447558375884, 'P_078', 'F_024'], ['PartsToFacility', 6, 710, 378.0516331461859, 14.835107596832646, 'P_078', 'F_028'], ['PartsToFacility', 12, 133, 620.1116851256619, 4.082713631357914, 'P_078', 'F_032'], ['PartsToFacility', 2, 285, 806.7995604534786, 19.631660979576786, 'P_078', 'F_039'], ['PartsToFacility', 19, 128, 624.2275662530441, 21.375426887663835, 'P_078', 'F_041'], ['PartsToFacility', 20, 649, 389.30000536106246, 21.293144275430823, 'P_079', 'F_007'], ['PartsToFacility', 20, 621, 986.0721830873217, 8.738797234474251, 'P_079', 'F_008'], ['PartsToFacility', 19, 611, 203.4264331678432, 8.477599547912408, 'P_079', 'F_027'], ['PartsToFacility', 11, 135, 953.3531713005151, 19.62590200963439, 'P_079', 'F_032'], ['PartsToFacility', 2, 195, 305.76665640184183, 14.011504502275166, 'P_079', 'F_034'], ['PartsToFacility', 14, 107, 939.6050817325494, 15.320838661572093, 'P_079', 'F_040'], ['PartsToFacility', 14, 305, 906.4104698229836, 13.495691012502851, 'P_079', 'F_041'], ['PartsToFacility', 5, 200, 118.54487422400173, 9.66149164904789, 'P_079', 'F_042'], ['PartsToFacility', 8, 843, 245.614847494808, 7.47882252779541, 'P_079', 'F_045'], ['PartsToFacility', 3, 320, 644.9060958354797, 18.842587502826138, 'P_080', 'F_003'], ['PartsToFacility', 3, 415, 114.1536420641307, 29.84351586260941, 'P_080', 'F_008'], ['PartsToFacility', 10, 245, 175.37633465770634, 15.531525425090761, 'P_080', 'F_011'], ['PartsToFacility', 18, 896, 261.0604395687179, 6.303087802510632, 'P_080', 'F_014'], ['PartsToFacility', 18, 932, 592.901430738574, 1.4238381513362, 'P_080', 'F_024'], ['PartsToFacility', 3, 969, 81.12655622034274, 1.4601296252437161, 'P_080', 'F_025'], ['PartsToFacility', 14, 291, 315.60086831636426, 15.894158939834712, 'P_080', 'F_035'], ['PartsToFacility', 7, 740, 915.327019668452, 4.885165051189741, 'P_080', 'F_041'], ['PartsToFacility', 1, 153, 511.3378356199084, 7.337093800621941, 'P_080', 'F_042'], ['PartsToFacility', 13, 769, 800.4628523683593, 4.2892105436336845, 'P_080', 'F_045'], ['PartsToFacility', 8, 653, 10.336514552208804, 19.101790505956878, 'P_081', 'F_001'], ['PartsToFacility', 12, 232, 260.98000279898235, 3.94113675869523, 'P_081', 'F_008'], ['PartsToFacility', 14, 566, 323.3272979622037, 14.052204088881936, 'P_081', 'F_010'], ['PartsToFacility', 19, 212, 620.9890535604121, 15.905620402246598, 'P_081', 'F_017'], ['PartsToFacility', 11, 197, 354.9144489645125, 16.773327356794102, 'P_081', 'F_022'], ['PartsToFacility', 17, 929, 588.5052494734323, 2.841400538616141, 'P_081', 'F_025'], ['PartsToFacility', 5, 92, 185.21504850212972, 21.46310504563659, 'P_081', 'F_026'], ['PartsToFacility', 12, 988, 304.31424200433577, 17.947917353122758, 'P_081', 'F_031'], ['PartsToFacility', 17, 432, 35.09352452600728, 20.625317010631157, 'P_081', 'F_038'], ['PartsToFacility', 20, 849, 923.7930805665457, 24.45444371713328, 'P_081', 'F_045'], ['PartsToFacility', 9, 914, 701.3721651849428, 17.040945704579848, 'P_082', 'F_001'], ['PartsToFacility', 4, 147, 125.28114735845134, 5.785688120027564, 'P_082', 'F_009'], ['PartsToFacility', 19, 422, 653.2600631137354, 14.665202260340298, 'P_082', 'F_011'], ['PartsToFacility', 9, 672, 773.7343118549659, 19.33307841956658, 'P_082', 'F_012'], ['PartsToFacility', 6, 203, 523.7300915365182, 16.754069354728664, 'P_082', 'F_014'], ['PartsToFacility', 14, 224, 755.9443404433839, 12.30363591466199, 'P_082', 'F_028'], ['PartsToFacility', 13, 580, 879.8975907765554, 29.766738567288556, 'P_082', 'F_033'], ['PartsToFacility', 11, 295, 769.5806158436178, 11.426804865458957, 'P_082', 'F_034'], ['PartsToFacility', 8, 335, 830.9832782379525, 20.15781929031443, 'P_082', 'F_035'], ['PartsToFacility', 18, 468, 465.01373277492934, 9.387325648460658, 'P_082', 'F_036'], ['PartsToFacility', 13, 221, 956.1576558652712, 16.63203045245589, 'P_082', 'F_037'], ['PartsToFacility', 19, 836, 143.63395903876082, 6.343676581370384, 'P_082', 'F_042'], ['PartsToFacility', 10, 105, 679.323871790729, 12.733902758340491, 'P_083', 'F_017'], ['PartsToFacility', 5, 333, 635.6657384152666, 1.4933065256348015, 'P_083', 'F_024'], ['PartsToFacility', 1, 193, 270.5639149833418, 9.427421120680894, 'P_083', 'F_028'], ['PartsToFacility', 6, 56, 167.63468853405848, 9.534702142949524, 'P_083', 'F_037'], ['PartsToFacility', 16, 511, 637.1374241766318, 6.629712047304743, 'P_083', 'F_038'], ['PartsToFacility', 19, 495, 815.9377818293445, 13.4637722611385, 'P_083', 'F_042'], ['PartsToFacility', 10, 544, 690.89899735591, 21.85983086663695, 'P_084', 'F_011'], ['PartsToFacility', 8, 146, 880.8369036038555, 5.101972978084973, 'P_084', 'F_017'], ['PartsToFacility', 6, 506, 344.1391173002195, 22.454256291325247, 'P_084', 'F_024'], ['PartsToFacility', 4, 103, 235.51335374684538, 9.641680681696336, 'P_084', 'F_026'], ['PartsToFacility', 17, 113, 565.0337268235802, 19.565741401688975, 'P_084', 'F_035'], ['PartsToFacility', 11, 105, 121.38499563910179, 2.74044903831464, 'P_084', 'F_038'], ['PartsToFacility', 2, 472, 189.7199026913122, 1.8844841344174894, 'P_084', 'F_042'], ['PartsToFacility', 1, 724, 455.7679966910724, 10.238878849379365, 'P_084', 'F_045'], ['PartsToFacility', 18, 494, 604.2877528366686, 27.88112970717724, 'P_085', 'F_006'], ['PartsToFacility', 12, 386, 818.3633598650464, 15.62087982515632, 'P_085', 'F_007'], ['PartsToFacility', 16, 168, 60.11414667856897, 22.83814974266944, 'P_085', 'F_024'], ['PartsToFacility', 13, 569, 379.3072266088511, 24.434047643730146, 'P_085', 'F_025'], ['PartsToFacility', 20, 946, 327.6033581946544, 6.75326514713206, 'P_085', 'F_028'], ['PartsToFacility', 7, 856, 683.8458037798528, 19.45181276525474, 'P_085', 'F_034'], ['PartsToFacility', 8, 774, 764.718262641245, 28.315652611339598, 'P_085', 'F_038'], ['PartsToFacility', 6, 217, 828.2791717036063, 5.280244512377026, 'P_085', 'F_039'], ['PartsToFacility', 3, 778, 163.67275848300247, 19.323296834672124, 'P_085', 'F_042'], ['PartsToFacility', 7, 781, 385.46300154502364, 21.883976405659975, 'P_085', 'F_045'], ['PartsToFacility', 10, 865, 669.2396588367203, 22.838484943814663, 'P_086', 'F_007'], ['PartsToFacility', 15, 753, 868.8512457030978, 4.382687060885428, 'P_086', 'F_022'], ['PartsToFacility', 7, 232, 128.99107473192814, 25.74751247338166, 'P_086', 'F_023'], ['PartsToFacility', 2, 296, 206.4880870974664, 26.788485567746722, 'P_086', 'F_024'], ['PartsToFacility', 16, 498, 188.1682289133495, 13.768577058410337, 'P_086', 'F_025'], ['PartsToFacility', 5, 716, 975.8584582344907, 28.77014484793417, 'P_086', 'F_035'], ['PartsToFacility', 11, 351, 865.58160546537, 13.041812188370104, 'P_086', 'F_038'], ['PartsToFacility', 12, 157, 912.9496567202929, 27.620045840242312, 'P_086', 'F_039'], ['PartsToFacility', 20, 31, 416.10139740125055, 12.112638796315819, 'P_086', 'F_041'], ['PartsToFacility', 17, 242, 319.17632096985204, 26.567840290111718, 'P_086', 'F_042'], ['PartsToFacility', 4, 106, 846.3010816579424, 28.100202047567684, 'P_086', 'F_045'], ['PartsToFacility', 20, 346, 10.206130756439457, 7.048047081933927, 'P_087', 'F_009'], ['PartsToFacility', 16, 629, 830.1628134295069, 18.19284506861103, 'P_087', 'F_010'], ['PartsToFacility', 14, 742, 901.9400212599293, 17.259413279199258, 'P_087', 'F_012'], ['PartsToFacility', 12, 990, 708.3307966578002, 7.586277524702699, 'P_087', 'F_014'], ['PartsToFacility', 15, 37, 928.6628208750323, 18.895068016983547, 'P_087', 'F_024'], ['PartsToFacility', 11, 206, 861.5018862606684, 23.964455619317626, 'P_087', 'F_028'], ['PartsToFacility', 8, 988, 788.2762909147326, 16.46640365507904, 'P_087', 'F_033'], ['PartsToFacility', 5, 622, 372.20722153709045, 24.21484835197607, 'P_087', 'F_037'], ['PartsToFacility', 3, 131, 881.1848557101152, 6.79304429792753, 'P_087', 'F_040'], ['PartsToFacility', 3, 270, 521.9584255389998, 22.410173542132906, 'P_088', 'F_007'], ['PartsToFacility', 7, 200, 33.07747568160876, 18.955930220238006, 'P_088', 'F_008'], ['PartsToFacility', 7, 980, 606.8566193608416, 25.288922627835813, 'P_088', 'F_010'], ['PartsToFacility', 4, 735, 960.7009357606097, 5.373147875744212, 'P_088', 'F_017'], ['PartsToFacility', 17, 141, 559.8474673984707, 28.813958823655586, 'P_088', 'F_019'], ['PartsToFacility', 5, 886, 219.1571934003114, 25.11402217405859, 'P_088', 'F_024'], ['PartsToFacility', 9, 508, 271.1826699432588, 28.837064750803886, 'P_088', 'F_026'], ['PartsToFacility', 2, 473, 681.210250698089, 28.371154650412347, 'P_088', 'F_028'], ['PartsToFacility', 12, 147, 675.3209335647471, 18.592175588555822, 'P_088', 'F_029'], ['PartsToFacility', 17, 783, 476.94347483606987, 16.539020758107057, 'P_088', 'F_031'], ['PartsToFacility', 15, 235, 267.63140379063884, 18.225376131270234, 'P_088', 'F_032'], ['PartsToFacility', 13, 982, 519.8435700463956, 13.60536889255177, 'P_088', 'F_034'], ['PartsToFacility', 6, 560, 80.46119322687836, 6.295538916648154, 'P_088', 'F_036'], ['PartsToFacility', 8, 621, 471.9940357390981, 13.14025998808979, 'P_089', 'F_008'], ['PartsToFacility', 2, 433, 834.1739605459848, 18.056221969523992, 'P_089', 'F_011'], ['PartsToFacility', 3, 776, 105.91573169788492, 15.03073762829196, 'P_089', 'F_017'], ['PartsToFacility', 5, 743, 14.213247369942621, 17.131114872436633, 'P_089', 'F_022'], ['PartsToFacility', 19, 304, 884.2815923818175, 8.252250660175228, 'P_089', 'F_024'], ['PartsToFacility', 4, 435, 480.40383393561876, 13.198582628806054, 'P_089', 'F_025'], ['PartsToFacility', 11, 215, 646.5018765508753, 21.072082523024932, 'P_089', 'F_028'], ['PartsToFacility', 18, 33, 256.4035887423521, 19.98484442614063, 'P_089', 'F_034'], ['PartsToFacility', 10, 187, 74.29118348215933, 11.843876562215879, 'P_089', 'F_035'], ['PartsToFacility', 10, 280, 244.5656560774582, 14.280905807155634, 'P_089', 'F_039'], ['PartsToFacility', 17, 920, 591.5065965066655, 9.250267670507688, 'P_089', 'F_045'], ['PartsToFacility', 19, 921, 870.2799794466519, 28.38232214417147, 'P_090', 'F_009'], ['PartsToFacility', 16, 908, 839.4281968187602, 27.554947203452684, 'P_090', 'F_010'], ['PartsToFacility', 5, 59, 116.31907154305509, 29.168699770503096, 'P_090', 'F_013'], ['PartsToFacility', 10, 710, 32.37289103941404, 29.684732033975163, 'P_090', 'F_019'], ['PartsToFacility', 5, 906, 741.8457011979426, 13.606682753690798, 'P_090', 'F_020'], ['PartsToFacility', 11, 390, 446.77724250561323, 8.30600288665659, 'P_090', 'F_022'], ['PartsToFacility', 9, 746, 273.7275394613356, 9.414104568502717, 'P_090', 'F_025'], ['PartsToFacility', 12, 230, 327.3635453832459, 9.500943388467844, 'P_090', 'F_030'], ['PartsToFacility', 13, 132, 880.578067453105, 28.931933393283057, 'P_090', 'F_035'], ['PartsToFacility', 14, 241, 597.5575153281159, 22.308287814774154, 'P_090', 'F_037'], ['PartsToFacility', 19, 564, 866.260158184705, 9.134533695003281, 'P_090', 'F_041'], ['PartsToFacility', 1, 406, 191.67885070343482, 18.044624530715414, 'P_091', 'F_006'], ['PartsToFacility', 3, 397, 894.5074195616039, 2.191592214180411, 'P_091', 'F_024'], ['PartsToFacility', 13, 429, 530.9802384999939, 14.40742294757612, 'P_091', 'F_036'], ['PartsToFacility', 13, 947, 415.7870148288873, 12.342036619929154, 'P_091', 'F_038'], ['PartsToFacility', 8, 542, 246.50096781636725, 11.183406015097377, 'P_091', 'F_042'], ['PartsToFacility', 6, 195, 387.45152580753347, 17.182370353326522, 'P_091', 'F_043'], ['PartsToFacility', 3, 707, 954.4412337207181, 13.481260442216723, 'P_091', 'F_045'], ['PartsToFacility', 5, 532, 156.4007987732537, 3.9309217325628256, 'P_092', 'F_010'], ['PartsToFacility', 7, 398, 75.11008199551932, 5.308026052022182, 'P_092', 'F_011'], ['PartsToFacility', 15, 428, 287.5064761788424, 19.289788049723054, 'P_092', 'F_016'], ['PartsToFacility', 4, 131, 104.14501146173411, 3.5988542648591473, 'P_092', 'F_024'], ['PartsToFacility', 10, 753, 674.4555509878994, 7.3399280537345115, 'P_092', 'F_028'], ['PartsToFacility', 14, 257, 240.1464121682135, 29.38173073622798, 'P_092', 'F_036'], ['PartsToFacility', 9, 35, 907.2446124844579, 15.973669646960099, 'P_092', 'F_045'], ['PartsToFacility', 5, 237, 822.4153019048538, 16.477054465157174, 'P_093', 'F_001'], ['PartsToFacility', 4, 597, 347.25149444488073, 14.733078667563733, 'P_093', 'F_006'], ['PartsToFacility', 1, 200, 387.1399283194293, 15.690945279151824, 'P_093', 'F_007'], ['PartsToFacility', 17, 207, 577.2545929691316, 29.313253524414996, 'P_093', 'F_010'], ['PartsToFacility', 16, 754, 963.0227924040937, 18.965386587092535, 'P_093', 'F_013'], ['PartsToFacility', 20, 312, 721.981021282993, 10.352864698807931, 'P_093', 'F_014'], ['PartsToFacility', 12, 133, 191.04073286605058, 13.052071790271947, 'P_093', 'F_023'], ['PartsToFacility', 16, 721, 530.8803552544858, 14.801734107720957, 'P_093', 'F_028'], ['PartsToFacility', 1, 759, 824.5158861807315, 18.281929074715272, 'P_093', 'F_031'], ['PartsToFacility', 3, 917, 709.0947124930191, 28.688880408291993, 'P_093', 'F_032'], ['PartsToFacility', 11, 76, 317.204602243186, 16.520079394960497, 'P_093', 'F_038'], ['PartsToFacility', 13, 284, 103.05477288840721, 18.650167951741523, 'P_093', 'F_042'], ['PartsToFacility', 18, 706, 185.3340405164865, 21.042184729383138, 'P_093', 'F_045'], ['PartsToFacility', 19, 887, 362.2087454125456, 5.05618961233472, 'P_094', 'F_005'], ['PartsToFacility', 6, 789, 904.3569117298113, 27.938613900688686, 'P_094', 'F_008'], ['PartsToFacility', 7, 330, 516.6452975416272, 24.875399112807447, 'P_094', 'F_009'], ['PartsToFacility', 13, 57, 303.00940187293554, 9.782226417489735, 'P_094', 'F_010'], ['PartsToFacility', 9, 838, 813.7174710702783, 11.892530364562477, 'P_094', 'F_014'], ['PartsToFacility', 13, 247, 572.7460675254694, 8.785811297162383, 'P_094', 'F_024'], ['PartsToFacility', 5, 364, 802.8357292820521, 29.862751215167872, 'P_094', 'F_025'], ['PartsToFacility', 1, 40, 108.45815526046687, 10.143552038059159, 'P_094', 'F_026'], ['PartsToFacility', 13, 679, 997.7004237556497, 18.90920701262481, 'P_094', 'F_027'], ['PartsToFacility', 8, 75, 894.16235106117, 10.939700169839341, 'P_094', 'F_028'], ['PartsToFacility', 6, 116, 206.4717744382114, 9.437623590583815, 'P_094', 'F_036'], ['PartsToFacility', 4, 707, 603.1451534438282, 27.001704083404586, 'P_094', 'F_038'], ['PartsToFacility', 8, 885, 912.8224500345258, 2.499809428587598, 'P_094', 'F_040'], ['PartsToFacility', 20, 592, 570.610850135929, 16.329562075776494, 'P_094', 'F_045'], ['PartsToFacility', 6, 792, 704.0667686301717, 13.697365515640833, 'P_095', 'F_009'], ['PartsToFacility', 6, 995, 670.4766297250671, 15.445242306299626, 'P_095', 'F_010'], ['PartsToFacility', 17, 566, 372.4022957650681, 13.84906906897592, 'P_095', 'F_012'], ['PartsToFacility', 1, 601, 685.0690198160006, 8.35631897166137, 'P_095', 'F_013'], ['PartsToFacility', 16, 109, 447.40323885956343, 1.647753594662134, 'P_095', 'F_014'], ['PartsToFacility', 1, 334, 483.86829585411715, 12.893736153614578, 'P_095', 'F_017'], ['PartsToFacility', 13, 634, 42.059992028856286, 29.005594722188796, 'P_095', 'F_022'], ['PartsToFacility', 17, 624, 616.9886816567257, 6.178293898799035, 'P_095', 'F_034'], ['PartsToFacility', 9, 877, 684.9049544629056, 21.090352550656394, 'P_095', 'F_035'], ['PartsToFacility', 5, 267, 764.8243612960533, 22.21597697016369, 'P_095', 'F_036'], ['PartsToFacility', 12, 954, 469.1289753504811, 19.42718125493009, 'P_095', 'F_037'], ['PartsToFacility', 3, 952, 339.9643869650459, 28.920315192909065, 'P_095', 'F_041'], ['PartsToFacility', 12, 869, 176.55588489574967, 19.32625594060112, 'P_096', 'F_001'], ['PartsToFacility', 15, 683, 517.8586063861864, 21.393348813723186, 'P_096', 'F_014'], ['PartsToFacility', 12, 748, 261.510414254574, 12.705966736041052, 'P_096', 'F_022'], ['PartsToFacility', 14, 378, 280.6000442865231, 22.268430387832154, 'P_096', 'F_024'], ['PartsToFacility', 15, 722, 449.2016875099662, 9.335103633765765, 'P_096', 'F_025'], ['PartsToFacility', 1, 298, 426.0621323685795, 2.9510970285193454, 'P_096', 'F_031'], ['PartsToFacility', 11, 784, 682.999857379827, 5.190235707660689, 'P_096', 'F_039'], ['PartsToFacility', 1, 29, 68.11972328907592, 9.148600796170806, 'P_097', 'F_006'], ['PartsToFacility', 18, 779, 845.2426170840154, 3.9988201133587964, 'P_097', 'F_008'], ['PartsToFacility', 15, 895, 816.3894780285094, 20.88751775936141, 'P_097', 'F_009'], ['PartsToFacility', 18, 577, 117.35173505760454, 5.556421814115808, 'P_097', 'F_010'], ['PartsToFacility', 17, 39, 82.24439235207029, 23.162606233741446, 'P_097', 'F_014'], ['PartsToFacility', 12, 208, 363.8741546368836, 13.720230370738014, 'P_097', 'F_017'], ['PartsToFacility', 18, 939, 711.4733503359954, 2.617176500581563, 'P_097', 'F_021'], ['PartsToFacility', 8, 795, 492.0844605343212, 2.425030542037522, 'P_097', 'F_027'], ['PartsToFacility', 8, 609, 964.5940530607727, 14.671966790527497, 'P_097', 'F_028'], ['PartsToFacility', 13, 605, 395.3470333651097, 14.946427917197852, 'P_097', 'F_036'], ['PartsToFacility', 5, 753, 348.814422457457, 20.529276213978306, 'P_097', 'F_037'], ['PartsToFacility', 19, 954, 46.274504294562824, 28.490090284160612, 'P_097', 'F_038'], ['PartsToFacility', 16, 651, 906.2015592874363, 10.00630499661276, 'P_097', 'F_041'], ['PartsToFacility', 5, 883, 704.3285095332584, 14.437143987442987, 'P_097', 'F_045'], ['PartsToFacility', 5, 450, 784.1627181169275, 8.855477553819284, 'P_098', 'F_001'], ['PartsToFacility', 1, 394, 348.03268177960007, 13.0502705399895, 'P_098', 'F_011'], ['PartsToFacility', 4, 951, 233.76517059151095, 19.99466406591932, 'P_098', 'F_014'], ['PartsToFacility', 18, 381, 663.6342169371424, 14.994703462804676, 'P_098', 'F_017'], ['PartsToFacility', 2, 856, 83.44835220967437, 5.522114005279365, 'P_098', 'F_031'], ['PartsToFacility', 13, 217, 98.38430805825135, 18.494483585567846, 'P_098', 'F_037'], ['PartsToFacility', 10, 477, 722.5927630580503, 18.13418401017361, 'P_098', 'F_038'], ['PartsToFacility', 17, 603, 108.95275492162921, 14.335912141767443, 'P_098', 'F_039'], ['PartsToFacility', 9, 840, 769.9495186676511, 24.890335793369374, 'P_099', 'F_010'], ['PartsToFacility', 12, 558, 425.2773159182893, 11.93430927599532, 'P_099', 'F_014'], ['PartsToFacility', 3, 352, 410.2274142248058, 28.121110324503537, 'P_099', 'F_017'], ['PartsToFacility', 14, 43, 800.0978188022073, 3.5009113393375646, 'P_099', 'F_024'], ['PartsToFacility', 5, 649, 726.0066843104918, 5.288005649407742, 'P_099', 'F_028'], ['PartsToFacility', 15, 610, 660.3237315655568, 9.51136628242207, 'P_099', 'F_031'], ['PartsToFacility', 9, 845, 899.3462356572528, 20.969839521913986, 'P_099', 'F_038'], ['PartsToFacility', 18, 848, 842.7938488000344, 28.072109208309655, 'P_099', 'F_045'], ['PartsToFacility', 3, 152, 638.4495589017959, 18.134627349551984, 'P_100', 'F_011'], ['PartsToFacility', 12, 655, 996.4991965830644, 15.264197054098045, 'P_100', 'F_013'], ['PartsToFacility', 8, 234, 481.9349161194113, 1.5595861662805195, 'P_100', 'F_017'], ['PartsToFacility', 8, 729, 280.88698948422723, 16.718927614648425, 'P_100', 'F_021'], ['PartsToFacility', 12, 944, 784.8914610795487, 12.4909364911695, 'P_100', 'F_024'], ['PartsToFacility', 15, 578, 699.7661465164892, 5.873215757949795, 'P_100', 'F_026'], ['PartsToFacility', 4, 662, 913.7308865670519, 28.376329465616227, 'P_100', 'F_036'], ['PartsToFacility', 16, 135, 677.4927355701385, 1.5684526844266753, 'P_100', 'F_039'], ['PartsToFacility', 9, 120, 253.75255309566342, 15.92834274481774, 'P_101', 'F_002'], ['PartsToFacility', 5, 972, 407.3832659914876, 12.651020791885031, 'P_101', 'F_006'], ['PartsToFacility', 5, 718, 331.06846349998165, 11.655480702555476, 'P_101', 'F_009'], ['PartsToFacility', 2, 571, 455.72727365954063, 3.9845603803939964, 'P_101', 'F_011'], ['PartsToFacility', 11, 666, 865.7456544314116, 3.276490651399381, 'P_101', 'F_014'], ['PartsToFacility', 3, 881, 394.5368861512363, 9.519789832949442, 'P_101', 'F_029'], ['PartsToFacility', 8, 287, 588.5890596806491, 5.093716958511274, 'P_101', 'F_030'], ['PartsToFacility', 16, 870, 80.451544344155, 8.883320249629929, 'P_101', 'F_041'], ['PartsToFacility', 19, 753, 314.0008254233914, 14.124922234955006, 'P_101', 'F_042'], ['PartsToFacility', 1, 41, 409.1171915652222, 7.2316624535523495, 'P_102', 'F_006'], ['PartsToFacility', 20, 25, 190.66235999553962, 9.976148855925329, 'P_102', 'F_007'], ['PartsToFacility', 8, 317, 261.8117750138599, 21.2144828109708, 'P_102', 'F_008'], ['PartsToFacility', 20, 609, 678.6943081017348, 11.538140566703445, 'P_102', 'F_014'], ['PartsToFacility', 20, 267, 356.26574319991073, 12.57077071400851, 'P_102', 'F_015'], ['PartsToFacility', 10, 600, 690.447318901428, 17.317977027718204, 'P_102', 'F_022'], ['PartsToFacility', 15, 361, 363.09088540325547, 10.887476354571856, 'P_102', 'F_025'], ['PartsToFacility', 10, 196, 910.923982621962, 18.64094477369983, 'P_102', 'F_026'], ['PartsToFacility', 7, 893, 242.43059781383562, 28.735130652299972, 'P_102', 'F_027'], ['PartsToFacility', 9, 939, 759.3566520946943, 24.624924239967484, 'P_102', 'F_028'], ['PartsToFacility', 19, 827, 100.74229429011326, 17.970849505733227, 'P_102', 'F_031'], ['PartsToFacility', 5, 256, 763.0329917420778, 9.628233198396773, 'P_102', 'F_033'], ['PartsToFacility', 11, 27, 350.56754862297004, 17.495511012127597, 'P_102', 'F_034'], ['PartsToFacility', 7, 209, 537.6034842587409, 10.751959089070729, 'P_102', 'F_036'], ['PartsToFacility', 11, 82, 430.66493422555106, 3.4313126649682495, 'P_102', 'F_037'], ['PartsToFacility', 9, 40, 499.8936515600719, 25.655159216796296, 'P_102', 'F_038'], ['PartsToFacility', 17, 378, 307.64210362080763, 27.766339990321363, 'P_102', 'F_039'], ['PartsToFacility', 2, 909, 172.91498435434656, 12.20031708369296, 'P_102', 'F_041'], ['PartsToFacility', 10, 325, 750.8934697769204, 9.394626793513265, 'P_102', 'F_042'], ['PartsToFacility', 2, 629, 202.63066422472073, 1.9666415920011318, 'P_102', 'F_045'], ['PartsToFacility', 6, 592, 815.9440762224825, 26.606576703314413, 'P_103', 'F_005'], ['PartsToFacility', 15, 660, 48.523663475550364, 11.805767956576757, 'P_103', 'F_007'], ['PartsToFacility', 10, 934, 109.29591209410404, 13.840624821696917, 'P_103', 'F_010'], ['PartsToFacility', 16, 364, 767.695826366545, 18.170594351736987, 'P_103', 'F_011'], ['PartsToFacility', 17, 711, 282.12959928818174, 8.631901206093659, 'P_103', 'F_014'], ['PartsToFacility', 3, 197, 758.4340032667441, 7.171277151305855, 'P_103', 'F_017'], ['PartsToFacility', 3, 131, 106.74303312568732, 22.72034818906944, 'P_103', 'F_024'], ['PartsToFacility', 12, 650, 860.718303852359, 2.537396929843391, 'P_103', 'F_033'], ['PartsToFacility', 18, 453, 56.598421195996316, 21.190479125391825, 'P_103', 'F_036'], ['PartsToFacility', 11, 340, 205.08796968059096, 21.044795627179465, 'P_103', 'F_045'], ['PartsToFacility', 14, 724, 385.1668696057251, 23.390689695362816, 'P_104', 'F_001'], ['PartsToFacility', 20, 474, 566.6785457789847, 23.23893179834632, 'P_104', 'F_007'], ['PartsToFacility', 15, 936, 291.9012414555337, 1.4934801560876907, 'P_104', 'F_017'], ['PartsToFacility', 20, 700, 75.17936074117392, 11.51693261739451, 'P_104', 'F_019'], ['PartsToFacility', 15, 999, 519.9547624077118, 17.04122695852838, 'P_104', 'F_024'], ['PartsToFacility', 7, 603, 125.7896726623822, 8.661061464281584, 'P_104', 'F_031'], ['PartsToFacility', 20, 569, 424.0425096347428, 13.731150006683153, 'P_104', 'F_035'], ['PartsToFacility', 1, 314, 373.2354641084319, 22.128115306790225, 'P_105', 'F_010'], ['PartsToFacility', 9, 573, 446.2639699911319, 1.4691542148074377, 'P_105', 'F_015'], ['PartsToFacility', 7, 651, 634.2737454159898, 4.204714761882424, 'P_105', 'F_020'], ['PartsToFacility', 13, 267, 212.8933476981142, 21.457016903783337, 'P_105', 'F_025'], ['PartsToFacility', 3, 699, 36.18515917775872, 11.36456429200383, 'P_105', 'F_028'], ['PartsToFacility', 5, 156, 533.7186309983579, 4.098188355195178, 'P_105', 'F_031'], ['PartsToFacility', 4, 720, 395.03894928812565, 25.329950478104383, 'P_105', 'F_032'], ['PartsToFacility', 16, 415, 345.44447042398923, 24.55421857719852, 'P_105', 'F_035'], ['PartsToFacility', 20, 277, 940.5038163082486, 28.27206791076394, 'P_105', 'F_039'], ['PartsToFacility', 7, 773, 518.8721901089928, 29.697931951660916, 'P_105', 'F_045'], ['PartsToFacility', 4, 288, 339.66505838668894, 25.74833888175125, 'P_106', 'F_006'], ['PartsToFacility', 9, 904, 512.7175448805434, 26.416930422278792, 'P_106', 'F_010'], ['PartsToFacility', 9, 954, 300.0661445459562, 7.659068113367051, 'P_106', 'F_011'], ['PartsToFacility', 20, 556, 932.4684065380692, 19.368415992283982, 'P_106', 'F_014'], ['PartsToFacility', 13, 36, 240.27821885270092, 29.9419664970924, 'P_106', 'F_017'], ['PartsToFacility', 10, 616, 740.7450638321627, 2.6163894133933, 'P_106', 'F_025'], ['PartsToFacility', 17, 110, 400.4542990634217, 2.0419908970204137, 'P_106', 'F_026'], ['PartsToFacility', 20, 678, 168.39001066207877, 1.4519201009646565, 'P_106', 'F_028'], ['PartsToFacility', 13, 470, 914.010077896563, 5.017772245802641, 'P_106', 'F_031'], ['PartsToFacility', 6, 825, 73.76796631102695, 8.0862487141415, 'P_106', 'F_038'], ['PartsToFacility', 5, 649, 807.1940467359371, 13.766258798887405, 'P_106', 'F_039'], ['PartsToFacility', 19, 432, 878.094251459764, 2.0586107332809345, 'P_106', 'F_040'], ['PartsToFacility', 15, 711, 326.87284353835906, 2.2098730081945677, 'P_106', 'F_042'], ['PartsToFacility', 2, 529, 519.3329698948919, 28.688721301555606, 'P_106', 'F_044'], ['PartsToFacility', 10, 71, 743.292708786398, 22.44150313167404, 'P_107', 'F_001'], ['PartsToFacility', 15, 704, 632.3703402098118, 19.1909559280029, 'P_107', 'F_024'], ['PartsToFacility', 19, 661, 49.963547778449794, 3.079455801112232, 'P_107', 'F_026'], ['PartsToFacility', 19, 43, 406.68520297160006, 10.23633323108575, 'P_107', 'F_027'], ['PartsToFacility', 14, 341, 915.1788031232097, 29.187674486783532, 'P_107', 'F_030'], ['PartsToFacility', 4, 869, 241.32148399116474, 9.104913356264497, 'P_107', 'F_031'], ['PartsToFacility', 19, 897, 641.4966164398642, 7.173392121433259, 'P_107', 'F_033'], ['PartsToFacility', 4, 870, 131.99187819295804, 7.9214060392601, 'P_107', 'F_038'], ['PartsToFacility', 10, 451, 501.33908430837056, 27.590936630976394, 'P_107', 'F_039'], ['PartsToFacility', 3, 735, 722.4961673026246, 26.48599253441126, 'P_107', 'F_040'], ['PartsToFacility', 15, 181, 157.32872473282666, 18.797447513957337, 'P_108', 'F_006'], ['PartsToFacility', 20, 358, 349.16525832807366, 15.490289276625841, 'P_108', 'F_010'], ['PartsToFacility', 13, 197, 652.8193295220409, 5.509864289227958, 'P_108', 'F_011'], ['PartsToFacility', 1, 749, 864.2105645114301, 9.277618921998293, 'P_108', 'F_012'], ['PartsToFacility', 17, 153, 64.77607323838137, 29.13653894757671, 'P_108', 'F_014'], ['PartsToFacility', 8, 526, 546.640057931325, 6.027810577401546, 'P_108', 'F_034'], ['PartsToFacility', 16, 426, 72.61523097510795, 10.031084243186223, 'P_108', 'F_035'], ['PartsToFacility', 5, 928, 898.8582358207431, 22.70676255296773, 'P_108', 'F_039'], ['PartsToFacility', 18, 162, 471.24507936308106, 7.487042745774353, 'P_108', 'F_040'], ['PartsToFacility', 19, 789, 700.6235820571021, 4.778594979217703, 'P_108', 'F_042'], ['PartsToFacility', 11, 865, 523.1547432960953, 29.13363600691002, 'P_109', 'F_001'], ['PartsToFacility', 17, 451, 396.0253261642776, 24.651222510256268, 'P_109', 'F_007'], ['PartsToFacility', 1, 939, 424.44865840651687, 5.299195414229631, 'P_109', 'F_010'], ['PartsToFacility', 13, 15, 594.5675149206983, 7.792145135486635, 'P_109', 'F_013'], ['PartsToFacility', 13, 602, 767.8490826253137, 2.0095300684122397, 'P_109', 'F_014'], ['PartsToFacility', 9, 465, 623.306168856966, 15.24333279060016, 'P_109', 'F_015'], ['PartsToFacility', 7, 283, 197.23287048076384, 12.21919240979124, 'P_109', 'F_017'], ['PartsToFacility', 15, 823, 38.24156487011685, 19.271266907582827, 'P_109', 'F_022'], ['PartsToFacility', 10, 602, 902.1526462324841, 8.16167818005704, 'P_109', 'F_024'], ['PartsToFacility', 20, 760, 757.3144709553458, 8.50761917398143, 'P_109', 'F_025'], ['PartsToFacility', 17, 808, 482.0092880985326, 28.75577505135937, 'P_109', 'F_030'], ['PartsToFacility', 13, 607, 336.6516880876561, 5.576975729131499, 'P_109', 'F_038'], ['PartsToFacility', 2, 325, 504.6428498384756, 12.520129912624565, 'P_110', 'F_009'], ['PartsToFacility', 12, 168, 419.7829825734167, 16.612622380992885, 'P_110', 'F_014'], ['PartsToFacility', 9, 926, 643.3353546240085, 9.105533285329807, 'P_110', 'F_017'], ['PartsToFacility', 4, 344, 439.2000423622843, 3.991815113823168, 'P_110', 'F_026'], ['PartsToFacility', 5, 301, 11.040035482697908, 26.43592476527917, 'P_110', 'F_036'], ['PartsToFacility', 6, 27, 948.4726947894003, 10.868996481428749, 'P_110', 'F_037'], ['PartsToFacility', 5, 151, 120.57091541418306, 26.33320799034535, 'P_110', 'F_041'], ['PartsToFacility', 8, 507, 967.9303208156201, 4.192837845803142, 'P_110', 'F_044'], ['PartsToFacility', 11, 888, 441.64359919247795, 18.53922753946865, 'P_110', 'F_045'], ['PartsToFacility', 18, 193, 566.9262866817676, 23.225481388529037, 'P_111', 'F_007'], ['PartsToFacility', 5, 424, 129.3617423214261, 5.9575844682386006, 'P_111', 'F_012'], ['PartsToFacility', 17, 12, 533.5542556301658, 22.54220469703734, 'P_111', 'F_014'], ['PartsToFacility', 3, 596, 30.819567604480675, 2.6022793405358264, 'P_111', 'F_025'], ['PartsToFacility', 3, 488, 984.8903759886374, 28.86729723256128, 'P_111', 'F_026'], ['PartsToFacility', 16, 884, 486.35279663784, 12.543843217293222, 'P_111', 'F_028'], ['PartsToFacility', 12, 469, 814.0483669401586, 22.599991222028887, 'P_111', 'F_035'], ['PartsToFacility', 10, 340, 999.4077613759887, 5.65131951007719, 'P_111', 'F_042'], ['PartsToFacility', 1, 245, 178.44116100934409, 19.51116930645223, 'P_112', 'F_005'], ['PartsToFacility', 6, 376, 121.2759201794111, 24.762726849216616, 'P_112', 'F_006'], ['PartsToFacility', 18, 29, 255.5903979436389, 26.595559206934965, 'P_112', 'F_010'], ['PartsToFacility', 1, 581, 690.379235263805, 4.4530601923838935, 'P_112', 'F_011'], ['PartsToFacility', 18, 589, 919.5875273717598, 11.715635351116918, 'P_112', 'F_027'], ['PartsToFacility', 19, 502, 282.08629013128603, 24.616482861869176, 'P_112', 'F_028'], ['PartsToFacility', 7, 355, 170.7885676891716, 11.069454857644363, 'P_112', 'F_031'], ['PartsToFacility', 10, 195, 48.768842278401564, 8.848741448703867, 'P_112', 'F_036'], ['PartsToFacility', 7, 460, 612.332137705783, 29.575825660748677, 'P_112', 'F_040'], ['PartsToFacility', 1, 223, 551.7804858405527, 27.131540685752075, 'P_112', 'F_041'], ['PartsToFacility', 14, 802, 30.908520567676277, 15.923374869712774, 'P_113', 'F_001'], ['PartsToFacility', 9, 558, 15.121842296005148, 27.005747731923908, 'P_113', 'F_006'], ['PartsToFacility', 4, 752, 10.333857070920159, 14.437562478624404, 'P_113', 'F_009'], ['PartsToFacility', 19, 737, 267.9429567975046, 29.110355081480204, 'P_113', 'F_010'], ['PartsToFacility', 18, 728, 354.4149332544292, 6.447121093254191, 'P_113', 'F_013'], ['PartsToFacility', 5, 460, 154.68193947617695, 17.68281715571264, 'P_113', 'F_014'], ['PartsToFacility', 12, 914, 926.1643213487656, 29.371081736525625, 'P_113', 'F_016'], ['PartsToFacility', 16, 849, 294.9098186111325, 17.033762025065723, 'P_113', 'F_017'], ['PartsToFacility', 8, 363, 183.8346820050462, 16.507713777070478, 'P_113', 'F_022'], ['PartsToFacility', 4, 461, 456.9998433136527, 4.06583607885285, 'P_113', 'F_024'], ['PartsToFacility', 10, 515, 180.05743879951208, 18.73499739875925, 'P_113', 'F_026'], ['PartsToFacility', 11, 825, 329.5803687718241, 26.414435273710474, 'P_113', 'F_029'], ['PartsToFacility', 4, 775, 944.6113975418723, 27.74396563503391, 'P_113', 'F_032'], ['PartsToFacility', 20, 434, 131.97907448993064, 4.567370586642896, 'P_113', 'F_034'], ['PartsToFacility', 11, 100, 50.730460849300414, 28.584021108770255, 'P_113', 'F_035'], ['PartsToFacility', 4, 333, 277.3345941648369, 29.773049029764923, 'P_113', 'F_036'], ['PartsToFacility', 3, 287, 793.1479027753447, 3.9527607394149635, 'P_113', 'F_037'], ['PartsToFacility', 4, 653, 396.2655182083175, 19.147590564995475, 'P_113', 'F_039'], ['PartsToFacility', 14, 149, 387.41330402548454, 17.78273719819826, 'P_113', 'F_041'], ['PartsToFacility', 4, 903, 876.3568708657149, 2.317104270396181, 'P_113', 'F_042'], ['PartsToFacility', 16, 172, 614.2332673054145, 3.3878505460239823, 'P_113', 'F_044'], ['PartsToFacility', 18, 929, 343.68136751901864, 15.185213350688619, 'P_114', 'F_009'], ['PartsToFacility', 5, 818, 320.83893916964456, 11.934805481218673, 'P_114', 'F_010'], ['PartsToFacility', 15, 308, 127.96193033186717, 6.57127180526637, 'P_114', 'F_011'], ['PartsToFacility', 9, 819, 604.1200909525288, 9.504972129790058, 'P_114', 'F_014'], ['PartsToFacility', 11, 800, 549.0142343566565, 2.035463105140934, 'P_114', 'F_017'], ['PartsToFacility', 6, 375, 52.91121120407298, 13.157957353226726, 'P_114', 'F_027'], ['PartsToFacility', 20, 162, 34.7707298619971, 1.9329835890216642, 'P_114', 'F_037'], ['PartsToFacility', 17, 446, 397.07729225206896, 22.7269014310588, 'P_114', 'F_038'], ['PartsToFacility', 2, 66, 27.720114176057848, 3.887203963910605, 'P_114', 'F_039'], ['PartsToFacility', 18, 256, 847.7680515873164, 17.67263096283394, 'P_115', 'F_009'], ['PartsToFacility', 13, 392, 477.4998797925541, 15.097506704364035, 'P_115', 'F_010'], ['PartsToFacility', 3, 668, 908.2871806695453, 10.132644085246175, 'P_115', 'F_014'], ['PartsToFacility', 19, 622, 768.5856563758155, 18.631996814255153, 'P_115', 'F_020'], ['PartsToFacility', 13, 280, 694.511691444414, 16.95566078224033, 'P_115', 'F_025'], ['PartsToFacility', 3, 622, 303.8249134225513, 20.062082102276282, 'P_115', 'F_028'], ['PartsToFacility', 8, 239, 90.25573756951766, 8.867276254938936, 'P_115', 'F_036'], ['PartsToFacility', 6, 756, 903.6110528879033, 27.601210892347268, 'P_115', 'F_038'], ['PartsToFacility', 20, 864, 825.9956144663562, 27.74877405538908, 'P_116', 'F_006'], ['PartsToFacility', 10, 776, 568.8000919608315, 26.944713569453135, 'P_116', 'F_009'], ['PartsToFacility', 13, 701, 141.8974045580188, 25.30735129287506, 'P_116', 'F_011'], ['PartsToFacility', 16, 810, 145.97523492428908, 23.681117641090946, 'P_116', 'F_014'], ['PartsToFacility', 17, 39, 597.9502680878744, 25.354394347653635, 'P_116', 'F_027'], ['PartsToFacility', 5, 570, 298.7581056496939, 5.886070787970379, 'P_116', 'F_032'], ['PartsToFacility', 17, 436, 853.7651300954665, 10.15484455331445, 'P_116', 'F_035'], ['PartsToFacility', 20, 638, 178.6248723452074, 10.019005238483576, 'P_116', 'F_036'], ['PartsToFacility', 4, 355, 696.9360268319156, 22.48612453871415, 'P_116', 'F_037'], ['PartsToFacility', 10, 426, 299.7229094170724, 17.079365300207282, 'P_116', 'F_038'], ['PartsToFacility', 7, 586, 587.3172211383204, 17.831284967235483, 'P_116', 'F_040'], ['PartsToFacility', 6, 37, 242.06074223005086, 25.15200487581179, 'P_116', 'F_044'], ['PartsToFacility', 2, 347, 772.158902483122, 12.059852777884378, 'P_117', 'F_006'], ['PartsToFacility', 8, 591, 733.4491696869519, 27.792217286157634, 'P_117', 'F_009'], ['PartsToFacility', 4, 716, 611.2120926896497, 5.133223635604344, 'P_117', 'F_014'], ['PartsToFacility', 20, 590, 156.00931099592222, 10.587813100317826, 'P_117', 'F_019'], ['PartsToFacility', 1, 223, 547.513779117749, 12.863731768405216, 'P_117', 'F_022'], ['PartsToFacility', 20, 576, 624.7831629516003, 29.175381777483892, 'P_117', 'F_025'], ['PartsToFacility', 14, 908, 140.50614357523062, 4.569345161249376, 'P_117', 'F_028'], ['PartsToFacility', 11, 510, 161.01344284764764, 9.664647044724104, 'P_117', 'F_033'], ['PartsToFacility', 2, 346, 109.07664682890629, 18.313426937845357, 'P_117', 'F_037'], ['PartsToFacility', 12, 989, 592.117501103005, 5.782815196039274, 'P_117', 'F_038'], ['PartsToFacility', 18, 959, 488.8102105602051, 6.362735203273801, 'P_117', 'F_039'], ['PartsToFacility', 14, 762, 733.0871364148119, 8.746076865203715, 'P_117', 'F_042'], ['PartsToFacility', 15, 292, 704.0352085745299, 14.543179442187583, 'P_118', 'F_007'], ['PartsToFacility', 15, 778, 567.0583243341061, 6.884241997066545, 'P_118', 'F_011'], ['PartsToFacility', 12, 202, 497.9829788755798, 29.545259396423432, 'P_118', 'F_014'], ['PartsToFacility', 18, 398, 232.5761331220391, 25.48876620837669, 'P_118', 'F_017'], ['PartsToFacility', 20, 29, 300.23488301302905, 18.73430862921829, 'P_118', 'F_018'], ['PartsToFacility', 3, 632, 371.11475619161814, 2.7488486205169016, 'P_118', 'F_022'], ['PartsToFacility', 7, 971, 781.5468896821915, 29.286635947689412, 'P_118', 'F_026'], ['PartsToFacility', 20, 290, 290.54003004057495, 25.264773353705856, 'P_118', 'F_028'], ['PartsToFacility', 8, 363, 658.6887113442514, 15.710618948939016, 'P_118', 'F_031'], ['PartsToFacility', 7, 399, 282.4901448129424, 2.258883583917134, 'P_118', 'F_038'], ['PartsToFacility', 11, 702, 614.6684138479038, 6.316322452701428, 'P_118', 'F_039'], ['PartsToFacility', 8, 506, 919.1129884696447, 24.7251862196166, 'P_118', 'F_040'], ['PartsToFacility', 2, 455, 179.51543601033404, 17.81857490573768, 'P_119', 'F_007'], ['PartsToFacility', 12, 254, 883.5744122429144, 5.56322925955728, 'P_119', 'F_009'], ['PartsToFacility', 5, 570, 474.86224435707277, 20.441891001435962, 'P_119', 'F_011'], ['PartsToFacility', 20, 297, 76.44832620795471, 27.687283761267008, 'P_119', 'F_024'], ['PartsToFacility', 11, 907, 651.1299120154575, 4.5460757198302835, 'P_119', 'F_026'], ['PartsToFacility', 10, 507, 75.48176184633016, 14.999123953433271, 'P_119', 'F_028'], ['PartsToFacility', 11, 269, 123.89793148431247, 7.901750098330991, 'P_119', 'F_032'], ['PartsToFacility', 4, 631, 680.1893419119145, 8.146893426498556, 'P_119', 'F_034'], ['PartsToFacility', 11, 388, 21.02847972271394, 24.08690999465687, 'P_119', 'F_035'], ['PartsToFacility', 7, 209, 171.5410870918131, 5.896114602750904, 'P_119', 'F_037'], ['PartsToFacility', 9, 438, 23.82226973923958, 27.3275937735932, 'P_119', 'F_041'], ['PartsToFacility', 19, 38, 884.3652583532827, 3.1080869911832956, 'P_119', 'F_042'], ['PartsToFacility', 8, 249, 536.4437659473214, 11.332575060520194, 'P_119', 'F_045'], ['PartsToFacility', 10, 677, 141.38849600840365, 26.64161797414765, 'P_120', 'F_006'], ['PartsToFacility', 10, 970, 23.185864789378023, 25.530310210023234, 'P_120', 'F_010'], ['PartsToFacility', 11, 177, 324.4577083746395, 16.083567113818958, 'P_120', 'F_014'], ['PartsToFacility', 15, 731, 649.3838396140751, 27.225220831818753, 'P_120', 'F_016'], ['PartsToFacility', 16, 110, 665.8765899826132, 13.751453513249343, 'P_120', 'F_017'], ['PartsToFacility', 11, 540, 402.8086322527897, 20.87325949686288, 'P_120', 'F_022'], ['PartsToFacility', 14, 584, 278.6906827489572, 8.592403018766072, 'P_120', 'F_024'], ['PartsToFacility', 4, 591, 52.86104271514302, 5.005952077232887, 'P_120', 'F_025'], ['PartsToFacility', 16, 772, 257.05910260022927, 20.34875657403474, 'P_120', 'F_031'], ['PartsToFacility', 19, 75, 601.4925433813737, 1.7091947573494506, 'P_120', 'F_034'], ['PartsToFacility', 19, 826, 826.849750368856, 19.86848476052656, 'P_120', 'F_036'], ['PartsToFacility', 13, 104, 156.01387792487168, 8.861118789195618, 'P_120', 'F_038'], ['PartsToFacility', 10, 190, 90.48882898091473, 21.97897942807847, 'P_120', 'F_039'], ['PartsToFacility', 18, 175, 295.3926802384833, 18.148712636284337, 'P_120', 'F_045'], ['PartsToFacility', 14, 342, 876.4082489750581, 17.16328370180565, 'P_121', 'F_010'], ['PartsToFacility', 8, 372, 940.1441761519541, 8.902231924391117, 'P_121', 'F_012'], ['PartsToFacility', 17, 961, 486.1716281170861, 18.648183983344353, 'P_121', 'F_014'], ['PartsToFacility', 11, 384, 790.9985948655377, 10.365940937644478, 'P_121', 'F_024'], ['PartsToFacility', 4, 942, 76.34384852820722, 29.058088316590375, 'P_121', 'F_025'], ['PartsToFacility', 20, 911, 414.3283221830151, 5.975730314286096, 'P_121', 'F_028'], ['PartsToFacility', 7, 848, 730.6679458926593, 3.6789872412704767, 'P_121', 'F_034'], ['PartsToFacility', 7, 399, 822.7675971061486, 10.264715189898462, 'P_121', 'F_035'], ['PartsToFacility', 3, 900, 882.3840987207046, 6.414601486553175, 'P_121', 'F_037'], ['PartsToFacility', 8, 929, 769.8569626713363, 17.931308397776, 'P_121', 'F_038'], ['PartsToFacility', 20, 490, 875.6732512081741, 13.556558259972254, 'P_121', 'F_039'], ['PartsToFacility', 9, 258, 36.940448886413336, 29.325931398476232, 'P_122', 'F_017'], ['PartsToFacility', 15, 727, 588.2154041048246, 16.638703113656284, 'P_122', 'F_020'], ['PartsToFacility', 19, 113, 205.0311354915019, 20.22977870931188, 'P_122', 'F_024'], ['PartsToFacility', 12, 860, 30.696010593013657, 2.9402226186865996, 'P_122', 'F_025'], ['PartsToFacility', 11, 698, 249.29108673726807, 23.92172846715537, 'P_122', 'F_026'], ['PartsToFacility', 1, 752, 643.2301262259325, 24.44003588126049, 'P_122', 'F_027'], ['PartsToFacility', 17, 242, 360.02759304170485, 29.186682277246874, 'P_122', 'F_033'], ['PartsToFacility', 10, 522, 523.0926073093866, 14.74441613681963, 'P_122', 'F_035'], ['PartsToFacility', 11, 17, 782.3056068741449, 8.564902385277747, 'P_122', 'F_037'], ['PartsToFacility', 13, 686, 641.2107012146813, 27.707440112597492, 'P_122', 'F_040'], ['PartsToFacility', 5, 320, 801.9337157845193, 22.84585452456582, 'P_122', 'F_041'], ['PartsToFacility', 19, 331, 654.120811084058, 15.590009310641296, 'P_122', 'F_042'], ['PartsToFacility', 20, 413, 96.72470763326206, 13.776093018619262, 'P_123', 'F_001'], ['PartsToFacility', 7, 248, 877.0855111003051, 29.843890627274398, 'P_123', 'F_006'], ['PartsToFacility', 19, 533, 169.81476254169476, 19.982214311233207, 'P_123', 'F_012'], ['PartsToFacility', 10, 674, 399.07250522662764, 10.02744342191013, 'P_123', 'F_017'], ['PartsToFacility', 19, 212, 257.98919596099717, 14.770827871573399, 'P_123', 'F_019'], ['PartsToFacility', 13, 15, 853.5532294379373, 22.305630101978682, 'P_123', 'F_028'], ['PartsToFacility', 7, 794, 85.19851914100855, 14.764087313838582, 'P_123', 'F_036'], ['PartsToFacility', 8, 114, 193.06596155420553, 19.80962229120668, 'P_123', 'F_037'], ['PartsToFacility', 20, 615, 351.89320708714354, 17.726281905775622, 'P_123', 'F_039'], ['PartsToFacility', 16, 814, 457.2008880688074, 17.954567517444193, 'P_123', 'F_042'], ['PartsToFacility', 18, 541, 666.7869860374765, 8.449991608952168, 'P_123', 'F_045'], ['PartsToFacility', 13, 646, 582.5526294292938, 15.544868868009976, 'P_124', 'F_010'], ['PartsToFacility', 17, 206, 794.6261052452966, 11.376277285769632, 'P_124', 'F_011'], ['PartsToFacility', 17, 42, 517.0339273292333, 13.395993349533462, 'P_124', 'F_014'], ['PartsToFacility', 9, 979, 187.1766463226804, 1.30797518245023, 'P_124', 'F_017'], ['PartsToFacility', 12, 479, 787.089544145662, 17.566971696299376, 'P_124', 'F_025'], ['PartsToFacility', 10, 610, 570.0158528168992, 14.097994032384998, 'P_124', 'F_027'], ['PartsToFacility', 18, 575, 617.7573703339275, 20.338679843047302, 'P_124', 'F_032'], ['PartsToFacility', 6, 499, 42.09887192568549, 1.9340190649923623, 'P_124', 'F_033'], ['PartsToFacility', 4, 861, 914.3150642699222, 9.821771015781703, 'P_124', 'F_036'], ['PartsToFacility', 13, 136, 376.7226173444193, 7.17786042919, 'P_124', 'F_038'], ['PartsToFacility', 9, 424, 639.9063815036062, 8.32850971425533, 'P_125', 'F_005'], ['PartsToFacility', 6, 837, 184.36122508842524, 12.031541662698526, 'P_125', 'F_006'], ['PartsToFacility', 19, 643, 310.5065424464504, 27.440432113112447, 'P_125', 'F_011'], ['PartsToFacility', 15, 849, 934.0949392719567, 5.8857843985133815, 'P_125', 'F_021'], ['PartsToFacility', 6, 423, 723.3863109592255, 14.344237359529323, 'P_125', 'F_024'], ['PartsToFacility', 15, 719, 60.50618319991909, 6.098194781371938, 'P_125', 'F_026'], ['PartsToFacility', 14, 927, 187.40636681722577, 10.121892234132083, 'P_125', 'F_028'], ['PartsToFacility', 14, 653, 774.0753269329809, 18.492739982646025, 'P_125', 'F_035'], ['PartsToFacility', 17, 838, 414.95475128759045, 3.557884982309238, 'P_125', 'F_038'], ['PartsToFacility', 20, 206, 921.1243928950764, 14.014395454678406, 'P_125', 'F_039'], ['PartsToFacility', 19, 963, 251.83911051842017, 21.985048674196022, 'P_126', 'F_007'], ['PartsToFacility', 11, 163, 105.09806464370347, 9.80810532031276, 'P_126', 'F_008'], ['PartsToFacility', 15, 140, 424.7465009752179, 5.188536364509131, 'P_126', 'F_014'], ['PartsToFacility', 9, 897, 231.0095789564185, 4.438720067488063, 'P_126', 'F_017'], ['PartsToFacility', 7, 625, 427.63070727902624, 12.05785457734772, 'P_126', 'F_026'], ['PartsToFacility', 6, 847, 320.4210809348145, 18.530356197188926, 'P_126', 'F_028'], ['PartsToFacility', 12, 739, 64.80965299662877, 23.43748971806637, 'P_126', 'F_037'], ['PartsToFacility', 7, 105, 840.1342709162617, 21.071529925345818, 'P_126', 'F_042'], ['PartsToFacility', 14, 973, 638.9620889020306, 27.920753104782598, 'P_126', 'F_045'], ['PartsToFacility', 19, 53, 142.65751136358452, 20.225870641385658, 'P_127', 'F_001'], ['PartsToFacility', 19, 12, 921.6222403416584, 15.216485380856424, 'P_127', 'F_011'], ['PartsToFacility', 7, 197, 59.952552643129515, 16.27486306694675, 'P_127', 'F_017'], ['PartsToFacility', 1, 437, 735.4522559075432, 10.654682832030312, 'P_127', 'F_021'], ['PartsToFacility', 13, 712, 92.3277313379338, 2.898075910515023, 'P_127', 'F_025'], ['PartsToFacility', 18, 687, 385.90855969406596, 9.232595751886144, 'P_127', 'F_028'], ['PartsToFacility', 12, 562, 666.5689655631219, 22.50164635059588, 'P_127', 'F_030'], ['PartsToFacility', 8, 233, 913.6719300988044, 29.159145041190143, 'P_127', 'F_032'], ['PartsToFacility', 3, 536, 260.1821693154616, 6.886396994224887, 'P_127', 'F_035'], ['PartsToFacility', 17, 742, 215.47102733587585, 10.483806360665886, 'P_127', 'F_041'], ['PartsToFacility', 14, 950, 508.52326853344596, 10.205641735755155, 'P_128', 'F_010'], ['PartsToFacility', 10, 349, 134.26085924559902, 2.4912359184174453, 'P_128', 'F_024'], ['PartsToFacility', 15, 207, 947.7886094354267, 14.201810439869073, 'P_128', 'F_025'], ['PartsToFacility', 8, 592, 108.78469870342164, 6.946626314446154, 'P_128', 'F_028'], ['PartsToFacility', 7, 269, 283.4181827563247, 2.5946998457530768, 'P_128', 'F_029'], ['PartsToFacility', 10, 507, 167.8901082830548, 2.611046692396461, 'P_128', 'F_032'], ['PartsToFacility', 11, 64, 90.77940676060506, 2.659505797832014, 'P_128', 'F_035'], ['PartsToFacility', 14, 458, 331.8815468555506, 5.107112768601031, 'P_128', 'F_038'], ['PartsToFacility', 4, 438, 487.7839650862501, 11.887526572656654, 'P_128', 'F_042'], ['PartsToFacility', 17, 681, 459.9502641169617, 6.731569932577386, 'P_129', 'F_006'], ['PartsToFacility', 1, 603, 400.95230070203763, 12.966961993502375, 'P_129', 'F_008'], ['PartsToFacility', 12, 837, 892.6451504140346, 5.449082267719329, 'P_129', 'F_011'], ['PartsToFacility', 9, 508, 511.54141176316176, 6.899429845994655, 'P_129', 'F_013'], ['PartsToFacility', 11, 243, 118.85900313954019, 6.367719216933731, 'P_129', 'F_022'], ['PartsToFacility', 10, 204, 372.05653951088124, 3.727336989508792, 'P_129', 'F_025'], ['PartsToFacility', 8, 198, 95.043234972465, 23.6697745210178, 'P_129', 'F_028'], ['PartsToFacility', 3, 608, 16.804961834609898, 15.313236070848301, 'P_129', 'F_036'], ['PartsToFacility', 11, 259, 812.122814838421, 18.510084416568535, 'P_129', 'F_037'], ['PartsToFacility', 16, 219, 613.5301669966034, 11.375710742047179, 'P_129', 'F_042'], ['PartsToFacility', 16, 141, 526.4026118648158, 11.0590610131495, 'P_129', 'F_045'], ['PartsToFacility', 17, 222, 911.8335676774228, 16.859239222837033, 'P_130', 'F_008'], ['PartsToFacility', 4, 301, 861.6469579584949, 23.430782600236977, 'P_130', 'F_013'], ['PartsToFacility', 7, 625, 711.8189408703865, 9.220217053811755, 'P_130', 'F_025'], ['PartsToFacility', 13, 330, 106.17158085517129, 5.018325373729857, 'P_130', 'F_028'], ['PartsToFacility', 9, 828, 215.58654734865956, 6.446218195995138, 'P_130', 'F_036'], ['PartsToFacility', 19, 295, 548.502147251494, 7.722150137711316, 'P_130', 'F_045'], ['PartsToFacility', 1, 936, 496.68835657407357, 8.299009798332268, 'P_131', 'F_008'], ['PartsToFacility', 19, 842, 359.9362471310614, 1.757927608359879, 'P_131', 'F_009'], ['PartsToFacility', 2, 278, 899.6416711681887, 21.559672034407505, 'P_131', 'F_010'], ['PartsToFacility', 7, 656, 370.2500471099867, 5.361851396281004, 'P_131', 'F_011'], ['PartsToFacility', 9, 630, 925.1077580674612, 17.696574529326522, 'P_131', 'F_013'], ['PartsToFacility', 13, 423, 904.7353221692141, 22.483874391653007, 'P_131', 'F_014'], ['PartsToFacility', 11, 798, 489.65413514770097, 28.550614931250507, 'P_131', 'F_017'], ['PartsToFacility', 11, 971, 472.060070912955, 29.19627234179671, 'P_131', 'F_019'], ['PartsToFacility', 15, 501, 572.7028348486307, 17.495739861944838, 'P_131', 'F_024'], ['PartsToFacility', 5, 828, 973.1675559508404, 23.534150641725613, 'P_131', 'F_025'], ['PartsToFacility', 19, 454, 313.40724802536107, 21.1507458787056, 'P_131', 'F_028'], ['PartsToFacility', 13, 981, 385.91002365750626, 21.98272961256957, 'P_131', 'F_034'], ['PartsToFacility', 5, 383, 996.2354080354717, 17.673047099025077, 'P_131', 'F_036'], ['PartsToFacility', 11, 533, 989.6674373405477, 9.040672381523208, 'P_131', 'F_038'], ['PartsToFacility', 17, 840, 755.681174135703, 12.146490814754497, 'P_131', 'F_041'], ['PartsToFacility', 14, 568, 387.5729634577691, 24.85528415997866, 'P_131', 'F_043'], ['PartsToFacility', 10, 924, 418.73684732752844, 17.93826940117337, 'P_131', 'F_045'], ['PartsToFacility', 8, 401, 435.27472441996247, 24.945775806787285, 'P_132', 'F_011'], ['PartsToFacility', 18, 572, 49.962222106010294, 2.568492165411469, 'P_132', 'F_014'], ['PartsToFacility', 14, 647, 352.88619388746514, 11.341603668716484, 'P_132', 'F_019'], ['PartsToFacility', 13, 445, 626.8781047047353, 4.456020112019262, 'P_132', 'F_021'], ['PartsToFacility', 12, 581, 812.208806048841, 15.161929326888519, 'P_132', 'F_023'], ['PartsToFacility', 6, 661, 824.7054140191119, 12.882610981065753, 'P_132', 'F_025'], ['PartsToFacility', 15, 590, 801.6198028471053, 14.636647164000472, 'P_132', 'F_027'], ['PartsToFacility', 7, 884, 302.3974322780895, 15.95517951526326, 'P_132', 'F_029'], ['PartsToFacility', 19, 205, 475.7576423606829, 18.19601521445258, 'P_132', 'F_039'], ['PartsToFacility', 15, 80, 412.8882697281879, 6.742645641488772, 'P_132', 'F_040'], ['PartsToFacility', 12, 237, 19.85632245355378, 1.000969259972206, 'P_133', 'F_001'], ['PartsToFacility', 15, 215, 128.03347173607878, 12.512858094910765, 'P_133', 'F_007'], ['PartsToFacility', 13, 790, 124.43987576544026, 5.0555739984036325, 'P_133', 'F_008'], ['PartsToFacility', 16, 130, 982.3834175880233, 15.948191175845425, 'P_133', 'F_010'], ['PartsToFacility', 16, 760, 343.1987781954497, 22.52514695513878, 'P_133', 'F_017'], ['PartsToFacility', 11, 211, 655.307333812352, 8.668808967034238, 'P_133', 'F_020'], ['PartsToFacility', 6, 628, 997.7670913940648, 2.940228847024308, 'P_133', 'F_022'], ['PartsToFacility', 20, 367, 990.5979663404888, 14.719590275635062, 'P_133', 'F_027'], ['PartsToFacility', 16, 297, 734.1278389868863, 5.344701284405652, 'P_133', 'F_032'], ['PartsToFacility', 18, 108, 28.469140204895535, 11.585375713782746, 'P_133', 'F_035'], ['PartsToFacility', 4, 172, 657.9760417065462, 2.7144966350032878, 'P_133', 'F_038'], ['PartsToFacility', 20, 419, 644.7595778949285, 16.79111556621536, 'P_133', 'F_039'], ['PartsToFacility', 14, 245, 133.8571038352498, 25.080203239644316, 'P_133', 'F_045'], ['PartsToFacility', 3, 726, 144.4678228294542, 9.878224728077877, 'P_134', 'F_001'], ['PartsToFacility', 18, 971, 576.7058894811358, 13.766199777673803, 'P_134', 'F_007'], ['PartsToFacility', 13, 484, 882.6543300048727, 21.224556124865913, 'P_134', 'F_017'], ['PartsToFacility', 15, 305, 560.6036837302581, 13.613071898752525, 'P_134', 'F_020'], ['PartsToFacility', 12, 898, 752.2583559476177, 6.1737823210448255, 'P_134', 'F_022'], ['PartsToFacility', 10, 80, 832.5738104094215, 12.52988715980513, 'P_134', 'F_024'], ['PartsToFacility', 8, 948, 765.4937524403024, 19.001879413769224, 'P_134', 'F_029'], ['PartsToFacility', 10, 887, 186.18924985379212, 23.06013647269569, 'P_134', 'F_035'], ['PartsToFacility', 6, 588, 343.71973359274494, 11.732705233889646, 'P_134', 'F_040'], ['PartsToFacility', 16, 351, 638.2856284320106, 7.363212654772244, 'P_135', 'F_007'], ['PartsToFacility', 2, 805, 340.46761442359235, 20.970341189231757, 'P_135', 'F_010'], ['PartsToFacility', 14, 515, 265.90845811056334, 11.548193496552766, 'P_135', 'F_014'], ['PartsToFacility', 6, 82, 955.9051658375115, 6.73948496977913, 'P_135', 'F_015'], ['PartsToFacility', 7, 167, 260.0540034936761, 14.882615832537716, 'P_135', 'F_022'], ['PartsToFacility', 8, 480, 370.99073761927093, 11.949284026509376, 'P_135', 'F_035'], ['PartsToFacility', 1, 794, 302.71890220824474, 14.284366182875189, 'P_135', 'F_039'], ['PartsToFacility', 18, 262, 248.18070669867654, 18.632156529831736, 'P_135', 'F_040'], ['PartsToFacility', 14, 861, 186.3835594846334, 28.841328501589008, 'P_135', 'F_042'], ['PartsToFacility', 7, 236, 252.1292836156793, 7.011027208580363, 'P_135', 'F_045'], ['PartsToFacility', 8, 308, 148.05032426522226, 21.858572366125596, 'P_136', 'F_014'], ['PartsToFacility', 13, 274, 353.33222860300276, 22.139203205535004, 'P_136', 'F_017'], ['PartsToFacility', 11, 811, 221.40020920131857, 8.417782593382631, 'P_136', 'F_019'], ['PartsToFacility', 4, 327, 408.99922779120527, 26.083394247933608, 'P_136', 'F_024'], ['PartsToFacility', 9, 837, 279.1870584402645, 19.034500444591174, 'P_136', 'F_025'], ['PartsToFacility', 2, 228, 245.98141137330126, 9.179744448475049, 'P_136', 'F_036'], ['PartsToFacility', 9, 231, 458.2075734594768, 9.02453149584385, 'P_136', 'F_037'], ['PartsToFacility', 5, 822, 41.347916337656045, 1.1553262866219762, 'P_136', 'F_038'], ['PartsToFacility', 20, 691, 340.7153932638642, 8.89282834940324, 'P_136', 'F_042'], ['PartsToFacility', 7, 476, 103.00868423760393, 25.046244592297487, 'P_136', 'F_044'], ['PartsToFacility', 19, 161, 453.7914637083858, 1.2583765006729912, 'P_137', 'F_007'], ['PartsToFacility', 3, 547, 561.8448274015963, 4.902049551321399, 'P_137', 'F_010'], ['PartsToFacility', 1, 317, 441.2169022714671, 18.126543528296263, 'P_137', 'F_022'], ['PartsToFacility', 18, 834, 946.6633664907016, 10.814235776883, 'P_137', 'F_024'], ['PartsToFacility', 16, 999, 727.8961055790519, 9.757941519210496, 'P_137', 'F_026'], ['PartsToFacility', 3, 679, 274.1254371080633, 25.28588750613842, 'P_137', 'F_032'], ['PartsToFacility', 11, 877, 888.2045984668371, 25.7159036261675, 'P_137', 'F_035'], ['PartsToFacility', 16, 493, 527.4579302785452, 17.043702103092524, 'P_137', 'F_039'], ['PartsToFacility', 17, 809, 716.5317412477024, 28.588944185370945, 'P_137', 'F_042'], ['PartsToFacility', 12, 397, 720.3644086803658, 22.608937768794743, 'P_137', 'F_045'], ['PartsToFacility', 13, 235, 323.0394039262819, 6.112070441152772, 'P_138', 'F_001'], ['PartsToFacility', 8, 169, 88.21444741857398, 21.611545555770718, 'P_138', 'F_008'], ['PartsToFacility', 14, 220, 287.43109255434365, 1.4652567356168178, 'P_138', 'F_010'], ['PartsToFacility', 12, 195, 900.3113121861974, 28.24855087994865, 'P_138', 'F_011'], ['PartsToFacility', 5, 465, 399.2418907502543, 17.913196370564172, 'P_138', 'F_014'], ['PartsToFacility', 15, 543, 725.7669429431038, 26.66315239425572, 'P_138', 'F_017'], ['PartsToFacility', 1, 82, 350.0342159023017, 14.40485630802142, 'P_138', 'F_024'], ['PartsToFacility', 16, 957, 237.12717012276872, 24.352611479111435, 'P_138', 'F_025'], ['PartsToFacility', 10, 765, 372.13340852956287, 19.17037843562379, 'P_138', 'F_028'], ['PartsToFacility', 5, 804, 864.9148729356882, 26.35980251343083, 'P_138', 'F_037'], ['PartsToFacility', 10, 61, 565.3048608854591, 25.08068339844303, 'P_138', 'F_038'], ['PartsToFacility', 1, 84, 985.6805074951453, 16.393988660179172, 'P_138', 'F_042'], ['PartsToFacility', 7, 176, 929.0597245765916, 22.914983940685573, 'P_138', 'F_045'], ['PartsToFacility', 8, 230, 807.177010970159, 2.3847424972408264, 'P_139', 'F_001'], ['PartsToFacility', 20, 978, 259.1373681264073, 16.36422047128621, 'P_139', 'F_010'], ['PartsToFacility', 9, 916, 915.0314450415655, 22.17724528714591, 'P_139', 'F_011'], ['PartsToFacility', 16, 334, 620.442880610639, 1.8314960782321985, 'P_139', 'F_014'], ['PartsToFacility', 7, 638, 496.8254312600053, 16.821091386966707, 'P_139', 'F_017'], ['PartsToFacility', 20, 988, 206.46658902500334, 2.385296811136546, 'P_139', 'F_028'], ['PartsToFacility', 13, 585, 668.6618369212978, 14.619551213908098, 'P_139', 'F_031'], ['PartsToFacility', 5, 944, 213.41044814894963, 9.04311158822543, 'P_139', 'F_035'], ['PartsToFacility', 3, 316, 666.8384192521288, 2.5226509642485517, 'P_139', 'F_038'], ['PartsToFacility', 16, 223, 860.2296078115354, 14.956461916052485, 'P_139', 'F_041'], ['PartsToFacility', 13, 957, 422.55704371192013, 9.252661819210012, 'P_139', 'F_042'], ['PartsToFacility', 14, 240, 327.8114893024946, 23.929466607106207, 'P_139', 'F_045'], ['PartsToFacility', 4, 602, 963.5704567485615, 28.11965985880509, 'P_140', 'F_008'], ['PartsToFacility', 15, 383, 348.5389347118223, 16.923904940331358, 'P_140', 'F_009'], ['PartsToFacility', 18, 759, 153.3584156023053, 13.885919317858528, 'P_140', 'F_010'], ['PartsToFacility', 19, 982, 932.1947097005733, 29.9186638537566, 'P_140', 'F_017'], ['PartsToFacility', 1, 696, 152.20024327591344, 9.405299169603301, 'P_140', 'F_025'], ['PartsToFacility', 19, 307, 964.4469319224559, 11.953764193677506, 'P_140', 'F_033'], ['PartsToFacility', 9, 771, 718.5734751428611, 12.026173317056635, 'P_140', 'F_035'], ['PartsToFacility', 8, 582, 51.14815809708585, 19.130379890012804, 'P_140', 'F_036'], ['PartsToFacility', 1, 799, 527.0406196468522, 29.315525695925537, 'P_140', 'F_039'], ['PartsToFacility', 14, 225, 10.722654600097322, 11.277487136422046, 'P_140', 'F_041'], ['PartsToFacility', 4, 103, 781.0306383610185, 24.37862309411568, 'P_140', 'F_045'], ['PartsToFacility', 9, 470, 796.9798962108118, 8.372882580448813, 'P_141', 'F_008'], ['PartsToFacility', 10, 931, 816.9847975824327, 17.799387814229345, 'P_141', 'F_014'], ['PartsToFacility', 5, 948, 871.5553943770849, 1.234602897238478, 'P_141', 'F_025'], ['PartsToFacility', 15, 471, 517.8922152998009, 16.570679060549892, 'P_141', 'F_028'], ['PartsToFacility', 9, 157, 20.22940743670779, 13.662692120599898, 'P_141', 'F_035'], ['PartsToFacility', 5, 129, 464.9202429589925, 2.569297889795065, 'P_142', 'F_002'], ['PartsToFacility', 2, 283, 975.1200852442689, 15.838119370521213, 'P_142', 'F_008'], ['PartsToFacility', 18, 311, 638.224609690217, 29.930893548777576, 'P_142', 'F_010'], ['PartsToFacility', 18, 83, 84.3500718699924, 13.886111400505863, 'P_142', 'F_011'], ['PartsToFacility', 10, 337, 912.084218681541, 22.31403402719404, 'P_142', 'F_012'], ['PartsToFacility', 11, 948, 890.161453719696, 1.1291644505525338, 'P_142', 'F_019'], ['PartsToFacility', 4, 456, 150.8825010636168, 11.479195537130781, 'P_142', 'F_028'], ['PartsToFacility', 8, 14, 54.71587688687177, 21.421514144801723, 'P_142', 'F_039'], ['PartsToFacility', 8, 603, 474.3694897598669, 18.55451615445601, 'P_143', 'F_006'], ['PartsToFacility', 14, 102, 538.5748274518296, 8.993203787545307, 'P_143', 'F_010'], ['PartsToFacility', 12, 917, 631.8140582447943, 13.389745788718285, 'P_143', 'F_014'], ['PartsToFacility', 15, 480, 35.13892760727439, 20.586569421350514, 'P_143', 'F_024'], ['PartsToFacility', 12, 163, 229.69903390941536, 7.380168054312633, 'P_143', 'F_025'], ['PartsToFacility', 12, 258, 507.2384057449251, 9.55178107048403, 'P_143', 'F_027'], ['PartsToFacility', 20, 769, 936.934088556321, 23.3612019138558, 'P_143', 'F_030'], ['PartsToFacility', 15, 767, 295.6051179216996, 3.7918289455795193, 'P_143', 'F_035'], ['PartsToFacility', 9, 219, 729.0126700740836, 6.0817862509249, 'P_143', 'F_039'], ['PartsToFacility', 3, 93, 38.01467793825137, 14.100844617333308, 'P_143', 'F_041'], ['PartsToFacility', 10, 982, 240.0166279969483, 19.168109724256787, 'P_143', 'F_045'], ['PartsToFacility', 3, 791, 196.34852030907402, 29.98547754987175, 'P_144', 'F_001'], ['PartsToFacility', 6, 912, 737.1109991617252, 15.090942732589545, 'P_144', 'F_009'], ['PartsToFacility', 9, 36, 904.0563770862121, 6.688658369045332, 'P_144', 'F_010'], ['PartsToFacility', 9, 21, 586.7979849545969, 29.18288981088172, 'P_144', 'F_014'], ['PartsToFacility', 20, 147, 31.80788644553747, 10.012858450627958, 'P_144', 'F_016'], ['PartsToFacility', 13, 790, 400.85217620751797, 6.085417510108364, 'P_144', 'F_024'], ['PartsToFacility', 3, 488, 570.9932747178266, 8.775563345039934, 'P_144', 'F_026'], ['PartsToFacility', 15, 652, 128.27797915889786, 17.728469801684657, 'P_144', 'F_032'], ['PartsToFacility', 17, 206, 371.0364501556391, 9.420797392697116, 'P_144', 'F_036'], ['PartsToFacility', 8, 49, 783.3652291461785, 14.171764174041478, 'P_144', 'F_045'], ['PartsToFacility', 3, 995, 292.22033320245913, 16.28454549830454, 'P_145', 'F_005'], ['PartsToFacility', 16, 874, 897.1508175526865, 26.3834649039719, 'P_145', 'F_007'], ['PartsToFacility', 7, 957, 569.6787445054291, 3.3941851139999004, 'P_145', 'F_009'], ['PartsToFacility', 18, 551, 93.61854913055971, 8.486429379792382, 'P_145', 'F_022'], ['PartsToFacility', 12, 841, 174.45423950139272, 27.683019370266525, 'P_145', 'F_033'], ['PartsToFacility', 12, 209, 477.5020959411179, 4.905397088394022, 'P_145', 'F_042'], ['PartsToFacility', 11, 351, 637.2544335792629, 2.0648820121982796, 'P_145', 'F_045'], ['PartsToFacility', 16, 425, 770.6326313614743, 28.53548508416578, 'P_146', 'F_001'], ['PartsToFacility', 12, 45, 498.6143400084982, 21.24325638429208, 'P_146', 'F_010'], ['PartsToFacility', 7, 62, 244.4323403300533, 6.822285942624246, 'P_146', 'F_014'], ['PartsToFacility', 13, 803, 435.5183315340654, 10.139834554180617, 'P_146', 'F_017'], ['PartsToFacility', 1, 666, 338.42577353440635, 27.058863244309855, 'P_146', 'F_026'], ['PartsToFacility', 18, 310, 788.325791295501, 24.07699696609689, 'P_146', 'F_031'], ['PartsToFacility', 18, 263, 596.5889674780035, 12.984302507168493, 'P_146', 'F_032'], ['PartsToFacility', 9, 747, 534.7117387482758, 17.199710254467742, 'P_146', 'F_035'], ['PartsToFacility', 20, 251, 994.631790986693, 6.87176145240999, 'P_146', 'F_036'], ['PartsToFacility', 15, 273, 418.4566893187708, 1.2942755135052826, 'P_146', 'F_038'], ['PartsToFacility', 5, 905, 266.9309733559588, 20.702161770328747, 'P_146', 'F_042'], ['PartsToFacility', 12, 252, 426.5444809429007, 26.582574900220145, 'P_146', 'F_045'], ['PartsToFacility', 3, 890, 673.4116340951556, 22.924207835112455, 'P_147', 'F_006'], ['PartsToFacility', 3, 955, 119.11675067816265, 8.75860040496553, 'P_147', 'F_007'], ['PartsToFacility', 10, 739, 219.14406348631942, 21.365654058087618, 'P_147', 'F_025'], ['PartsToFacility', 15, 539, 449.7811645654452, 21.596936875027957, 'P_147', 'F_026'], ['PartsToFacility', 18, 613, 116.74081891606777, 5.452391745076682, 'P_147', 'F_027'], ['PartsToFacility', 13, 162, 143.8046796457706, 22.517554185810837, 'P_147', 'F_036'], ['PartsToFacility', 19, 934, 585.8670472136099, 6.395318622685837, 'P_147', 'F_037'], ['PartsToFacility', 18, 731, 194.81573652804806, 14.401424717802893, 'P_147', 'F_045'], ['PartsToFacility', 4, 729, 636.2713235346142, 7.334429099755355, 'P_148', 'F_010'], ['PartsToFacility', 4, 540, 684.4172547373827, 21.08909899527186, 'P_148', 'F_020'], ['PartsToFacility', 18, 260, 264.14413951935325, 29.407844831232303, 'P_148', 'F_028'], ['PartsToFacility', 8, 631, 941.7479868800541, 9.614433195184501, 'P_148', 'F_034'], ['PartsToFacility', 15, 758, 162.6131206499188, 4.306305817408466, 'P_148', 'F_038'], ['PartsToFacility', 17, 156, 768.9192647052711, 8.71798847479537, 'P_148', 'F_039'], ['PartsToFacility', 9, 437, 250.25597198561974, 19.913501869684183, 'P_148', 'F_040'], ['PartsToFacility', 4, 432, 515.0720538946541, 20.30397333692996, 'P_148', 'F_044'], ['PartsToFacility', 11, 519, 945.0156091529274, 26.569842727898777, 'P_149', 'F_001'], ['PartsToFacility', 10, 551, 386.9799155966211, 3.257627166695032, 'P_149', 'F_011'], ['PartsToFacility', 4, 470, 620.1575139239351, 19.532016130435405, 'P_149', 'F_012'], ['PartsToFacility', 8, 839, 206.2116692517664, 16.810414762980756, 'P_149', 'F_022'], ['PartsToFacility', 7, 125, 799.7198640481622, 11.534735366435534, 'P_149', 'F_024'], ['PartsToFacility', 11, 233, 147.38252432956807, 3.295321350842549, 'P_149', 'F_025'], ['PartsToFacility', 11, 820, 621.4595554955716, 22.53472485996667, 'P_149', 'F_042'], ['PartsToFacility', 8, 976, 901.3730670572462, 9.597610872859692, 'P_149', 'F_045'], ['PartsToFacility', 6, 832, 811.8942286079986, 20.054566421725923, 'P_150', 'F_014'], ['PartsToFacility', 6, 891, 582.132272994429, 7.838490561197023, 'P_150', 'F_019'], ['PartsToFacility', 6, 240, 667.9015269954468, 24.03827349095074, 'P_150', 'F_022'], ['PartsToFacility', 5, 587, 254.90841727033046, 11.287240246444753, 'P_150', 'F_025'], ['PartsToFacility', 3, 106, 300.99167717793097, 24.16245022327046, 'P_150', 'F_028'], ['PartsToFacility', 10, 837, 498.6465466057825, 25.692584147031607, 'P_150', 'F_039'], ['PartsToFacility', 19, 318, 460.99469280146144, 28.3289803489336, 'P_150', 'F_040'], ['PartsToFacility', 12, 806, 794.885934088228, 20.177072004479772, 'P_150', 'F_045'], ['PartsToFacility', 20, 716, 49.529542273775704, 10.478820503885427, 'P_151', 'F_048'], ['PartsToFacility', 18, 616, 742.7408863004531, 21.847642556466532, 'P_151', 'F_054'], ['PartsToFacility', 9, 432, 109.04184385380248, 2.756790181772564, 'P_151', 'F_059'], ['PartsToFacility', 1, 748, 579.9725050527661, 20.95487076214141, 'P_151', 'F_062'], ['PartsToFacility', 16, 811, 250.022692193155, 22.20074970073866, 'P_151', 'F_064'], ['PartsToFacility', 20, 18, 793.0751733617113, 21.53593613808321, 'P_152', 'F_047'], ['PartsToFacility', 4, 153, 152.20990640003134, 13.98655640321887, 'P_152', 'F_051'], ['PartsToFacility', 8, 973, 394.5734279432326, 27.533711468679893, 'P_152', 'F_053'], ['PartsToFacility', 16, 767, 900.3801821757094, 2.3143851761581677, 'P_152', 'F_068'], ['PartsToFacility', 13, 560, 396.60139377032203, 22.32529116259977, 'P_152', 'F_071'], ['PartsToFacility', 14, 14, 694.867196798425, 25.397796233647608, 'P_152', 'F_074'], ['PartsToFacility', 1, 424, 105.65514642516666, 24.490224342362506, 'P_153', 'F_047'], ['PartsToFacility', 20, 585, 890.781184903078, 6.455402387226093, 'P_153', 'F_053'], ['PartsToFacility', 15, 772, 963.691798686613, 9.100096266043419, 'P_153', 'F_054'], ['PartsToFacility', 11, 987, 261.04511968772476, 8.036541610560855, 'P_153', 'F_056'], ['PartsToFacility', 11, 550, 576.5112825688085, 19.571510327907543, 'P_153', 'F_058'], ['PartsToFacility', 8, 158, 84.29224432060947, 21.151189417932407, 'P_153', 'F_060'], ['PartsToFacility', 11, 558, 887.7978120133884, 14.612111020637169, 'P_153', 'F_063'], ['PartsToFacility', 15, 301, 70.75468535805904, 7.198668842664918, 'P_153', 'F_066'], ['PartsToFacility', 8, 683, 238.90895714807127, 9.36645619537216, 'P_153', 'F_068'], ['PartsToFacility', 13, 929, 839.3057606726614, 4.839773032037504, 'P_153', 'F_071'], ['PartsToFacility', 18, 597, 133.46517244868258, 27.39929366493086, 'P_153', 'F_075'], ['PartsToFacility', 11, 250, 934.9529839682716, 21.067460694975832, 'P_154', 'F_057'], ['PartsToFacility', 13, 611, 855.641706212493, 23.92987136268358, 'P_154', 'F_058'], ['PartsToFacility', 7, 32, 911.5351938739901, 23.40229185826084, 'P_154', 'F_063'], ['PartsToFacility', 20, 904, 981.4036896953804, 14.66524715019013, 'P_154', 'F_066'], ['PartsToFacility', 15, 633, 62.439364545569696, 20.375349283919462, 'P_154', 'F_071'], ['PartsToFacility', 6, 141, 264.5365506417472, 8.43208484909779, 'P_154', 'F_073'], ['PartsToFacility', 16, 409, 647.7860314587564, 23.671337591933632, 'P_154', 'F_075'], ['PartsToFacility', 19, 183, 120.89440506745292, 24.24131349989383, 'P_155', 'F_051'], ['PartsToFacility', 3, 902, 690.5758415449161, 27.70440203683989, 'P_155', 'F_052'], ['PartsToFacility', 5, 304, 825.9378298987414, 20.304901440158403, 'P_155', 'F_056'], ['PartsToFacility', 4, 921, 967.9576198161761, 24.668640795026366, 'P_155', 'F_057'], ['PartsToFacility', 12, 606, 825.223860772799, 12.583435861340261, 'P_155', 'F_058'], ['PartsToFacility', 18, 410, 743.9705480768328, 29.628368180661244, 'P_155', 'F_071'], ['PartsToFacility', 16, 839, 819.268814111606, 19.15267575176879, 'P_155', 'F_074'], ['PartsToFacility', 2, 486, 201.14101782401013, 18.05953842487918, 'P_156', 'F_052'], ['PartsToFacility', 1, 263, 672.6193918223478, 5.733689259524627, 'P_156', 'F_057'], ['PartsToFacility', 4, 395, 31.729055291930518, 12.96867161842712, 'P_156', 'F_064'], ['PartsToFacility', 17, 699, 608.3493804512958, 21.27971160718955, 'P_156', 'F_066'], ['PartsToFacility', 18, 893, 727.2521908546076, 23.156994984480672, 'P_156', 'F_068'], ['PartsToFacility', 16, 493, 313.6298281648774, 10.353453065384885, 'P_156', 'F_071'], ['PartsToFacility', 13, 779, 321.25408694230583, 15.23742964790042, 'P_156', 'F_075'], ['PartsToFacility', 18, 444, 439.12414682770583, 8.84375820638578, 'P_157', 'F_047'], ['PartsToFacility', 1, 957, 940.4289669229194, 25.711481647667885, 'P_157', 'F_052'], ['PartsToFacility', 16, 974, 731.3630212396846, 6.68495941665478, 'P_157', 'F_055'], ['PartsToFacility', 20, 207, 473.7048669700974, 24.185858506083733, 'P_157', 'F_062'], ['PartsToFacility', 1, 139, 420.46715845036795, 2.2370593796927407, 'P_157', 'F_069'], ['PartsToFacility', 10, 779, 568.1569104561545, 4.154081960211313, 'P_157', 'F_071'], ['PartsToFacility', 18, 383, 198.5635737910443, 24.957571906200855, 'P_157', 'F_075'], ['PartsToFacility', 20, 310, 365.14903624434, 24.939122170621715, 'P_158', 'F_048'], ['PartsToFacility', 11, 238, 423.6429606792409, 4.669792984071815, 'P_158', 'F_051'], ['PartsToFacility', 6, 769, 634.643789487611, 12.511438613650535, 'P_158', 'F_053'], ['PartsToFacility', 7, 603, 59.70369103779097, 11.511730479594123, 'P_158', 'F_060'], ['PartsToFacility', 9, 974, 696.5923146393, 2.0510802323645265, 'P_158', 'F_062'], ['PartsToFacility', 12, 185, 203.9761538585551, 4.872723131366095, 'P_158', 'F_063'], ['PartsToFacility', 13, 259, 779.4362746643532, 6.775274598591745, 'P_158', 'F_066'], ['PartsToFacility', 13, 375, 354.90630009720127, 21.49853584059043, 'P_158', 'F_069'], ['PartsToFacility', 19, 712, 615.9793203013403, 4.224398856056342, 'P_158', 'F_071'], ['PartsToFacility', 8, 861, 237.74742283682053, 6.651321422780957, 'P_159', 'F_047'], ['PartsToFacility', 5, 534, 301.1415127637077, 26.888673111795676, 'P_159', 'F_057'], ['PartsToFacility', 11, 929, 542.5358395128271, 6.47622646490252, 'P_159', 'F_066'], ['PartsToFacility', 7, 982, 508.4651824848693, 18.516789039916183, 'P_159', 'F_067'], ['PartsToFacility', 4, 127, 985.3269165992488, 26.880651461929595, 'P_159', 'F_068'], ['PartsToFacility', 7, 339, 211.3916275451023, 6.976360219657878, 'P_159', 'F_069'], ['PartsToFacility', 4, 929, 276.65654903536, 22.607596056325686, 'P_159', 'F_075'], ['PartsToFacility', 14, 74, 629.9984585411734, 25.781483960715125, 'P_160', 'F_051'], ['PartsToFacility', 12, 592, 518.180587944365, 15.363248910551853, 'P_160', 'F_056'], ['PartsToFacility', 7, 59, 782.1624324593307, 5.736303786973958, 'P_160', 'F_062'], ['PartsToFacility', 15, 288, 436.9014733258045, 16.09322034884662, 'P_160', 'F_064'], ['PartsToFacility', 7, 59, 973.5595097284158, 27.675625774699803, 'P_160', 'F_066'], ['PartsToFacility', 12, 742, 723.8769717764519, 15.025533285773097, 'P_160', 'F_071'], ['PartsToFacility', 14, 979, 558.02223296662, 25.53414616879561, 'P_160', 'F_075'], ['PartsToFacility', 1, 398, 963.1938712174781, 8.086570713096153, 'P_161', 'F_047'], ['PartsToFacility', 9, 972, 437.603638814444, 19.261172603564653, 'P_161', 'F_059'], ['PartsToFacility', 6, 240, 135.84456446438503, 13.763425096489179, 'P_161', 'F_060'], ['PartsToFacility', 7, 156, 409.20122069843615, 8.064942669370037, 'P_161', 'F_063'], ['PartsToFacility', 2, 777, 703.0537508675723, 18.120840268272435, 'P_161', 'F_068'], ['PartsToFacility', 20, 742, 22.20801256541541, 12.320130919337604, 'P_161', 'F_071'], ['PartsToFacility', 1, 447, 294.031774711641, 22.154202398220036, 'P_161', 'F_073'], ['PartsToFacility', 17, 595, 242.83851611461313, 18.114245647950383, 'P_161', 'F_075'], ['PartsToFacility', 9, 692, 726.8304097379761, 28.851378537940093, 'P_162', 'F_047'], ['PartsToFacility', 16, 543, 728.5065234198532, 16.92136503688936, 'P_162', 'F_055'], ['PartsToFacility', 3, 318, 137.93763306146195, 7.1864733489094945, 'P_162', 'F_059'], ['PartsToFacility', 5, 500, 240.23348307749822, 28.317397836484073, 'P_162', 'F_062'], ['PartsToFacility', 20, 760, 231.44753547320255, 25.853855383081374, 'P_162', 'F_075'], ['PartsToFacility', 7, 751, 621.6352917749325, 2.2150440374261606, 'P_163', 'F_047'], ['PartsToFacility', 13, 77, 744.6220577841964, 20.02057220940755, 'P_163', 'F_051'], ['PartsToFacility', 18, 730, 450.5550351691278, 25.312935343817777, 'P_163', 'F_056'], ['PartsToFacility', 7, 372, 647.157973302238, 12.061897329502901, 'P_163', 'F_057'], ['PartsToFacility', 2, 309, 222.87777537859913, 16.106126324820885, 'P_163', 'F_058'], ['PartsToFacility', 14, 940, 140.77488114114595, 15.928507946371955, 'P_163', 'F_060'], ['PartsToFacility', 8, 975, 841.803168928999, 24.54774590689353, 'P_163', 'F_061'], ['PartsToFacility', 3, 723, 87.25591129443887, 16.65464776141088, 'P_163', 'F_062'], ['PartsToFacility', 10, 868, 101.58876496272761, 8.671459714005433, 'P_163', 'F_064'], ['PartsToFacility', 13, 441, 208.13474237830673, 28.125674648242278, 'P_163', 'F_066'], ['PartsToFacility', 7, 979, 845.805791582583, 27.3653504066548, 'P_163', 'F_071'], ['PartsToFacility', 17, 35, 349.0624607317651, 23.49824359837765, 'P_163', 'F_075'], ['PartsToFacility', 14, 601, 195.9290554647647, 18.720085971826556, 'P_164', 'F_051'], ['PartsToFacility', 18, 735, 213.22936763791438, 18.38026603321477, 'P_164', 'F_052'], ['PartsToFacility', 14, 601, 985.5977428390898, 14.60654610955238, 'P_164', 'F_061'], ['PartsToFacility', 5, 156, 365.50819488051286, 22.692779411934882, 'P_165', 'F_052'], ['PartsToFacility', 15, 395, 15.172886058692658, 28.076426898914512, 'P_165', 'F_056'], ['PartsToFacility', 17, 677, 579.5712849371264, 29.560569192692615, 'P_165', 'F_058'], ['PartsToFacility', 5, 944, 225.0309679751108, 11.000965979153614, 'P_165', 'F_059'], ['PartsToFacility', 12, 812, 971.4710347126381, 5.993442667639782, 'P_165', 'F_062'], ['PartsToFacility', 5, 951, 490.68552529408703, 17.364400006970218, 'P_165', 'F_075'], ['PartsToFacility', 4, 55, 611.6107076025215, 13.796200069346982, 'P_166', 'F_053'], ['PartsToFacility', 4, 574, 273.45813950834014, 20.57973007467157, 'P_166', 'F_055'], ['PartsToFacility', 20, 498, 677.5371738555489, 8.951565375582813, 'P_166', 'F_056'], ['PartsToFacility', 3, 423, 113.73553250032428, 11.20285491468217, 'P_166', 'F_057'], ['PartsToFacility', 5, 219, 380.6656044931027, 9.70729666822964, 'P_166', 'F_067'], ['PartsToFacility', 7, 212, 740.4569620629684, 6.569549668621805, 'P_166', 'F_071'], ['PartsToFacility', 15, 997, 727.6992800342219, 19.96480222005729, 'P_166', 'F_074'], ['PartsToFacility', 2, 401, 373.1821603923947, 6.976031686190013, 'P_166', 'F_075'], ['PartsToFacility', 10, 222, 156.2149201909697, 8.1469176457621, 'P_167', 'F_051'], ['PartsToFacility', 18, 312, 148.7326436734225, 12.160800410207516, 'P_167', 'F_056'], ['PartsToFacility', 2, 463, 321.69586832748917, 17.057446680952246, 'P_167', 'F_067'], ['PartsToFacility', 17, 25, 541.657407617988, 28.192565153190134, 'P_167', 'F_068'], ['PartsToFacility', 6, 179, 15.298170199615777, 24.84173978295629, 'P_167', 'F_074'], ['PartsToFacility', 12, 183, 349.8602181348196, 19.395792771623114, 'P_167', 'F_075'], ['PartsToFacility', 19, 647, 40.88670392306592, 24.394569820493857, 'P_168', 'F_048'], ['PartsToFacility', 12, 911, 891.8659859603073, 23.63013269843792, 'P_168', 'F_052'], ['PartsToFacility', 20, 547, 739.0592467769211, 11.620009375919928, 'P_168', 'F_064'], ['PartsToFacility', 5, 178, 982.5169543479927, 26.826014763230337, 'P_168', 'F_070'], ['PartsToFacility', 1, 97, 403.34536051148075, 21.77137986238226, 'P_169', 'F_047'], ['PartsToFacility', 13, 469, 273.48664057673545, 21.149436706636056, 'P_169', 'F_052'], ['PartsToFacility', 7, 584, 347.26903503420687, 15.265241812165934, 'P_169', 'F_053'], ['PartsToFacility', 8, 723, 61.67646005972588, 29.597386063223393, 'P_169', 'F_055'], ['PartsToFacility', 17, 855, 261.6304069182005, 19.831343942545193, 'P_169', 'F_059'], ['PartsToFacility', 13, 327, 464.6968051110231, 28.801799527738034, 'P_169', 'F_062'], ['PartsToFacility', 3, 305, 101.92425151588729, 22.235370903682266, 'P_169', 'F_063'], ['PartsToFacility', 5, 319, 877.2434115328289, 8.490512677413154, 'P_169', 'F_067'], ['PartsToFacility', 13, 370, 923.0993146462553, 29.114492242538457, 'P_169', 'F_069'], ['PartsToFacility', 16, 273, 919.1325428530424, 5.020167090114685, 'P_169', 'F_070'], ['PartsToFacility', 6, 34, 367.1035633161673, 24.698421477595875, 'P_169', 'F_071'], ['PartsToFacility', 17, 383, 215.16749358850333, 2.912877376080453, 'P_169', 'F_073'], ['PartsToFacility', 2, 669, 835.3026566892096, 28.448828045136505, 'P_170', 'F_049'], ['PartsToFacility', 10, 615, 925.9160798487501, 24.18917461549075, 'P_170', 'F_050'], ['PartsToFacility', 13, 550, 281.69634287289864, 2.491690988636611, 'P_170', 'F_055'], ['PartsToFacility', 13, 242, 924.0040539978864, 2.5237439645655186, 'P_170', 'F_063'], ['PartsToFacility', 19, 259, 241.6947987035799, 7.0327497570448925, 'P_170', 'F_064'], ['PartsToFacility', 14, 981, 770.0062507155553, 21.819155309815294, 'P_170', 'F_072'], ['PartsToFacility', 10, 129, 124.05817485610457, 13.455728947171194, 'P_170', 'F_074'], ['PartsToFacility', 17, 390, 228.01332198663826, 4.128254441260881, 'P_171', 'F_047'], ['PartsToFacility', 11, 375, 277.20347798505003, 24.847166403024072, 'P_171', 'F_049'], ['PartsToFacility', 18, 951, 746.1533492098285, 24.07248052974564, 'P_171', 'F_053'], ['PartsToFacility', 19, 303, 815.0576065067569, 21.264273599060544, 'P_171', 'F_056'], ['PartsToFacility', 14, 909, 33.37142437474338, 3.7317289068934008, 'P_171', 'F_059'], ['PartsToFacility', 5, 210, 646.035385529835, 12.47840299515109, 'P_171', 'F_063'], ['PartsToFacility', 10, 326, 674.4123090026543, 4.15358587988769, 'P_172', 'F_048'], ['PartsToFacility', 8, 106, 823.2654688473086, 17.785114047443642, 'P_172', 'F_051'], ['PartsToFacility', 20, 192, 513.6774155366668, 27.966488272174765, 'P_172', 'F_056'], ['PartsToFacility', 17, 234, 258.7121720002583, 6.3036075711617805, 'P_172', 'F_057'], ['PartsToFacility', 2, 741, 339.70689516354895, 9.747680181710148, 'P_172', 'F_059'], ['PartsToFacility', 3, 32, 87.48159751342477, 3.954698084716828, 'P_172', 'F_063'], ['PartsToFacility', 3, 417, 488.2156792116193, 12.086907662194966, 'P_172', 'F_070'], ['PartsToFacility', 20, 429, 655.1033940589892, 12.848977179593945, 'P_172', 'F_075'], ['PartsToFacility', 11, 578, 346.3395964179604, 25.478430509657812, 'P_173', 'F_047'], ['PartsToFacility', 10, 418, 128.98228500761599, 15.066802273313506, 'P_173', 'F_056'], ['PartsToFacility', 14, 443, 595.3260015529818, 22.687302129508232, 'P_173', 'F_057'], ['PartsToFacility', 9, 681, 218.05706927513094, 9.152061705894674, 'P_173', 'F_059'], ['PartsToFacility', 1, 770, 46.5621929585676, 5.444157140951969, 'P_173', 'F_062'], ['PartsToFacility', 15, 517, 487.85038336979363, 18.545385339108805, 'P_173', 'F_067'], ['PartsToFacility', 12, 224, 265.54497045595326, 2.356785935498736, 'P_173', 'F_073'], ['PartsToFacility', 8, 631, 420.84751559789237, 10.7617285613212, 'P_173', 'F_075'], ['PartsToFacility', 14, 16, 348.9561314603621, 25.497555719185964, 'P_174', 'F_047'], ['PartsToFacility', 16, 510, 46.12199175398813, 12.989296426983154, 'P_174', 'F_062'], ['PartsToFacility', 8, 240, 712.1203967023247, 4.113005667493656, 'P_174', 'F_066'], ['PartsToFacility', 7, 350, 747.5180937698411, 25.183752292195575, 'P_174', 'F_068'], ['PartsToFacility', 10, 328, 32.01777525845418, 18.01789913352839, 'P_174', 'F_075'], ['PartsToFacility', 19, 864, 914.3509808539947, 16.461220225625617, 'P_175', 'F_046'], ['PartsToFacility', 12, 325, 60.19362081053005, 18.884301684796167, 'P_175', 'F_055'], ['PartsToFacility', 18, 491, 718.4540101887112, 18.12166995167236, 'P_175', 'F_056'], ['PartsToFacility', 4, 969, 266.4226014065295, 26.46870617217642, 'P_175', 'F_057'], ['PartsToFacility', 17, 881, 544.1583660568325, 26.380945246991768, 'P_175', 'F_058'], ['PartsToFacility', 6, 391, 99.02928738015851, 2.9964514498346126, 'P_175', 'F_064'], ['PartsToFacility', 5, 889, 901.6123385658241, 13.180535076516072, 'P_175', 'F_075'], ['PartsToFacility', 15, 85, 938.0225099056803, 19.073627971578926, 'P_176', 'F_047'], ['PartsToFacility', 13, 638, 573.8853953877875, 9.323212185325168, 'P_176', 'F_055'], ['PartsToFacility', 3, 988, 716.1925129660392, 3.8988513912699827, 'P_176', 'F_062'], ['PartsToFacility', 7, 817, 520.2239033616829, 12.728919797948006, 'P_176', 'F_064'], ['PartsToFacility', 19, 301, 930.0434680074619, 1.948794946208809, 'P_176', 'F_067'], ['PartsToFacility', 8, 859, 389.16537496853454, 29.670329585220706, 'P_176', 'F_070'], ['PartsToFacility', 2, 109, 272.06127332250395, 9.18191564595706, 'P_176', 'F_071'], ['PartsToFacility', 3, 301, 213.30397943914835, 14.63453226613757, 'P_176', 'F_072'], ['PartsToFacility', 6, 171, 365.76619252522966, 2.1017020842565324, 'P_177', 'F_048'], ['PartsToFacility', 13, 585, 523.5183527055945, 7.973623861439733, 'P_177', 'F_052'], ['PartsToFacility', 19, 724, 446.3806819452278, 2.006581972527402, 'P_177', 'F_053'], ['PartsToFacility', 20, 585, 591.4038844336183, 20.228007189721886, 'P_177', 'F_057'], ['PartsToFacility', 9, 804, 221.55582425952872, 14.155367976089572, 'P_177', 'F_060'], ['PartsToFacility', 18, 68, 192.1913058613324, 18.532466842783407, 'P_177', 'F_065'], ['PartsToFacility', 4, 977, 119.81953552782869, 9.837206512361426, 'P_177', 'F_068'], ['PartsToFacility', 12, 329, 693.4430075128853, 12.02912944312664, 'P_177', 'F_069'], ['PartsToFacility', 17, 522, 572.4108539423167, 12.686731237681803, 'P_177', 'F_073'], ['PartsToFacility', 17, 562, 204.55412688577698, 24.805720569759345, 'P_178', 'F_052'], ['PartsToFacility', 19, 136, 858.4896602660426, 21.44980220889936, 'P_178', 'F_053'], ['PartsToFacility', 7, 433, 235.71543993967816, 1.8963490527512648, 'P_178', 'F_056'], ['PartsToFacility', 12, 339, 408.20116063246854, 22.641371939078233, 'P_178', 'F_057'], ['PartsToFacility', 19, 322, 467.13630451512813, 18.559611974024776, 'P_178', 'F_061'], ['PartsToFacility', 12, 898, 599.1721307932438, 13.025748413636325, 'P_178', 'F_064'], ['PartsToFacility', 5, 169, 413.3186892356064, 26.89729591146176, 'P_178', 'F_068'], ['PartsToFacility', 3, 588, 696.7299835063192, 8.401554189376412, 'P_178', 'F_074'], ['PartsToFacility', 1, 463, 36.463524640640735, 6.18464245961336, 'P_179', 'F_048'], ['PartsToFacility', 4, 88, 391.29497310641364, 26.61372011252394, 'P_179', 'F_051'], ['PartsToFacility', 10, 354, 876.1010147558978, 29.046031418186068, 'P_179', 'F_059'], ['PartsToFacility', 3, 858, 416.3792918687033, 5.145895983829733, 'P_179', 'F_066'], ['PartsToFacility', 2, 432, 872.1795861259144, 8.008154511961047, 'P_179', 'F_068'], ['PartsToFacility', 5, 341, 653.3851489296361, 28.57951171111149, 'P_179', 'F_069'], ['PartsToFacility', 20, 230, 895.0986838555665, 10.62141048865457, 'P_179', 'F_074'], ['PartsToFacility', 14, 627, 888.5234044510685, 14.316491394757183, 'P_180', 'F_048'], ['PartsToFacility', 2, 93, 297.7187839747845, 29.697579711310365, 'P_180', 'F_052'], ['PartsToFacility', 19, 406, 351.23599380718247, 19.580665327601764, 'P_180', 'F_057'], ['PartsToFacility', 15, 965, 250.3765745060007, 22.300729983306702, 'P_180', 'F_059'], ['PartsToFacility', 5, 794, 926.9811898918381, 9.85089311130178, 'P_180', 'F_066'], ['PartsToFacility', 5, 867, 611.9229738985902, 1.1275226330648562, 'P_180', 'F_070'], ['PartsToFacility', 17, 229, 775.8880476369555, 1.9047508051626436, 'P_180', 'F_071'], ['PartsToFacility', 11, 731, 503.81252030316125, 24.074094403229477, 'P_181', 'F_047'], ['PartsToFacility', 11, 923, 802.8167910344819, 2.4339124078071808, 'P_181', 'F_052'], ['PartsToFacility', 7, 215, 937.5370818710824, 20.619281140891342, 'P_181', 'F_053'], ['PartsToFacility', 15, 945, 662.0456769383295, 18.6024150762168, 'P_181', 'F_056'], ['PartsToFacility', 10, 715, 401.97457075639846, 24.0579342130907, 'P_181', 'F_057'], ['PartsToFacility', 7, 360, 507.66524554060857, 5.402416329163171, 'P_181', 'F_059'], ['PartsToFacility', 5, 782, 949.0468163232522, 13.720155508851787, 'P_181', 'F_066'], ['PartsToFacility', 8, 435, 511.0897909374216, 3.629730417482696, 'P_181', 'F_068'], ['PartsToFacility', 17, 716, 429.9876743984969, 11.658289917066378, 'P_181', 'F_071'], ['PartsToFacility', 2, 864, 704.5874197155533, 5.034986437941118, 'P_182', 'F_052'], ['PartsToFacility', 9, 433, 21.69757720311946, 20.76051424728995, 'P_182', 'F_055'], ['PartsToFacility', 14, 810, 875.859405620149, 19.34478665040655, 'P_182', 'F_057'], ['PartsToFacility', 16, 828, 565.2948808437898, 24.760992062727844, 'P_182', 'F_059'], ['PartsToFacility', 12, 811, 802.8697179123635, 27.421765506470585, 'P_182', 'F_067'], ['PartsToFacility', 4, 173, 222.92940779620693, 26.470613311587194, 'P_182', 'F_068'], ['PartsToFacility', 7, 372, 406.9877679784328, 25.388042231377348, 'P_183', 'F_052'], ['PartsToFacility', 19, 779, 328.2964781662711, 17.272443204484244, 'P_183', 'F_058'], ['PartsToFacility', 1, 972, 274.49581518356246, 2.6382684953107582, 'P_183', 'F_063'], ['PartsToFacility', 18, 247, 860.686241125803, 20.53288972494851, 'P_183', 'F_066'], ['PartsToFacility', 19, 719, 117.12770716456684, 8.998387297499638, 'P_183', 'F_069'], ['PartsToFacility', 13, 263, 381.60513828345347, 23.133613256058645, 'P_183', 'F_074'], ['PartsToFacility', 11, 270, 75.64671445482112, 22.261834806070684, 'P_184', 'F_049'], ['PartsToFacility', 2, 146, 268.7035988637995, 20.356974313934202, 'P_184', 'F_051'], ['PartsToFacility', 17, 738, 791.9497048811004, 2.5515552508174597, 'P_184', 'F_053'], ['PartsToFacility', 9, 82, 394.9548300155482, 9.1151609743654, 'P_184', 'F_056'], ['PartsToFacility', 20, 90, 824.8189173633175, 1.9700460363947965, 'P_184', 'F_058'], ['PartsToFacility', 16, 828, 353.1982918862069, 2.5005723636501074, 'P_184', 'F_059'], ['PartsToFacility', 18, 582, 766.8200204739092, 28.860488263541313, 'P_184', 'F_061'], ['PartsToFacility', 5, 282, 646.6491064824509, 26.685044659448067, 'P_184', 'F_062'], ['PartsToFacility', 10, 110, 663.404918030765, 14.371238167206334, 'P_184', 'F_073'], ['PartsToFacility', 13, 455, 522.4818862925422, 5.846202051075346, 'P_185', 'F_052'], ['PartsToFacility', 4, 49, 720.1160548382038, 26.892184411889083, 'P_185', 'F_056'], ['PartsToFacility', 5, 442, 70.98181617769262, 16.397728039835442, 'P_185', 'F_059'], ['PartsToFacility', 16, 602, 271.0581196500687, 26.180789457080603, 'P_185', 'F_062'], ['PartsToFacility', 7, 53, 244.47200368421986, 26.330577651950257, 'P_185', 'F_063'], ['PartsToFacility', 10, 70, 490.40829235383245, 29.487256917581515, 'P_185', 'F_064'], ['PartsToFacility', 13, 467, 953.4180026035867, 26.794551743963282, 'P_185', 'F_065'], ['PartsToFacility', 18, 349, 601.0277798246118, 13.901962839839635, 'P_185', 'F_075'], ['PartsToFacility', 6, 739, 473.7059200364157, 5.073369104195009, 'P_186', 'F_048'], ['PartsToFacility', 12, 195, 450.4338635869369, 7.712894302363154, 'P_186', 'F_052'], ['PartsToFacility', 16, 843, 416.76697244816285, 24.7700798278767, 'P_186', 'F_055'], ['PartsToFacility', 13, 828, 67.61885502135398, 18.035512936700144, 'P_186', 'F_056'], ['PartsToFacility', 2, 828, 233.65299854542477, 25.504980677671306, 'P_186', 'F_059'], ['PartsToFacility', 15, 762, 421.3579511262493, 9.943474024699187, 'P_186', 'F_068'], ['PartsToFacility', 2, 728, 800.2065941921893, 18.282783609331656, 'P_187', 'F_051'], ['PartsToFacility', 18, 784, 458.2962161765976, 21.167630397037996, 'P_187', 'F_052'], ['PartsToFacility', 14, 155, 710.5873343624748, 1.4373076220390808, 'P_187', 'F_055'], ['PartsToFacility', 11, 907, 651.8548074714665, 25.99818252582543, 'P_187', 'F_056'], ['PartsToFacility', 7, 444, 102.6511653694915, 6.994193431675674, 'P_187', 'F_059'], ['PartsToFacility', 9, 506, 247.3135266383334, 8.822818831439404, 'P_187', 'F_060'], ['PartsToFacility', 7, 512, 942.9531698731092, 15.526635769241375, 'P_187', 'F_064'], ['PartsToFacility', 19, 425, 306.26067317720396, 1.2281447856231718, 'P_187', 'F_071'], ['PartsToFacility', 14, 898, 15.830709231281189, 27.803299703888868, 'P_187', 'F_073'], ['PartsToFacility', 12, 539, 431.3529087384155, 13.284835261582684, 'P_188', 'F_046'], ['PartsToFacility', 13, 372, 377.3045519185419, 18.893450934730694, 'P_188', 'F_048'], ['PartsToFacility', 10, 962, 51.147878275426585, 3.8951538313086447, 'P_188', 'F_052'], ['PartsToFacility', 19, 375, 219.05413531157316, 20.37053710023351, 'P_188', 'F_060'], ['PartsToFacility', 8, 603, 104.29367688445487, 12.570922850842742, 'P_188', 'F_064'], ['PartsToFacility', 9, 777, 131.80112155507157, 12.358583238456985, 'P_188', 'F_066'], ['PartsToFacility', 20, 441, 197.4321226952834, 16.5923365736673, 'P_188', 'F_067'], ['PartsToFacility', 18, 824, 333.95907984316557, 8.787641552479586, 'P_188', 'F_069'], ['PartsToFacility', 18, 533, 297.5199691655007, 6.12473877067896, 'P_188', 'F_071'], ['PartsToFacility', 4, 22, 992.0964640891532, 13.577416514778056, 'P_188', 'F_075'], ['PartsToFacility', 2, 770, 52.26874777441488, 26.703285322188623, 'P_189', 'F_047'], ['PartsToFacility', 4, 864, 611.6444412257873, 29.783158503889684, 'P_189', 'F_055'], ['PartsToFacility', 18, 559, 431.3706091762115, 20.938733204759586, 'P_189', 'F_056'], ['PartsToFacility', 18, 581, 792.3703243087916, 3.800618854364387, 'P_189', 'F_057'], ['PartsToFacility', 18, 754, 403.23400786294934, 15.379450079012939, 'P_189', 'F_060'], ['PartsToFacility', 2, 564, 675.2295425336496, 14.977103057063028, 'P_189', 'F_062'], ['PartsToFacility', 15, 28, 438.62427344480733, 1.609052578871279, 'P_189', 'F_063'], ['PartsToFacility', 5, 276, 728.1268252739865, 16.264296744191306, 'P_189', 'F_064'], ['PartsToFacility', 6, 244, 723.8088313416896, 22.376962740474767, 'P_189', 'F_070'], ['PartsToFacility', 1, 59, 366.8758740678629, 1.249591688163612, 'P_189', 'F_071'], ['PartsToFacility', 7, 402, 323.3356226590866, 17.606251633438724, 'P_190', 'F_048'], ['PartsToFacility', 1, 862, 379.9026431880284, 11.143848252705435, 'P_190', 'F_057'], ['PartsToFacility', 17, 906, 292.8147811278971, 27.209296582886793, 'P_190', 'F_058'], ['PartsToFacility', 8, 217, 928.6234928219128, 22.525746956026428, 'P_190', 'F_059'], ['PartsToFacility', 5, 937, 803.5126364912393, 5.404826290532443, 'P_190', 'F_066'], ['PartsToFacility', 19, 293, 972.4257131463416, 1.6633981105728686, 'P_190', 'F_069'], ['PartsToFacility', 11, 89, 287.4112521181004, 5.8648667413065425, 'P_190', 'F_070'], ['PartsToFacility', 6, 406, 798.9523274579212, 3.7965192692596017, 'P_190', 'F_071'], ['PartsToFacility', 12, 972, 677.9874432905044, 1.993694814890644, 'P_191', 'F_051'], ['PartsToFacility', 12, 862, 375.1949863757793, 5.989965718890784, 'P_191', 'F_052'], ['PartsToFacility', 8, 960, 134.58938798764382, 4.620440154932044, 'P_191', 'F_054'], ['PartsToFacility', 6, 654, 575.4804424597871, 10.526084698037586, 'P_191', 'F_058'], ['PartsToFacility', 13, 900, 325.1374810018576, 4.4404383551894195, 'P_191', 'F_062'], ['PartsToFacility', 8, 219, 372.4158741658391, 16.337888145437127, 'P_191', 'F_064'], ['PartsToFacility', 12, 270, 546.265814192471, 13.15251822928117, 'P_192', 'F_056'], ['PartsToFacility', 9, 65, 784.4843697443733, 24.17853511660168, 'P_192', 'F_057'], ['PartsToFacility', 7, 512, 947.2579587789689, 16.454483301895472, 'P_192', 'F_063'], ['PartsToFacility', 6, 539, 201.67033054303448, 28.421186159068064, 'P_192', 'F_066'], ['PartsToFacility', 1, 525, 288.9927094637636, 19.898029721126623, 'P_192', 'F_070'], ['PartsToFacility', 14, 719, 224.79374161001533, 7.861044496648442, 'P_193', 'F_047'], ['PartsToFacility', 7, 940, 518.6268984756325, 20.49955143346144, 'P_193', 'F_049'], ['PartsToFacility', 13, 747, 966.5733952539573, 23.855047608260556, 'P_193', 'F_054'], ['PartsToFacility', 18, 112, 228.22309243984404, 5.295852623355838, 'P_193', 'F_056'], ['PartsToFacility', 3, 693, 569.6901395847078, 13.460036052434514, 'P_193', 'F_064'], ['PartsToFacility', 1, 647, 89.96432284802938, 6.608287100465745, 'P_193', 'F_073'], ['PartsToFacility', 13, 399, 95.09274230082663, 15.624254628009353, 'P_193', 'F_074'], ['PartsToFacility', 6, 848, 502.95518180260007, 8.88123762059465, 'P_194', 'F_047'], ['PartsToFacility', 14, 697, 352.57543975785933, 24.17372367260864, 'P_194', 'F_052'], ['PartsToFacility', 17, 272, 172.80851688774223, 25.201811965690325, 'P_194', 'F_056'], ['PartsToFacility', 6, 583, 377.76343458132845, 23.80701951103322, 'P_194', 'F_057'], ['PartsToFacility', 16, 944, 210.77932965998923, 4.097425073132159, 'P_194', 'F_063'], ['PartsToFacility', 3, 309, 897.1174790800467, 23.729578650566673, 'P_194', 'F_065'], ['PartsToFacility', 7, 895, 957.8226527254018, 12.420046626201305, 'P_194', 'F_067'], ['PartsToFacility', 2, 296, 75.67413344154352, 12.195444641590875, 'P_194', 'F_068'], ['PartsToFacility', 2, 757, 67.12286162549061, 21.79237834020009, 'P_194', 'F_074'], ['PartsToFacility', 18, 618, 379.094802780793, 17.57061062531014, 'P_194', 'F_075'], ['PartsToFacility', 6, 719, 965.5553337301983, 2.7775673327882244, 'P_195', 'F_053'], ['PartsToFacility', 1, 50, 569.455056064525, 15.683817928982775, 'P_195', 'F_054'], ['PartsToFacility', 18, 295, 365.00893021364413, 15.424793649652372, 'P_195', 'F_057'], ['PartsToFacility', 3, 368, 435.0107057392784, 25.970366769205913, 'P_195', 'F_066'], ['PartsToFacility', 5, 345, 957.4586706892268, 6.365934731536204, 'P_195', 'F_069'], ['PartsToFacility', 18, 392, 677.4691500837641, 17.64830323280229, 'P_195', 'F_071'], ['PartsToFacility', 13, 938, 79.4699896321511, 27.082461050474368, 'P_195', 'F_073'], ['PartsToFacility', 10, 248, 290.30323812078615, 27.837126178025613, 'P_196', 'F_048'], ['PartsToFacility', 2, 761, 592.7608482998482, 1.870718954117832, 'P_196', 'F_052'], ['PartsToFacility', 17, 234, 440.4685228946007, 5.612952780325301, 'P_196', 'F_053'], ['PartsToFacility', 4, 354, 44.178514247618075, 19.40680948616036, 'P_196', 'F_059'], ['PartsToFacility', 5, 297, 400.0731077765582, 4.168905422265581, 'P_196', 'F_061'], ['PartsToFacility', 16, 615, 808.341624758034, 3.6410227612570365, 'P_196', 'F_063'], ['PartsToFacility', 4, 293, 443.9968485612242, 14.727054773829208, 'P_196', 'F_068'], ['PartsToFacility', 8, 372, 86.47029196107317, 22.058327723421495, 'P_196', 'F_071'], ['PartsToFacility', 18, 65, 616.7154847250348, 27.009401765215998, 'P_196', 'F_075'], ['PartsToFacility', 4, 135, 934.8084764960211, 1.8973787435811091, 'P_197', 'F_047'], ['PartsToFacility', 12, 605, 667.1211808862032, 26.0406395668587, 'P_197', 'F_049'], ['PartsToFacility', 18, 103, 132.81331430220607, 22.28780378698964, 'P_197', 'F_055'], ['PartsToFacility', 1, 227, 19.267042131027985, 14.716210942120576, 'P_197', 'F_056'], ['PartsToFacility', 1, 174, 737.2307154176074, 29.55744385500882, 'P_197', 'F_057'], ['PartsToFacility', 19, 229, 963.9790197197931, 16.066490108598998, 'P_197', 'F_059'], ['PartsToFacility', 6, 833, 205.30589062051192, 8.414734244687468, 'P_197', 'F_069'], ['PartsToFacility', 16, 398, 231.07866461336027, 9.564877741901608, 'P_197', 'F_071'], ['PartsToFacility', 1, 692, 539.719895770026, 23.780572154724176, 'P_197', 'F_075'], ['PartsToFacility', 9, 188, 980.8886910665326, 5.201777406642773, 'P_198', 'F_047'], ['PartsToFacility', 14, 385, 397.14559938853097, 10.268652694653975, 'P_198', 'F_052'], ['PartsToFacility', 20, 666, 372.09091243873166, 14.293043281870979, 'P_198', 'F_053'], ['PartsToFacility', 2, 728, 999.8336342965637, 22.464189101416046, 'P_198', 'F_055'], ['PartsToFacility', 1, 702, 324.12923292440126, 23.869080617043444, 'P_198', 'F_056'], ['PartsToFacility', 20, 810, 547.3470620294692, 28.185625962957655, 'P_198', 'F_059'], ['PartsToFacility', 2, 805, 937.4908811638409, 6.282345172356788, 'P_198', 'F_061'], ['PartsToFacility', 16, 207, 345.961357769593, 5.896502961790075, 'P_198', 'F_074'], ['PartsToFacility', 13, 442, 803.9780554758466, 26.60759845533532, 'P_199', 'F_048'], ['PartsToFacility', 20, 562, 544.2654906938492, 16.641675760282418, 'P_199', 'F_056'], ['PartsToFacility', 8, 874, 805.5313838228408, 2.2281298134258742, 'P_199', 'F_058'], ['PartsToFacility', 12, 762, 900.3331012685112, 9.183000784394178, 'P_200', 'F_055'], ['PartsToFacility', 2, 744, 990.5442248151356, 7.129662535276838, 'P_200', 'F_057'], ['PartsToFacility', 8, 794, 122.36599103127259, 14.01165413187345, 'P_200', 'F_062'], ['PartsToFacility', 18, 93, 311.42784796365544, 19.439599411897625, 'P_200', 'F_066'], ['PartsToFacility', 17, 454, 980.989883412481, 2.138340599209428, 'P_200', 'F_073'], ['PartsToFacility', 6, 669, 516.0901641989908, 12.817044145568648, 'P_201', 'F_047'], ['PartsToFacility', 20, 846, 964.1591047925176, 6.773584895174823, 'P_201', 'F_058'], ['PartsToFacility', 16, 922, 689.4051234342828, 15.919246524446478, 'P_201', 'F_066'], ['PartsToFacility', 20, 482, 173.79892986418753, 4.681081213249986, 'P_201', 'F_073'], ['PartsToFacility', 4, 910, 123.87242481783858, 28.437297752980353, 'P_202', 'F_046'], ['PartsToFacility', 12, 393, 197.46297670720165, 23.479555976319666, 'P_202', 'F_048'], ['PartsToFacility', 9, 332, 60.55043715103471, 1.0395064418084292, 'P_202', 'F_053'], ['PartsToFacility', 1, 465, 500.48130862279476, 5.817727186759662, 'P_202', 'F_059'], ['PartsToFacility', 19, 399, 320.6819619333169, 12.06366209726433, 'P_202', 'F_064'], ['PartsToFacility', 4, 565, 622.6359090290387, 26.929148770947577, 'P_202', 'F_068'], ['PartsToFacility', 5, 121, 718.38958012262, 27.944300272213184, 'P_202', 'F_071'], ['PartsToFacility', 13, 590, 264.922085981254, 17.939834899540244, 'P_202', 'F_074'], ['PartsToFacility', 18, 948, 963.1003135292161, 3.4088439626813454, 'P_203', 'F_047'], ['PartsToFacility', 13, 267, 846.6272224209437, 13.232964940803258, 'P_203', 'F_052'], ['PartsToFacility', 13, 155, 453.74004560706624, 10.316967230448642, 'P_203', 'F_053'], ['PartsToFacility', 16, 304, 697.298437700792, 7.181844284799481, 'P_203', 'F_056'], ['PartsToFacility', 14, 373, 15.622811489392504, 28.316763248277926, 'P_203', 'F_059'], ['PartsToFacility', 12, 502, 282.61878744500183, 28.700972838186562, 'P_204', 'F_056'], ['PartsToFacility', 18, 60, 25.124273450258027, 24.468793044177662, 'P_204', 'F_057'], ['PartsToFacility', 4, 126, 938.7700625620473, 20.64118066380435, 'P_204', 'F_059'], ['PartsToFacility', 8, 609, 873.3285513964181, 23.218483316590607, 'P_204', 'F_064'], ['PartsToFacility', 7, 606, 223.78429029962965, 19.96647552268967, 'P_204', 'F_066'], ['PartsToFacility', 5, 360, 711.8064723488593, 22.02684742799441, 'P_204', 'F_067'], ['PartsToFacility', 18, 170, 44.38219987319741, 14.420318728589876, 'P_204', 'F_068'], ['PartsToFacility', 1, 142, 283.25962379288023, 22.65339931744447, 'P_204', 'F_071'], ['PartsToFacility', 14, 841, 302.1508133461631, 13.567480901203533, 'P_205', 'F_053'], ['PartsToFacility', 11, 571, 952.3794233801655, 14.423345503213913, 'P_205', 'F_055'], ['PartsToFacility', 18, 574, 708.2416210389177, 12.61201022582702, 'P_205', 'F_056'], ['PartsToFacility', 3, 57, 56.34846669634631, 29.942872009380768, 'P_205', 'F_057'], ['PartsToFacility', 17, 503, 153.96712960734217, 28.68563237673053, 'P_205', 'F_066'], ['PartsToFacility', 16, 275, 434.2129288849488, 9.85035985120483, 'P_205', 'F_068'], ['PartsToFacility', 7, 283, 706.0620479864629, 25.26015669120811, 'P_205', 'F_071'], ['PartsToFacility', 14, 99, 166.96245652662267, 7.975926227135318, 'P_205', 'F_075'], ['PartsToFacility', 20, 220, 625.8208191796425, 24.704754088118484, 'P_206', 'F_046'], ['PartsToFacility', 16, 978, 198.6323050079193, 2.3523467394001316, 'P_206', 'F_048'], ['PartsToFacility', 3, 439, 174.40094786187368, 11.989719203669427, 'P_206', 'F_056'], ['PartsToFacility', 1, 701, 958.1580829733995, 5.246140000098035, 'P_206', 'F_060'], ['PartsToFacility', 6, 593, 242.9974655766861, 28.03361741143587, 'P_206', 'F_068'], ['PartsToFacility', 16, 374, 262.9099717593598, 17.92958909824367, 'P_206', 'F_069'], ['PartsToFacility', 9, 52, 376.85117580969666, 24.83593979492284, 'P_207', 'F_056'], ['PartsToFacility', 20, 535, 838.4239861537409, 10.798864154169816, 'P_207', 'F_058'], ['PartsToFacility', 11, 380, 917.7235663959985, 3.3823323252534787, 'P_207', 'F_059'], ['PartsToFacility', 13, 793, 958.1415785994102, 25.213972548404257, 'P_207', 'F_062'], ['PartsToFacility', 14, 613, 887.4508042090744, 15.158902375171534, 'P_207', 'F_064'], ['PartsToFacility', 14, 621, 484.5371196123472, 8.775605660543448, 'P_207', 'F_066'], ['PartsToFacility', 11, 861, 695.8738793518853, 14.220865274086716, 'P_207', 'F_067'], ['PartsToFacility', 3, 478, 313.29820047676003, 15.592303995084356, 'P_207', 'F_070'], ['PartsToFacility', 20, 620, 951.1103567299234, 5.861813569647021, 'P_208', 'F_048'], ['PartsToFacility', 12, 332, 521.0300781451756, 2.81741761460049, 'P_208', 'F_049'], ['PartsToFacility', 16, 792, 361.0846767602598, 21.404277516393105, 'P_208', 'F_053'], ['PartsToFacility', 4, 158, 268.3714153138066, 2.3130574797975836, 'P_208', 'F_055'], ['PartsToFacility', 3, 537, 166.55246463023803, 24.745655828387214, 'P_208', 'F_058'], ['PartsToFacility', 1, 721, 856.9947339307797, 23.660051650164753, 'P_208', 'F_059'], ['PartsToFacility', 14, 875, 314.0155529172532, 19.194096742837164, 'P_208', 'F_064'], ['PartsToFacility', 3, 451, 724.8393045917993, 13.948099697069939, 'P_208', 'F_066'], ['PartsToFacility', 16, 518, 558.6907505623615, 5.966522539857815, 'P_208', 'F_068'], ['PartsToFacility', 16, 671, 192.62406026636975, 27.776910923685623, 'P_208', 'F_069'], ['PartsToFacility', 4, 515, 155.5530500674151, 18.085264738883257, 'P_208', 'F_071'], ['PartsToFacility', 14, 842, 659.6916345792905, 20.128367295702834, 'P_208', 'F_073'], ['PartsToFacility', 13, 875, 103.16233013525263, 25.34921862696343, 'P_208', 'F_075'], ['PartsToFacility', 7, 281, 915.5984216068907, 10.61618988379441, 'P_209', 'F_048'], ['PartsToFacility', 10, 768, 454.7093492206381, 6.656806683267542, 'P_209', 'F_049'], ['PartsToFacility', 16, 370, 339.77608055199966, 2.4692929122972234, 'P_209', 'F_052'], ['PartsToFacility', 10, 414, 324.4024686143362, 21.005289863394, 'P_209', 'F_062'], ['PartsToFacility', 14, 83, 397.787436661191, 7.668194875502319, 'P_209', 'F_064'], ['PartsToFacility', 13, 115, 992.3827188301899, 12.243624033385295, 'P_209', 'F_067'], ['PartsToFacility', 1, 333, 26.51376603973819, 21.85041284916748, 'P_209', 'F_071'], ['PartsToFacility', 11, 672, 678.1945053930499, 1.760883227347749, 'P_209', 'F_075'], ['PartsToFacility', 4, 830, 618.5548033491754, 24.91200229775273, 'P_210', 'F_047'], ['PartsToFacility', 1, 538, 327.6605624665679, 18.212455624698382, 'P_210', 'F_059'], ['PartsToFacility', 14, 415, 417.9299027507697, 8.04446853996761, 'P_210', 'F_066'], ['PartsToFacility', 20, 238, 927.023878188972, 6.208871606818526, 'P_210', 'F_067'], ['PartsToFacility', 8, 32, 704.5991808072076, 6.788616524314151, 'P_210', 'F_071'], ['PartsToFacility', 10, 434, 307.15576262858065, 20.488647218807415, 'P_210', 'F_074'], ['PartsToFacility', 13, 297, 593.9907134713487, 26.803078118172976, 'P_210', 'F_075'], ['PartsToFacility', 8, 862, 17.521663501648984, 13.046358844860002, 'P_211', 'F_046'], ['PartsToFacility', 13, 569, 513.7316164221091, 27.42239535410592, 'P_211', 'F_056'], ['PartsToFacility', 16, 774, 435.56801701397205, 14.685944578301111, 'P_211', 'F_062'], ['PartsToFacility', 20, 146, 811.1310163039802, 29.106272615288567, 'P_211', 'F_064'], ['PartsToFacility', 3, 766, 339.8365581829099, 22.577861046076748, 'P_211', 'F_066'], ['PartsToFacility', 9, 633, 853.4769080151156, 14.032888809866762, 'P_211', 'F_067'], ['PartsToFacility', 10, 388, 93.65550224932274, 27.738804040079707, 'P_211', 'F_071'], ['PartsToFacility', 5, 513, 525.5295254547145, 20.731967442405427, 'P_212', 'F_056'], ['PartsToFacility', 18, 143, 574.6188812681482, 7.40141533184088, 'P_212', 'F_057'], ['PartsToFacility', 1, 538, 674.168855908273, 13.731450558587174, 'P_212', 'F_059'], ['PartsToFacility', 19, 77, 789.5646483420292, 20.77470863027415, 'P_212', 'F_061'], ['PartsToFacility', 2, 39, 883.060256721635, 8.056075899678092, 'P_212', 'F_065'], ['PartsToFacility', 20, 108, 817.1317304556483, 8.748683920916946, 'P_212', 'F_074'], ['PartsToFacility', 6, 514, 942.8517480520629, 4.2997253647333835, 'P_213', 'F_049'], ['PartsToFacility', 3, 497, 769.3838273667709, 5.852330424963961, 'P_213', 'F_052'], ['PartsToFacility', 14, 228, 358.37046626277885, 21.25757357945381, 'P_213', 'F_053'], ['PartsToFacility', 16, 670, 919.835357474424, 11.63040246992255, 'P_213', 'F_061'], ['PartsToFacility', 14, 911, 51.96929935317072, 11.207903245236846, 'P_213', 'F_064'], ['PartsToFacility', 16, 212, 378.5685420534718, 16.929159668094076, 'P_213', 'F_068'], ['PartsToFacility', 9, 577, 964.2840852121922, 9.368388025811, 'P_213', 'F_071'], ['PartsToFacility', 12, 291, 873.5038381449823, 29.14991258243682, 'P_213', 'F_075'], ['PartsToFacility', 17, 738, 872.9053794954397, 17.67837612114955, 'P_214', 'F_065'], ['PartsToFacility', 19, 423, 957.9897342375374, 12.01844201915504, 'P_214', 'F_069'], ['PartsToFacility', 2, 397, 142.20876217264063, 13.36402005345016, 'P_214', 'F_071'], ['PartsToFacility', 11, 211, 38.10788262679647, 27.330614743492827, 'P_214', 'F_075'], ['PartsToFacility', 11, 918, 262.3752242056788, 12.052152038785684, 'P_215', 'F_049'], ['PartsToFacility', 8, 708, 556.9769398300252, 28.823443430743062, 'P_215', 'F_051'], ['PartsToFacility', 15, 167, 728.5358315907512, 28.038262847652554, 'P_215', 'F_052'], ['PartsToFacility', 17, 660, 177.9209180149326, 21.134150616980783, 'P_215', 'F_053'], ['PartsToFacility', 3, 603, 308.4284548543582, 20.943791687384337, 'P_215', 'F_058'], ['PartsToFacility', 6, 960, 914.2867457994503, 7.557338954085189, 'P_215', 'F_064'], ['PartsToFacility', 3, 498, 22.29262160332892, 25.307841402217676, 'P_215', 'F_067'], ['PartsToFacility', 15, 979, 909.7729331242136, 17.52140420505136, 'P_215', 'F_068'], ['PartsToFacility', 12, 756, 204.53025633621152, 10.645208186298019, 'P_215', 'F_073'], ['PartsToFacility', 2, 122, 604.4878852539839, 24.014232054821885, 'P_216', 'F_047'], ['PartsToFacility', 8, 622, 467.4273240529542, 17.573832906697575, 'P_216', 'F_048'], ['PartsToFacility', 12, 819, 283.55549751359655, 9.30195437318048, 'P_216', 'F_052'], ['PartsToFacility', 9, 745, 266.61745610696363, 13.497091457723922, 'P_216', 'F_059'], ['PartsToFacility', 17, 908, 541.0144987231067, 22.6265849177022, 'P_216', 'F_062'], ['PartsToFacility', 7, 711, 32.514805416067745, 23.25205338224734, 'P_216', 'F_063'], ['PartsToFacility', 3, 331, 311.95569226691833, 17.806987621826117, 'P_216', 'F_070'], ['PartsToFacility', 10, 362, 930.6503492450311, 27.65135379230642, 'P_217', 'F_046'], ['PartsToFacility', 2, 949, 955.5975618735882, 21.46358624045819, 'P_217', 'F_049'], ['PartsToFacility', 5, 947, 702.7875966972882, 21.615066445564306, 'P_217', 'F_054'], ['PartsToFacility', 15, 715, 630.1676363124536, 20.931197652945368, 'P_217', 'F_064'], ['PartsToFacility', 18, 923, 983.2748241406981, 6.085105855551021, 'P_217', 'F_074'], ['PartsToFacility', 20, 790, 31.02555167870141, 13.717702150385824, 'P_218', 'F_052'], ['PartsToFacility', 5, 929, 453.6642358758615, 25.097468340460832, 'P_218', 'F_057'], ['PartsToFacility', 14, 356, 779.0516993772927, 22.12773126577679, 'P_218', 'F_062'], ['PartsToFacility', 3, 784, 418.08095205464684, 11.569354580285841, 'P_218', 'F_064'], ['PartsToFacility', 18, 534, 691.0348495326716, 23.962234394046934, 'P_218', 'F_071'], ['PartsToFacility', 7, 85, 898.808196656187, 1.1136695256254316, 'P_218', 'F_072'], ['PartsToFacility', 8, 312, 176.56797255179197, 19.436742272813056, 'P_219', 'F_047'], ['PartsToFacility', 19, 90, 891.7482547588642, 15.853678892579579, 'P_219', 'F_052'], ['PartsToFacility', 6, 102, 766.9520721919638, 13.227674453751423, 'P_219', 'F_056'], ['PartsToFacility', 13, 88, 77.20550324347143, 19.27125630319464, 'P_219', 'F_058'], ['PartsToFacility', 1, 573, 638.9170364241506, 13.257333205890573, 'P_219', 'F_061'], ['PartsToFacility', 10, 950, 894.0704853564748, 23.795710189741357, 'P_219', 'F_070'], ['PartsToFacility', 3, 733, 132.6670635524439, 3.4290332701763844, 'P_219', 'F_071'], ['PartsToFacility', 1, 946, 441.2744264150408, 10.905412958218458, 'P_219', 'F_073'], ['PartsToFacility', 12, 974, 39.67285796939577, 11.766015269877402, 'P_220', 'F_056'], ['PartsToFacility', 2, 484, 793.3369160274052, 2.854967545516195, 'P_220', 'F_057'], ['PartsToFacility', 6, 482, 920.1418859232342, 20.426829337573622, 'P_220', 'F_068'], ['PartsToFacility', 2, 302, 267.06741134619597, 5.527085259504465, 'P_220', 'F_074'], ['PartsToFacility', 19, 788, 231.10655580802018, 17.88963859862444, 'P_220', 'F_075'], ['PartsToFacility', 6, 118, 216.29717915616519, 27.900886908633883, 'P_221', 'F_046'], ['PartsToFacility', 11, 875, 969.0930850450301, 3.2719659878839935, 'P_221', 'F_052'], ['PartsToFacility', 20, 387, 959.5903218740289, 5.28355002766949, 'P_221', 'F_055'], ['PartsToFacility', 18, 251, 223.01823116943368, 16.06664383716157, 'P_221', 'F_056'], ['PartsToFacility', 3, 131, 857.502323237864, 28.782149257044246, 'P_221', 'F_058'], ['PartsToFacility', 14, 478, 976.8991926075926, 17.20097814876101, 'P_221', 'F_059'], ['PartsToFacility', 4, 863, 518.6930454273006, 15.365458486348198, 'P_221', 'F_062'], ['PartsToFacility', 1, 435, 297.3054662868052, 12.00051986085604, 'P_221', 'F_066'], ['PartsToFacility', 8, 134, 365.167396996213, 4.987631651765271, 'P_221', 'F_068'], ['PartsToFacility', 11, 194, 374.96272311808605, 23.965827737214784, 'P_221', 'F_069'], ['PartsToFacility', 12, 146, 91.45090064950709, 3.401880433354346, 'P_221', 'F_073'], ['PartsToFacility', 1, 149, 263.53706174952697, 10.89482767245287, 'P_222', 'F_047'], ['PartsToFacility', 2, 875, 502.63101805850647, 14.896795905910738, 'P_222', 'F_048'], ['PartsToFacility', 16, 994, 590.855336968304, 9.325017704806243, 'P_222', 'F_059'], ['PartsToFacility', 11, 84, 232.555085594709, 23.41350342235967, 'P_222', 'F_060'], ['PartsToFacility', 10, 31, 17.78891289636011, 24.309909137006727, 'P_222', 'F_062'], ['PartsToFacility', 12, 927, 957.0403816909461, 19.3481758605348, 'P_222', 'F_064'], ['PartsToFacility', 5, 246, 811.1078478476121, 18.57234009491062, 'P_222', 'F_067'], ['PartsToFacility', 20, 980, 123.81857750650167, 23.753737448731993, 'P_222', 'F_068'], ['PartsToFacility', 20, 277, 598.3531220792536, 29.664803946896253, 'P_222', 'F_069'], ['PartsToFacility', 5, 101, 53.721495656006226, 5.2404975218564775, 'P_222', 'F_071'], ['PartsToFacility', 20, 174, 556.0041532567675, 18.324087255651172, 'P_223', 'F_049'], ['PartsToFacility', 5, 296, 355.3170337922921, 18.085074749398057, 'P_223', 'F_055'], ['PartsToFacility', 19, 961, 143.99989093188242, 24.63520796922617, 'P_223', 'F_056'], ['PartsToFacility', 10, 970, 884.2524648628138, 6.670982666564869, 'P_223', 'F_061'], ['PartsToFacility', 17, 730, 808.0035091995547, 18.78494603501502, 'P_223', 'F_066'], ['PartsToFacility', 20, 956, 677.566495793463, 15.18367265596863, 'P_223', 'F_072'], ['PartsToFacility', 5, 221, 55.35786778032619, 9.652267079396715, 'P_223', 'F_075'], ['PartsToFacility', 10, 27, 77.00109222817028, 3.2553358556521164, 'P_224', 'F_052'], ['PartsToFacility', 19, 394, 969.094588133338, 17.85398919340472, 'P_224', 'F_054'], ['PartsToFacility', 20, 382, 98.03852810186032, 23.810320728344223, 'P_224', 'F_055'], ['PartsToFacility', 20, 624, 704.4576998698662, 25.803129864882667, 'P_224', 'F_056'], ['PartsToFacility', 16, 958, 624.8218200815377, 6.385991638180716, 'P_224', 'F_059'], ['PartsToFacility', 5, 430, 188.97369935318218, 22.36046936854153, 'P_224', 'F_060'], ['PartsToFacility', 5, 442, 704.5490933769918, 3.9807368906124756, 'P_224', 'F_064'], ['PartsToFacility', 6, 739, 444.015630315635, 4.5681945349629105, 'P_224', 'F_069'], ['PartsToFacility', 2, 698, 552.875202563581, 22.77747113502053, 'P_224', 'F_074'], ['PartsToFacility', 13, 962, 603.5221738450284, 27.333502771373773, 'P_225', 'F_053'], ['PartsToFacility', 14, 61, 408.3671292106378, 24.618446479211464, 'P_225', 'F_055'], ['PartsToFacility', 3, 878, 838.1812099095622, 23.171454541888476, 'P_225', 'F_059'], ['PartsToFacility', 8, 213, 137.59233583435773, 21.226488027526333, 'P_225', 'F_061'], ['PartsToFacility', 12, 506, 566.0379687277654, 3.618025313245814, 'P_225', 'F_073'], ['PartsToFacility', 15, 386, 786.988453780503, 9.08983264144263, 'P_226', 'F_047'], ['PartsToFacility', 9, 507, 228.12568670966817, 28.38317548163532, 'P_226', 'F_053'], ['PartsToFacility', 5, 621, 46.33472783396457, 13.956554963687099, 'P_226', 'F_057'], ['PartsToFacility', 13, 962, 761.8261634618888, 5.50252909683511, 'P_226', 'F_060'], ['PartsToFacility', 15, 131, 171.87517970285447, 8.227640053827198, 'P_226', 'F_061'], ['PartsToFacility', 2, 194, 284.00918855737285, 12.137125370072821, 'P_226', 'F_074'], ['PartsToFacility', 1, 135, 675.6861007925554, 21.66446127539978, 'P_227', 'F_050'], ['PartsToFacility', 17, 859, 664.6792934572896, 14.052462680467734, 'P_227', 'F_052'], ['PartsToFacility', 20, 813, 517.7100136805352, 16.80157461155399, 'P_227', 'F_053'], ['PartsToFacility', 16, 151, 476.7274208324242, 3.2741425497636945, 'P_227', 'F_059'], ['PartsToFacility', 2, 652, 257.12439498071706, 17.449431841562127, 'P_227', 'F_060'], ['PartsToFacility', 15, 146, 134.41933692630062, 27.29400552357393, 'P_227', 'F_062'], ['PartsToFacility', 19, 142, 697.2309662698372, 19.99059758799657, 'P_228', 'F_047'], ['PartsToFacility', 10, 224, 883.4316520088801, 26.507995160480974, 'P_228', 'F_051'], ['PartsToFacility', 11, 701, 334.4769069032194, 15.654454510767444, 'P_228', 'F_053'], ['PartsToFacility', 5, 736, 498.97558274690573, 3.9252374138548025, 'P_228', 'F_062'], ['PartsToFacility', 14, 26, 482.37612906577016, 11.11726049057985, 'P_228', 'F_064'], ['PartsToFacility', 17, 77, 605.04240611714, 25.543105655557397, 'P_228', 'F_069'], ['PartsToFacility', 4, 597, 20.903043613257758, 29.23367537610241, 'P_228', 'F_075'], ['PartsToFacility', 5, 649, 757.7161926031562, 10.675123640183614, 'P_229', 'F_047'], ['PartsToFacility', 6, 149, 898.9996764882052, 27.778860278225427, 'P_229', 'F_049'], ['PartsToFacility', 8, 855, 879.972008736242, 3.271874014670379, 'P_229', 'F_053'], ['PartsToFacility', 11, 706, 158.51141450830707, 11.43203731972311, 'P_229', 'F_055'], ['PartsToFacility', 9, 967, 111.03512721530335, 22.6508495251138, 'P_229', 'F_056'], ['PartsToFacility', 16, 769, 681.602277362372, 26.921977448177707, 'P_229', 'F_059'], ['PartsToFacility', 7, 879, 22.568649565283643, 28.667253918989843, 'P_229', 'F_062'], ['PartsToFacility', 17, 321, 681.9478715511407, 23.052833178088306, 'P_229', 'F_066'], ['PartsToFacility', 12, 265, 351.2562942876377, 17.74843539801785, 'P_229', 'F_067'], ['PartsToFacility', 12, 302, 552.824110450235, 13.77445318745367, 'P_229', 'F_069'], ['PartsToFacility', 9, 615, 329.5749753438501, 23.870010195739553, 'P_229', 'F_075'], ['PartsToFacility', 16, 521, 378.7939077186333, 23.22574010950705, 'P_230', 'F_047'], ['PartsToFacility', 20, 825, 828.4658813519231, 22.933289224222285, 'P_230', 'F_049'], ['PartsToFacility', 17, 784, 219.28204697694383, 20.5955850077305, 'P_230', 'F_051'], ['PartsToFacility', 7, 532, 417.41434485183936, 17.414334943958096, 'P_230', 'F_052'], ['PartsToFacility', 2, 540, 875.5634024746466, 9.044480525844198, 'P_230', 'F_059'], ['PartsToFacility', 17, 677, 590.0274940558327, 10.385648379471826, 'P_230', 'F_063'], ['PartsToFacility', 15, 205, 161.15645066559796, 28.273874543985908, 'P_230', 'F_066'], ['PartsToFacility', 18, 287, 708.5143633463268, 28.06867698461269, 'P_230', 'F_067'], ['PartsToFacility', 3, 990, 841.9405369043801, 26.573880113701925, 'P_230', 'F_068'], ['PartsToFacility', 7, 644, 979.6603096275308, 10.046458076411389, 'P_230', 'F_069'], ['PartsToFacility', 13, 195, 289.32854917821265, 22.555295484666374, 'P_230', 'F_073'], ['PartsToFacility', 4, 368, 588.3854941015953, 9.147735893709434, 'P_231', 'F_047'], ['PartsToFacility', 13, 196, 510.9226330447235, 26.473138240898862, 'P_231', 'F_052'], ['PartsToFacility', 1, 610, 287.2287185487607, 2.5171363850224324, 'P_231', 'F_053'], ['PartsToFacility', 9, 598, 399.17312149797544, 26.332723328542563, 'P_231', 'F_057'], ['PartsToFacility', 14, 40, 979.2718827067367, 14.7506962421818, 'P_231', 'F_059'], ['PartsToFacility', 9, 733, 691.5812108690506, 6.254228259850492, 'P_231', 'F_061'], ['PartsToFacility', 18, 331, 761.50575886785, 4.362291142985647, 'P_231', 'F_064'], ['PartsToFacility', 15, 285, 263.29967032188443, 23.255347155257706, 'P_231', 'F_066'], ['PartsToFacility', 15, 926, 451.90530163995504, 14.709267333150542, 'P_231', 'F_067'], ['PartsToFacility', 20, 406, 440.10137597238105, 23.426015199084063, 'P_231', 'F_069'], ['PartsToFacility', 1, 610, 949.2773170485204, 24.850285175268063, 'P_232', 'F_048'], ['PartsToFacility', 10, 109, 358.0290489393419, 27.6772749909972, 'P_232', 'F_060'], ['PartsToFacility', 12, 945, 897.532704854684, 12.94072686532299, 'P_232', 'F_062'], ['PartsToFacility', 14, 497, 848.19971337501, 26.775003151827256, 'P_232', 'F_066'], ['PartsToFacility', 19, 231, 625.9642848030478, 11.856949952012181, 'P_232', 'F_067'], ['PartsToFacility', 2, 236, 725.0535418957683, 2.889543778546114, 'P_232', 'F_068'], ['PartsToFacility', 6, 715, 326.42006271137893, 20.700206554850844, 'P_232', 'F_069'], ['PartsToFacility', 11, 641, 98.10389642687025, 4.146286918470649, 'P_233', 'F_047'], ['PartsToFacility', 7, 931, 705.6377915661383, 3.6393878004834668, 'P_233', 'F_052'], ['PartsToFacility', 19, 163, 761.897074905141, 24.924591079478844, 'P_233', 'F_058'], ['PartsToFacility', 6, 452, 447.2291234673395, 5.823523966173049, 'P_233', 'F_064'], ['PartsToFacility', 2, 289, 993.0206026958876, 29.537675102706284, 'P_233', 'F_067'], ['PartsToFacility', 5, 823, 85.49066017172264, 6.260676718991536, 'P_233', 'F_071'], ['PartsToFacility', 11, 519, 673.6922064457887, 15.463970230530645, 'P_233', 'F_073'], ['PartsToFacility', 20, 474, 124.13571658223874, 9.269994899492021, 'P_234', 'F_051'], ['PartsToFacility', 11, 841, 315.42768921734336, 18.25113405876718, 'P_234', 'F_062'], ['PartsToFacility', 2, 419, 142.2352089245212, 18.742547340460696, 'P_234', 'F_064'], ['PartsToFacility', 20, 545, 559.566511552439, 15.339575536278367, 'P_234', 'F_066'], ['PartsToFacility', 14, 624, 387.3694439621615, 21.495127272091402, 'P_234', 'F_068'], ['PartsToFacility', 1, 142, 391.4015383400034, 1.5311617646388676, 'P_234', 'F_071'], ['PartsToFacility', 18, 715, 372.97187879114523, 28.730488761032532, 'P_235', 'F_055'], ['PartsToFacility', 17, 172, 335.90155764795423, 3.6540946973475212, 'P_235', 'F_056'], ['PartsToFacility', 4, 986, 984.6700284219137, 9.219221407328677, 'P_235', 'F_057'], ['PartsToFacility', 1, 410, 792.3427502222775, 20.898657897184766, 'P_235', 'F_059'], ['PartsToFacility', 7, 307, 140.8376181030344, 19.56659645877023, 'P_235', 'F_072'], ['PartsToFacility', 9, 308, 437.8170505259494, 9.994878664041813, 'P_236', 'F_047'], ['PartsToFacility', 8, 137, 321.9663417480312, 20.69789854718427, 'P_236', 'F_048'], ['PartsToFacility', 18, 95, 67.37586569891724, 4.340720536430943, 'P_236', 'F_049'], ['PartsToFacility', 16, 823, 121.49938937560552, 12.467447903475296, 'P_236', 'F_050'], ['PartsToFacility', 12, 994, 266.5425619953994, 17.46631707918159, 'P_236', 'F_052'], ['PartsToFacility', 16, 339, 269.20498036540255, 6.495438979777153, 'P_236', 'F_056'], ['PartsToFacility', 6, 486, 569.2511724849483, 17.047787029543784, 'P_236', 'F_057'], ['PartsToFacility', 4, 901, 751.3143406800785, 19.764256460359174, 'P_236', 'F_059'], ['PartsToFacility', 19, 978, 366.7634320644098, 1.5165928125131676, 'P_236', 'F_061'], ['PartsToFacility', 10, 464, 622.1480490105128, 12.309952570619116, 'P_236', 'F_064'], ['PartsToFacility', 13, 797, 68.28508030159672, 15.63353353342701, 'P_237', 'F_047'], ['PartsToFacility', 11, 958, 98.53437079798171, 4.285877810134163, 'P_237', 'F_051'], ['PartsToFacility', 19, 580, 332.60841410376497, 7.867915056334021, 'P_237', 'F_052'], ['PartsToFacility', 6, 466, 159.7538529178013, 9.523468466244685, 'P_237', 'F_056'], ['PartsToFacility', 1, 672, 563.8264047836228, 5.389684198270557, 'P_237', 'F_059'], ['PartsToFacility', 16, 563, 618.2386177567396, 5.991437936386979, 'P_237', 'F_061'], ['PartsToFacility', 3, 661, 763.7830910002801, 22.671710023108066, 'P_237', 'F_066'], ['PartsToFacility', 15, 189, 760.0415836064196, 15.387693555751891, 'P_237', 'F_074'], ['PartsToFacility', 18, 766, 778.4806434399248, 1.8342892712027519, 'P_238', 'F_047'], ['PartsToFacility', 1, 873, 218.77239664040366, 12.191156068603494, 'P_238', 'F_055'], ['PartsToFacility', 20, 947, 518.3820777097063, 14.558702708283564, 'P_238', 'F_056'], ['PartsToFacility', 17, 256, 318.3745339085269, 26.04811054028503, 'P_238', 'F_059'], ['PartsToFacility', 8, 241, 805.1228653621963, 19.197218528821804, 'P_238', 'F_065'], ['PartsToFacility', 11, 623, 521.057509570287, 2.5745011992191382, 'P_238', 'F_066'], ['PartsToFacility', 12, 81, 389.57502758980365, 19.49437247014172, 'P_238', 'F_068'], ['PartsToFacility', 10, 13, 306.6795525130486, 1.4532580720967396, 'P_238', 'F_069'], ['PartsToFacility', 19, 742, 636.4061391707965, 5.7598851845798595, 'P_238', 'F_071'], ['PartsToFacility', 13, 500, 41.226898626596, 26.91221622435077, 'P_238', 'F_074'], ['PartsToFacility', 12, 700, 647.5742336885862, 2.0720865194005924, 'P_239', 'F_047'], ['PartsToFacility', 1, 961, 670.6999150210888, 23.610727396377424, 'P_239', 'F_053'], ['PartsToFacility', 15, 415, 196.86642713603058, 14.90729676773694, 'P_239', 'F_064'], ['PartsToFacility', 19, 530, 535.5659556073406, 7.560419072244803, 'P_239', 'F_067'], ['PartsToFacility', 20, 249, 810.0587806023237, 6.683194127368433, 'P_239', 'F_068'], ['PartsToFacility', 6, 439, 998.7905134124189, 24.60088320116931, 'P_239', 'F_075'], ['PartsToFacility', 8, 271, 489.414300002837, 9.124327748082052, 'P_240', 'F_053'], ['PartsToFacility', 7, 89, 925.4334017085089, 8.235082263469021, 'P_240', 'F_054'], ['PartsToFacility', 8, 515, 742.6839837359853, 10.432359013699042, 'P_240', 'F_055'], ['PartsToFacility', 14, 175, 409.8864072664734, 1.9447368491444734, 'P_240', 'F_056'], ['PartsToFacility', 3, 831, 219.21232144329912, 3.9833965285814994, 'P_240', 'F_057'], ['PartsToFacility', 17, 556, 108.15935512941473, 28.983742479913076, 'P_240', 'F_059'], ['PartsToFacility', 20, 284, 144.16116498857215, 17.86850800258055, 'P_240', 'F_061'], ['PartsToFacility', 19, 210, 272.4223475929839, 6.393125532542759, 'P_240', 'F_062'], ['PartsToFacility', 20, 933, 88.85079054645254, 22.960487400014948, 'P_240', 'F_063'], ['PartsToFacility', 16, 779, 380.73425243206464, 4.352599672569008, 'P_240', 'F_074'], ['PartsToFacility', 5, 148, 768.3250249051802, 8.48273553560751, 'P_240', 'F_075'], ['PartsToFacility', 9, 357, 807.7689236378706, 21.67438840689236, 'P_241', 'F_047'], ['PartsToFacility', 13, 151, 698.9823509977999, 20.231905710745465, 'P_241', 'F_053'], ['PartsToFacility', 7, 20, 389.7949108978052, 27.34180886309376, 'P_241', 'F_056'], ['PartsToFacility', 10, 734, 635.3192873374401, 10.41330006247792, 'P_241', 'F_057'], ['PartsToFacility', 17, 753, 126.183442037702, 15.878481650170153, 'P_241', 'F_061'], ['PartsToFacility', 13, 228, 913.7205760306578, 12.717829173025544, 'P_241', 'F_075'], ['PartsToFacility', 17, 269, 323.89412833056684, 18.596440639589243, 'P_242', 'F_052'], ['PartsToFacility', 17, 10, 559.6929737524862, 25.998129636128553, 'P_242', 'F_053'], ['PartsToFacility', 3, 727, 444.9070962031238, 24.84772242472544, 'P_242', 'F_059'], ['PartsToFacility', 9, 688, 289.9320515802441, 15.89629994130001, 'P_242', 'F_064'], ['PartsToFacility', 19, 357, 927.182693450376, 1.910634938824054, 'P_242', 'F_071'], ['PartsToFacility', 19, 526, 53.29339872312177, 29.871222753881447, 'P_243', 'F_047'], ['PartsToFacility', 14, 84, 167.24132158278263, 10.094008698017287, 'P_243', 'F_055'], ['PartsToFacility', 15, 857, 445.56278579826716, 7.056426059234967, 'P_243', 'F_059'], ['PartsToFacility', 10, 534, 755.7844263170908, 21.62693809146139, 'P_243', 'F_061'], ['PartsToFacility', 20, 241, 873.3427133052196, 19.64023994752568, 'P_243', 'F_065'], ['PartsToFacility', 12, 267, 496.0360979496651, 28.904272526709974, 'P_243', 'F_066'], ['PartsToFacility', 1, 831, 179.6378001179626, 22.987770575020143, 'P_243', 'F_069'], ['PartsToFacility', 9, 45, 829.5932751719688, 21.16956989280579, 'P_243', 'F_071'], ['PartsToFacility', 3, 276, 988.8395389418292, 5.218594422716574, 'P_243', 'F_075'], ['PartsToFacility', 10, 949, 341.63142473257574, 1.2076611576675345, 'P_244', 'F_052'], ['PartsToFacility', 7, 227, 852.8863564183832, 26.63767105382962, 'P_244', 'F_055'], ['PartsToFacility', 9, 357, 38.98034402647531, 7.327209529659881, 'P_244', 'F_056'], ['PartsToFacility', 3, 182, 451.69719922756343, 20.370958534897127, 'P_244', 'F_057'], ['PartsToFacility', 15, 261, 503.89421480120814, 10.072437428689188, 'P_244', 'F_059'], ['PartsToFacility', 5, 599, 659.8286153415222, 19.08734366380408, 'P_244', 'F_060'], ['PartsToFacility', 3, 91, 596.9703755624976, 11.833253215466426, 'P_244', 'F_065'], ['PartsToFacility', 18, 215, 72.72525720294458, 16.60360072375683, 'P_244', 'F_069'], ['PartsToFacility', 3, 613, 142.5689830780707, 10.514116666265654, 'P_244', 'F_074'], ['PartsToFacility', 4, 587, 460.9130934254839, 2.4328265674929357, 'P_244', 'F_075'], ['PartsToFacility', 11, 794, 493.7871566323908, 21.062357818621717, 'P_245', 'F_050'], ['PartsToFacility', 2, 341, 269.39267838291465, 20.439948139582267, 'P_245', 'F_056'], ['PartsToFacility', 1, 694, 712.6836962107818, 14.783766528305712, 'P_245', 'F_060'], ['PartsToFacility', 18, 610, 356.2557709269012, 3.4353438451878135, 'P_245', 'F_064'], ['PartsToFacility', 14, 165, 178.7957757590978, 6.555648637310651, 'P_245', 'F_071'], ['PartsToFacility', 9, 372, 565.9227187684413, 20.403396283225938, 'P_246', 'F_047'], ['PartsToFacility', 6, 910, 165.815395494663, 28.660647204334616, 'P_246', 'F_051'], ['PartsToFacility', 6, 630, 406.5542132046081, 11.154962727861765, 'P_246', 'F_055'], ['PartsToFacility', 16, 500, 722.1355362871644, 5.723375491883467, 'P_246', 'F_060'], ['PartsToFacility', 14, 163, 236.14476965134966, 6.664542346346824, 'P_246', 'F_065'], ['PartsToFacility', 20, 515, 268.1047622012659, 24.84503214043718, 'P_246', 'F_068'], ['PartsToFacility', 3, 315, 46.57644483877355, 2.1942711428196375, 'P_247', 'F_046'], ['PartsToFacility', 11, 750, 547.0046601571073, 14.192167289161823, 'P_247', 'F_047'], ['PartsToFacility', 3, 728, 957.484028745992, 27.360357300121805, 'P_247', 'F_053'], ['PartsToFacility', 18, 292, 470.9374293761044, 27.204892563944302, 'P_247', 'F_056'], ['PartsToFacility', 4, 985, 976.1501963247202, 15.916492539584606, 'P_247', 'F_066'], ['PartsToFacility', 16, 913, 484.0786970331479, 6.98644250358898, 'P_247', 'F_071'], ['PartsToFacility', 14, 775, 798.299723158409, 19.12452957415158, 'P_247', 'F_074'], ['PartsToFacility', 5, 977, 391.2333532115045, 13.33804012992447, 'P_248', 'F_047'], ['PartsToFacility', 19, 587, 386.12107566732703, 19.257428039014744, 'P_248', 'F_052'], ['PartsToFacility', 14, 901, 147.96874497547103, 5.949174376665609, 'P_248', 'F_053'], ['PartsToFacility', 2, 852, 910.3565315084601, 8.696722968021195, 'P_248', 'F_058'], ['PartsToFacility', 4, 830, 938.4532664201421, 2.4278676754679847, 'P_248', 'F_059'], ['PartsToFacility', 2, 489, 624.412721056022, 11.846425524946874, 'P_248', 'F_066'], ['PartsToFacility', 10, 403, 322.1466111573874, 17.236913338567508, 'P_248', 'F_068'], ['PartsToFacility', 7, 647, 725.9808719242612, 17.21273906540269, 'P_248', 'F_071'], ['PartsToFacility', 12, 86, 10.589791134834055, 4.183700251945573, 'P_249', 'F_052'], ['PartsToFacility', 17, 590, 757.217954634802, 22.928469620598506, 'P_249', 'F_055'], ['PartsToFacility', 9, 637, 814.6902340268297, 10.656216722128654, 'P_249', 'F_057'], ['PartsToFacility', 13, 244, 109.10678874372475, 9.00250915343419, 'P_249', 'F_059'], ['PartsToFacility', 4, 600, 261.010017630302, 22.325523460629693, 'P_249', 'F_062'], ['PartsToFacility', 6, 70, 753.9794927689792, 13.10292075583742, 'P_249', 'F_064'], ['PartsToFacility', 15, 82, 847.0710572483387, 2.378283550694919, 'P_249', 'F_065'], ['PartsToFacility', 4, 516, 898.9629364971344, 28.205728672050153, 'P_249', 'F_070'], ['PartsToFacility', 20, 160, 713.6992741437241, 23.500193897006277, 'P_250', 'F_047'], ['PartsToFacility', 1, 529, 107.84994315032749, 20.050579142859096, 'P_250', 'F_052'], ['PartsToFacility', 8, 688, 716.0532180327684, 23.81958095196544, 'P_250', 'F_062'], ['PartsToFacility', 11, 943, 995.2503979302141, 8.399723970976734, 'P_250', 'F_066'], ['PartsToFacility', 9, 424, 741.6678723807275, 24.050008130191685, 'P_250', 'F_067'], ['PartsToFacility', 14, 444, 343.1303930862665, 1.7965000553932577, 'P_250', 'F_071'], ['PartsToFacility', 10, 904, 653.3121306445242, 11.342896441670561, 'P_250', 'F_074'], ['PartsToFacility', 1, 738, 93.67722900876873, 10.867798461631416, 'P_250', 'F_075']]}\n"
     ]
    }
   ],
   "source": [
    "import json\n",
    "\n",
    "with open(\"E:\\\\LAM\\\\Graph Server\\\\dataset\\\\supply_chain_export_500\\\\supply_chain_export\\\\timestamp_0.json\", \"r\") as f:\n",
    "    data = json.load(f)\n",
    "\n",
    "print(data)"
   ]
  },
  {
   "cell_type": "code",
   "execution_count": 77,
   "metadata": {},
   "outputs": [
    {
     "data": {
      "text/plain": [
       "dict_keys(['directed', 'multigraph', 'graph', 'node_types', 'relationship_types', 'node_values', 'relationship_values'])"
      ]
     },
     "execution_count": 77,
     "metadata": {},
     "output_type": "execute_result"
    }
   ],
   "source": [
    "data.keys()"
   ]
  },
  {
   "cell_type": "code",
   "execution_count": 78,
   "metadata": {},
   "outputs": [
    {
     "data": {
      "text/plain": [
       "dict_keys(['BusinessGroup', 'ProductFamily', 'ProductOffering', 'Supplier', 'Warehouse', 'Facility', 'Parts'])"
      ]
     },
     "execution_count": 78,
     "metadata": {},
     "output_type": "execute_result"
    }
   ],
   "source": [
    "data[\"node_values\"].keys()"
   ]
  },
  {
   "cell_type": "code",
   "execution_count": 79,
   "metadata": {},
   "outputs": [],
   "source": [
    "supplier_data = data[\"node_values\"][\"Supplier\"]"
   ]
  },
  {
   "cell_type": "code",
   "execution_count": null,
   "metadata": {},
   "outputs": [],
   "source": []
  },
  {
   "cell_type": "code",
   "execution_count": 81,
   "metadata": {},
   "outputs": [
    {
     "data": {
      "text/plain": [
       "{'Washington': 10,\n",
       " 'New York': 7,\n",
       " 'California': 9,\n",
       " 'Georgia': 4,\n",
       " 'Massachusetts': 11,\n",
       " 'Oregon': 10,\n",
       " 'Arizona': 6,\n",
       " 'Florida': 10,\n",
       " 'Texas': 7}"
      ]
     },
     "execution_count": 81,
     "metadata": {},
     "output_type": "execute_result"
    }
   ],
   "source": [
    "place_freq"
   ]
  },
  {
   "cell_type": "code",
   "execution_count": null,
   "metadata": {},
   "outputs": [],
   "source": [
    "# df = pd.DataFrame(list(place_freq.items()), columns=['State', 'Value'])\n",
    "\n",
    "def get_visualization(data):\n",
    "    supplier_data = data[\"node_values\"][\"Supplier\"]\n",
    "    \n",
    "    place_freq = {}\n",
    "    items_freq = {}\n",
    "\n",
    "    for i in supplier_data :\n",
    "        place = i[2]\n",
    "        if place in place_freq :\n",
    "            place_freq[place] += 1\n",
    "        else :\n",
    "            place_freq[place] = 1\n",
    "\n",
    "        for items in i[6] :\n",
    "            if items in items_freq :\n",
    "                items_freq[items] += 1\n",
    "            else :\n",
    "                items_freq[items] = 1\n",
    "\n",
    "    state_abbreviations = {\n",
    "        'Washington': 'WA',\n",
    "        'Florida': 'FL',\n",
    "        'Georgia': 'GA',\n",
    "        'Oregon': 'OR',\n",
    "        'Texas': 'TX',\n",
    "        'New York': 'NY',\n",
    "        'Massachusetts': 'MA',\n",
    "        'California': 'CA',\n",
    "        'Arizona': 'AZ'\n",
    "    }\n",
    "\n",
    "    # Create a DataFrame and add state abbreviations\n",
    "    df = pd.DataFrame(place_freq.items(), columns=['State', 'Value'])\n",
    "    df['State_Abbreviation'] = df['State'].map(state_abbreviations)\n",
    "\n",
    "    # Create the choropleth map\n",
    "    fig1 = px.choropleth(\n",
    "        df,\n",
    "        locations='State_Abbreviation',  # Use abbreviations\n",
    "        locationmode=\"USA-states\",       # Use USA states mode\n",
    "        color='Value',                   # Column to determine color\n",
    "        scope=\"usa\",                     # Focus on USA\n",
    "        color_continuous_scale=\"Blues\",  # Color scale\n",
    "        labels={'Value': 'Supplier Count'}, # Customize label\n",
    "        title='Concentration of Suppliers'\n",
    "    )\n",
    "\n",
    "    # Update layout for better appearance\n",
    "    fig1.update_layout(\n",
    "        title_text='Concentration of Suppliers',\n",
    "        geo=dict(\n",
    "            showlakes=True,  # Show lakes\n",
    "            lakecolor='rgb(255, 255, 255)'  # Lake color\n",
    "        )\n",
    "    )\n",
    "\n",
    "    # Show the figure\n",
    "    # fig1.show()\n",
    "\n",
    "    df = pd.DataFrame.from_dict(items_freq, orient='index', columns=['Frequency'])\n",
    "    df = df.reset_index().rename(columns={'index': 'Item'})\n",
    "\n",
    "    # Create the bar chart with blue color\n",
    "    fig2 = px.bar(df, x='Item', y='Frequency', title='Number of suppliers per item')\n",
    "    fig2.update_traces(marker_color='blue')\n",
    "\n",
    "    return [fig1, fig2]\n"
   ]
  },
  {
   "cell_type": "code",
   "execution_count": null,
   "metadata": {},
   "outputs": [
    {
     "data": {
      "application/vnd.plotly.v1+json": {
       "config": {
        "plotlyServerURL": "https://plot.ly"
       },
       "data": [
        {
         "coloraxis": "coloraxis",
         "geo": "geo",
         "hovertemplate": "State_Abbreviation=%{location}<br>Supplier Count=%{z}<extra></extra>",
         "locationmode": "USA-states",
         "locations": [
          "WA",
          "NY",
          "CA",
          "GA",
          "MA",
          "OR",
          "AZ",
          "FL",
          "TX"
         ],
         "name": "",
         "type": "choropleth",
         "z": [
          10,
          7,
          9,
          4,
          11,
          10,
          6,
          10,
          7
         ]
        }
       ],
       "layout": {
        "coloraxis": {
         "colorbar": {
          "title": {
           "text": "Supplier Count"
          }
         },
         "colorscale": [
          [
           0,
           "rgb(247,251,255)"
          ],
          [
           0.125,
           "rgb(222,235,247)"
          ],
          [
           0.25,
           "rgb(198,219,239)"
          ],
          [
           0.375,
           "rgb(158,202,225)"
          ],
          [
           0.5,
           "rgb(107,174,214)"
          ],
          [
           0.625,
           "rgb(66,146,198)"
          ],
          [
           0.75,
           "rgb(33,113,181)"
          ],
          [
           0.875,
           "rgb(8,81,156)"
          ],
          [
           1,
           "rgb(8,48,107)"
          ]
         ]
        },
        "geo": {
         "center": {},
         "domain": {
          "x": [
           0,
           1
          ],
          "y": [
           0,
           1
          ]
         },
         "lakecolor": "rgb(255, 255, 255)",
         "scope": "usa",
         "showlakes": true
        },
        "legend": {
         "tracegroupgap": 0
        },
        "template": {
         "data": {
          "bar": [
           {
            "error_x": {
             "color": "#2a3f5f"
            },
            "error_y": {
             "color": "#2a3f5f"
            },
            "marker": {
             "line": {
              "color": "#E5ECF6",
              "width": 0.5
             },
             "pattern": {
              "fillmode": "overlay",
              "size": 10,
              "solidity": 0.2
             }
            },
            "type": "bar"
           }
          ],
          "barpolar": [
           {
            "marker": {
             "line": {
              "color": "#E5ECF6",
              "width": 0.5
             },
             "pattern": {
              "fillmode": "overlay",
              "size": 10,
              "solidity": 0.2
             }
            },
            "type": "barpolar"
           }
          ],
          "carpet": [
           {
            "aaxis": {
             "endlinecolor": "#2a3f5f",
             "gridcolor": "white",
             "linecolor": "white",
             "minorgridcolor": "white",
             "startlinecolor": "#2a3f5f"
            },
            "baxis": {
             "endlinecolor": "#2a3f5f",
             "gridcolor": "white",
             "linecolor": "white",
             "minorgridcolor": "white",
             "startlinecolor": "#2a3f5f"
            },
            "type": "carpet"
           }
          ],
          "choropleth": [
           {
            "colorbar": {
             "outlinewidth": 0,
             "ticks": ""
            },
            "type": "choropleth"
           }
          ],
          "contour": [
           {
            "colorbar": {
             "outlinewidth": 0,
             "ticks": ""
            },
            "colorscale": [
             [
              0,
              "#0d0887"
             ],
             [
              0.1111111111111111,
              "#46039f"
             ],
             [
              0.2222222222222222,
              "#7201a8"
             ],
             [
              0.3333333333333333,
              "#9c179e"
             ],
             [
              0.4444444444444444,
              "#bd3786"
             ],
             [
              0.5555555555555556,
              "#d8576b"
             ],
             [
              0.6666666666666666,
              "#ed7953"
             ],
             [
              0.7777777777777778,
              "#fb9f3a"
             ],
             [
              0.8888888888888888,
              "#fdca26"
             ],
             [
              1,
              "#f0f921"
             ]
            ],
            "type": "contour"
           }
          ],
          "contourcarpet": [
           {
            "colorbar": {
             "outlinewidth": 0,
             "ticks": ""
            },
            "type": "contourcarpet"
           }
          ],
          "heatmap": [
           {
            "colorbar": {
             "outlinewidth": 0,
             "ticks": ""
            },
            "colorscale": [
             [
              0,
              "#0d0887"
             ],
             [
              0.1111111111111111,
              "#46039f"
             ],
             [
              0.2222222222222222,
              "#7201a8"
             ],
             [
              0.3333333333333333,
              "#9c179e"
             ],
             [
              0.4444444444444444,
              "#bd3786"
             ],
             [
              0.5555555555555556,
              "#d8576b"
             ],
             [
              0.6666666666666666,
              "#ed7953"
             ],
             [
              0.7777777777777778,
              "#fb9f3a"
             ],
             [
              0.8888888888888888,
              "#fdca26"
             ],
             [
              1,
              "#f0f921"
             ]
            ],
            "type": "heatmap"
           }
          ],
          "heatmapgl": [
           {
            "colorbar": {
             "outlinewidth": 0,
             "ticks": ""
            },
            "colorscale": [
             [
              0,
              "#0d0887"
             ],
             [
              0.1111111111111111,
              "#46039f"
             ],
             [
              0.2222222222222222,
              "#7201a8"
             ],
             [
              0.3333333333333333,
              "#9c179e"
             ],
             [
              0.4444444444444444,
              "#bd3786"
             ],
             [
              0.5555555555555556,
              "#d8576b"
             ],
             [
              0.6666666666666666,
              "#ed7953"
             ],
             [
              0.7777777777777778,
              "#fb9f3a"
             ],
             [
              0.8888888888888888,
              "#fdca26"
             ],
             [
              1,
              "#f0f921"
             ]
            ],
            "type": "heatmapgl"
           }
          ],
          "histogram": [
           {
            "marker": {
             "pattern": {
              "fillmode": "overlay",
              "size": 10,
              "solidity": 0.2
             }
            },
            "type": "histogram"
           }
          ],
          "histogram2d": [
           {
            "colorbar": {
             "outlinewidth": 0,
             "ticks": ""
            },
            "colorscale": [
             [
              0,
              "#0d0887"
             ],
             [
              0.1111111111111111,
              "#46039f"
             ],
             [
              0.2222222222222222,
              "#7201a8"
             ],
             [
              0.3333333333333333,
              "#9c179e"
             ],
             [
              0.4444444444444444,
              "#bd3786"
             ],
             [
              0.5555555555555556,
              "#d8576b"
             ],
             [
              0.6666666666666666,
              "#ed7953"
             ],
             [
              0.7777777777777778,
              "#fb9f3a"
             ],
             [
              0.8888888888888888,
              "#fdca26"
             ],
             [
              1,
              "#f0f921"
             ]
            ],
            "type": "histogram2d"
           }
          ],
          "histogram2dcontour": [
           {
            "colorbar": {
             "outlinewidth": 0,
             "ticks": ""
            },
            "colorscale": [
             [
              0,
              "#0d0887"
             ],
             [
              0.1111111111111111,
              "#46039f"
             ],
             [
              0.2222222222222222,
              "#7201a8"
             ],
             [
              0.3333333333333333,
              "#9c179e"
             ],
             [
              0.4444444444444444,
              "#bd3786"
             ],
             [
              0.5555555555555556,
              "#d8576b"
             ],
             [
              0.6666666666666666,
              "#ed7953"
             ],
             [
              0.7777777777777778,
              "#fb9f3a"
             ],
             [
              0.8888888888888888,
              "#fdca26"
             ],
             [
              1,
              "#f0f921"
             ]
            ],
            "type": "histogram2dcontour"
           }
          ],
          "mesh3d": [
           {
            "colorbar": {
             "outlinewidth": 0,
             "ticks": ""
            },
            "type": "mesh3d"
           }
          ],
          "parcoords": [
           {
            "line": {
             "colorbar": {
              "outlinewidth": 0,
              "ticks": ""
             }
            },
            "type": "parcoords"
           }
          ],
          "pie": [
           {
            "automargin": true,
            "type": "pie"
           }
          ],
          "scatter": [
           {
            "fillpattern": {
             "fillmode": "overlay",
             "size": 10,
             "solidity": 0.2
            },
            "type": "scatter"
           }
          ],
          "scatter3d": [
           {
            "line": {
             "colorbar": {
              "outlinewidth": 0,
              "ticks": ""
             }
            },
            "marker": {
             "colorbar": {
              "outlinewidth": 0,
              "ticks": ""
             }
            },
            "type": "scatter3d"
           }
          ],
          "scattercarpet": [
           {
            "marker": {
             "colorbar": {
              "outlinewidth": 0,
              "ticks": ""
             }
            },
            "type": "scattercarpet"
           }
          ],
          "scattergeo": [
           {
            "marker": {
             "colorbar": {
              "outlinewidth": 0,
              "ticks": ""
             }
            },
            "type": "scattergeo"
           }
          ],
          "scattergl": [
           {
            "marker": {
             "colorbar": {
              "outlinewidth": 0,
              "ticks": ""
             }
            },
            "type": "scattergl"
           }
          ],
          "scattermapbox": [
           {
            "marker": {
             "colorbar": {
              "outlinewidth": 0,
              "ticks": ""
             }
            },
            "type": "scattermapbox"
           }
          ],
          "scatterpolar": [
           {
            "marker": {
             "colorbar": {
              "outlinewidth": 0,
              "ticks": ""
             }
            },
            "type": "scatterpolar"
           }
          ],
          "scatterpolargl": [
           {
            "marker": {
             "colorbar": {
              "outlinewidth": 0,
              "ticks": ""
             }
            },
            "type": "scatterpolargl"
           }
          ],
          "scatterternary": [
           {
            "marker": {
             "colorbar": {
              "outlinewidth": 0,
              "ticks": ""
             }
            },
            "type": "scatterternary"
           }
          ],
          "surface": [
           {
            "colorbar": {
             "outlinewidth": 0,
             "ticks": ""
            },
            "colorscale": [
             [
              0,
              "#0d0887"
             ],
             [
              0.1111111111111111,
              "#46039f"
             ],
             [
              0.2222222222222222,
              "#7201a8"
             ],
             [
              0.3333333333333333,
              "#9c179e"
             ],
             [
              0.4444444444444444,
              "#bd3786"
             ],
             [
              0.5555555555555556,
              "#d8576b"
             ],
             [
              0.6666666666666666,
              "#ed7953"
             ],
             [
              0.7777777777777778,
              "#fb9f3a"
             ],
             [
              0.8888888888888888,
              "#fdca26"
             ],
             [
              1,
              "#f0f921"
             ]
            ],
            "type": "surface"
           }
          ],
          "table": [
           {
            "cells": {
             "fill": {
              "color": "#EBF0F8"
             },
             "line": {
              "color": "white"
             }
            },
            "header": {
             "fill": {
              "color": "#C8D4E3"
             },
             "line": {
              "color": "white"
             }
            },
            "type": "table"
           }
          ]
         },
         "layout": {
          "annotationdefaults": {
           "arrowcolor": "#2a3f5f",
           "arrowhead": 0,
           "arrowwidth": 1
          },
          "autotypenumbers": "strict",
          "coloraxis": {
           "colorbar": {
            "outlinewidth": 0,
            "ticks": ""
           }
          },
          "colorscale": {
           "diverging": [
            [
             0,
             "#8e0152"
            ],
            [
             0.1,
             "#c51b7d"
            ],
            [
             0.2,
             "#de77ae"
            ],
            [
             0.3,
             "#f1b6da"
            ],
            [
             0.4,
             "#fde0ef"
            ],
            [
             0.5,
             "#f7f7f7"
            ],
            [
             0.6,
             "#e6f5d0"
            ],
            [
             0.7,
             "#b8e186"
            ],
            [
             0.8,
             "#7fbc41"
            ],
            [
             0.9,
             "#4d9221"
            ],
            [
             1,
             "#276419"
            ]
           ],
           "sequential": [
            [
             0,
             "#0d0887"
            ],
            [
             0.1111111111111111,
             "#46039f"
            ],
            [
             0.2222222222222222,
             "#7201a8"
            ],
            [
             0.3333333333333333,
             "#9c179e"
            ],
            [
             0.4444444444444444,
             "#bd3786"
            ],
            [
             0.5555555555555556,
             "#d8576b"
            ],
            [
             0.6666666666666666,
             "#ed7953"
            ],
            [
             0.7777777777777778,
             "#fb9f3a"
            ],
            [
             0.8888888888888888,
             "#fdca26"
            ],
            [
             1,
             "#f0f921"
            ]
           ],
           "sequentialminus": [
            [
             0,
             "#0d0887"
            ],
            [
             0.1111111111111111,
             "#46039f"
            ],
            [
             0.2222222222222222,
             "#7201a8"
            ],
            [
             0.3333333333333333,
             "#9c179e"
            ],
            [
             0.4444444444444444,
             "#bd3786"
            ],
            [
             0.5555555555555556,
             "#d8576b"
            ],
            [
             0.6666666666666666,
             "#ed7953"
            ],
            [
             0.7777777777777778,
             "#fb9f3a"
            ],
            [
             0.8888888888888888,
             "#fdca26"
            ],
            [
             1,
             "#f0f921"
            ]
           ]
          },
          "colorway": [
           "#636efa",
           "#EF553B",
           "#00cc96",
           "#ab63fa",
           "#FFA15A",
           "#19d3f3",
           "#FF6692",
           "#B6E880",
           "#FF97FF",
           "#FECB52"
          ],
          "font": {
           "color": "#2a3f5f"
          },
          "geo": {
           "bgcolor": "white",
           "lakecolor": "white",
           "landcolor": "#E5ECF6",
           "showlakes": true,
           "showland": true,
           "subunitcolor": "white"
          },
          "hoverlabel": {
           "align": "left"
          },
          "hovermode": "closest",
          "mapbox": {
           "style": "light"
          },
          "paper_bgcolor": "white",
          "plot_bgcolor": "#E5ECF6",
          "polar": {
           "angularaxis": {
            "gridcolor": "white",
            "linecolor": "white",
            "ticks": ""
           },
           "bgcolor": "#E5ECF6",
           "radialaxis": {
            "gridcolor": "white",
            "linecolor": "white",
            "ticks": ""
           }
          },
          "scene": {
           "xaxis": {
            "backgroundcolor": "#E5ECF6",
            "gridcolor": "white",
            "gridwidth": 2,
            "linecolor": "white",
            "showbackground": true,
            "ticks": "",
            "zerolinecolor": "white"
           },
           "yaxis": {
            "backgroundcolor": "#E5ECF6",
            "gridcolor": "white",
            "gridwidth": 2,
            "linecolor": "white",
            "showbackground": true,
            "ticks": "",
            "zerolinecolor": "white"
           },
           "zaxis": {
            "backgroundcolor": "#E5ECF6",
            "gridcolor": "white",
            "gridwidth": 2,
            "linecolor": "white",
            "showbackground": true,
            "ticks": "",
            "zerolinecolor": "white"
           }
          },
          "shapedefaults": {
           "line": {
            "color": "#2a3f5f"
           }
          },
          "ternary": {
           "aaxis": {
            "gridcolor": "white",
            "linecolor": "white",
            "ticks": ""
           },
           "baxis": {
            "gridcolor": "white",
            "linecolor": "white",
            "ticks": ""
           },
           "bgcolor": "#E5ECF6",
           "caxis": {
            "gridcolor": "white",
            "linecolor": "white",
            "ticks": ""
           }
          },
          "title": {
           "x": 0.05
          },
          "xaxis": {
           "automargin": true,
           "gridcolor": "white",
           "linecolor": "white",
           "ticks": "",
           "title": {
            "standoff": 15
           },
           "zerolinecolor": "white",
           "zerolinewidth": 2
          },
          "yaxis": {
           "automargin": true,
           "gridcolor": "white",
           "linecolor": "white",
           "ticks": "",
           "title": {
            "standoff": 15
           },
           "zerolinecolor": "white",
           "zerolinewidth": 2
          }
         }
        },
        "title": {
         "text": "Concentration of Suppliers"
        }
       }
      }
     },
     "metadata": {},
     "output_type": "display_data"
    },
    {
     "data": {
      "application/vnd.plotly.v1+json": {
       "config": {
        "plotlyServerURL": "https://plot.ly"
       },
       "data": [
        {
         "alignmentgroup": "True",
         "hovertemplate": "Item=%{x}<br>Frequency=%{y}<extra></extra>",
         "legendgroup": "",
         "marker": {
          "color": "blue",
          "pattern": {
           "shape": ""
          }
         },
         "name": "",
         "offsetgroup": "",
         "orientation": "v",
         "showlegend": false,
         "textposition": "auto",
         "type": "bar",
         "x": [
          "metal_sheet",
          "metal_rod",
          "chemical",
          "plastic_component",
          "electronic_component",
          "circuit_board",
          "power_unit",
          "housing_unit",
          "control_panel",
          "sensor_array"
         ],
         "xaxis": "x",
         "y": [
          37,
          32,
          29,
          35,
          32,
          7,
          9,
          8,
          4,
          6
         ],
         "yaxis": "y"
        }
       ],
       "layout": {
        "barmode": "relative",
        "legend": {
         "tracegroupgap": 0
        },
        "template": {
         "data": {
          "bar": [
           {
            "error_x": {
             "color": "#2a3f5f"
            },
            "error_y": {
             "color": "#2a3f5f"
            },
            "marker": {
             "line": {
              "color": "#E5ECF6",
              "width": 0.5
             },
             "pattern": {
              "fillmode": "overlay",
              "size": 10,
              "solidity": 0.2
             }
            },
            "type": "bar"
           }
          ],
          "barpolar": [
           {
            "marker": {
             "line": {
              "color": "#E5ECF6",
              "width": 0.5
             },
             "pattern": {
              "fillmode": "overlay",
              "size": 10,
              "solidity": 0.2
             }
            },
            "type": "barpolar"
           }
          ],
          "carpet": [
           {
            "aaxis": {
             "endlinecolor": "#2a3f5f",
             "gridcolor": "white",
             "linecolor": "white",
             "minorgridcolor": "white",
             "startlinecolor": "#2a3f5f"
            },
            "baxis": {
             "endlinecolor": "#2a3f5f",
             "gridcolor": "white",
             "linecolor": "white",
             "minorgridcolor": "white",
             "startlinecolor": "#2a3f5f"
            },
            "type": "carpet"
           }
          ],
          "choropleth": [
           {
            "colorbar": {
             "outlinewidth": 0,
             "ticks": ""
            },
            "type": "choropleth"
           }
          ],
          "contour": [
           {
            "colorbar": {
             "outlinewidth": 0,
             "ticks": ""
            },
            "colorscale": [
             [
              0,
              "#0d0887"
             ],
             [
              0.1111111111111111,
              "#46039f"
             ],
             [
              0.2222222222222222,
              "#7201a8"
             ],
             [
              0.3333333333333333,
              "#9c179e"
             ],
             [
              0.4444444444444444,
              "#bd3786"
             ],
             [
              0.5555555555555556,
              "#d8576b"
             ],
             [
              0.6666666666666666,
              "#ed7953"
             ],
             [
              0.7777777777777778,
              "#fb9f3a"
             ],
             [
              0.8888888888888888,
              "#fdca26"
             ],
             [
              1,
              "#f0f921"
             ]
            ],
            "type": "contour"
           }
          ],
          "contourcarpet": [
           {
            "colorbar": {
             "outlinewidth": 0,
             "ticks": ""
            },
            "type": "contourcarpet"
           }
          ],
          "heatmap": [
           {
            "colorbar": {
             "outlinewidth": 0,
             "ticks": ""
            },
            "colorscale": [
             [
              0,
              "#0d0887"
             ],
             [
              0.1111111111111111,
              "#46039f"
             ],
             [
              0.2222222222222222,
              "#7201a8"
             ],
             [
              0.3333333333333333,
              "#9c179e"
             ],
             [
              0.4444444444444444,
              "#bd3786"
             ],
             [
              0.5555555555555556,
              "#d8576b"
             ],
             [
              0.6666666666666666,
              "#ed7953"
             ],
             [
              0.7777777777777778,
              "#fb9f3a"
             ],
             [
              0.8888888888888888,
              "#fdca26"
             ],
             [
              1,
              "#f0f921"
             ]
            ],
            "type": "heatmap"
           }
          ],
          "heatmapgl": [
           {
            "colorbar": {
             "outlinewidth": 0,
             "ticks": ""
            },
            "colorscale": [
             [
              0,
              "#0d0887"
             ],
             [
              0.1111111111111111,
              "#46039f"
             ],
             [
              0.2222222222222222,
              "#7201a8"
             ],
             [
              0.3333333333333333,
              "#9c179e"
             ],
             [
              0.4444444444444444,
              "#bd3786"
             ],
             [
              0.5555555555555556,
              "#d8576b"
             ],
             [
              0.6666666666666666,
              "#ed7953"
             ],
             [
              0.7777777777777778,
              "#fb9f3a"
             ],
             [
              0.8888888888888888,
              "#fdca26"
             ],
             [
              1,
              "#f0f921"
             ]
            ],
            "type": "heatmapgl"
           }
          ],
          "histogram": [
           {
            "marker": {
             "pattern": {
              "fillmode": "overlay",
              "size": 10,
              "solidity": 0.2
             }
            },
            "type": "histogram"
           }
          ],
          "histogram2d": [
           {
            "colorbar": {
             "outlinewidth": 0,
             "ticks": ""
            },
            "colorscale": [
             [
              0,
              "#0d0887"
             ],
             [
              0.1111111111111111,
              "#46039f"
             ],
             [
              0.2222222222222222,
              "#7201a8"
             ],
             [
              0.3333333333333333,
              "#9c179e"
             ],
             [
              0.4444444444444444,
              "#bd3786"
             ],
             [
              0.5555555555555556,
              "#d8576b"
             ],
             [
              0.6666666666666666,
              "#ed7953"
             ],
             [
              0.7777777777777778,
              "#fb9f3a"
             ],
             [
              0.8888888888888888,
              "#fdca26"
             ],
             [
              1,
              "#f0f921"
             ]
            ],
            "type": "histogram2d"
           }
          ],
          "histogram2dcontour": [
           {
            "colorbar": {
             "outlinewidth": 0,
             "ticks": ""
            },
            "colorscale": [
             [
              0,
              "#0d0887"
             ],
             [
              0.1111111111111111,
              "#46039f"
             ],
             [
              0.2222222222222222,
              "#7201a8"
             ],
             [
              0.3333333333333333,
              "#9c179e"
             ],
             [
              0.4444444444444444,
              "#bd3786"
             ],
             [
              0.5555555555555556,
              "#d8576b"
             ],
             [
              0.6666666666666666,
              "#ed7953"
             ],
             [
              0.7777777777777778,
              "#fb9f3a"
             ],
             [
              0.8888888888888888,
              "#fdca26"
             ],
             [
              1,
              "#f0f921"
             ]
            ],
            "type": "histogram2dcontour"
           }
          ],
          "mesh3d": [
           {
            "colorbar": {
             "outlinewidth": 0,
             "ticks": ""
            },
            "type": "mesh3d"
           }
          ],
          "parcoords": [
           {
            "line": {
             "colorbar": {
              "outlinewidth": 0,
              "ticks": ""
             }
            },
            "type": "parcoords"
           }
          ],
          "pie": [
           {
            "automargin": true,
            "type": "pie"
           }
          ],
          "scatter": [
           {
            "fillpattern": {
             "fillmode": "overlay",
             "size": 10,
             "solidity": 0.2
            },
            "type": "scatter"
           }
          ],
          "scatter3d": [
           {
            "line": {
             "colorbar": {
              "outlinewidth": 0,
              "ticks": ""
             }
            },
            "marker": {
             "colorbar": {
              "outlinewidth": 0,
              "ticks": ""
             }
            },
            "type": "scatter3d"
           }
          ],
          "scattercarpet": [
           {
            "marker": {
             "colorbar": {
              "outlinewidth": 0,
              "ticks": ""
             }
            },
            "type": "scattercarpet"
           }
          ],
          "scattergeo": [
           {
            "marker": {
             "colorbar": {
              "outlinewidth": 0,
              "ticks": ""
             }
            },
            "type": "scattergeo"
           }
          ],
          "scattergl": [
           {
            "marker": {
             "colorbar": {
              "outlinewidth": 0,
              "ticks": ""
             }
            },
            "type": "scattergl"
           }
          ],
          "scattermapbox": [
           {
            "marker": {
             "colorbar": {
              "outlinewidth": 0,
              "ticks": ""
             }
            },
            "type": "scattermapbox"
           }
          ],
          "scatterpolar": [
           {
            "marker": {
             "colorbar": {
              "outlinewidth": 0,
              "ticks": ""
             }
            },
            "type": "scatterpolar"
           }
          ],
          "scatterpolargl": [
           {
            "marker": {
             "colorbar": {
              "outlinewidth": 0,
              "ticks": ""
             }
            },
            "type": "scatterpolargl"
           }
          ],
          "scatterternary": [
           {
            "marker": {
             "colorbar": {
              "outlinewidth": 0,
              "ticks": ""
             }
            },
            "type": "scatterternary"
           }
          ],
          "surface": [
           {
            "colorbar": {
             "outlinewidth": 0,
             "ticks": ""
            },
            "colorscale": [
             [
              0,
              "#0d0887"
             ],
             [
              0.1111111111111111,
              "#46039f"
             ],
             [
              0.2222222222222222,
              "#7201a8"
             ],
             [
              0.3333333333333333,
              "#9c179e"
             ],
             [
              0.4444444444444444,
              "#bd3786"
             ],
             [
              0.5555555555555556,
              "#d8576b"
             ],
             [
              0.6666666666666666,
              "#ed7953"
             ],
             [
              0.7777777777777778,
              "#fb9f3a"
             ],
             [
              0.8888888888888888,
              "#fdca26"
             ],
             [
              1,
              "#f0f921"
             ]
            ],
            "type": "surface"
           }
          ],
          "table": [
           {
            "cells": {
             "fill": {
              "color": "#EBF0F8"
             },
             "line": {
              "color": "white"
             }
            },
            "header": {
             "fill": {
              "color": "#C8D4E3"
             },
             "line": {
              "color": "white"
             }
            },
            "type": "table"
           }
          ]
         },
         "layout": {
          "annotationdefaults": {
           "arrowcolor": "#2a3f5f",
           "arrowhead": 0,
           "arrowwidth": 1
          },
          "autotypenumbers": "strict",
          "coloraxis": {
           "colorbar": {
            "outlinewidth": 0,
            "ticks": ""
           }
          },
          "colorscale": {
           "diverging": [
            [
             0,
             "#8e0152"
            ],
            [
             0.1,
             "#c51b7d"
            ],
            [
             0.2,
             "#de77ae"
            ],
            [
             0.3,
             "#f1b6da"
            ],
            [
             0.4,
             "#fde0ef"
            ],
            [
             0.5,
             "#f7f7f7"
            ],
            [
             0.6,
             "#e6f5d0"
            ],
            [
             0.7,
             "#b8e186"
            ],
            [
             0.8,
             "#7fbc41"
            ],
            [
             0.9,
             "#4d9221"
            ],
            [
             1,
             "#276419"
            ]
           ],
           "sequential": [
            [
             0,
             "#0d0887"
            ],
            [
             0.1111111111111111,
             "#46039f"
            ],
            [
             0.2222222222222222,
             "#7201a8"
            ],
            [
             0.3333333333333333,
             "#9c179e"
            ],
            [
             0.4444444444444444,
             "#bd3786"
            ],
            [
             0.5555555555555556,
             "#d8576b"
            ],
            [
             0.6666666666666666,
             "#ed7953"
            ],
            [
             0.7777777777777778,
             "#fb9f3a"
            ],
            [
             0.8888888888888888,
             "#fdca26"
            ],
            [
             1,
             "#f0f921"
            ]
           ],
           "sequentialminus": [
            [
             0,
             "#0d0887"
            ],
            [
             0.1111111111111111,
             "#46039f"
            ],
            [
             0.2222222222222222,
             "#7201a8"
            ],
            [
             0.3333333333333333,
             "#9c179e"
            ],
            [
             0.4444444444444444,
             "#bd3786"
            ],
            [
             0.5555555555555556,
             "#d8576b"
            ],
            [
             0.6666666666666666,
             "#ed7953"
            ],
            [
             0.7777777777777778,
             "#fb9f3a"
            ],
            [
             0.8888888888888888,
             "#fdca26"
            ],
            [
             1,
             "#f0f921"
            ]
           ]
          },
          "colorway": [
           "#636efa",
           "#EF553B",
           "#00cc96",
           "#ab63fa",
           "#FFA15A",
           "#19d3f3",
           "#FF6692",
           "#B6E880",
           "#FF97FF",
           "#FECB52"
          ],
          "font": {
           "color": "#2a3f5f"
          },
          "geo": {
           "bgcolor": "white",
           "lakecolor": "white",
           "landcolor": "#E5ECF6",
           "showlakes": true,
           "showland": true,
           "subunitcolor": "white"
          },
          "hoverlabel": {
           "align": "left"
          },
          "hovermode": "closest",
          "mapbox": {
           "style": "light"
          },
          "paper_bgcolor": "white",
          "plot_bgcolor": "#E5ECF6",
          "polar": {
           "angularaxis": {
            "gridcolor": "white",
            "linecolor": "white",
            "ticks": ""
           },
           "bgcolor": "#E5ECF6",
           "radialaxis": {
            "gridcolor": "white",
            "linecolor": "white",
            "ticks": ""
           }
          },
          "scene": {
           "xaxis": {
            "backgroundcolor": "#E5ECF6",
            "gridcolor": "white",
            "gridwidth": 2,
            "linecolor": "white",
            "showbackground": true,
            "ticks": "",
            "zerolinecolor": "white"
           },
           "yaxis": {
            "backgroundcolor": "#E5ECF6",
            "gridcolor": "white",
            "gridwidth": 2,
            "linecolor": "white",
            "showbackground": true,
            "ticks": "",
            "zerolinecolor": "white"
           },
           "zaxis": {
            "backgroundcolor": "#E5ECF6",
            "gridcolor": "white",
            "gridwidth": 2,
            "linecolor": "white",
            "showbackground": true,
            "ticks": "",
            "zerolinecolor": "white"
           }
          },
          "shapedefaults": {
           "line": {
            "color": "#2a3f5f"
           }
          },
          "ternary": {
           "aaxis": {
            "gridcolor": "white",
            "linecolor": "white",
            "ticks": ""
           },
           "baxis": {
            "gridcolor": "white",
            "linecolor": "white",
            "ticks": ""
           },
           "bgcolor": "#E5ECF6",
           "caxis": {
            "gridcolor": "white",
            "linecolor": "white",
            "ticks": ""
           }
          },
          "title": {
           "x": 0.05
          },
          "xaxis": {
           "automargin": true,
           "gridcolor": "white",
           "linecolor": "white",
           "ticks": "",
           "title": {
            "standoff": 15
           },
           "zerolinecolor": "white",
           "zerolinewidth": 2
          },
          "yaxis": {
           "automargin": true,
           "gridcolor": "white",
           "linecolor": "white",
           "ticks": "",
           "title": {
            "standoff": 15
           },
           "zerolinecolor": "white",
           "zerolinewidth": 2
          }
         }
        },
        "title": {
         "text": "Number of suppliers per item"
        },
        "xaxis": {
         "anchor": "y",
         "domain": [
          0,
          1
         ],
         "title": {
          "text": "Item"
         }
        },
        "yaxis": {
         "anchor": "x",
         "domain": [
          0,
          1
         ],
         "title": {
          "text": "Frequency"
         }
        }
       }
      }
     },
     "metadata": {},
     "output_type": "display_data"
    }
   ],
   "source": [
    "fig1,fig2 = get_visualization(data) # data should be the json data for a partivular timestamp\n",
    "fig1.show()\n",
    "fig2.show()"
   ]
  },
  {
   "cell_type": "code",
   "execution_count": 91,
   "metadata": {},
   "outputs": [
    {
     "data": {
      "text/plain": [
       "{'metal_sheet': 37,\n",
       " 'metal_rod': 32,\n",
       " 'chemical': 29,\n",
       " 'plastic_component': 35,\n",
       " 'electronic_component': 32,\n",
       " 'circuit_board': 7,\n",
       " 'power_unit': 9,\n",
       " 'housing_unit': 8,\n",
       " 'control_panel': 4,\n",
       " 'sensor_array': 6}"
      ]
     },
     "execution_count": 91,
     "metadata": {},
     "output_type": "execute_result"
    }
   ],
   "source": [
    "items_freq"
   ]
  },
  {
   "cell_type": "code",
   "execution_count": 92,
   "metadata": {},
   "outputs": [
    {
     "data": {
      "image/png": "[encoded data removed]",
      "text/plain": [
       "<Figure size 640x480 with 1 Axes>"
      ]
     },
     "metadata": {},
     "output_type": "display_data"
    }
   ],
   "source": [
    "import matplotlib.pyplot as plt\n",
    "\n",
    "items = list(items_freq.keys())\n",
    "frequencies = list(items_freq.values())\n",
    "\n",
    "# Create the bar chart\n",
    "plt.bar(items, frequencies)\n",
    "plt.xlabel('Item Name')\n",
    "plt.ylabel('Frequency')\n",
    "plt.title('Item Frequency Distribution')\n",
    "plt.xticks(rotation=45)  # Rotate item names for better readability\n",
    "plt.show()"
   ]
  },
  {
   "cell_type": "code",
   "execution_count": 93,
   "metadata": {},
   "outputs": [
    {
     "data": {
      "application/vnd.plotly.v1+json": {
       "config": {
        "plotlyServerURL": "https://plot.ly"
       },
       "data": [
        {
         "alignmentgroup": "True",
         "hovertemplate": "Item=%{x}<br>Frequency=%{y}<extra></extra>",
         "legendgroup": "",
         "marker": {
          "color": "#636efa",
          "pattern": {
           "shape": ""
          }
         },
         "name": "",
         "offsetgroup": "",
         "orientation": "v",
         "showlegend": false,
         "textposition": "auto",
         "type": "bar",
         "x": [
          "metal_sheet",
          "metal_rod",
          "chemical",
          "plastic_component",
          "electronic_component",
          "circuit_board",
          "power_unit",
          "housing_unit",
          "control_panel",
          "sensor_array"
         ],
         "xaxis": "x",
         "y": [
          37,
          32,
          29,
          35,
          32,
          7,
          9,
          8,
          4,
          6
         ],
         "yaxis": "y"
        }
       ],
       "layout": {
        "barmode": "relative",
        "legend": {
         "tracegroupgap": 0
        },
        "template": {
         "data": {
          "bar": [
           {
            "error_x": {
             "color": "#2a3f5f"
            },
            "error_y": {
             "color": "#2a3f5f"
            },
            "marker": {
             "line": {
              "color": "#E5ECF6",
              "width": 0.5
             },
             "pattern": {
              "fillmode": "overlay",
              "size": 10,
              "solidity": 0.2
             }
            },
            "type": "bar"
           }
          ],
          "barpolar": [
           {
            "marker": {
             "line": {
              "color": "#E5ECF6",
              "width": 0.5
             },
             "pattern": {
              "fillmode": "overlay",
              "size": 10,
              "solidity": 0.2
             }
            },
            "type": "barpolar"
           }
          ],
          "carpet": [
           {
            "aaxis": {
             "endlinecolor": "#2a3f5f",
             "gridcolor": "white",
             "linecolor": "white",
             "minorgridcolor": "white",
             "startlinecolor": "#2a3f5f"
            },
            "baxis": {
             "endlinecolor": "#2a3f5f",
             "gridcolor": "white",
             "linecolor": "white",
             "minorgridcolor": "white",
             "startlinecolor": "#2a3f5f"
            },
            "type": "carpet"
           }
          ],
          "choropleth": [
           {
            "colorbar": {
             "outlinewidth": 0,
             "ticks": ""
            },
            "type": "choropleth"
           }
          ],
          "contour": [
           {
            "colorbar": {
             "outlinewidth": 0,
             "ticks": ""
            },
            "colorscale": [
             [
              0,
              "#0d0887"
             ],
             [
              0.1111111111111111,
              "#46039f"
             ],
             [
              0.2222222222222222,
              "#7201a8"
             ],
             [
              0.3333333333333333,
              "#9c179e"
             ],
             [
              0.4444444444444444,
              "#bd3786"
             ],
             [
              0.5555555555555556,
              "#d8576b"
             ],
             [
              0.6666666666666666,
              "#ed7953"
             ],
             [
              0.7777777777777778,
              "#fb9f3a"
             ],
             [
              0.8888888888888888,
              "#fdca26"
             ],
             [
              1,
              "#f0f921"
             ]
            ],
            "type": "contour"
           }
          ],
          "contourcarpet": [
           {
            "colorbar": {
             "outlinewidth": 0,
             "ticks": ""
            },
            "type": "contourcarpet"
           }
          ],
          "heatmap": [
           {
            "colorbar": {
             "outlinewidth": 0,
             "ticks": ""
            },
            "colorscale": [
             [
              0,
              "#0d0887"
             ],
             [
              0.1111111111111111,
              "#46039f"
             ],
             [
              0.2222222222222222,
              "#7201a8"
             ],
             [
              0.3333333333333333,
              "#9c179e"
             ],
             [
              0.4444444444444444,
              "#bd3786"
             ],
             [
              0.5555555555555556,
              "#d8576b"
             ],
             [
              0.6666666666666666,
              "#ed7953"
             ],
             [
              0.7777777777777778,
              "#fb9f3a"
             ],
             [
              0.8888888888888888,
              "#fdca26"
             ],
             [
              1,
              "#f0f921"
             ]
            ],
            "type": "heatmap"
           }
          ],
          "heatmapgl": [
           {
            "colorbar": {
             "outlinewidth": 0,
             "ticks": ""
            },
            "colorscale": [
             [
              0,
              "#0d0887"
             ],
             [
              0.1111111111111111,
              "#46039f"
             ],
             [
              0.2222222222222222,
              "#7201a8"
             ],
             [
              0.3333333333333333,
              "#9c179e"
             ],
             [
              0.4444444444444444,
              "#bd3786"
             ],
             [
              0.5555555555555556,
              "#d8576b"
             ],
             [
              0.6666666666666666,
              "#ed7953"
             ],
             [
              0.7777777777777778,
              "#fb9f3a"
             ],
             [
              0.8888888888888888,
              "#fdca26"
             ],
             [
              1,
              "#f0f921"
             ]
            ],
            "type": "heatmapgl"
           }
          ],
          "histogram": [
           {
            "marker": {
             "pattern": {
              "fillmode": "overlay",
              "size": 10,
              "solidity": 0.2
             }
            },
            "type": "histogram"
           }
          ],
          "histogram2d": [
           {
            "colorbar": {
             "outlinewidth": 0,
             "ticks": ""
            },
            "colorscale": [
             [
              0,
              "#0d0887"
             ],
             [
              0.1111111111111111,
              "#46039f"
             ],
             [
              0.2222222222222222,
              "#7201a8"
             ],
             [
              0.3333333333333333,
              "#9c179e"
             ],
             [
              0.4444444444444444,
              "#bd3786"
             ],
             [
              0.5555555555555556,
              "#d8576b"
             ],
             [
              0.6666666666666666,
              "#ed7953"
             ],
             [
              0.7777777777777778,
              "#fb9f3a"
             ],
             [
              0.8888888888888888,
              "#fdca26"
             ],
             [
              1,
              "#f0f921"
             ]
            ],
            "type": "histogram2d"
           }
          ],
          "histogram2dcontour": [
           {
            "colorbar": {
             "outlinewidth": 0,
             "ticks": ""
            },
            "colorscale": [
             [
              0,
              "#0d0887"
             ],
             [
              0.1111111111111111,
              "#46039f"
             ],
             [
              0.2222222222222222,
              "#7201a8"
             ],
             [
              0.3333333333333333,
              "#9c179e"
             ],
             [
              0.4444444444444444,
              "#bd3786"
             ],
             [
              0.5555555555555556,
              "#d8576b"
             ],
             [
              0.6666666666666666,
              "#ed7953"
             ],
             [
              0.7777777777777778,
              "#fb9f3a"
             ],
             [
              0.8888888888888888,
              "#fdca26"
             ],
             [
              1,
              "#f0f921"
             ]
            ],
            "type": "histogram2dcontour"
           }
          ],
          "mesh3d": [
           {
            "colorbar": {
             "outlinewidth": 0,
             "ticks": ""
            },
            "type": "mesh3d"
           }
          ],
          "parcoords": [
           {
            "line": {
             "colorbar": {
              "outlinewidth": 0,
              "ticks": ""
             }
            },
            "type": "parcoords"
           }
          ],
          "pie": [
           {
            "automargin": true,
            "type": "pie"
           }
          ],
          "scatter": [
           {
            "fillpattern": {
             "fillmode": "overlay",
             "size": 10,
             "solidity": 0.2
            },
            "type": "scatter"
           }
          ],
          "scatter3d": [
           {
            "line": {
             "colorbar": {
              "outlinewidth": 0,
              "ticks": ""
             }
            },
            "marker": {
             "colorbar": {
              "outlinewidth": 0,
              "ticks": ""
             }
            },
            "type": "scatter3d"
           }
          ],
          "scattercarpet": [
           {
            "marker": {
             "colorbar": {
              "outlinewidth": 0,
              "ticks": ""
             }
            },
            "type": "scattercarpet"
           }
          ],
          "scattergeo": [
           {
            "marker": {
             "colorbar": {
              "outlinewidth": 0,
              "ticks": ""
             }
            },
            "type": "scattergeo"
           }
          ],
          "scattergl": [
           {
            "marker": {
             "colorbar": {
              "outlinewidth": 0,
              "ticks": ""
             }
            },
            "type": "scattergl"
           }
          ],
          "scattermapbox": [
           {
            "marker": {
             "colorbar": {
              "outlinewidth": 0,
              "ticks": ""
             }
            },
            "type": "scattermapbox"
           }
          ],
          "scatterpolar": [
           {
            "marker": {
             "colorbar": {
              "outlinewidth": 0,
              "ticks": ""
             }
            },
            "type": "scatterpolar"
           }
          ],
          "scatterpolargl": [
           {
            "marker": {
             "colorbar": {
              "outlinewidth": 0,
              "ticks": ""
             }
            },
            "type": "scatterpolargl"
           }
          ],
          "scatterternary": [
           {
            "marker": {
             "colorbar": {
              "outlinewidth": 0,
              "ticks": ""
             }
            },
            "type": "scatterternary"
           }
          ],
          "surface": [
           {
            "colorbar": {
             "outlinewidth": 0,
             "ticks": ""
            },
            "colorscale": [
             [
              0,
              "#0d0887"
             ],
             [
              0.1111111111111111,
              "#46039f"
             ],
             [
              0.2222222222222222,
              "#7201a8"
             ],
             [
              0.3333333333333333,
              "#9c179e"
             ],
             [
              0.4444444444444444,
              "#bd3786"
             ],
             [
              0.5555555555555556,
              "#d8576b"
             ],
             [
              0.6666666666666666,
              "#ed7953"
             ],
             [
              0.7777777777777778,
              "#fb9f3a"
             ],
             [
              0.8888888888888888,
              "#fdca26"
             ],
             [
              1,
              "#f0f921"
             ]
            ],
            "type": "surface"
           }
          ],
          "table": [
           {
            "cells": {
             "fill": {
              "color": "#EBF0F8"
             },
             "line": {
              "color": "white"
             }
            },
            "header": {
             "fill": {
              "color": "#C8D4E3"
             },
             "line": {
              "color": "white"
             }
            },
            "type": "table"
           }
          ]
         },
         "layout": {
          "annotationdefaults": {
           "arrowcolor": "#2a3f5f",
           "arrowhead": 0,
           "arrowwidth": 1
          },
          "autotypenumbers": "strict",
          "coloraxis": {
           "colorbar": {
            "outlinewidth": 0,
            "ticks": ""
           }
          },
          "colorscale": {
           "diverging": [
            [
             0,
             "#8e0152"
            ],
            [
             0.1,
             "#c51b7d"
            ],
            [
             0.2,
             "#de77ae"
            ],
            [
             0.3,
             "#f1b6da"
            ],
            [
             0.4,
             "#fde0ef"
            ],
            [
             0.5,
             "#f7f7f7"
            ],
            [
             0.6,
             "#e6f5d0"
            ],
            [
             0.7,
             "#b8e186"
            ],
            [
             0.8,
             "#7fbc41"
            ],
            [
             0.9,
             "#4d9221"
            ],
            [
             1,
             "#276419"
            ]
           ],
           "sequential": [
            [
             0,
             "#0d0887"
            ],
            [
             0.1111111111111111,
             "#46039f"
            ],
            [
             0.2222222222222222,
             "#7201a8"
            ],
            [
             0.3333333333333333,
             "#9c179e"
            ],
            [
             0.4444444444444444,
             "#bd3786"
            ],
            [
             0.5555555555555556,
             "#d8576b"
            ],
            [
             0.6666666666666666,
             "#ed7953"
            ],
            [
             0.7777777777777778,
             "#fb9f3a"
            ],
            [
             0.8888888888888888,
             "#fdca26"
            ],
            [
             1,
             "#f0f921"
            ]
           ],
           "sequentialminus": [
            [
             0,
             "#0d0887"
            ],
            [
             0.1111111111111111,
             "#46039f"
            ],
            [
             0.2222222222222222,
             "#7201a8"
            ],
            [
             0.3333333333333333,
             "#9c179e"
            ],
            [
             0.4444444444444444,
             "#bd3786"
            ],
            [
             0.5555555555555556,
             "#d8576b"
            ],
            [
             0.6666666666666666,
             "#ed7953"
            ],
            [
             0.7777777777777778,
             "#fb9f3a"
            ],
            [
             0.8888888888888888,
             "#fdca26"
            ],
            [
             1,
             "#f0f921"
            ]
           ]
          },
          "colorway": [
           "#636efa",
           "#EF553B",
           "#00cc96",
           "#ab63fa",
           "#FFA15A",
           "#19d3f3",
           "#FF6692",
           "#B6E880",
           "#FF97FF",
           "#FECB52"
          ],
          "font": {
           "color": "#2a3f5f"
          },
          "geo": {
           "bgcolor": "white",
           "lakecolor": "white",
           "landcolor": "#E5ECF6",
           "showlakes": true,
           "showland": true,
           "subunitcolor": "white"
          },
          "hoverlabel": {
           "align": "left"
          },
          "hovermode": "closest",
          "mapbox": {
           "style": "light"
          },
          "paper_bgcolor": "white",
          "plot_bgcolor": "#E5ECF6",
          "polar": {
           "angularaxis": {
            "gridcolor": "white",
            "linecolor": "white",
            "ticks": ""
           },
           "bgcolor": "#E5ECF6",
           "radialaxis": {
            "gridcolor": "white",
            "linecolor": "white",
            "ticks": ""
           }
          },
          "scene": {
           "xaxis": {
            "backgroundcolor": "#E5ECF6",
            "gridcolor": "white",
            "gridwidth": 2,
            "linecolor": "white",
            "showbackground": true,
            "ticks": "",
            "zerolinecolor": "white"
           },
           "yaxis": {
            "backgroundcolor": "#E5ECF6",
            "gridcolor": "white",
            "gridwidth": 2,
            "linecolor": "white",
            "showbackground": true,
            "ticks": "",
            "zerolinecolor": "white"
           },
           "zaxis": {
            "backgroundcolor": "#E5ECF6",
            "gridcolor": "white",
            "gridwidth": 2,
            "linecolor": "white",
            "showbackground": true,
            "ticks": "",
            "zerolinecolor": "white"
           }
          },
          "shapedefaults": {
           "line": {
            "color": "#2a3f5f"
           }
          },
          "ternary": {
           "aaxis": {
            "gridcolor": "white",
            "linecolor": "white",
            "ticks": ""
           },
           "baxis": {
            "gridcolor": "white",
            "linecolor": "white",
            "ticks": ""
           },
           "bgcolor": "#E5ECF6",
           "caxis": {
            "gridcolor": "white",
            "linecolor": "white",
            "ticks": ""
           }
          },
          "title": {
           "x": 0.05
          },
          "xaxis": {
           "automargin": true,
           "gridcolor": "white",
           "linecolor": "white",
           "ticks": "",
           "title": {
            "standoff": 15
           },
           "zerolinecolor": "white",
           "zerolinewidth": 2
          },
          "yaxis": {
           "automargin": true,
           "gridcolor": "white",
           "linecolor": "white",
           "ticks": "",
           "title": {
            "standoff": 15
           },
           "zerolinecolor": "white",
           "zerolinewidth": 2
          }
         }
        },
        "title": {
         "text": "Item Frequencies"
        },
        "xaxis": {
         "anchor": "y",
         "domain": [
          0,
          1
         ],
         "title": {
          "text": "Item"
         }
        },
        "yaxis": {
         "anchor": "x",
         "domain": [
          0,
          1
         ],
         "title": {
          "text": "Frequency"
         }
        }
       }
      }
     },
     "metadata": {},
     "output_type": "display_data"
    }
   ],
   "source": [
    "df = pd.DataFrame.from_dict(items_freq, orient='index', columns=['Frequency'])\n",
    "df = df.reset_index().rename(columns={'index': 'Item'})\n",
    "\n",
    "# Create the bar chart\n",
    "fig = px.bar(df, x='Item', y='Frequency', title='Item Frequencies')\n",
    "fig.show()"
   ]
  },
  {
   "cell_type": "code",
   "execution_count": null,
   "metadata": {},
   "outputs": [
    {
     "data": {
      "application/vnd.plotly.v1+json": {
       "config": {
        "plotlyServerURL": "https://plot.ly"
       },
       "data": [
        {
         "alignmentgroup": "True",
         "hovertemplate": "Item=%{x}<br>Frequency=%{y}<extra></extra>",
         "legendgroup": "",
         "marker": {
          "color": "blue",
          "pattern": {
           "shape": ""
          }
         },
         "name": "",
         "offsetgroup": "",
         "orientation": "v",
         "showlegend": false,
         "textposition": "auto",
         "type": "bar",
         "x": [
          "metal_sheet",
          "metal_rod",
          "chemical",
          "plastic_component",
          "electronic_component",
          "circuit_board",
          "power_unit",
          "housing_unit",
          "control_panel",
          "sensor_array"
         ],
         "xaxis": "x",
         "y": [
          37,
          32,
          29,
          35,
          32,
          7,
          9,
          8,
          4,
          6
         ],
         "yaxis": "y"
        }
       ],
       "layout": {
        "barmode": "relative",
        "legend": {
         "tracegroupgap": 0
        },
        "template": {
         "data": {
          "bar": [
           {
            "error_x": {
             "color": "#2a3f5f"
            },
            "error_y": {
             "color": "#2a3f5f"
            },
            "marker": {
             "line": {
              "color": "#E5ECF6",
              "width": 0.5
             },
             "pattern": {
              "fillmode": "overlay",
              "size": 10,
              "solidity": 0.2
             }
            },
            "type": "bar"
           }
          ],
          "barpolar": [
           {
            "marker": {
             "line": {
              "color": "#E5ECF6",
              "width": 0.5
             },
             "pattern": {
              "fillmode": "overlay",
              "size": 10,
              "solidity": 0.2
             }
            },
            "type": "barpolar"
           }
          ],
          "carpet": [
           {
            "aaxis": {
             "endlinecolor": "#2a3f5f",
             "gridcolor": "white",
             "linecolor": "white",
             "minorgridcolor": "white",
             "startlinecolor": "#2a3f5f"
            },
            "baxis": {
             "endlinecolor": "#2a3f5f",
             "gridcolor": "white",
             "linecolor": "white",
             "minorgridcolor": "white",
             "startlinecolor": "#2a3f5f"
            },
            "type": "carpet"
           }
          ],
          "choropleth": [
           {
            "colorbar": {
             "outlinewidth": 0,
             "ticks": ""
            },
            "type": "choropleth"
           }
          ],
          "contour": [
           {
            "colorbar": {
             "outlinewidth": 0,
             "ticks": ""
            },
            "colorscale": [
             [
              0,
              "#0d0887"
             ],
             [
              0.1111111111111111,
              "#46039f"
             ],
             [
              0.2222222222222222,
              "#7201a8"
             ],
             [
              0.3333333333333333,
              "#9c179e"
             ],
             [
              0.4444444444444444,
              "#bd3786"
             ],
             [
              0.5555555555555556,
              "#d8576b"
             ],
             [
              0.6666666666666666,
              "#ed7953"
             ],
             [
              0.7777777777777778,
              "#fb9f3a"
             ],
             [
              0.8888888888888888,
              "#fdca26"
             ],
             [
              1,
              "#f0f921"
             ]
            ],
            "type": "contour"
           }
          ],
          "contourcarpet": [
           {
            "colorbar": {
             "outlinewidth": 0,
             "ticks": ""
            },
            "type": "contourcarpet"
           }
          ],
          "heatmap": [
           {
            "colorbar": {
             "outlinewidth": 0,
             "ticks": ""
            },
            "colorscale": [
             [
              0,
              "#0d0887"
             ],
             [
              0.1111111111111111,
              "#46039f"
             ],
             [
              0.2222222222222222,
              "#7201a8"
             ],
             [
              0.3333333333333333,
              "#9c179e"
             ],
             [
              0.4444444444444444,
              "#bd3786"
             ],
             [
              0.5555555555555556,
              "#d8576b"
             ],
             [
              0.6666666666666666,
              "#ed7953"
             ],
             [
              0.7777777777777778,
              "#fb9f3a"
             ],
             [
              0.8888888888888888,
              "#fdca26"
             ],
             [
              1,
              "#f0f921"
             ]
            ],
            "type": "heatmap"
           }
          ],
          "heatmapgl": [
           {
            "colorbar": {
             "outlinewidth": 0,
             "ticks": ""
            },
            "colorscale": [
             [
              0,
              "#0d0887"
             ],
             [
              0.1111111111111111,
              "#46039f"
             ],
             [
              0.2222222222222222,
              "#7201a8"
             ],
             [
              0.3333333333333333,
              "#9c179e"
             ],
             [
              0.4444444444444444,
              "#bd3786"
             ],
             [
              0.5555555555555556,
              "#d8576b"
             ],
             [
              0.6666666666666666,
              "#ed7953"
             ],
             [
              0.7777777777777778,
              "#fb9f3a"
             ],
             [
              0.8888888888888888,
              "#fdca26"
             ],
             [
              1,
              "#f0f921"
             ]
            ],
            "type": "heatmapgl"
           }
          ],
          "histogram": [
           {
            "marker": {
             "pattern": {
              "fillmode": "overlay",
              "size": 10,
              "solidity": 0.2
             }
            },
            "type": "histogram"
           }
          ],
          "histogram2d": [
           {
            "colorbar": {
             "outlinewidth": 0,
             "ticks": ""
            },
            "colorscale": [
             [
              0,
              "#0d0887"
             ],
             [
              0.1111111111111111,
              "#46039f"
             ],
             [
              0.2222222222222222,
              "#7201a8"
             ],
             [
              0.3333333333333333,
              "#9c179e"
             ],
             [
              0.4444444444444444,
              "#bd3786"
             ],
             [
              0.5555555555555556,
              "#d8576b"
             ],
             [
              0.6666666666666666,
              "#ed7953"
             ],
             [
              0.7777777777777778,
              "#fb9f3a"
             ],
             [
              0.8888888888888888,
              "#fdca26"
             ],
             [
              1,
              "#f0f921"
             ]
            ],
            "type": "histogram2d"
           }
          ],
          "histogram2dcontour": [
           {
            "colorbar": {
             "outlinewidth": 0,
             "ticks": ""
            },
            "colorscale": [
             [
              0,
              "#0d0887"
             ],
             [
              0.1111111111111111,
              "#46039f"
             ],
             [
              0.2222222222222222,
              "#7201a8"
             ],
             [
              0.3333333333333333,
              "#9c179e"
             ],
             [
              0.4444444444444444,
              "#bd3786"
             ],
             [
              0.5555555555555556,
              "#d8576b"
             ],
             [
              0.6666666666666666,
              "#ed7953"
             ],
             [
              0.7777777777777778,
              "#fb9f3a"
             ],
             [
              0.8888888888888888,
              "#fdca26"
             ],
             [
              1,
              "#f0f921"
             ]
            ],
            "type": "histogram2dcontour"
           }
          ],
          "mesh3d": [
           {
            "colorbar": {
             "outlinewidth": 0,
             "ticks": ""
            },
            "type": "mesh3d"
           }
          ],
          "parcoords": [
           {
            "line": {
             "colorbar": {
              "outlinewidth": 0,
              "ticks": ""
             }
            },
            "type": "parcoords"
           }
          ],
          "pie": [
           {
            "automargin": true,
            "type": "pie"
           }
          ],
          "scatter": [
           {
            "fillpattern": {
             "fillmode": "overlay",
             "size": 10,
             "solidity": 0.2
            },
            "type": "scatter"
           }
          ],
          "scatter3d": [
           {
            "line": {
             "colorbar": {
              "outlinewidth": 0,
              "ticks": ""
             }
            },
            "marker": {
             "colorbar": {
              "outlinewidth": 0,
              "ticks": ""
             }
            },
            "type": "scatter3d"
           }
          ],
          "scattercarpet": [
           {
            "marker": {
             "colorbar": {
              "outlinewidth": 0,
              "ticks": ""
             }
            },
            "type": "scattercarpet"
           }
          ],
          "scattergeo": [
           {
            "marker": {
             "colorbar": {
              "outlinewidth": 0,
              "ticks": ""
             }
            },
            "type": "scattergeo"
           }
          ],
          "scattergl": [
           {
            "marker": {
             "colorbar": {
              "outlinewidth": 0,
              "ticks": ""
             }
            },
            "type": "scattergl"
           }
          ],
          "scattermapbox": [
           {
            "marker": {
             "colorbar": {
              "outlinewidth": 0,
              "ticks": ""
             }
            },
            "type": "scattermapbox"
           }
          ],
          "scatterpolar": [
           {
            "marker": {
             "colorbar": {
              "outlinewidth": 0,
              "ticks": ""
             }
            },
            "type": "scatterpolar"
           }
          ],
          "scatterpolargl": [
           {
            "marker": {
             "colorbar": {
              "outlinewidth": 0,
              "ticks": ""
             }
            },
            "type": "scatterpolargl"
           }
          ],
          "scatterternary": [
           {
            "marker": {
             "colorbar": {
              "outlinewidth": 0,
              "ticks": ""
             }
            },
            "type": "scatterternary"
           }
          ],
          "surface": [
           {
            "colorbar": {
             "outlinewidth": 0,
             "ticks": ""
            },
            "colorscale": [
             [
              0,
              "#0d0887"
             ],
             [
              0.1111111111111111,
              "#46039f"
             ],
             [
              0.2222222222222222,
              "#7201a8"
             ],
             [
              0.3333333333333333,
              "#9c179e"
             ],
             [
              0.4444444444444444,
              "#bd3786"
             ],
             [
              0.5555555555555556,
              "#d8576b"
             ],
             [
              0.6666666666666666,
              "#ed7953"
             ],
             [
              0.7777777777777778,
              "#fb9f3a"
             ],
             [
              0.8888888888888888,
              "#fdca26"
             ],
             [
              1,
              "#f0f921"
             ]
            ],
            "type": "surface"
           }
          ],
          "table": [
           {
            "cells": {
             "fill": {
              "color": "#EBF0F8"
             },
             "line": {
              "color": "white"
             }
            },
            "header": {
             "fill": {
              "color": "#C8D4E3"
             },
             "line": {
              "color": "white"
             }
            },
            "type": "table"
           }
          ]
         },
         "layout": {
          "annotationdefaults": {
           "arrowcolor": "#2a3f5f",
           "arrowhead": 0,
           "arrowwidth": 1
          },
          "autotypenumbers": "strict",
          "coloraxis": {
           "colorbar": {
            "outlinewidth": 0,
            "ticks": ""
           }
          },
          "colorscale": {
           "diverging": [
            [
             0,
             "#8e0152"
            ],
            [
             0.1,
             "#c51b7d"
            ],
            [
             0.2,
             "#de77ae"
            ],
            [
             0.3,
             "#f1b6da"
            ],
            [
             0.4,
             "#fde0ef"
            ],
            [
             0.5,
             "#f7f7f7"
            ],
            [
             0.6,
             "#e6f5d0"
            ],
            [
             0.7,
             "#b8e186"
            ],
            [
             0.8,
             "#7fbc41"
            ],
            [
             0.9,
             "#4d9221"
            ],
            [
             1,
             "#276419"
            ]
           ],
           "sequential": [
            [
             0,
             "#0d0887"
            ],
            [
             0.1111111111111111,
             "#46039f"
            ],
            [
             0.2222222222222222,
             "#7201a8"
            ],
            [
             0.3333333333333333,
             "#9c179e"
            ],
            [
             0.4444444444444444,
             "#bd3786"
            ],
            [
             0.5555555555555556,
             "#d8576b"
            ],
            [
             0.6666666666666666,
             "#ed7953"
            ],
            [
             0.7777777777777778,
             "#fb9f3a"
            ],
            [
             0.8888888888888888,
             "#fdca26"
            ],
            [
             1,
             "#f0f921"
            ]
           ],
           "sequentialminus": [
            [
             0,
             "#0d0887"
            ],
            [
             0.1111111111111111,
             "#46039f"
            ],
            [
             0.2222222222222222,
             "#7201a8"
            ],
            [
             0.3333333333333333,
             "#9c179e"
            ],
            [
             0.4444444444444444,
             "#bd3786"
            ],
            [
             0.5555555555555556,
             "#d8576b"
            ],
            [
             0.6666666666666666,
             "#ed7953"
            ],
            [
             0.7777777777777778,
             "#fb9f3a"
            ],
            [
             0.8888888888888888,
             "#fdca26"
            ],
            [
             1,
             "#f0f921"
            ]
           ]
          },
          "colorway": [
           "#636efa",
           "#EF553B",
           "#00cc96",
           "#ab63fa",
           "#FFA15A",
           "#19d3f3",
           "#FF6692",
           "#B6E880",
           "#FF97FF",
           "#FECB52"
          ],
          "font": {
           "color": "#2a3f5f"
          },
          "geo": {
           "bgcolor": "white",
           "lakecolor": "white",
           "landcolor": "#E5ECF6",
           "showlakes": true,
           "showland": true,
           "subunitcolor": "white"
          },
          "hoverlabel": {
           "align": "left"
          },
          "hovermode": "closest",
          "mapbox": {
           "style": "light"
          },
          "paper_bgcolor": "white",
          "plot_bgcolor": "#E5ECF6",
          "polar": {
           "angularaxis": {
            "gridcolor": "white",
            "linecolor": "white",
            "ticks": ""
           },
           "bgcolor": "#E5ECF6",
           "radialaxis": {
            "gridcolor": "white",
            "linecolor": "white",
            "ticks": ""
           }
          },
          "scene": {
           "xaxis": {
            "backgroundcolor": "#E5ECF6",
            "gridcolor": "white",
            "gridwidth": 2,
            "linecolor": "white",
            "showbackground": true,
            "ticks": "",
            "zerolinecolor": "white"
           },
           "yaxis": {
            "backgroundcolor": "#E5ECF6",
            "gridcolor": "white",
            "gridwidth": 2,
            "linecolor": "white",
            "showbackground": true,
            "ticks": "",
            "zerolinecolor": "white"
           },
           "zaxis": {
            "backgroundcolor": "#E5ECF6",
            "gridcolor": "white",
            "gridwidth": 2,
            "linecolor": "white",
            "showbackground": true,
            "ticks": "",
            "zerolinecolor": "white"
           }
          },
          "shapedefaults": {
           "line": {
            "color": "#2a3f5f"
           }
          },
          "ternary": {
           "aaxis": {
            "gridcolor": "white",
            "linecolor": "white",
            "ticks": ""
           },
           "baxis": {
            "gridcolor": "white",
            "linecolor": "white",
            "ticks": ""
           },
           "bgcolor": "#E5ECF6",
           "caxis": {
            "gridcolor": "white",
            "linecolor": "white",
            "ticks": ""
           }
          },
          "title": {
           "x": 0.05
          },
          "xaxis": {
           "automargin": true,
           "gridcolor": "white",
           "linecolor": "white",
           "ticks": "",
           "title": {
            "standoff": 15
           },
           "zerolinecolor": "white",
           "zerolinewidth": 2
          },
          "yaxis": {
           "automargin": true,
           "gridcolor": "white",
           "linecolor": "white",
           "ticks": "",
           "title": {
            "standoff": 15
           },
           "zerolinecolor": "white",
           "zerolinewidth": 2
          }
         }
        },
        "title": {
         "text": "Item Frequencies"
        },
        "xaxis": {
         "anchor": "y",
         "domain": [
          0,
          1
         ],
         "title": {
          "text": "Item"
         }
        },
        "yaxis": {
         "anchor": "x",
         "domain": [
          0,
          1
         ],
         "title": {
          "text": "Frequency"
         }
        }
       }
      }
     },
     "metadata": {},
     "output_type": "display_data"
    }
   ],
   "source": [
    "\n"
   ]
  },
  {
   "cell_type": "markdown",
   "metadata": {},
   "source": [
    "# Temporal"
   ]
  },
  {
   "cell_type": "code",
   "execution_count": 137,
   "metadata": {},
   "outputs": [],
   "source": [
    "base_url = \"https://bug-hardy-obviously.ngrok-free.app\"\n",
    "version = \"NSS_1000_12\"\n",
    "\n",
    "getVersions = f\"{base_url}/versions\"\n",
    "getTimestamp = f\"{base_url}/archive/schema/{version}\"\n",
    "getdata = f\"{base_url}/archive/schema/{version}\""
   ]
  },
  {
   "cell_type": "code",
   "execution_count": 139,
   "metadata": {},
   "outputs": [
    {
     "data": {
      "text/plain": [
       "11"
      ]
     },
     "execution_count": 139,
     "metadata": {},
     "output_type": "execute_result"
    }
   ],
   "source": [
    "data = requests.get(getTimestamp).json()\n",
    "totalTimeStamps = len(data)\n",
    "totalTimeStamps"
   ]
  },
  {
   "cell_type": "code",
   "execution_count": 141,
   "metadata": {},
   "outputs": [],
   "source": [
    "files = []\n",
    "for i in range(1,totalTimeStamps+1) :\n",
    "    files.append(f\"{getdata}/{i}\")"
   ]
  },
  {
   "cell_type": "code",
   "execution_count": 143,
   "metadata": {},
   "outputs": [
    {
     "data": {
      "text/plain": [
       "['https://bug-hardy-obviously.ngrok-free.app/archive/schema/NSS_1000_12/1',\n",
       " 'https://bug-hardy-obviously.ngrok-free.app/archive/schema/NSS_1000_12/2',\n",
       " 'https://bug-hardy-obviously.ngrok-free.app/archive/schema/NSS_1000_12/3',\n",
       " 'https://bug-hardy-obviously.ngrok-free.app/archive/schema/NSS_1000_12/4',\n",
       " 'https://bug-hardy-obviously.ngrok-free.app/archive/schema/NSS_1000_12/5',\n",
       " 'https://bug-hardy-obviously.ngrok-free.app/archive/schema/NSS_1000_12/6',\n",
       " 'https://bug-hardy-obviously.ngrok-free.app/archive/schema/NSS_1000_12/7',\n",
       " 'https://bug-hardy-obviously.ngrok-free.app/archive/schema/NSS_1000_12/8',\n",
       " 'https://bug-hardy-obviously.ngrok-free.app/archive/schema/NSS_1000_12/9',\n",
       " 'https://bug-hardy-obviously.ngrok-free.app/archive/schema/NSS_1000_12/10',\n",
       " 'https://bug-hardy-obviously.ngrok-free.app/archive/schema/NSS_1000_12/11']"
      ]
     },
     "execution_count": 143,
     "metadata": {},
     "output_type": "execute_result"
    }
   ],
   "source": [
    "files"
   ]
  },
  {
   "cell_type": "code",
   "execution_count": 178,
   "metadata": {},
   "outputs": [
    {
     "data": {
      "text/plain": [
       "dict_keys(['directed', 'multigraph', 'graph', 'node_types', 'relationship_types', 'node_values', 'link_values'])"
      ]
     },
     "execution_count": 178,
     "metadata": {},
     "output_type": "execute_result"
    }
   ],
   "source": [
    "# load the files[0]\n",
    "data = requests.get(files[0]).json()\n",
    "\n",
    "# load the json file\n",
    "import json\n",
    "type(data)\n",
    "data.keys()"
   ]
  },
  {
   "cell_type": "code",
   "execution_count": 179,
   "metadata": {},
   "outputs": [
    {
     "data": {
      "text/plain": [
       "True"
      ]
     },
     "execution_count": 179,
     "metadata": {},
     "output_type": "execute_result"
    }
   ],
   "source": [
    "data[\"directed\"]"
   ]
  },
  {
   "cell_type": "code",
   "execution_count": 209,
   "metadata": {},
   "outputs": [],
   "source": [
    "graph = nx.DiGraph()"
   ]
  },
  {
   "cell_type": "code",
   "execution_count": 211,
   "metadata": {},
   "outputs": [],
   "source": [
    "for node_type, nodes in data[\"node_values\"].items():\n",
    "    for node in nodes:\n",
    "        node_id = node[-1]\n",
    "        node_attributes = dict(zip(data[\"node_types\"][node_type], node))\n",
    "        graph.add_node(node_id, **node_attributes)\n",
    "\n",
    "all_edge_types = data[\"relationship_types\"]\n",
    "for link_type,link_values in data[\"link_values\"].items():\n",
    "    for edge_data in link_values :\n",
    "        attributes = {}\n",
    "        for j in range(len(edge_data) - 2):\n",
    "            key = all_edge_types[link_type][j]\n",
    "            attributes[key] = edge_data[j]\n",
    "        graph.add_edge(edge_data[-2], edge_data[-1], **attributes)\n"
   ]
  },
  {
   "cell_type": "code",
   "execution_count": 212,
   "metadata": {},
   "outputs": [
    {
     "data": {
      "text/plain": [
       "4539"
      ]
     },
     "execution_count": 212,
     "metadata": {},
     "output_type": "execute_result"
    }
   ],
   "source": [
    "graph.number_of_edges()"
   ]
  },
  {
   "cell_type": "code",
   "execution_count": 213,
   "metadata": {},
   "outputs": [
    {
     "data": {
      "text/plain": [
       "1025"
      ]
     },
     "execution_count": 213,
     "metadata": {},
     "output_type": "execute_result"
    }
   ],
   "source": [
    "graph.number_of_nodes()"
   ]
  },
  {
   "cell_type": "code",
   "execution_count": 202,
   "metadata": {},
   "outputs": [],
   "source": [
    "import json\n",
    "from functools import lru_cache\n",
    "import networkx as nx\n",
    "\n",
    "class TemporalGraphClass:\n",
    "    def __init__(self, files):\n",
    "        self.files = files  # List of JSON file paths\n",
    "\n",
    "    @lru_cache(maxsize=10)\n",
    "    def load_graph_at_timestamp(self, timestamp):\n",
    "        data = requests.get(files[timestamp]).json()\n",
    "        return self._json_to_graph(data)\n",
    "\n",
    "    def _json_to_graph(self, data):\n",
    "        graph = nx.DiGraph() if data[\"directed\"] else nx.Graph()\n",
    "        for node_type, nodes in data[\"node_values\"].items():\n",
    "            for node in nodes:\n",
    "                node_id = node[-1]\n",
    "                node_attributes = dict(zip(data[\"node_types\"][node_type], node))\n",
    "                graph.add_node(node_id, **node_attributes)\n",
    "\n",
    "        all_edge_types = data[\"relationship_types\"]\n",
    "        for link_type,link_values in data[\"link_values\"].items():\n",
    "            for edge_data in link_values :\n",
    "                attributes = {}\n",
    "                for j in range(len(edge_data) - 2):\n",
    "                    key = all_edge_types[link_type][j]\n",
    "                    attributes[key] = edge_data[j]\n",
    "                graph.add_edge(edge_data[-2], edge_data[-1], **attributes)\n",
    "\n",
    "        return graph"
   ]
  },
  {
   "cell_type": "code",
   "execution_count": 204,
   "metadata": {},
   "outputs": [],
   "source": [
    "obj = TemporalGraphClass(files)"
   ]
  },
  {
   "cell_type": "code",
   "execution_count": 206,
   "metadata": {},
   "outputs": [],
   "source": [
    "graph = obj.load_graph_at_timestamp(1)"
   ]
  },
  {
   "cell_type": "code",
   "execution_count": 207,
   "metadata": {},
   "outputs": [
    {
     "data": {
      "text/plain": [
       "<networkx.classes.digraph.DiGraph at 0x1fe59a13a60>"
      ]
     },
     "execution_count": 207,
     "metadata": {},
     "output_type": "execute_result"
    }
   ],
   "source": [
    "graph"
   ]
  }
 ],
 "metadata": {
  "kernelspec": {
   "display_name": "Python 3",
   "language": "python",
   "name": "python3"
  },
  "language_info": {
   "codemirror_mode": {
    "name": "ipython",
    "version": 3
   },
   "file_extension": ".py",
   "mimetype": "text/x-python",
   "name": "python",
   "nbconvert_exporter": "python",
   "pygments_lexer": "ipython3",
   "version": "3.10.9"
  }
 },
 "nbformat": 4,
 "nbformat_minor": 2
}
